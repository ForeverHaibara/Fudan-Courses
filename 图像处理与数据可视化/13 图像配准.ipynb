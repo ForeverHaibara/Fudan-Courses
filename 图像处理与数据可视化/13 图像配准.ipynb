{
 "cells": [
  {
   "attachments": {},
   "cell_type": "markdown",
   "metadata": {},
   "source": [
    "# 13 图像配准\n",
    "\n",
    "一张图片可能经过一个平移 / 旋转 / 拉伸变成另一张图像, 导致矩阵每个像素值差异很大, 不能直接比较. \n",
    "\n",
    "为了发现前后两张图片的相似性, 需要进行图像配准 (image registration).\n",
    "\n",
    "\n",
    "### SSD\n",
    "\n",
    "两张图片的表面上的距离可以简单地用 SSD (sum of square difference) 指标衡量:\n",
    "$${\\rm SSD}= \\frac 1N\\sum_{ij} (a_{ij} - b_{ij})^2$$"
   ]
  },
  {
   "cell_type": "code",
   "execution_count": 1,
   "metadata": {},
   "outputs": [],
   "source": [
    "def SSD(img_A, img_B):\n",
    "    \"\"\"Sum of square difference between two images.\"\"\"\n",
    "    return ((img_A - img_B) ** 2).mean()"
   ]
  },
  {
   "attachments": {},
   "cell_type": "markdown",
   "metadata": {},
   "source": [
    "## 优化\n",
    "\n",
    "实际上由于图像相差一个仿射变换, 需要先进行合适的仿射变换后再衡量. 假设两图为 $A,B$, 则需要找到仿射变换 $T$ 使\n",
    "$$\\min_T \\ {\\rm SSD}(A, T(B))$$\n",
    "\n",
    "### 梯度下降\n",
    "\n",
    "可以采用梯度下降方法来寻找这样的 $T$: 假设第 $k$ 步时得到 $T_k$, 则 $k+1$ 步时更新为 \n",
    "$$T_{k+1} = T_k - \\eta \\nabla T_k$$\n",
    "\n",
    "其中 $\\eta$ 为学习率, 对矩阵 $(i,j)$ 元素, 梯度 $\\nabla_{ij} T_k = \\dfrac{\\partial }{\\partial T_{ij}}{\\rm SSD}$ 可近似为 ($\\Delta t\\in \\mathbb R$, $\\Delta t\\rightarrow 0$)\n",
    "$$\\nabla_{ij} T_k\\approx  \\frac{{\\rm SSD}(A,(T+\\Delta t E_{ij})(B)) - {\\rm SSD}(A,(T-\\Delta t E_{ij})(B))}{2\\Delta t}$$\n",
    "\n",
    "此处 $T+\\Delta t E_{ij}$ 表示矩阵 $T$ 的 $(i,j)$ 元素增加 $\\Delta t$.\n",
    "\n",
    "### 变换分解\n",
    "\n",
    "可以将仿射变换 $T$ 分解为旋转变换、伸缩变换、错切变换、平移变换的复合. 虽然参数更多, 但是每个参数的意义更明显."
   ]
  },
  {
   "cell_type": "code",
   "execution_count": 2,
   "metadata": {},
   "outputs": [],
   "source": [
    "import numpy as np\n",
    "def registration(img_A, img_B, metric, step = 1e-2, lr = 1e-2, iters = 10):\n",
    "    affine = np.eye(3) # initialization\n",
    "\n",
    "    for iter in range(iters):\n",
    "        for i in range(2): # only 2 x 3 entries in the affine matrix need training\n",
    "            for j in range(3):\n",
    "                # train (i,j) element of the affine matrix\n",
    "                affine[i,j] += step\n",
    "                grad = metric(img_A, img_B, affine)\n",
    "\n",
    "                affine[i,j] -= step * 2\n",
    "                grad -= metric(img_A, img_B, affine)\n",
    "\n",
    "                affine[i,j] += step # restore\n",
    "                grad /= 2 * step\n",
    "\n",
    "                affine[i,j] -= lr * grad\n",
    "    return affine"
   ]
  },
  {
   "attachments": {},
   "cell_type": "markdown",
   "metadata": {},
   "source": [
    "\n",
    "### 反向变换\n",
    "\n",
    "欲计算图 $A,T(B)$ 的 ${\\rm SSD}$ 指标, 只需要对每个点 $(x,y)$, 求出 $A(x,y)$ 与 $(T(B))(x,y)$ 的像素差值. 注意 $T(B)$ 在 $(x,y)$ 的像素值等于 $B$ 在 $T^{-1}(x,y)$ 处的像素值. 即\n",
    "\n",
    "$${\\rm SSD}(A,T(B)) = \\frac 1N\\sum_{x,y}\\left(A(x,y) - T(B)(x,y)\\right)^2\n",
    "=\\frac 1N\\sum_{x,y}\\left(A(x,y) - B(T^{-1}(x,y)\\right)^2$$\n",
    "\n",
    "假设 $T^{-1}(x,y) = (x',y')$, 也就是要求出每个 $\\left(A(x,y) - B(x',y')\\right)^2$.\n",
    "\n",
    "### 图像插值\n",
    "\n",
    "由于上述 $T^{-1}(x,y) = (x',y')$ 可能不是整点, 可以采用周围几个整点插值求得 $(x',y')$ 的像素值."
   ]
  },
  {
   "cell_type": "code",
   "execution_count": 3,
   "metadata": {},
   "outputs": [],
   "source": [
    "def affine_SSD(img_A, img_B, affine):\n",
    "    \"\"\"Compute SSD after applying an affine mapping on image B with image A.\"\"\"\n",
    "    # 1. construct the original homogenous coordinates\n",
    "    h, w, d = img_B.shape[0], img_B.shape[1], img_B.size // (img_B.shape[0] * img_B.shape[1])\n",
    "    coors = np.stack(np.meshgrid(np.arange(w), np.arange(h)))\n",
    "    coors = np.transpose(coors, (1, 2, 0)).reshape((-1, 2))   # shape: (hw) x 2\n",
    "    coors_hom = np.hstack((coors, np.ones((coors.shape[0], 1))))  # shape: (hw) x 3\n",
    "\n",
    "    # 2. compute the inversed transformed coordinates\n",
    "    coors2_hom = coors @ np.linalg.inv(affine)\n",
    "    coors2 = coors2_hom[:,:-1] / coors2_hom[:,-1:]\n",
    "\n",
    "    # 3. inquire the interpolated pixel\n",
    "    coors2_grid = coors2.astype('int32')\n",
    "    coors2_offs = coors2 - coors2_grid\n",
    "    reference = lambda coor_x, coor_y: img_B[:, np.clip(coor_y, 0, h-1), np.clip(coor_x, 0, w-1)]\n",
    "    img_B2 = np.prod(1 - coors2_offs, axis = 1) * reference(coors2_grid[:,0], coors2_grid[:,1])\\\n",
    "            + (1 - coors2_offs[:,0]) * coors2_offs[:,1] * reference(coors2_grid[:,0], coors2_grid[:,1] + 1)\\\n",
    "            + (1 - coors2_offs[:,1]) * coors2_offs[:,0] * reference(coors2_grid[:,1], coors2_grid[:,1] + 1)\\\n",
    "            + np.prod(coors2_offs, axis = 1) * reference(coors2_grid[:,0] + 1, coors2_grid[:,1] + 1)\n",
    "    \n",
    "    return ((img_A - img_B2) ** 2).mean()\n"
   ]
  }
 ],
 "metadata": {
  "kernelspec": {
   "display_name": "Python 3.8.4 64-bit",
   "language": "python",
   "name": "python3"
  },
  "language_info": {
   "codemirror_mode": {
    "name": "ipython",
    "version": 3
   },
   "file_extension": ".py",
   "mimetype": "text/x-python",
   "name": "python",
   "nbconvert_exporter": "python",
   "pygments_lexer": "ipython3",
   "version": "3.8.4 (tags/v3.8.4:dfa645a, Jul 13 2020, 16:46:45) [MSC v.1924 64 bit (AMD64)]"
  },
  "orig_nbformat": 4,
  "vscode": {
   "interpreter": {
    "hash": "1120dc956da57eca5c948a0118f4cdcd4d1b3be98c72752ed298d16085a61d24"
   }
  }
 },
 "nbformat": 4,
 "nbformat_minor": 2
}
