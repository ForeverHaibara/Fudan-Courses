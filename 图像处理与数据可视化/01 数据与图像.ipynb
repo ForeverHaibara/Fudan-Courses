{
 "cells": [
  {
   "cell_type": "markdown",
   "metadata": {},
   "source": [
    "# 1 数据与图像\n",
    "\n",
    "## 数据值类型\n",
    "\n",
    "* 类别型 (Nominal): 支持 $=,\\neq$\n",
    "* 序数型 (Oridnal): 支持 $=,\\neq,>,<$\n",
    "* 区间型 (Interval): 支持 $=,\\neq,>,<,+,-$\n",
    "* 比值型 (Ratio): 支持 $=,\\neq,>,<,+,-,\\times,\\div$\n",
    "\n",
    "## 数据运算\n",
    "\n",
    "度量、量纲、权重、相似度等.\n",
    "\n",
    "## 数据存储\n",
    "\n",
    "* XML, HTML, KML, HDF...\n",
    "* 网格数据\n",
    "* 医学数据: DICOM, NIFTY, GIPL, ITK, Par-Rec...\n",
    "* 医学影像数据: PACS, HIS, RIS, XNAT..."
   ]
  }
 ],
 "metadata": {
  "kernelspec": {
   "display_name": "Python 3.8.4 64-bit (system)",
   "language": "python",
   "name": "python3"
  },
  "language_info": {
   "name": "python",
   "version": "3.8.4"
  },
  "orig_nbformat": 4,
  "vscode": {
   "interpreter": {
    "hash": "1120dc956da57eca5c948a0118f4cdcd4d1b3be98c72752ed298d16085a61d24"
   }
  }
 },
 "nbformat": 4,
 "nbformat_minor": 2
}
