{
 "cells": [
  {
   "cell_type": "markdown",
   "metadata": {},
   "source": [
    "# 2 图像基础\n",
    "\n",
    "## 图像亮度和对比度\n",
    "\n"
   ]
  },
  {
   "cell_type": "markdown",
   "metadata": {},
   "source": [
    "对比度 (contrast) 与亮度的差异有关. 一种定义是\n",
    "$${\\rm Contrast} = \\frac{\\rm Luminance\\ difference}{\\rm Average\\ difference}$$\n",
    "\n",
    "韦伯对比度是区域亮度与背景亮度的差异程度\n",
    "$$\\frac{I - I_{\\rm background}}{I_{\\rm background}}$$"
   ]
  },
  {
   "cell_type": "code",
   "execution_count": 1,
   "metadata": {},
   "outputs": [
    {
     "data": {
      "image/png": "[encoded data removed]",
      "text/plain": [
       "<Figure size 432x288 with 2 Axes>"
      ]
     },
     "metadata": {
      "needs_background": "light"
     },
     "output_type": "display_data"
    }
   ],
   "source": [
    "from matplotlib import pyplot as plt \n",
    "import numpy as np \n",
    "A = np.full((96, 96), 35, dtype='uint8')\n",
    "A[32:-32,32:-32] = 189\n",
    "B = np.full((96, 96), 219, dtype='uint8')\n",
    "B[32:-32,32:-32] = 189\n",
    "plt.subplot(1,2,1)\n",
    "plt.imshow(A, cmap='gray', vmin = 0, vmax = 255)\n",
    "plt.axis('off')\n",
    "plt.subplot(1,2,2)\n",
    "plt.imshow(B, cmap='gray', vmin = 0, vmax = 255)\n",
    "plt.axis('off')\n",
    "plt.show()\n",
    "# 以下右边更亮但对比度更低, 且右边的里面小正方形看起来比左边里面的小正方形颜色深 (实际上是一样的)"
   ]
  },
  {
   "cell_type": "markdown",
   "metadata": {},
   "source": [
    "## 坐标系与医学图像\n",
    "\n",
    "### 间距\n",
    "\n",
    "间距 (spacing) 是图像两个相邻像素点的现实距离, 类似于比例尺. 医学图像 (如X光扫描) 常常需要知道图像对应的实际尺寸.\n",
    "\n",
    "\n",
    "### 体素\n",
    "\n",
    "体素 (voxel / volume pixel) 是三维版本的像素."
   ]
  },
  {
   "cell_type": "markdown",
   "metadata": {},
   "source": [
    "## 图像的像素操作\n",
    "\n",
    "### 距离\n",
    "\n",
    "可以采用欧氏距离 / 曼哈顿距离 (Manhattan distance) / 棋盘距离 (chessboard distance)\n",
    "\n",
    "\n",
    "### 相邻\n",
    "\n",
    "可以根据曼哈顿距离 / 棋盘距离为 1 定义相邻 (adjacency / neighborhood)."
   ]
  },
  {
   "cell_type": "code",
   "execution_count": 38,
   "metadata": {},
   "outputs": [
    {
     "data": {
      "image/png": "[encoded data removed]",
      "text/plain": [
       "<Figure size 720x432 with 3 Axes>"
      ]
     },
     "metadata": {
      "needs_background": "light"
     },
     "output_type": "display_data"
    }
   ],
   "source": [
    "from matplotlib import pyplot as plt \n",
    "import numpy as np\n",
    "n = 31 # odd\n",
    "cmap = 'viridis'\n",
    "plt.figure(figsize = (10,6))\n",
    "plt.subplot(1,3,1)\n",
    "euclidean = np.array([[((i-n//2)**2+(j-n//2)**2)*.5 for i in range(n)] for j in range(n)])\n",
    "plt.imshow(-euclidean, cmap = cmap)\n",
    "plt.axis('off')\n",
    "plt.title('Euclidean Distance')\n",
    "plt.subplot(1,3,2)\n",
    "manhattan = np.array([[abs(i-n//2)+abs(j-n//2) for i in range(n)] for j in range(n)])\n",
    "plt.imshow(-manhattan, cmap = cmap)\n",
    "plt.axis('off')\n",
    "plt.title('Manhattan Distance')\n",
    "plt.subplot(1,3,3)\n",
    "chessboard = np.array([[max(abs(i-n//2),abs(j-n//2)) for i in range(n)] for j in range(n)])\n",
    "plt.imshow(-chessboard, cmap = cmap)\n",
    "plt.axis('off')\n",
    "plt.title('Chessboard Distance')\n",
    "plt.show()"
   ]
  }
 ],
 "metadata": {
  "kernelspec": {
   "display_name": "Python 3.8.4 64-bit (system)",
   "language": "python",
   "name": "python3"
  },
  "language_info": {
   "codemirror_mode": {
    "name": "ipython",
    "version": 3
   },
   "file_extension": ".py",
   "mimetype": "text/x-python",
   "name": "python",
   "nbconvert_exporter": "python",
   "pygments_lexer": "ipython3",
   "version": "3.8.4"
  },
  "orig_nbformat": 4,
  "vscode": {
   "interpreter": {
    "hash": "1120dc956da57eca5c948a0118f4cdcd4d1b3be98c72752ed298d16085a61d24"
   }
  }
 },
 "nbformat": 4,
 "nbformat_minor": 2
}
