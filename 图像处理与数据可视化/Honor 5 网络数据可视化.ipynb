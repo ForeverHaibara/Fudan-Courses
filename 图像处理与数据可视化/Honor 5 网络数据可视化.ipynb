{
 "cells": [
  {
   "cell_type": "markdown",
   "metadata": {},
   "source": [
    "# Honor 5 网络数据可视化\n",
    "\n"
   ]
  },
  {
   "cell_type": "markdown",
   "metadata": {},
   "source": [
    "## 点边图布局算法\n",
    "\n",
    "(Purchase et al. 1995-1997) 图的边的交叉越多 / 越弯曲, 越难理解.\n",
    "\n",
    "#### Tutte's Barycentre Algorithm\n",
    "\n",
    "#### Force-directed Layout \n",
    "\n",
    "物理模拟: 将节点视为带电粒子, 边视为弹簧. 系统中既有点点之间的斥力, 也有边的弹簧的弹力. 找到系统能量最小的结果.\n",
    "\n",
    "(也可以换不同的斥力与弹力公式)"
   ]
  },
  {
   "cell_type": "markdown",
   "metadata": {},
   "source": [
    "## 邻接矩阵\n",
    "\n",
    "类似于平行坐标, 邻接矩阵可以根据聚类互换行列."
   ]
  },
  {
   "cell_type": "markdown",
   "metadata": {},
   "source": [
    "## 巨型毛球\n",
    "\n",
    "点太多会叠一起看不清, 形成巨型毛球现象.\n",
    "\n",
    "### 聚类\n",
    "\n",
    "把一个社区合在一起或采样.\n",
    "\n",
    "### 分层次\n",
    "\n",
    "(Hierachy) 分层画不同粒度的图.\n",
    "\n",
    "\n",
    "### 边捆绑\n",
    "\n",
    "把一些边像绑头发一样绑在一起."
   ]
  }
 ],
 "metadata": {
  "kernelspec": {
   "display_name": "Python 3.8.4 64-bit",
   "language": "python",
   "name": "python3"
  },
  "language_info": {
   "name": "python",
   "version": "3.8.4"
  },
  "orig_nbformat": 4,
  "vscode": {
   "interpreter": {
    "hash": "1120dc956da57eca5c948a0118f4cdcd4d1b3be98c72752ed298d16085a61d24"
   }
  }
 },
 "nbformat": 4,
 "nbformat_minor": 2
}
