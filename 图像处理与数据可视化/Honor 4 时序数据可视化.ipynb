{
 "cells": [
  {
   "cell_type": "markdown",
   "metadata": {},
   "source": [
    "# Honor 4 时序数据可视化\n"
   ]
  },
  {
   "cell_type": "markdown",
   "metadata": {},
   "source": [
    "### 线性\n",
    "\n",
    "\n",
    "#### 层叠\n",
    "\n",
    "(stacking graph)\n",
    "\n",
    "#### 流图\n",
    "\n",
    "(stream graph)"
   ]
  },
  {
   "cell_type": "markdown",
   "metadata": {},
   "source": [
    "### 环形\n",
    "\n",
    "#### 南丁格尔玫瑰图\n",
    "\n"
   ]
  },
  {
   "cell_type": "markdown",
   "metadata": {},
   "source": [
    "### 网格\n",
    "\n",
    "#### 日历可视化\n",
    "\n",
    "如 GitHub 热力图."
   ]
  },
  {
   "cell_type": "markdown",
   "metadata": {},
   "source": [
    "## 螺旋\n",
    "\n",
    "具有一定的周期性, 又需要线性"
   ]
  }
 ],
 "metadata": {
  "kernelspec": {
   "display_name": "Python 3.8.4 64-bit",
   "language": "python",
   "name": "python3"
  },
  "language_info": {
   "name": "python",
   "version": "3.8.4"
  },
  "orig_nbformat": 4,
  "vscode": {
   "interpreter": {
    "hash": "1120dc956da57eca5c948a0118f4cdcd4d1b3be98c72752ed298d16085a61d24"
   }
  }
 },
 "nbformat": 4,
 "nbformat_minor": 2
}
