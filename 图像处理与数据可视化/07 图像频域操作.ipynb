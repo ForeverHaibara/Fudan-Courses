{
 "cells": [
  {
   "cell_type": "markdown",
   "metadata": {},
   "source": [
    "# 7 图像频域操作\n",
    "\n",
    "## 傅里叶变换\n",
    "\n",
    "\n",
    "### 傅里叶级数\n",
    "\n",
    "若 $f:\\mathbb R\\rightarrow\\mathbb R$ 满足一定周期性、光滑性**等**条件, 那么其有傅里叶级数 (Fourier series)\n",
    "$$f(t) = \\sum_{n=-\\infty}^{+\\infty}c_ne^{2\\pi in t/ T}\\Leftrightarrow \n",
    "c_n = \\frac{1}{T}\\int_{- T/2}^{ T/2}f(t)e^{-2\\pi i nt/T}dt$$\n",
    "\n",
    "### 傅里叶变换\n",
    "\n",
    "\n",
    "若 $\\int_{\\mathbb R}f$ 可积, 定义其傅里叶变换 (Fourier transform, FT) 为\n",
    "$$\\hat f(u) = \\int_{\\mathbb R}\\hat f (t)e^{-2\\pi iut}du$$\n",
    "\n",
    "### 傅里叶逆变换 \n",
    "\n",
    "根据函数的傅里叶变换可求出原函数, 即傅里叶逆变换 (inverse Fourier transform, IFT):\n",
    "$$f(t) = \\int_{\\mathbb R}\\hat f (u)e^{2\\pi iut}du$$\n",
    "\n",
    "### 卷积定理\n",
    "\n",
    "\n",
    "### 冲激函数\n",
    "\n",
    "在 Borel 代数 $(\\mathbb R,\\mathcal B)$ 上, 冲激函数测度 (impulse / Dirac measure) 定义为 $\\delta(A)=\\mathbb I_{0\\in A}$. 为了计算冲激函数的傅里叶变换, 需要定义更一般形式的傅里叶变换 [1, pp. 505-506]:\n",
    "\n",
    "在 Borel 代数 $(\\mathbb R,\\mathcal B)$ 上, 若 $\\mu(\\mathbb R)<\\infty$, 则其傅里叶变换为\n",
    "$$\\hat f (u)= \\int_{\\mathbb R}e^{-2\\pi i ut}d\\mu .$$\n",
    "\n",
    "则冲激函数的傅里叶变换为 $\\hat\\delta (u)\\equiv 1 $.\n",
    "\n",
    "证: 按照测度论积分定义, 任取简单函数 $\\varphi (x)= \\sum_{k=1}^n \\lambda_k \\mathbb I_{x\\in A_k}$ 且 $0\\leqslant \\varphi(t)\\leqslant \\max\\{0,\\cos(2\\pi ut)\\}$, 则\n",
    "$$\\int_{\\mathbb R}\\varphi(t)d\\delta (t) = \\sum_{k=1}^n \\lambda_k \\delta(A_k) = \\sum_{k=1}^n \\lambda_k \\mathbb I_{0\\in A_k}=\\varphi(0)\\leqslant 1.\n",
    "$$\n",
    "而 $\\varphi(t) = \\mathbb I_{t=0}$ 时上式可取等, 故 $\\Re(\\hat\\delta)_+=1$. 又显然 $\\Re(\\hat\\delta)_-=\\Im(\\hat\\delta) = 0$, 故综上 $\\hat\\delta\\equiv 1$."
   ]
  },
  {
   "cell_type": "markdown",
   "metadata": {},
   "source": [
    "## 离散傅里叶变换\n",
    "\n",
    "\n",
    "### 离散傅里叶变换\n",
    "\n",
    "离散傅里叶变换 (discrete Fourier transform, DFT) 与离散傅里叶逆变换 (inverse discrete Fourier transform, IDFT)\n",
    "\n",
    "$$\\hat f(m) =\\sum_{k=0}^{M-1}f(t)e^{-2\\pi itm/M}\\quad\\Leftrightarrow\\quad  f(t)=\\frac{1}{M}\\sum_{k=0}^{M-1}\\hat f(m)e^{2\\pi itm/M}$$\n",
    "\n",
    "### 高维离散傅里叶变换\n",
    "\n",
    "例如二维离散傅里叶变换常用在图像处理中.\n",
    "\n",
    "$$\\hat f (u,v) = \\sum_{x=0}^{M-1}\\sum_{y=0}^{N-1}f(x,y)e^{-2\\pi i(ux/M+vy/N)}$$\n",
    "\n",
    "对于 $M\\times N$ 的图像, 常常展示 $\\widehat{f(x,y)(-1)^{x+y}}$, 因为这样的话\n",
    "$$\\widehat{f(x,y)(-1)^{x+y}}= \\sum_{x=0}^{M-1}\\sum_{y=0}^{N-1}f(x,y)e^{-2\\pi i(\\frac{(u-M/2)x}{M}+\\frac{(v-N/2)y}{N})}=\\hat f (u-\\frac M2,v-\\frac N2).\n",
    "$$\n",
    "从而 $\\widehat{f(x,y)(-1)^{x+y}}(\\frac M2,\\frac N2)=\\hat f(0,0)$, 即展示的图片中心对应原函数离散傅里叶变换的原点."
   ]
  },
  {
   "cell_type": "markdown",
   "metadata": {},
   "source": [
    "## 参考文献\n",
    "\n",
    "1. 数学分析 之 课程讲义 (丘成桐数学英才班试用)"
   ]
  }
 ],
 "metadata": {
  "language_info": {
   "name": "python"
  },
  "orig_nbformat": 4
 },
 "nbformat": 4,
 "nbformat_minor": 2
}
