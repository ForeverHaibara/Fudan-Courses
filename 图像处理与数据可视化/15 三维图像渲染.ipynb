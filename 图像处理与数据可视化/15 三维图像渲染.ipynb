{
 "cells": [
  {
   "attachments": {},
   "cell_type": "markdown",
   "metadata": {},
   "source": [
    "# 15 三维图像渲染\n",
    "\n",
    "绘制 (渲染) 三维图像要考虑遮挡、光线等因素. 两种重要方法有面渲染和体渲染."
   ]
  },
  {
   "attachments": {},
   "cell_type": "markdown",
   "metadata": {},
   "source": [
    "## 面渲染\n",
    "\n",
    "二维数据 (一个矩阵) 可以画等值线, 三维数据 (一个 $x\\times y\\times z$ 的张量) 可以画等值面.\n",
    "\n",
    "三维的这个等值面渲染算法称为 marching cube 算法.\n",
    "\n",
    "\n",
    "#### CT\n",
    "\n",
    "例如 [CT](https://baike.baidu.com/item/CT/122415?fromModule=lemma_search-box) (computerized tomography) 可以得到每个体素吸收 X 射线的吸收系数, 对应 [CT 值](https://baike.baidu.com/item/CT值/10632768?fr=aladdin) 约在 -1000 (如空气) 到 +1000 (如骨骼). 若画出 900 (仅举例, 不要信) 的等值面就大致对应出骨骼与其他部位的**分界线**."
   ]
  },
  {
   "attachments": {},
   "cell_type": "markdown",
   "metadata": {},
   "source": [
    "## 体渲染\n",
    "\n",
    "(All models are wrong, but some are useful. ---- George E.P. Box)\n",
    "\n",
    "\n",
    "### 体采样\n",
    "\n",
    "\n",
    "\n",
    "### 体分类与传输函数\n",
    "\n",
    "即使不知道原数据空间数据的 \"颜色\", 可以根据数据梯度、深度、密度等, 为图像配上好看的颜色. (也可以加入透明度形成透视效果).\n",
    "\n",
    "这个将数据对应到颜色的函数称为传输函数 (transfer function).\n",
    "\n",
    "### 体光照\n",
    "\n",
    "Blinn-Phong 光照模型:\n",
    "\n",
    "$$C = (k_a+k_d(N\\cdot L))\\cdot C_{TF} + k_s (N\\cdot H)^n.$$\n",
    "\n",
    "其中 $k_a,k_d,k_s$ 为环境、漫反射、镜面反射光照系数, $n$ 是高光系数. $C_{TF}$ 是传输函数给出的颜色. $V$ 为物体到人眼的方向, $L$ 为物体发出光线方向, $N$ 为物体表面该点法线方向, $H$ 是 $V$ 与 $L$ 的平均方向.\n",
    "\n",
    "### 体积分\n",
    "\n",
    "一点被人眼观察的颜色是路径上\"颜色\"的带权重的积分 [?](https://arxiv.org/abs/2003.08934) 下式中 $c$ 是每点 \"颜色\", $\\alpha$ 是每点的 \"透明度\".\n",
    "\n",
    "$$C  = \\int_0^L c(x)e^{-\\int_0^x \\alpha_i(t)dt}dx$$\n",
    "\n",
    "离散形式:\n",
    "\n",
    "$$C\\approx \\sum_{i=1}^N\\left(c_i\\prod_{j=1}^{i-1}(1 - \\alpha_i)\\right)$$"
   ]
  }
 ],
 "metadata": {
  "kernelspec": {
   "display_name": "Python 3",
   "language": "python",
   "name": "python3"
  },
  "language_info": {
   "codemirror_mode": {
    "name": "ipython",
    "version": 3
   },
   "file_extension": ".py",
   "mimetype": "text/x-python",
   "name": "python",
   "nbconvert_exporter": "python",
   "pygments_lexer": "ipython3",
   "version": "3.8.4 (tags/v3.8.4:dfa645a, Jul 13 2020, 16:46:45) [MSC v.1924 64 bit (AMD64)]"
  },
  "orig_nbformat": 4,
  "vscode": {
   "interpreter": {
    "hash": "1120dc956da57eca5c948a0118f4cdcd4d1b3be98c72752ed298d16085a61d24"
   }
  }
 },
 "nbformat": 4,
 "nbformat_minor": 2
}
