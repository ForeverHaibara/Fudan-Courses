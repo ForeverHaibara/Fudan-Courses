{
 "cells": [
  {
   "cell_type": "markdown",
   "metadata": {},
   "source": [
    "# Honor 4 时空数据可视化\n"
   ]
  },
  {
   "cell_type": "markdown",
   "metadata": {},
   "source": [
    "## 时序数据可视化\n",
    "\n",
    "### 线性\n",
    "\n",
    "\n",
    "#### 层叠\n",
    "\n",
    "(stacking graph)\n",
    "\n",
    "#### 流图\n",
    "\n",
    "(stream graph)"
   ]
  },
  {
   "cell_type": "markdown",
   "metadata": {},
   "source": [
    "### 环形\n",
    "\n",
    "#### 南丁格尔玫瑰图\n",
    "\n"
   ]
  },
  {
   "cell_type": "markdown",
   "metadata": {},
   "source": [
    "### 网格\n",
    "\n",
    "#### 日历可视化\n",
    "\n",
    "如 GitHub 热力图."
   ]
  },
  {
   "cell_type": "markdown",
   "metadata": {},
   "source": [
    "### 螺旋\n",
    "\n",
    "具有一定的周期性, 又需要线性"
   ]
  },
  {
   "cell_type": "markdown",
   "metadata": {},
   "source": [
    "### 其他\n",
    "\n",
    "#### 时序数据相似度\n",
    "\n",
    "比较两个时序数据的相似度, 可以用:\n",
    "\n",
    "1. Dynamic Time Warping (DTW), 类似于字符串匹配 / 最长子串......\n",
    "\n",
    "\n",
    "#### 时序数据交互\n",
    "\n",
    "\n",
    "#### 流数据\n",
    "\n",
    "由于会增加新的数据, 类似于均值等数据特征会动态更新.\n",
    "\n",
    "\n"
   ]
  },
  {
   "cell_type": "markdown",
   "metadata": {},
   "source": [
    "## 时空数据可视化\n",
    "\n",
    "### 地图\n",
    "\n",
    "地图投影方式有:\n",
    "1. 等角度投影 (conformal projection), 又称墨卡托投影.\n",
    "2. 等面积投影\n",
    "3. 等距离投影\n",
    "\n",
    "#### 层次\n",
    "\n",
    "地图常常需要划分不同层次 / 比例尺 (scale). 便于观察以及存储.\n"
   ]
  },
  {
   "cell_type": "markdown",
   "metadata": {},
   "source": [
    "### 时空数据\n",
    "\n",
    "时空数据主要有三类:\n",
    "1. 空间-时序数据 (某些地点在不同时间的特征, 例如空气监测站)\n",
    "2. 时空事件数据 (某事件发生的时间与空间, 例如地震)\n",
    "3. 轨迹数据 (人物运动的时空轨迹)"
   ]
  },
  {
   "cell_type": "markdown",
   "metadata": {},
   "source": [
    "### 切片\n",
    "\n",
    "可以固定一个时间看空间, 或者固定一个空间位置看时间. 也可两者结合, 例如 linked-view, small multiples, 动画等方式.\n",
    "\n",
    "\n",
    "#### 聚类\n",
    "\n",
    "固定时间对空间聚类 或 固定空间对时间聚类."
   ]
  },
  {
   "cell_type": "markdown",
   "metadata": {},
   "source": [
    "### 时空数据变换"
   ]
  }
 ],
 "metadata": {
  "kernelspec": {
   "display_name": "Python 3.8.4 64-bit",
   "language": "python",
   "name": "python3"
  },
  "language_info": {
   "name": "python",
   "version": "3.8.4"
  },
  "orig_nbformat": 4,
  "vscode": {
   "interpreter": {
    "hash": "1120dc956da57eca5c948a0118f4cdcd4d1b3be98c72752ed298d16085a61d24"
   }
  }
 },
 "nbformat": 4,
 "nbformat_minor": 2
}
