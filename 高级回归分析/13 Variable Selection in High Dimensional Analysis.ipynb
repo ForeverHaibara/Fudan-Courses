{
 "cells": [
  {
   "attachments": {},
   "cell_type": "markdown",
   "metadata": {},
   "source": [
    "# 13 Variable Selection in High Dimensional Analysis\n",
    "\n",
    "Assume there are $p$ features and $n$ samples. However $n\\ll p$. We need to find out which features are most related. \n",
    "\n",
    "For example, finding out which genes contribute to a certain disease, pruning a neural network..."
   ]
  },
  {
   "attachments": {},
   "cell_type": "markdown",
   "metadata": {},
   "source": [
    "## Best Subset Selection\n",
    "\n",
    "\n",
    "Shortage: \n",
    "\n",
    "1. Best subset selection change discontinuously when changing the subset size.\n",
    "2. The problem is not convex and is very hard to solve."
   ]
  },
  {
   "attachments": {},
   "cell_type": "markdown",
   "metadata": {},
   "source": [
    "## LASSO\n",
    "\n",
    "### KKT\n",
    "\n",
    "See further theory in the course \\<Optimization\\>.\n",
    "\n",
    "### Geometric Projection\n",
    "\n"
   ]
  },
  {
   "attachments": {},
   "cell_type": "markdown",
   "metadata": {},
   "source": [
    "### Piecewise Linear Solution Path\n",
    "\n",
    "Let the regularization parameter $\\lambda$ in LASSO vary from $[0,\\infty)$, then the solution $\\hat\\beta_{\\rm LASSO}(\\lambda)$ is piecewise linear with respect to $\\lambda$. We call it the solution path."
   ]
  },
  {
   "attachments": {},
   "cell_type": "markdown",
   "metadata": {},
   "source": [
    "### Support Recovery\n",
    "\n",
    "Assume following conditions: \n",
    "\n",
    "1. Mutual Incorherence: $\\Vert (X_S^TX_S)^{-1} X_S^TX_j\\Vert_1^2\\leqslant 1 -\\gamma$ for all $j\\in S$.\n",
    "2. Minimum Eigenvalue: $\\lambda_{\\rm min}(\\frac 1n X_S^TX_S)\\geqslant C>0$\n",
    "3. Minimum Singular Values:"
   ]
  },
  {
   "attachments": {},
   "cell_type": "markdown",
   "metadata": {},
   "source": [
    "## Linearized Bregman Iteration\n",
    "\n"
   ]
  },
  {
   "attachments": {},
   "cell_type": "markdown",
   "metadata": {},
   "source": [
    "### Split LBI\n",
    "\n",
    "The condition is weaker than that required in LASSO, so it often outperforms LASSO."
   ]
  },
  {
   "attachments": {},
   "cell_type": "markdown",
   "metadata": {},
   "source": [
    "## References\n",
    "\n",
    "[1] Dalalyan Arnak, Hebiri Mohamed, Lederer Johannes. [On the Prediction Performance of the Lasso](https://www.researchgate.net/publication/260107907_On_the_Prediction_Performance_of_the_Lasso), 2014."
   ]
  }
 ],
 "metadata": {
  "kernelspec": {
   "display_name": "Python 3",
   "language": "python",
   "name": "python3"
  },
  "language_info": {
   "name": "python",
   "version": "3.8.4 (tags/v3.8.4:dfa645a, Jul 13 2020, 16:46:45) [MSC v.1924 64 bit (AMD64)]"
  },
  "orig_nbformat": 4,
  "vscode": {
   "interpreter": {
    "hash": "1120dc956da57eca5c948a0118f4cdcd4d1b3be98c72752ed298d16085a61d24"
   }
  }
 },
 "nbformat": 4,
 "nbformat_minor": 2
}
