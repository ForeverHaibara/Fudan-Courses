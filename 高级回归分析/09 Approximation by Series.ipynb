{
 "cells": [
  {
   "cell_type": "markdown",
   "metadata": {},
   "source": [
    "# 9 Approximation by Series\n",
    "\n",
    "Continuous function can often be approximated by series, e.g. Taylor series, Fourier series.\n",
    "\n",
    "We can model the data with series expansions."
   ]
  },
  {
   "cell_type": "markdown",
   "metadata": {},
   "source": [
    "## Truncation \n",
    "\n",
    "### Uniform Approximation\n",
    "\n",
    "Stone-Weierstrass states that, any continuous function on compact sets can be arbitrarily uniformly approximated by polynomials. Hence we can truncate the Taylor series approximation to polynomial regressions.\n",
    "\n",
    "\n",
    "The only difference is that, series approximation focuses on degree $K\\rightarrow\\infty$ than polynomial regression."
   ]
  },
  {
   "cell_type": "markdown",
   "metadata": {},
   "source": [
    "## Convergence\n",
    "\n",
    "**Theorem** If the following four conditions hold:\n",
    "1. $\\sup_x |m(x) - \\hat m(x)|<O(K^{-\\alpha})$ is the property of uniform approximation.\n",
    "2. $\\mathbb E(e_i^2|x_i)\\leqslant \\bar \\sigma^2<\\infty$ requires the noise has bounded variance.\n",
    "3. $Q_k\\succ 0$ is strictly positive definite.\n",
    "4. As $K$ increases as a function with respect to data number $n$, we demand $K=o(n)$ and $\\zeta_K K=o(n)$.\n",
    "\n",
    "Then $\\sup_x |r_K(x)|\\leqslant O(\\zeta_K K^{-\\alpha})$. Thus, when $\\zeta_K K^{-\\alpha}=o(1)$, our series approximation converges correctly.\n",
    "\n",
    "\n"
   ]
  },
  {
   "cell_type": "markdown",
   "metadata": {},
   "source": [
    "### Mean Square Convergence\n",
    "\n",
    "$$\\int (\\hat m_K(x) - m(x))^2f_X(x)x = O_p(K/n) + O_p(K^{-2\\alpha})$$"
   ]
  }
 ],
 "metadata": {
  "kernelspec": {
   "display_name": "Python 3.8.4 64-bit",
   "language": "python",
   "name": "python3"
  },
  "language_info": {
   "name": "python",
   "version": "3.8.4"
  },
  "orig_nbformat": 4,
  "vscode": {
   "interpreter": {
    "hash": "1120dc956da57eca5c948a0118f4cdcd4d1b3be98c72752ed298d16085a61d24"
   }
  }
 },
 "nbformat": 4,
 "nbformat_minor": 2
}
