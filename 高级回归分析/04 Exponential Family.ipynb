{
 "cells": [
  {
   "attachments": {},
   "cell_type": "markdown",
   "metadata": {},
   "source": [
    "# 4 Exponential Family\n",
    "\n",
    "## Parametric Family\n",
    "\n",
    "Parametric family is a set of probability measure $\\mathbb P_\\theta$ on $(\\Omega,\\mathcal F)$ with each indexed by a paramter $\\theta\\in \\Theta\\subset \\mathbb R^d$. The $\\Theta$ is called the parameter space while $d$ is the dimension.\n",
    "\n",
    "A particular probability measure in the parametric family is called a parametric model.\n",
    "\n",
    "### Identifiability\n",
    "\n",
    "A parametric family $\\{\\mathbb P_\\theta: \\ \\theta\\in\\Theta\\}$ is said to be identifiable if $\\theta\\mapsto \\mathbb P_{\\theta}$ is an injection, i.e. $\\mathbb P_{\\theta_1} = \\mathbb P_{\\theta_2}$ implies $\\theta_1 = \\theta_2$."
   ]
  },
  {
   "attachments": {},
   "cell_type": "markdown",
   "metadata": {},
   "source": [
    "## Exponential Family\n",
    "\n",
    "### Exponential Family \n",
    "\n",
    "A parametric family $\\{\\mathbb P_{\\theta}:\\ \\theta\\in\\Theta\\}$ dominated by a $\\sigma$-finite measure $\\nu$ on $(\\Omega,\\mathcal F)$ is called an exponential family if and only if it takes the form\n",
    "\n",
    "$$\\frac{d \\mathbb P_\\theta}{d\\nu}(\\omega) = h(\\omega) \\exp\\left\\{\\eta(\\theta)^TT(w) - \\xi(\\theta)\\right\\}\\quad\\quad  \\omega\\in\\Omega\\quad\\quad\\quad (\\star)$$\n",
    "\n",
    "where $T(\\omega)$ is a random $p$-vector and $h(\\omega)$ is a nonnegative random variable independent with $\\theta$. Function $\\eta(\\theta):\\ \\Theta\\rightarrow \\mathbb R^p$, while $\\xi(\\theta)$ is a scaling factor that ensures  $\\int_{\\Omega} \\frac{d \\mathbb P_\\theta}{d\\nu}d\\nu = 1$.\n",
    "\n",
    "<br>\n",
    "\n",
    "NOTE: The form in definition $(\\star)$ is not unique (for instance we can multiply $h(\\omega)$ by a constant while adding the logarithm of the constant to the scaling factor $\\xi(\\theta)$).\n",
    "\n",
    "#### Canonical Form\n",
    "\n",
    "We can change the variable, $\\eta = \\eta(\\theta)$ so that $\\eta\\in \\{\\eta(\\theta):\\ \\theta\\in\\Theta\\}$. Now the exponential family has parameter $\\eta$ and is equivalent to the following form\n",
    "\n",
    "$$\\frac{d \\mathbb P_\\eta}{d\\nu}(\\omega) = h(\\omega) \\exp\\left\\{\\eta^TT(w) - \\zeta(\\eta)\\right\\} \\quad\\quad \\omega\\in\\Omega.$$\n",
    "\n",
    "This is called the canonical form of the exponential family. If an exponential family is already in canonical form, then it is called a natural exponential family. The $\\eta$ is called the natural parameter.\n",
    "\n",
    "#### Natural Parameter Space\n",
    "\n",
    "The natural parameter space $\\Xi$ of the natrual exponential family is defined by\n",
    "$$\\Xi = \\left\\{\\eta: \\int_{\\Omega} h(\\omega)\\exp \\{\\eta^T T(\\omega)\\} d\\nu(\\omega)<\\infty\\right\\}.$$\n",
    "\n",
    "The natural exponential family is said to be of full rank if there exists an open set contained in the natrual parameter space $\\Xi$."
   ]
  },
  {
   "attachments": {},
   "cell_type": "markdown",
   "metadata": {},
   "source": [
    "### Examples\n",
    "\n",
    "Several common families of distributions are exponential family.\n",
    "\n",
    "#### Poisson Distribution\n",
    "\n",
    "Recall poisson distribution with parameter $\\lambda$ has discrete probability\n",
    "\n",
    "$$p(x) = \\frac{\\lambda^x e^{-\\lambda}}{x!} = \\frac{1}{x!}\\cdot \\exp\\{x\\log \\lambda - \\lambda\\}.$$\n",
    "\n",
    "Take $\\eta(\\lambda) = \\log\\lambda$, $T(x) = x$, $\\xi(\\lambda)=\\lambda$ and $h(x) = \\frac{1}{x!}$, we can see that Poisson distribution is an exponential family with parameter $\\lambda$.\n",
    "\n",
    "\n",
    "#### Gaussian Distribution\n",
    "\n",
    "Let $[\\mu,\\sigma]\\in\\mathbb R\\times [0,+\\infty)$ be parameters, a Gaussian random variable $X$ has density\n",
    "\n",
    "$$f(x) = \\frac{1}{\\sqrt{2\\pi\\sigma^2}}\\exp\\left\\{-\\frac{1}{2\\sigma^2}(x - \\mu)^2\\right\\}\n",
    "= \\frac{1}{\\sqrt{2\\pi}}\\exp\\left\\{-\\frac{1}{2\\sigma^2}x^2+\\frac{\\mu}{\\sigma^2}x -\\frac{\\mu^2}{2\\sigma^2} -\\log\\sigma \\right\\}$$\n",
    "\n",
    "Take $\\eta([\\mu,\\sigma]) = [-\\frac{1}{2\\sigma^2},\\frac{\\mu}{\\sigma^2}]^T$, $T(x) = [x^2,x]^T$, $\\xi([\\mu,\\sigma])=\\frac{\\mu^2}{2\\sigma^2} +\\log\\sigma$ and $h(x) = \\frac{1}{\\sqrt{2\\pi}}$, we can see that Gaussian distribution is an exponential family with parameter $\\lambda$."
   ]
  },
  {
   "attachments": {},
   "cell_type": "markdown",
   "metadata": {},
   "source": [
    "## References\n",
    "\n",
    "[1] https://people.eecs.berkeley.edu/~jordan/courses/260-spring10/other-readings/chapter8.pdf "
   ]
  }
 ],
 "metadata": {
  "kernelspec": {
   "display_name": "Python 3.8.4 64-bit",
   "language": "python",
   "name": "python3"
  },
  "language_info": {
   "name": "python",
   "version": "3.8.4 (tags/v3.8.4:dfa645a, Jul 13 2020, 16:46:45) [MSC v.1924 64 bit (AMD64)]"
  },
  "orig_nbformat": 4,
  "vscode": {
   "interpreter": {
    "hash": "1120dc956da57eca5c948a0118f4cdcd4d1b3be98c72752ed298d16085a61d24"
   }
  }
 },
 "nbformat": 4,
 "nbformat_minor": 2
}
