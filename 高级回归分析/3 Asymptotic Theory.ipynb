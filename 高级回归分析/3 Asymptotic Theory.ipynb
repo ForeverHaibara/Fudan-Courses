{
 "cells": [
  {
   "cell_type": "markdown",
   "metadata": {},
   "source": [
    "# 3 Asymptotic Theory\n",
    "\n",
    "## Convergence\n",
    "\n",
    "Let $X,X_1,X_2,\\dotsc$ be a sequence of random vectors (vector of Borel functions) defined on a probability space $(\\Omega,\\mathcal F,\\mathbb P)$. \n",
    "\n",
    "* If for almost every (in the sense of $\\mathbb P$) $x\\in \\Omega$, we have $\\lim_n X_n(x) = X(x)$, then we say $X_n$ converges to $X$ almost surely, and write\n",
    "$$X_n\\rightarrow_{a.s.}X$$\n",
    "\n",
    "* If for any $\\epsilon>0$, $\\lim_n \\mathbb P(x:\\Vert X_n(x) - X(x)\\Vert> \\epsilon)=0$, we say $X_n$ converges to $X$ in probability, and write\n",
    "$$X_n\\rightarrow_{\\mathbb P}X$$\n",
    "\n",
    "* For $r>0$, if $\\lim_n \\mathbb E(\\Vert X_n - X\\Vert_r^r)=0$, we say $X_n$ converges to $X$ in $L_r$ or in $r$-th moment, and write\n",
    "$$X_n\\rightarrow_{L_r}X$$\n",
    "\n",
    "* Let $F,F_1,F_2,\\dotsc$ be the c.d.f of $X,X_1,X_2,\\dotsc$ (i.e. $F(x_0) = \\mathbb P(X(x)\\leqslant x_0)$). If for any continous point $x$ of $F$, $\\lim_n F_n(x) = F(x)$, then we say $X_n$ converges to $X$ in distribution and $F_n$ converges to $F$ in distribution (or weakly), and write\n",
    "$$X_n\\rightarrow_d X\\quad\\quad F_n\\rightarrow_d F$$"
   ]
  },
  {
   "cell_type": "markdown",
   "metadata": {},
   "source": [
    "## Relations\n",
    "\n",
    "* If $X_n\\rightarrow_{a.s.}X$, then $X_n\\rightarrow_{\\mathbb P}X$.\n",
    "  \n",
    "* If $X_n\\rightarrow_{L_r}X\\ (r>0)$, then $X_n\\rightarrow_{\\mathbb P} X$.\n",
    "\n",
    "* If $X_n\\rightarrow_{\\mathbb P} X$, then $X_n\\rightarrow_d X$.\n",
    "\n",
    "* If for every $\\epsilon>0$ we have $\\sum_{j=1}^{\\infty}\\mathbb P(\\Vert X_n - X\\Vert > \\epsilon)<\\infty$, then $X_n\\rightarrow_{a.s.}X$.\n",
    "\n",
    "* If $X_n\\rightarrow_d X$ and $\\mathbb P(X = c) = 1$ where $c$ is constant, then $X_n\\rightarrow_{\\mathbb P}c$.\n",
    "\n",
    "* (Skorohod) IF $x_n\\rightarrow_d X$, then there exists $Y,Y_1,\\dotsc$ such that $\\mathbb P(Y_n)=\\mathbb P(X_n),\\ \\mathbb P(Y)=\\mathbb P(X)$ and $Y_n\\rightarrow_{a.s.}Y$.\n",
    "\n",
    "* If $X_n\\rightarrow_{\\mathbb P}X$, then there exists some subsequence $X_{n_j}\\rightarrow_{a.s.}X$."
   ]
  },
  {
   "cell_type": "markdown",
   "metadata": {},
   "source": [
    "## Slutsky's Theorem"
   ]
  },
  {
   "cell_type": "markdown",
   "metadata": {},
   "source": [
    "## Central Limit Theorem\n",
    "\n",
    "### Lyaponouv "
   ]
  }
 ],
 "metadata": {
  "kernelspec": {
   "display_name": "Python 3.8.4 64-bit",
   "language": "python",
   "name": "python3"
  },
  "language_info": {
   "name": "python",
   "version": "3.8.4"
  },
  "orig_nbformat": 4,
  "vscode": {
   "interpreter": {
    "hash": "1120dc956da57eca5c948a0118f4cdcd4d1b3be98c72752ed298d16085a61d24"
   }
  }
 },
 "nbformat": 4,
 "nbformat_minor": 2
}
