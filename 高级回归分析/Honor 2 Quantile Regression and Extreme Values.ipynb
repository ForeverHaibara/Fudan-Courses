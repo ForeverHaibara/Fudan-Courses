{
 "cells": [
  {
   "cell_type": "markdown",
   "metadata": {},
   "source": [
    "# Honor 2 Quantile Regression and Extreme Values\n",
    "\n",
    "## Quantile\n",
    "\n",
    "### Order Statistics\n",
    "\n",
    "Given a series of observations $(X_1,\\dotsc,X_n)$, we can rearrange them in order:\n",
    "$$X_{1,n}\\leqslant X_{2,n}\\leqslant \\dotsc X_{n,n}$$\n",
    "Then, $(X_{1,n},\\dotsc,X_{n,n})$ is called the order statistics of $(X_1,\\dots,X_n)$.\n",
    "\n",
    "**Examples**\n",
    "\n",
    "1. Median: the sample median of $(X_1,\\dotsc,X_n)$ is defined by \n",
    "$$m = \\left\\{\\begin{array}{ll}X_{\\frac{n+1}{2}, n}, \\quad & n {\\rm \\ is\\ odd},\\\\\n",
    "\\frac 12\\left(X_{\\frac n2 , n}+X_{\\frac n2+1,n}\\right),\\quad & n{\\rm \\ is\\ even}.\\end{array}\\right.$$\n",
    "\n",
    "Median is often more stable than the mean.\n",
    "\n",
    "\n",
    "2. For $1\\leqslant k\\leqslant n$, \n",
    "$$X_{k,n} = \\min_{1\\leqslant i_1\\leqslant \\dotsc\\leqslant i_k\\leqslant n}\\max \\left\\{X_{i_1},\\dotsc,X_{i_n}\\right\\}\n",
    " = \\max_{1\\leqslant i_1\\leqslant \\dotsc\\leqslant i_{n-k+1}\\leqslant n}\\min \\left\\{X_{i_1},\\dotsc,X_{i_n}\\right\\}.$$\n",
    "\n",
    "### Population Quantile\n",
    "\n",
    "Let $F$ be the cumulatie distribution function and its (generalized) inverse $F^{-1}:[0,1]\\rightarrow \\bar {\\mathbb R}$ given by\n",
    "$$F^{-1}(p) = \\inf\\{x|\\ F(x)\\geqslant p\\},\\quad p\\in [0,1].$$\n",
    "\n",
    "And we call $F^{-1}(p)$ to be the p-th quantile of $F$. Warning: $F(F^{-1}(p))=p$ **DOES NOT ALWAYS HOLD**.\n",
    "\n",
    "\n",
    "**Properties**\n",
    "\n",
    "1. $F^{-1}(p)\\leqslant x\\Leftrightarrow p\\leqslant F(x)$.\n",
    "\n",
    "Proof: $\\Rightarrow$: if $F^{-1}(p) \\leqslant x$, then $\\exists t\\leqslant x\\ {\\rm s.t.\\ }F(t)\\geqslant p$. While $F(x)\\geqslant F(t)$ by monotonicity, so $\\Rightarrow $ holds. On the other hand, $\\Leftarrow$ is trivial by the definition of $\\inf$.\n",
    "\n",
    "\n",
    "2. $x<F^{-1}(p)\\Leftrightarrow F(x)<p$.\n",
    "\n",
    "Proof: Trivial from 1.\n",
    "\n",
    "\n",
    "3. $\\lim_{x\\rightarrow F^{-1}(p)^-}F(x)\\leqslant p \\leqslant F(F^{-1}(p))$.\n",
    "\n",
    "Proof: Left: note for $\\epsilon>0$, we have $F^{-1}(p) - \\epsilon <F^{-1}(p)$, by property 2 we must have $F(F^{-1}(p) - \\epsilon )<p$. Take the limit when $\\epsilon\\rightarrow 0^+$ and $F^{-1}(p) - \\epsilon\\rightarrow F^{-1}(p)^-$. \n",
    "Right: trivial from property 1 by taking $x = F^{-1}(p)$.\n",
    "\n",
    "4. $F^{-1}(F(x))\\leqslant x\\leqslant \\lim_{p\\rightarrow F(x)^+}F^{-1}(p)$.\n",
    "\n",
    "Proof: Left: trivial from property 1 by taking $p = F(x)$. Right: note for $\\epsilon > 0$, we have $F(x)+\\epsilon > F(x)$. Let $p = F(x)+\\epsilon$ and $p\\rightarrow F(x)^+$, then by property 2 we have $x < F^{-1}(p)$ and the limit gives $x\\leqslant \\lim_{p\\rightarrow F(x)^+}F^{-1}(p)$.\n",
    "\n",
    "5. $F^{-1}(p)$ is nondecreasing and left-continuous.\n",
    "\n",
    "Proof: Left: let $p_1<p_2$, then $p_1<p_2\\leqslant F(F^{-1}(p_2))$ by 3. Take $x = F^{-1}(p_2)$ in property 1 yields $F^{-1}(p_1)\\leqslant F^{-1}(p_2)$. Now let $p_1\\rightarrow p_2^-$, then $F^{-1}(p_1)$ is bounded and nondecreasing. So it has limit $\\lim_{p\\rightarrow p_2^-}F^{-1}(p)\\leqslant F^{-1}(p_2)$. Yet for $\\epsilon >0$, we have when $p > F^{-1}(p_2) - \\epsilon$ that \n",
    "$$p \\leqslant F(F^{-1}(p))\\leqslant F(F^{-1}(p_2) - \\epsilon)$$\n",
    "\n",
    "\n",
    "6.\n",
    "\n",
    "\n",
    "7. When $F$ is continuous at $t$, then $F(F^{-1}(t))  =t$."
   ]
  },
  {
   "cell_type": "markdown",
   "metadata": {},
   "source": [
    "### Random Number Generator\n",
    "\n",
    "Suppose $X$ has C.D.F. $F$ while $U$ is the standard uniform random varaible. Then, \n",
    "$F^{-1}(U)\\sim  X$. Further if $F$ is continuous, then $F(x)\\sim U$.\n",
    "\n",
    "Proof: Fix $t$, since $F^{-1}(U)\\leqslant t\\Leftrightarrow U\\leqslant F(t)$, we have $\\mathbb P(F^{-1}(U)\\leqslant t) = \\mathbb P(U\\leqslant F(t)) =F(t) =\\mathbb P(X\\leqslant t)$. When $F$ is continuous, first we note that for any $t$\n",
    "$$\\mathbb P(F(X) < t) =1- \\mathbb P(F(X)\\geqslant t) = 1 - \\mathbb P(X\\geqslant F^{-1}(t)) = 1 - (1 -F(F^{-1}(t))) = F(F^{-1}(t))=t.\n",
    "$$\n",
    "\n",
    "Note that for $\\epsilon>0$, $\\mathbb P(F(X)<t-\\epsilon) \\leqslant \\mathbb P(F(X)\\leqslant t) \\leqslant \\mathbb P(F(X)<t+\\epsilon)$, taking the limit gives the result.\n",
    "\n",
    "\n",
    "#### Order Statistics\n",
    "\n",
    "When $X_i\\ (i=1,\\dotsc,n)$ are i.i.d. from $F$ while $U_i\\ (i=1,\\dotsc,n)$ are i.i.d. uniform. Then the order statistics is the inverse of uniform order statistics,\n",
    "$$(X_{1,n},\\dotsc,X_{n,n})\\sim (F^{-1}(U_{1,n}),\\dotsc,F^{-1}(U_{n,n})).$$"
   ]
  },
  {
   "cell_type": "markdown",
   "metadata": {},
   "source": [
    "## Convergence\n",
    "\n",
    "\n",
    "### Inverse\n",
    "\n",
    "**Theorem** $F_n\\ (n=1,2,\\dotsc)$ and $F$ are C.D.F.s. Then $F_n^{-1}\\rightarrow_d F^{-1}$ if and only if $F_n\\rightarrow_d F$.\n",
    "\n",
    "**Proof** Let $U$ be a standard uniform random variable. $\\Rightarrow$: note that $F_n^{-1}(U)\\rightarrow F^{-1}(U)$ almost everywhere by the definition of convergence in distribution. So the corresponding distribution weakly converges, $F_n^{-1}(U) = F_n\\rightarrow F$. For $\\Leftarrow$: let $N$ be a random variable with strictly increasing and continuous C.D.F. $\\Phi$, \n",
    "$$\\Phi(F_n^{-1}(t)) = \\mathbb P(N\\leqslant F_n^{-1}(t)) = \\mathbb P(N<F_n^{-1}(t)) = \\mathbb P(F_n(N)<t) \\rightarrow \\mathbb P(F(N)<t) = \\mathbb P(N<F^{-1}(t)) = \\Phi(F^{-1}(t)) .$$\n",
    "\n",
    "Then, $F_n^{-1}(t) = \\Phi^{-1}(\\Phi(F_n^{-1}(t)))\\rightarrow \\Phi^{-1}(\\Phi(F^{-1}(t))) =  F^{-1}(t)$."
   ]
  },
  {
   "cell_type": "markdown",
   "metadata": {},
   "source": [
    "## Quantile Regression\n",
    "\n"
   ]
  },
  {
   "cell_type": "markdown",
   "metadata": {},
   "source": []
  }
 ],
 "metadata": {
  "kernelspec": {
   "display_name": "Python 3.8.4 64-bit",
   "language": "python",
   "name": "python3"
  },
  "language_info": {
   "name": "python",
   "version": "3.8.4"
  },
  "orig_nbformat": 4,
  "vscode": {
   "interpreter": {
    "hash": "1120dc956da57eca5c948a0118f4cdcd4d1b3be98c72752ed298d16085a61d24"
   }
  }
 },
 "nbformat": 4,
 "nbformat_minor": 2
}
