{
 "cells": [
  {
   "cell_type": "markdown",
   "metadata": {},
   "source": [
    "# 12 Semiparametric Statistics\n",
    "\n",
    "Semiparametric model is a mixture of finite dimensional parameters and infinite dimensional parameters."
   ]
  },
  {
   "cell_type": "markdown",
   "metadata": {},
   "source": [
    "## Semiparametric Models\n",
    "\n",
    "Consider the class of semiparametric models with finite dimensional parameter $\\psi$ and an infinite dimensional part $\\beta(.)$ (possibly a function):\n",
    "$$\\mathcal P = \\left\\{f_Z(z|\\psi,\\beta(.)),\\quad \\psi\\in\\mathbb R^q,\\ \\beta(.){\\rm \\ is\\ infinite\\ dimensional}\\right\\}.$$\n",
    "\n",
    "Let the true model be $f_0(z|\\psi_0,\\beta_0(.))$.\n",
    "\n",
    "### Nuisance Parameters\n",
    "\n",
    "\n",
    "\n",
    "### Propotional Hadzards (PH) Model Example\n",
    "\n",
    "Below gives a semiparametric model, known as propotional hadzards (PH) model in survival analysis,\n",
    "$$f(x,t) = \\beta(t)e^{\\psi^Tx}.$$\n",
    "\n",
    "Here $\\beta$ is an unknown function and $x,\\psi\\in\\mathbb R^q$ are vectors. The model has two inputs, covariates $x$ and time $t$. Suppose want to know how the covariates $x$ contribute to the result $f$, while time $t$ is not so important. In this case, $\\beta(.)$ is the nuisance parameter.\n",
    "\n",
    "\n",
    "If we now know enough data observed at the same time, $f(x_i,t_1),\\ (i=0,1,\\dotsc,q)$. Then we can see that \n",
    "\n",
    "$$\\psi^T(x_i - x_0) =\\log f(x_i,t_1) - \\log f(x_0,t_1),$$\n",
    "\n",
    "and we can compute that \n",
    "\n",
    "$$\\psi = \\left[\\begin{matrix}(x_1 - x_0)^T\\\\ \\vdots\\\\ (x_q - x_0)^T\\end{matrix}\\right]^{-1}\\left[\\begin{matrix}\\log f(x_1,t_1) - \\log f(x_0,t_1)\\\\ \\vdots \\\\ \\log f(x_q,t_1) - \\log f(x_0,t_1) \\end{matrix}\\right].$$"
   ]
  },
  {
   "cell_type": "markdown",
   "metadata": {},
   "source": [
    "## Nuisance Projection\n",
    "\n",
    "### Random Function Space\n",
    "\n",
    "Recall random variables are Borel functions. If $(\\Omega,\\mathcal B,\\mathbb P)$ is a probability space and for random variables $h:\\Omega\\rightarrow \\mathbb R^q$ with continuous density and $\\mathbb E(hh^T)<\\infty$, they form a random function Hilbert space with inner product defined as:\n",
    "$$\\langle h_1,h_2\\rangle = \\mathbb E(h_1^Th_2)\\in\\mathbb R$$\n",
    "\n",
    "Note: the continuous density ensures that $\\langle h_1,h_1\\rangle = 0\\Rightarrow h_1=_{\\rm a.s.}0\\Rightarrow h_1 \\equiv 0$.\n",
    "\n",
    "#### Mean Zero Random Function Space\n",
    "\n",
    "When we only consider random variables with zero mean, they form a mean-zero random functino space.\n",
    "\n",
    "### Projection Theorem\n",
    "\n",
    "**Theorem** Let $\\mathcal H$ be a Hilbert space and $\\mathcal U$ a closed linear subspace. Then, for arbitrarily given $h\\in\\mathcal H$, there exists a unique $u_0\\in\\mathcal U$ that is closest to $h$:\n",
    "$$\\Vert h - u_0\\Vert < \\Vert h - u\\Vert\\quad\\quad u\\in\\mathcal U\\setminus\\{u_0\\}$$\n",
    "Further, it has the property that $\\langle h- u_0,u\\rangle = 0\\quad \\forall u\\in\\mathcal U$.\n",
    "\n",
    "\n",
    "### Tangent Space\n",
    "\n",
    "Let $f$ be a probability density function (i.e. a model) and $Z$ be a random variable sampled from distribution $f$."
   ]
  },
  {
   "cell_type": "markdown",
   "metadata": {},
   "source": []
  },
  {
   "cell_type": "markdown",
   "metadata": {},
   "source": [
    "## Influence Function\n",
    "\n",
    "### Asymptotical Linearity\n",
    "\n",
    "An unbiased estimator $\\hat\\psi$ with $\\hat\\psi_n\\rightarrow_{\\mathbb P}\\psi_0$ is called asymptotical linear, if there exists function $\\varphi$ such that\n",
    "$$\\sqrt n (\\hat\\psi_n - \\psi_0) = \\frac{1}{\\sqrt n }\\sum_{i=1}^n \\varphi(X_i)+o_{\\mathbb P}(1).$$\n",
    "And we call $\\varphi$ the influence function. \n",
    "\n",
    "\n",
    "**Theorem** The influence function $\\varphi$ is unique in the almost surely sense when $\\hat\\psi$ is asymptotical linear."
   ]
  },
  {
   "cell_type": "markdown",
   "metadata": {},
   "source": [
    "### Q-Replicating Linear Space\n",
    "\n",
    "When a linear subspace $\\mathcal U\\subset \\mathcal H$ can be represented in the form of $q$ Decartes product, $\\mathcal U = \\mathcal U_1\\times\\mathcal U_1\\times \\dotsm \\mathcal U_1$ (there are $q$ identical $\\mathcal U_1$), then we say that $\\mathcal U$ is a q-replicating linear subspace.\n",
    "\n",
    "\n",
    "### Multivariate Pythagorean Theorem\n",
    "\n",
    "When $\\mathcal U$ is a q-replicating linear subspace of $\\mathcal H$ and $u\\in\\mathcal U$. If $\\mathcal V$ is a subspace orthogonal to $\\mathcal U$, then for any $v\\in\\mathcal V$ we have \n",
    "$$\\mathbb E((u+v)(u+v)^T) = \\mathbb E(uu^T)+\\mathbb E(vv^T)$$\n",
    "\n",
    "### Efficient Influence Function\n",
    "\n"
   ]
  },
  {
   "cell_type": "markdown",
   "metadata": {},
   "source": []
  },
  {
   "cell_type": "markdown",
   "metadata": {},
   "source": [
    "## Casual Inference\n",
    "\n",
    "Recall the example in proportional hadzards model, we can study the influence of each covariate $x$ without the knowledge of influence $\\beta(t)$ from time. This is the idea of casual inference.\n",
    "\n",
    "### Average Treatment Effect\n",
    "\n",
    "Average treatment effect (ATE) is the change in outcome after treatment:\n",
    "\n",
    "$${\\rm ATE} = \\mathbb E\\left[ Y({\\rm treatment}) - Y({\\rm placebo})\\right]$$"
   ]
  }
 ],
 "metadata": {
  "kernelspec": {
   "display_name": "Python 3.8.4 64-bit",
   "language": "python",
   "name": "python3"
  },
  "language_info": {
   "name": "python",
   "version": "3.8.4"
  },
  "orig_nbformat": 4,
  "vscode": {
   "interpreter": {
    "hash": "1120dc956da57eca5c948a0118f4cdcd4d1b3be98c72752ed298d16085a61d24"
   }
  }
 },
 "nbformat": 4,
 "nbformat_minor": 2
}
