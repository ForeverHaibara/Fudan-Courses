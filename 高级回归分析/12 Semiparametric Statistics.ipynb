{
 "cells": [
  {
   "cell_type": "markdown",
   "metadata": {},
   "source": [
    "# 12 Semiparametric Statistics\n",
    "\n",
    "Semiparametric model is a mixture of finite dimensional parameters and infinite dimensional parameters. E.g. partial linear regression $y =m_{\\beta,g}(x,z) =  x^T\\beta +g(z)$."
   ]
  },
  {
   "cell_type": "markdown",
   "metadata": {},
   "source": [
    "## Mean Zero Random Function Space\n",
    "\n",
    "Recall random variables are Borel functions. If $(\\Omega,\\mathcal B,\\mathbb P)$ is a probability space and for random variables $h:\\Omega\\rightarrow \\mathbb R^q$ with following two properties, they form a mean-zero random function space.\n",
    "$$\n",
    "\\left\\{\\begin{aligned}&\\mathbb E(h) = 0\\\\ & \\mathbb E(hh^T)<\\infty\\end{aligned}\\right.\n",
    "$$\n",
    "\n",
    "If we define the inner product by $\\langle h_1,h_2\\rangle = \\mathbb E(h_1^Th_2)\\in\\mathbb R$, then it forms a Hilbert inner product space.\n",
    "\n",
    "\n",
    "\n",
    "### Projection Theorem\n",
    "\n",
    "**Theorem** Let $\\mathcal H$ be a Hilbert space and $\\mathcal U$ a closed linear subspace. Then, for arbitrarily given $h\\in\\mathcal H$, there exists a unique (in the sense of \"almost everywhere\") $u_0\\in\\mathcal U$ that is closest to $h$:\n",
    "$$\\Vert h - u_0\\Vert < \\Vert h - u\\Vert\\quad\\quad u\\in\\mathcal U\\setminus\\{u_0\\}$$\n",
    "Further, it has the property that $\\langle h- u_0,u\\rangle = 0\\quad \\forall u\\in\\mathcal U$.\n",
    "\n"
   ]
  },
  {
   "cell_type": "markdown",
   "metadata": {},
   "source": [
    "### Asymptotical Linearity\n",
    "\n",
    "An unbiased estimator $\\hat\\psi$ with $\\hat\\psi_n\\rightarrow_{\\mathbb P}\\psi_0$ is called asymptotical linear, if there exists function $\\varphi$ such that\n",
    "$$\\sqrt n (\\hat\\psi_n - \\psi_0) = \\frac{1}{\\sqrt n }\\sum_{i=1}^n \\varphi(X_i)+o_{\\mathbb P}(1).$$\n",
    "And we call $\\varphi$ the influence function. \n",
    "\n",
    "\n",
    "**Theorem** The influence function $\\varphi$ is unique in the almost surely sense when $\\phi$ is asymptotical linear."
   ]
  }
 ],
 "metadata": {
  "kernelspec": {
   "display_name": "Python 3.8.4 64-bit",
   "language": "python",
   "name": "python3"
  },
  "language_info": {
   "name": "python",
   "version": "3.8.4"
  },
  "orig_nbformat": 4,
  "vscode": {
   "interpreter": {
    "hash": "1120dc956da57eca5c948a0118f4cdcd4d1b3be98c72752ed298d16085a61d24"
   }
  }
 },
 "nbformat": 4,
 "nbformat_minor": 2
}
