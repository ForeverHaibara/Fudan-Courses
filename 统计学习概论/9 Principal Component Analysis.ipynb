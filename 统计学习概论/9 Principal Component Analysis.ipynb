{
 "cells": [
  {
   "cell_type": "markdown",
   "metadata": {},
   "source": [
    "# 9 主成分分析\n",
    "\n",
    "假设 $x \\in\\mathbb R^m$ 是 $m$ 维随机变量 (向量). 期望为 $\\mu = \\mathbb E(x)\\in\\mathbb R^m$, 协方差为 $\\Sigma  = {\\rm Cov}(x)$.\n",
    "\n",
    "考虑**正交**线性变换 $y = Q^Tx$, 其中矩阵 $ Q^T\\in\\mathbb R^{k\\times m}, \\ Q^TQ = I_k\\ (k\\leqslant m)$, 以及 $y\\in\\mathbb R^k$.\n",
    "\n",
    "如下求解 $Q$ 使得 $y$ 的协方差 [**最大**](https://stats.stackexchange.com/questions/305430/why-do-we-want-to-maximize-the-variance-in-principal-component-analysis), 则为主成分分析 (principal component analysis, PCA):\n",
    "$${\\rm argmax}_{Q^TQ = I_k}{\\rm Var}(y)$$\n",
    "\n",
    "## 主成分分析\n",
    "\n",
    "可以解出, 所求极值点对应的 $Q$ 是 $\\Sigma$ 的最大的 $k$ 个单位特征向量.\n",
    "\n",
    "**证明** \n",
    "$${\\rm Var}(y) = \\mathbb E\\left[\\left(y - \\mathbb Ey\\right)^T\\left(y - \\mathbb Ey\\right)\\right]\n",
    "=   {\\rm tr}\\mathbb E\\left[\\left(y - \\mathbb Ey\\right)\\left(y - \\mathbb Ey\\right)^T\\right]\n",
    "={\\rm tr}{\\rm Cov}(y) = {\\rm tr}(Q^T\\Sigma Q).$$\n",
    "\n",
    "根据樊畿迹极大极小定理 (Kyfan's trace minimization theorem) [1] p. 248), 使得上式最大的 $Q$ 是 $\\Sigma$ 的最大的 $k$ 个特征向量.\n",
    "\n",
    "<br>\n",
    "\n",
    "设 $\\Sigma$ 的特征值为 $\\lambda_1\\geqslant \\lambda_2\\geqslant \\dotsc\\geqslant\\lambda_m$, 对应的单位特征向量为 $q_1,q_2,\\dotsc,q_m$. 则不妨设 $Q = [q_1,q_2,\\dotsc,q_k]$, 及 $y = [q_1^Tx, q_2^Tx,\\dotsc,q_k^Tx]$. 则称 $y_i = q_i^Tx$ 为 $x$ 的第 $i$ 个主成分.\n",
    "\n",
    "### 样本主成分分析\n",
    "\n",
    "先用样本估计 $x$ 的期望与协方差矩阵: $\\hat \\mu,\\hat \\Sigma$, 然后进行主成分分析: 假设有 $n$ 条数据 $x_1,\\dotsc,x_n$, 则\n",
    "\n",
    "$$\\hat\\mu = \\frac 1n\\sum_{i=1}^n x_i\\quad\\quad \\hat \\Sigma = \\frac {1}{n-1} \\sum_{i=1}^n (x_i - \\hat\\mu)(x_i - \\hat \\mu)^T$$\n",
    "\n",
    "注: 前文脱离样本使用 $\\mu,\\Sigma$ 的主成分分析称为总体主成分分析.\n"
   ]
  },
  {
   "cell_type": "markdown",
   "metadata": {},
   "source": [
    "## 因子分析\n",
    "\n",
    "\n",
    "### 因子负荷量\n",
    "\n",
    "相关系数 $\\rho(Y_j,X_i) = {\\rm Corr}(Y_j, X_i)$ 称为因子负荷量."
   ]
  },
  {
   "cell_type": "markdown",
   "metadata": {},
   "source": [
    "## 因子分析"
   ]
  },
  {
   "cell_type": "markdown",
   "metadata": {},
   "source": [
    "## 参考文献\n",
    "\n",
    "1. Roger A. Horn and Charles R. Johnson, Matrix Analysis (Second Edition), Cambridge University Press, 2013."
   ]
  }
 ],
 "metadata": {
  "kernelspec": {
   "display_name": "Python 3.8.4 64-bit",
   "language": "python",
   "name": "python3"
  },
  "language_info": {
   "codemirror_mode": {
    "name": "ipython",
    "version": 3
   },
   "file_extension": ".py",
   "mimetype": "text/x-python",
   "name": "python",
   "nbconvert_exporter": "python",
   "pygments_lexer": "ipython3",
   "version": "3.8.4"
  },
  "orig_nbformat": 4,
  "vscode": {
   "interpreter": {
    "hash": "1120dc956da57eca5c948a0118f4cdcd4d1b3be98c72752ed298d16085a61d24"
   }
  }
 },
 "nbformat": 4,
 "nbformat_minor": 2
}
