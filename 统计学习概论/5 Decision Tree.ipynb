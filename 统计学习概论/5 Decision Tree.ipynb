{
 "cells": [
  {
   "cell_type": "markdown",
   "metadata": {},
   "source": [
    "# 5 决策树\n",
    "\n",
    "决策树 (decision tree) 是形如 if-else 的分类方法. 决策树分类的好坏主要取决于各个条件的设计. 根据已有的训练数据, 决策树的重点是提取合适的特征条件.\n",
    "\n",
    "为了选取\"最有区分度\"的特征, 可以利用信息熵的知识."
   ]
  },
  {
   "cell_type": "markdown",
   "metadata": {},
   "source": [
    "## 信息熵 \n",
    "\n",
    "信息熵 (information entropy) 衡量信息量的多少. 对于一个离散概率分布\n",
    "$$\\mathbb P(X=X_i) = p_i \\quad(i=1,2,\\dotsc,n)$$\n",
    "其熵定义为\n",
    "$$H(\\mathbb P) = -\\sum_{i=1}^n p_i\\log p_i$$\n",
    "\n",
    "信息越混乱 (越不确定), 熵越大."
   ]
  },
  {
   "cell_type": "code",
   "execution_count": 12,
   "metadata": {},
   "outputs": [
    {
     "data": {
      "image/png": "[encoded data removed]",
      "text/plain": [
       "<Figure size 432x288 with 1 Axes>"
      ]
     },
     "metadata": {
      "needs_background": "light"
     },
     "output_type": "display_data"
    }
   ],
   "source": [
    "from matplotlib import pyplot as plt\n",
    "import numpy as np\n",
    "p = np.linspace(0, 1, 200)\n",
    "h = -p * np.log(p + 1e-16) # + 1e-16 to prevent NaN\n",
    "plt.plot(p, h)\n",
    "plt.legend(['$f(p)=-p\\log p$'])\n",
    "plt.show()"
   ]
  },
  {
   "cell_type": "markdown",
   "metadata": {},
   "source": [
    "### 条件熵\n",
    "\n",
    "若离散分布 $Y$ 受到参数 $x$ 的影响, 当已先验地知道 $x$ 的分布 $X$ 时  (其中 $X$ 是离散分布), 可以定义条件熵 (conditional entropy) \n",
    "$$H(Y|X) = \\mathbb E(H(Y)|X)= \\sum_{i=1}^m p_iH(Y|X=x_i)$$\n",
    "\n",
    "若离散分布 $Y$ 在未知与已知 $x\\sim X$ 时的熵的变化称为信息增益 (information gain)\n",
    "$$g(Y,X) = H(Y) - H(Y|X).$$\n",
    "\n",
    "由于知道得多了, 信息更确定了, 信息熵一定减小, 即 $g\\geqslant 0$.\n",
    "\n",
    "证: 设离散分布 $Y$ 有 $n$ 类: $y_1,\\dotsc,y_n$, 则\n",
    "$$\\begin{aligned}H(Y|X)& =  \\sum_{i=1}^m \\sum_{j=1}^np_i \\mathbb P(Y = y_j|X=x_i)\\\\ & \n",
    "=\\sum_{i=1}^m \\sum_{j=1}^np_i \\frac{\\mathbb P(Y = y_j, X=x_i)}{p_i}\\log \\left(\\frac{p_i}{\\mathbb P(Y = y_j, X=x_i)}\\right) \\\\ &= \\sum_{i=1}^m \\sum_{j=1}^n \\mathbb P(Y = y_j, X=x_i)\\left\\{\\log \\left(\\frac{p_i\\mathbb P(Y = y_j)}{\\mathbb P(Y = y_j, X=x_i)} \\right) - \\log \\mathbb P(Y = y_j)\\right\\}\n",
    "\n",
    "\\\\ & \\leqslant \\sum_{i=1}^m \\sum_{j=1}^n \\mathbb P(Y = y_j, X=x_i) \\left\\{  \\left(\\frac{p_i\\mathbb P(Y = y_j)}{\\mathbb P(Y = y_j, X=x_i)}-1 \\right) - \\log \\mathbb P(Y = y_j)\\right\\}\n",
    " \\\\ &= \\sum_{j=1}^n \\sum_{i=1}^m \\left(p_i\\mathbb P(Y = y_j)-\\mathbb P(Y = y_j, X=x_i) - \\mathbb P(Y = y_j, X=x_i)\\log \\mathbb P(Y = y_j)\\right) \n",
    " \\\\ &= \\sum_{j=1}^n  \\left(\\mathbb P(Y = y_j)-\\mathbb P(Y = y_j) - \\mathbb P(Y = y_j)\\log \\mathbb P(Y = y_j)\\right)\n",
    " \\\\ &= H(Y)\n",
    "\\end{aligned}$$\n",
    "\n",
    "注: 信息增益其实是一种 KL 散度 (Kullback-Leibler Divergence).\n",
    "$$g(Y,X) = KL(p(X,Y)\\Vert p(X)p(Y))=g(X,Y)$$"
   ]
  },
  {
   "cell_type": "markdown",
   "metadata": {},
   "source": [
    "## 特征选择\n",
    "\n",
    "类似于前向选择 (forward selection).\n",
    "\n",
    "### ID3算法\n",
    "\n",
    "每次选取信息增益最大的特征, 作为分类的特征.\n",
    "\n",
    "### C4.5算法\n",
    "\n",
    "定义信息增益比 $g_R(Y,X) = \\dfrac{g(Y,X)}{H(X)}$. 每次选取信息增益比最大的特征, 作为分类的特征."
   ]
  }
 ],
 "metadata": {
  "kernelspec": {
   "display_name": "Python 3.8.4 64-bit",
   "language": "python",
   "name": "python3"
  },
  "language_info": {
   "codemirror_mode": {
    "name": "ipython",
    "version": 3
   },
   "file_extension": ".py",
   "mimetype": "text/x-python",
   "name": "python",
   "nbconvert_exporter": "python",
   "pygments_lexer": "ipython3",
   "version": "3.8.4"
  },
  "orig_nbformat": 4,
  "vscode": {
   "interpreter": {
    "hash": "1120dc956da57eca5c948a0118f4cdcd4d1b3be98c72752ed298d16085a61d24"
   }
  }
 },
 "nbformat": 4,
 "nbformat_minor": 2
}
