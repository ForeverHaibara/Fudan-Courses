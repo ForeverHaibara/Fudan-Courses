{
 "cells": [
  {
   "cell_type": "markdown",
   "metadata": {},
   "source": [
    "# 8 聚类方法\n",
    "\n",
    "给定数据 $x_i\\in\\mathbb R^p\\ (i=1,\\dotsc,n)$, 将其 (按照位置关系等) 分为 $k$ 个类, 即为聚类 (clustering).\n"
   ]
  },
  {
   "cell_type": "markdown",
   "metadata": {},
   "source": [
    "\n",
    "## 度量\n",
    "\n",
    "### 距离\n",
    "\n",
    "可以按照距离关系将 $x_i\\ (i=1,\\dotsc,n)$ 分类, 距离可以不止是欧氏距离:\n",
    "\n",
    "#### 闵可夫斯基距离\n",
    "\n",
    "闵可夫斯基距离 (Minkowski distance): $(m\\geqslant 1)$\n",
    "$$d_{ij} = \\Vert x_i - x_j \\Vert_m =\\left(\\sum_{k=1}|x_{ik}  - x_{jk}|^m\\right)^\\frac 1m$$\n",
    "\n",
    "特别地, 当 $m = 2$ 是欧氏距离 (Euclidean distance), $m = 1$ 是曼哈顿距离 (Manhattan distance), $m = + \\infty$ 是切比雪夫距离 (Chebyshev distance).\n",
    "\n",
    "\n",
    "#### 马氏距离\n",
    "\n",
    "马氏距离: $S$ 为正定矩阵,\n",
    "$$d_{ij} = \\Vert x_i - x_j\\Vert_{S^{-1}} = \\sqrt{(x_i - x_j)^TS^{-1}(x_i - x_j)}$$\n",
    "\n",
    "\n",
    "### 相似度\n",
    "\n",
    "除距离外, 可以定义两个数据的相似度, 如余弦相似度或相关系数. 不同的相似度定义往往介于 $[-1,1]$ (或 $[0,1]$) 之间.\n",
    "\n",
    "#### 余弦相似度\n",
    "\n",
    "余弦相似度 (cosine similarity) 是两个数据向量的夹角余弦值.\n",
    "\n",
    "$$s_{ij} = \\langle x_i, x_j\\rangle = \\frac{x_i^Tx_j}{\\Vert x_i\\Vert_2\\Vert x_j\\Vert_2}$$\n",
    "\n",
    "#### 相关系数\n",
    "\n",
    "相关系数 (correlation coefficient) 将两个数据看成两组 $d$ 个独立同分布观测并计算协方差.\n",
    "$$r_{ij} = \\frac{\\sum_{k=1}^p (x_{ik}- \\bar x_i)(x_{jk} - \\bar x_j)}{\\sqrt{\\sum_{k=1}^p (x_{ik} - \\bar x_i)^2\\sum_{k=1}^p (x_{jk} - \\bar x_j)^2}}$$\n",
    "\n",
    "#### 转换\n",
    "\n",
    "数据越相似, 相似度越大, 距离越小. 可见两个指标是的意义并不相同. 不过可以相互转换. 例如可以定义 $距离 = \\sqrt{2(1 - 相似度)}$ 或 $相似度 = (1+距离)^{-1}$."
   ]
  },
  {
   "cell_type": "markdown",
   "metadata": {},
   "source": [
    "## 簇\n",
    "\n",
    "聚类结果分好的每一个类称为簇 / 类 (cluster). 假设 $G$ 是一个簇, 定义其中心为该簇内的数据的平均值:\n",
    "$$\\bar x_G = \\frac{1}{|G|}\\sum_{x_i\\in G}x_i$$\n",
    "\n",
    "定义其直径为最远的两个数据的距离:\n",
    "$$D_G = \\max_{x_i,x_j\\in G}d_{ij}$$\n",
    "\n",
    "### 簇间距离\n",
    "\n",
    "两个簇 $G_a, G_b$ 之间的距离, 亦称类连接 (linkage), 可用如下定义衡量:\n",
    "\n",
    "#### 最短距离\n",
    "\n",
    "最短距离又称为单连接 (single linkage), 是两个簇之间最近的两个数据的距离:\n",
    "$$D_{ab} = \\min_{x_i\\in G_a,\\ x_j\\in G_b} d_{ij}$$\n",
    "\n",
    "#### 最长距离\n",
    "\n",
    "最长距离又称为完全连接 (complete linkage),  是两个簇之间最远的两个数据的距离:\n",
    "$$D_{ab} =  \\max_{x_i\\in G_a,\\ x_j\\in G_b} d_{ij}$$\n",
    "\n",
    "#### 中心距离\n",
    "\n",
    "即两个簇的簇中心的距离\n",
    "$$D_{ab} = d(\\bar x_a, \\bar x_b)$$\n",
    "\n",
    "#### 平均距离\n",
    "\n",
    "即两个簇数据点的距离的平均值\n",
    "$$D_{ab} = \\frac{1}{|G_a||G_b|}\\sum_{x_i\\in G_a}\\sum_{x_j\\in G_b}d_{ij}$$"
   ]
  },
  {
   "attachments": {},
   "cell_type": "markdown",
   "metadata": {},
   "source": [
    "## 层次聚类\n",
    "\n",
    "层次聚类 (hierachical clustering) 每次选择最近两个类融合为一个新类.\n",
    "\n",
    "层次聚类和 Kruskal 算法的想法相近, 可以用并查集实现."
   ]
  },
  {
   "cell_type": "code",
   "execution_count": 73,
   "metadata": {},
   "outputs": [],
   "source": [
    "import numpy as np\n",
    "def hierachical(data, k, verbose = False):\n",
    "    \"\"\"Perform hierachical clustering to form `k` classes.\"\"\"\n",
    "    # first compute the distances of all points\n",
    "    # distance matrix\n",
    "    distances = []\n",
    "    for i in range(data.shape[0] - 1):\n",
    "        for j, d in enumerate(np.linalg.norm(data[i:i+1] - data[i+1:], axis = 1)):\n",
    "            distances.append((d, i, i+j+1))\n",
    "\n",
    "    distances = sorted(distances)\n",
    "    classes = np.arange(data.shape[0]).tolist()\n",
    "    class_number = data.shape[0]\n",
    "\n",
    "    def ufs(i):\n",
    "        if classes[i] == i: return i\n",
    "        classes[i] = ufs(classes[i])\n",
    "        return classes[i]\n",
    "\n",
    "    for d, i, j in distances:\n",
    "        if ufs(i) != ufs(j):\n",
    "            # merge two classes\n",
    "            classes[ufs(i)] = ufs(j)\n",
    "            class_number -= 1\n",
    "            if verbose:\n",
    "                print('Merging (%d, %d) Distance = %.4f'%(i, j, d))\n",
    "            if class_number <= k:\n",
    "                break\n",
    "\n",
    "    # final update\n",
    "    classes = [ufs(i) for i in range(data.shape[0])]\n",
    "    return np.array(classes)"
   ]
  },
  {
   "cell_type": "code",
   "execution_count": 77,
   "metadata": {},
   "outputs": [
    {
     "data": {
      "image/png": "[encoded data removed]",
      "text/plain": [
       "<Figure size 720x288 with 2 Axes>"
      ]
     },
     "metadata": {
      "needs_background": "light"
     },
     "output_type": "display_data"
    }
   ],
   "source": [
    "from matplotlib import pyplot as plt\n",
    "\n",
    "# generate data from Gaussian mixture model\n",
    "np.random.seed(2022)\n",
    "n, k = 50, 3     # number of samples and number of Gaussians\n",
    "gaussian_mean = np.array([[-1,2],[3,1],[-.5,-.5]], dtype = 'float')  # Gaussian parameters\n",
    "gaussian_vars = np.array([[1,1],[1,1],[1,1]]   , dtype = 'float') / 2.5\n",
    "\n",
    "real_classes = np.random.randint(3, size = n)\n",
    "data = np.random.randn(n, 2) * gaussian_vars[real_classes] + gaussian_mean[real_classes]\n",
    "\n",
    "# use hierachical clustering\n",
    "pred = hierachical(data, k = k, verbose = False)\n",
    "\n",
    "plt.figure(figsize =  (10, 4))\n",
    "for i, c, title in zip((1, 2), (real_classes, pred), ('Real Classes', 'Clustering')):\n",
    "    plt.subplot(1, 2, i)\n",
    "    plt.scatter(data.T[0], data.T[1], c = c)\n",
    "    plt.title(title)\n",
    "plt.show()"
   ]
  },
  {
   "attachments": {},
   "cell_type": "markdown",
   "metadata": {},
   "source": [
    "层次聚类很容易被噪声污染, 不好用.\n",
    "\n",
    "## K-Means\n",
    "\n",
    "选定 $K$ 个中心点, 将所有数据点分到最近的中心点所在的类, 形成 $K$ 类. 再根据每类的均值更新其对应的中心点. \n",
    "\n",
    "\n",
    "如此重复直到分类结果不再变化."
   ]
  },
  {
   "cell_type": "code",
   "execution_count": 80,
   "metadata": {},
   "outputs": [],
   "source": [
    "from tqdm import tqdm\n",
    "import numpy as np\n",
    "\n",
    "def KMeans(X, k, iter = 6, centers = None):\n",
    "    \"\"\"Apply K-means on `X` with shape (N, p) where `k` is number of classes.\"\"\"\n",
    "    if centers is None:\n",
    "        # equispaced initialization\n",
    "        centers = np.linspace(np.min(X, axis = 0), np.max(X, axis = 0), k + 2)[1:-1]\n",
    "\n",
    "    # tile X to shape (N, k, p), centers to shape (1, k, p)\n",
    "    X_ = np.tile(X.reshape((X.shape[0], 1, -1)), [1, k, 1])\n",
    "    centers = centers.reshape((1, k, -1))\n",
    "    for i in tqdm(range(iter)):\n",
    "        # classify to the nearest center\n",
    "        classes = np.argmin(np.linalg.norm(X_ - centers, axis = -1), axis = 1)\n",
    "\n",
    "        # update new centers\n",
    "        for c in range(k):\n",
    "            same = (classes == c).reshape((-1, 1))\n",
    "            centers[0, c] = (same * X).sum(axis = 0) / same.sum(axis = 0)\n",
    "    # print(centers)\n",
    "    return classes"
   ]
  },
  {
   "cell_type": "code",
   "execution_count": 85,
   "metadata": {},
   "outputs": [
    {
     "name": "stderr",
     "output_type": "stream",
     "text": [
      "100%|██████████| 6/6 [00:00<00:00, 1994.12it/s]\n"
     ]
    },
    {
     "data": {
      "image/png": "[encoded data removed]",
      "text/plain": [
       "<Figure size 720x288 with 2 Axes>"
      ]
     },
     "metadata": {
      "needs_background": "light"
     },
     "output_type": "display_data"
    }
   ],
   "source": [
    "from matplotlib import pyplot as plt\n",
    "\n",
    "# generate data from Gaussian mixture model\n",
    "np.random.seed(2022)\n",
    "n, k = 50, 3     # number of samples and number of Gaussians\n",
    "gaussian_mean = np.array([[-1,2],[3,1],[-.5,-.5]], dtype = 'float')  # Gaussian parameters\n",
    "gaussian_vars = np.array([[1,1],[1,1],[1,1]]   , dtype = 'float') \n",
    "\n",
    "real_classes = np.random.randint(3, size = n)\n",
    "data = np.random.randn(n, 2) * gaussian_vars[real_classes] + gaussian_mean[real_classes]\n",
    "\n",
    "# use K-Means\n",
    "pred = KMeans(data, k = k)\n",
    "\n",
    "plt.figure(figsize =  (10, 4))\n",
    "for i, c, title in zip((1, 2), (real_classes, pred), ('Real Classes', 'Clustering')):\n",
    "    plt.subplot(1, 2, i)\n",
    "    plt.scatter(data.T[0], data.T[1], c = c)\n",
    "    plt.title(title)\n",
    "plt.show()"
   ]
  },
  {
   "cell_type": "code",
   "execution_count": 81,
   "metadata": {},
   "outputs": [
    {
     "name": "stderr",
     "output_type": "stream",
     "text": [
      "100%|██████████| 6/6 [00:00<00:00, 1047.88it/s]"
     ]
    },
    {
     "name": "stdout",
     "output_type": "stream",
     "text": [
      "Accuracy of classification by K-means clustering = 89.33%\n"
     ]
    },
    {
     "name": "stderr",
     "output_type": "stream",
     "text": [
      "\n"
     ]
    }
   ],
   "source": [
    "from sklearn.datasets import load_iris\n",
    "data = load_iris()\n",
    "\n",
    "cluster_result = KMeans(data['data'], k = 3)\n",
    "\n",
    "acc = (data['target'] == cluster_result).mean()\n",
    "print('Accuracy of classification by K-means clustering = %.2f%%'%(acc * 100))"
   ]
  },
  {
   "attachments": {},
   "cell_type": "markdown",
   "metadata": {},
   "source": [
    "### 第二类斯特林数\n",
    "\n",
    "将 $n$ 个样本分为 $m$ 类的分法种数 (不计类的顺序和类内元素的顺序, 允许某类的元素个数为 0) 为第二类斯特林数:\n",
    "$$S(n,m) = \\frac{1}{m!}\\sum_{k=0}^m C_m^k (m - k)^n (-1)^k$$\n",
    "\n",
    "**证明** 对于 $n$ 的任何有序分拆 $n = n_1+\\dotsc+n_m,\\ n_i\\in\\mathbb N$, 对应的分法有 $\\frac{n!}{n_1!\\dotsm n_m!}$ 种, 因此 $m!S(n,m)$ (乘 $m!$ 是为了考虑类的顺序轮换) 是以下母函数的 $n$ 次方项系数\n",
    "$$n!\\left(1+\\frac{x}{1!}+\\frac{x^2}{2!}+\\dotsc\\right)^m = n!(e^x - 1)^m$$\n",
    "\n",
    "所以用留数定理得到:\n",
    "\n",
    "$$m!S(n,m) = \\frac{n!}{2\\pi i}\\int_{|z|=1}\\frac{(e^z - 1)^m}{z^{n+1}}dz\n",
    "=\\frac{n!}{2\\pi i}\\int_{|z|=1}\\sum_{k=0}^mC_m^k\\frac{e^{(m-k)z}(-1)^m}{z^{n+1}}dz\n",
    "=\\sum_{k=0}^m C_m^k{(m-k)^n(-1)^m}$$"
   ]
  }
 ],
 "metadata": {
  "kernelspec": {
   "display_name": "Python 3",
   "language": "python",
   "name": "python3"
  },
  "language_info": {
   "codemirror_mode": {
    "name": "ipython",
    "version": 3
   },
   "file_extension": ".py",
   "mimetype": "text/x-python",
   "name": "python",
   "nbconvert_exporter": "python",
   "pygments_lexer": "ipython3",
   "version": "3.8.4"
  },
  "orig_nbformat": 4,
  "vscode": {
   "interpreter": {
    "hash": "1120dc956da57eca5c948a0118f4cdcd4d1b3be98c72752ed298d16085a61d24"
   }
  }
 },
 "nbformat": 4,
 "nbformat_minor": 2
}
