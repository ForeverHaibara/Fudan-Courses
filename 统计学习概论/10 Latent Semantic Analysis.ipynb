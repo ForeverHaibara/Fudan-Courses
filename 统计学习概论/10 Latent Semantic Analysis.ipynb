{
 "cells": [
  {
   "attachments": {},
   "cell_type": "markdown",
   "metadata": {},
   "source": [
    "# 10 潜在语义分析\n",
    "\n",
    "潜在语义分析 (latent semantic analysis) 用于研究文本的语义信息.\n",
    "\n",
    "## 文本向量空间\n",
    "\n",
    "### 单词向量空间\n",
    "\n",
    "假设有 $n$ 条文本 $d_1,\\dotsc,d_n$ 与 $m$ 个单词 $w_1,\\dotsc,w_m$. 令 $X = [x_{ij}]\\in\\mathbb R^{n\\times m}$ 表示单词 $w_j$ 在文本 $d_i$ 中出现的频率或权重. 权重常用单词频率-文本逆频率 (term frequency-inverse document frequency, TF-IDF):\n",
    "$${\\rm TFIDF}(d_i,w_j)=\\frac{x_{ij}}{\\sum_{k}x_{ik}}\\log\\frac{n}{{\\rm df}_j}.$$\n",
    "\n",
    "其中 $x_{ij}$ 表示文本 $i$ 中单词 $j$ 出现的次数. ${\\rm df}_j$ 为包含单词 $j$ 的文本数.\n",
    "\n",
    "矩阵每行表示一条文本对应的向量, 其余弦相似度用以衡量文本相似度. 这就是单词向量模型 (word vector space model). \n",
    "\n",
    "缺点: 难以解决一词多义、语序等问题.\n",
    "\n",
    "\n",
    "### 话题向量空间\n",
    "\n",
    "假设有 $r$ 个话题与 $m$ 个单词, 对于每个话题 $t_l$, 每个单词在该话题上有一些权重 $t_l=[t_{l1},\\dotsc,t_{lm}]^T$, 形成话题向量. 这 $r$ 个话题向量张成线性空间. 每个文本近似为这些话题向量的线性组合, 形成文本-话题矩阵 $Y\\in\\mathbb R^{n\\times r}$.\n",
    "\n",
    "若文本-单词矩阵为 $X\\in\\mathbb R^{n\\times m}$, 文本-话题矩阵为 $Y\\in\\mathbb R^{n\\times r}$, 话题-单词矩阵为 $T\\in\\mathbb R^{r\\times m}$, 则不难看出\n",
    "$$X\\approx TY$$\n"
   ]
  },
  {
   "attachments": {},
   "cell_type": "markdown",
   "metadata": {},
   "source": [
    "## 非负矩阵分解\n",
    "\n",
    "考虑式子 $X \\approx TY$, 其中 $X\\in\\mathbb R^{n\\times m}$, $Y\\in\\mathbb R^{n\\times r}$, $T\\in\\mathbb R^{r\\times m}$. 若加入条件 $X,T,Y$ 所有元素均非负, 那么可以已知 $X$ 试图求出 $T,Y$. 由于 $T$, $Y$ 可以互相乘一对逆矩阵使得结果不变, 因此不妨假设 $T$ 每一列 / 行都是单位向量.\n",
    "\n",
    "### 平方损失\n",
    "\n",
    "根据 [Algorithms for Non-Negative Matrix Factorization](https://www.researchgate.net/publication/2538030_Algorithms_for_Non-negative_Matrix_Factorization), 求解问题 $\\min\\Vert X - WH\\Vert_F$ 可使用如下迭代:\n",
    "$$H \\leftarrow H\\odot (W^TX)\\oslash  (W^TWH)\\quad{\\rm and}\\quad W\\leftarrow W\\odot (X^TH)\\oslash (WHH^T).$$\n",
    "\n",
    "这里 $\\odot ,\\oslash$ 均为按元素乘除."
   ]
  }
 ],
 "metadata": {
  "kernelspec": {
   "display_name": "Python 3",
   "language": "python",
   "name": "python3"
  },
  "language_info": {
   "name": "python",
   "version": "3.8.4 (tags/v3.8.4:dfa645a, Jul 13 2020, 16:46:45) [MSC v.1924 64 bit (AMD64)]"
  },
  "orig_nbformat": 4,
  "vscode": {
   "interpreter": {
    "hash": "1120dc956da57eca5c948a0118f4cdcd4d1b3be98c72752ed298d16085a61d24"
   }
  }
 },
 "nbformat": 4,
 "nbformat_minor": 2
}
