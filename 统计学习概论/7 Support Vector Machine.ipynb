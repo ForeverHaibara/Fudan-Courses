{
 "cells": [
  {
   "cell_type": "markdown",
   "metadata": {},
   "source": [
    "# 7 支持向量机\n",
    "\n",
    "### 线性可分\n",
    "\n",
    "定义: 对于一组数据 $(x_i,y_i)\\in\\mathbb R^{p}\\times \\mathbb R\\ (i=1,\\dotsc,n)$, 若存在系数 $w\\in\\mathbb R^p, \\ b\\in\\mathbb R$ 使得\n",
    "$$y_i(w^Tx_i + b_i)>0\\quad (i=1,\\dotsc,n).$$\n",
    "\n",
    "那么称这组数据是线性可分的.\n",
    "\n",
    "\n",
    "<br>\n",
    "\n",
    "可以看出, 若该组数据是线性可分的, 则\n",
    "$$\\left\\{\\begin{aligned}y_i > 0,&\\quad 若\\  w^Tx_i+b>0\\\\ y_i < 0,&\\quad 若 \\ w^Tx_i+b<0\n",
    "\\end{aligned}\\right.$$\n",
    "\n",
    "也就是说, 可以用函数 $f(x) =w^Tx+b$ 对 $y$ 进行二分类. 这就是支持向量机 (support vector machine, SVM)."
   ]
  },
  {
   "cell_type": "markdown",
   "metadata": {},
   "source": [
    "## 间隔最大化\n",
    "\n",
    "若数据是可分的, 可以通过如下优化问题得到 $w,b$:\n",
    "$${\\rm argmax}_{w,b}\\left\\{\\min_{1\\leqslant i\\leqslant n} \\{y_i\\left(\\frac{w^T}{\\Vert w\\Vert}x_i + \\frac{b}{\\Vert w\\Vert}\\right)\\} \\right\\}\\quad\\quad\\quad (1)$$\n",
    "\n",
    "称为间隔最大化.\n",
    "\n",
    "### 凸优化\n",
    "\n",
    "**定理** 若数据是可分的, 通过下式 (2) 求得的 $w,b$ 是上面式子 (1) 的一个最大值点.\n",
    "\n",
    " 注意: $f(x) = w^Tx+b$ 中, 将 $w,b$ 同乘一个正数不改变预测结果 $f(x)$ 的正负号. 所以是等价的.\n",
    "\n",
    "$$\\min\\left\\{\\frac{1}{2}\\Vert w\\Vert^2:\\quad{\\rm s.t.}\\ y_i(w^Tx_i+b)\\geqslant 1 \\quad (i=1,\\dotsc,n)\\right\\}\\quad\\quad\\quad (2)$$\n",
    "\n",
    "**证明** 首先说明该式 (2) 存在且有唯一最小值: 由于数据可分, 存在 $w,b$ 使得 $y_i(w^Tx_i+b)>0$ 对所有 $i$ 成立, 因此可以将 $w,b$ 同乘一个倍数使得  $y_i(w^Tx_i+b)> 1$ 对所有 $i$ 成立. 因此式 (2) 条件的解集不为空集, 且它是凸优化且存在有限下界且满足 Slater 条件, 因此存在唯一最小值点.\n",
    "\n",
    "假设 (2) 最小值点是 $w,b$. 反证, 假设存在 $w',b'$ 使得 \n",
    "$$\\min_{1\\leqslant i\\leqslant n} \\{y_i\\left(\\frac{w'^T}{\\Vert w'\\Vert}x_i + \\frac{b'}{\\Vert w'\\Vert}\\right)\\}\n",
    ">\\min_{1\\leqslant i\\leqslant n} \\{y_i\\left(\\frac{w^T}{\\Vert w\\Vert}x_i + \\frac{b}{\\Vert w\\Vert}\\right)\\}\\geqslant \\frac{1}{\\Vert w\\Vert},\n",
    "$$\n",
    "设 $r=\\left( \\min_{1\\leqslant i\\leqslant n} \\{y_i\\left(\\frac{w'^T}{\\Vert w'\\Vert}x_i + \\frac{b'}{\\Vert w'\\Vert}\\right)\\}\\right)^{-1}$, 则 $r<\\Vert w\\Vert $. 那么取 $w'' = w'\\frac{r}{\\Vert w'\\Vert}$ 和 $b'' = b'\\frac{r}{\\Vert w''\\Vert}$, 则 $w'',b''$ 满足\n",
    "$$y_i(w''^Tx_i + b'') = y_i(w'^Tx_i + b')\\frac{r}{\\Vert w'\\Vert}= \\frac{y_i(w'^Tx_i + b')}{\\Vert w'\\Vert}\\cdot\\frac{1}{\\min_{1\\leqslant i\\leqslant n} \\{y_i\\left(\\frac{w'^T}{\\Vert w'\\Vert}x_i + \\frac{b'}{\\Vert w'\\Vert}\\right)\\}}\\geqslant 1,$$\n",
    "且 \n",
    "$$\\Vert w''\\Vert = r\\leqslant \\Vert w\\Vert\\quad\\Rightarrow\\quad \\frac 12\\Vert w''\\Vert^2\\leqslant \\frac 12\\Vert w\\Vert^2.$$\n",
    "\n",
    "说明 $(w'',b'')$ 能使 (2) 达到更小的值, 矛盾.\n",
    "\n",
    "\n",
    "### 拉格朗日对偶\n",
    "\n",
    "(2) 式可以通过拉格朗日对偶求解, $w =\\sum_{i=1}^n \\lambda_i y_i x_i $, 其中 $\\lambda_i$ 为下式的极小值点:\n",
    "$$\\inf_{\\lambda\\geqslant 0}\\left\\{\\frac 12\\sum_{i=1}^n \\sum_{j=1}^n \\lambda_i\\lambda_jy_iy_j\\langle x_i,x_j\\rangle -\\sum_{i=1}^n \\lambda_i\\quad{\\rm\\ s.t.\\ }  \\sum_{i=1}^n \\lambda_i y_i=0 \\right\\}$$\n",
    "\n",
    "**证明** 拉格朗日对偶为 \n",
    "$$\\begin{aligned}\\sup_{\\lambda\\geqslant 0}\\inf_{w,b}\\left\\{\\frac 12 \\Vert w\\Vert^2 -\\sum_{i=1}^n\\lambda_i (y_i(w^Tx_i + b) - 1)\\right\\}\n",
    "&=\\sup_{\\lambda\\geqslant 0}\\inf_w\\left\\{\\frac 12\\Vert w\\Vert^2 - w^T\\sum_{i=1}^n \\lambda_i y_i x_i+\\sum_{i=1}^n \\lambda_i \\quad{\\rm\\ s.t.\\ }  \\sum_{i=1}^n \\lambda_i y_i=0\\right\\}\n",
    "\\\\ &= \\sup_{\\lambda\\geqslant 0}\\left\\{-\\frac 12\\left\\Vert\\sum_{i=1}^n \\lambda_i y_i x_i\\right\\Vert^2 +\\sum_{i=1}^n \\lambda_i\\quad{\\rm\\ s.t.\\ }  \\sum_{i=1}^n \\lambda_i y_i=0 \\right\\}\n",
    "\\\\ &= \\inf_{\\lambda\\geqslant 0}\\left\\{\\frac 12\\sum_{i=1}^n \\sum_{j=1}^n \\lambda_i\\lambda_jy_iy_j\\langle x_i,x_j\\rangle -\\sum_{i=1}^n \\lambda_i\\quad{\\rm\\ s.t.\\ }  \\sum_{i=1}^n \\lambda_i y_i=0 \\right\\}\n",
    "\\end{aligned}$$"
   ]
  },
  {
   "cell_type": "markdown",
   "metadata": {},
   "source": [
    "## 核技巧\n",
    "\n",
    "如果数据 $(x_i,y_i)\\in\\mathbb R^p\\times \\mathbb R$ 线性不可分, 也可以先进行变换 $x_i\\mapsto z_i\\in\\mathbb R^q$, 变成新的数据 $(z_i,y_i)\\in\\mathbb R^q\\times \\mathbb R$, 也许新的数据就能线性可分了.\n",
    "\n",
    "设这个变换为 $\\phi(x) = z$. 定义该变换对应的核函数为:\n",
    "$$K(x_1,x_2) = \\phi(x_1)^T\\phi(x_2)\\quad\\quad x_1,x_2\\in\\mathbb R^p.$$"
   ]
  }
 ],
 "metadata": {
  "kernelspec": {
   "display_name": "Python 3.8.4 64-bit",
   "language": "python",
   "name": "python3"
  },
  "language_info": {
   "codemirror_mode": {
    "name": "ipython",
    "version": 3
   },
   "file_extension": ".py",
   "mimetype": "text/x-python",
   "name": "python",
   "nbconvert_exporter": "python",
   "pygments_lexer": "ipython3",
   "version": "3.8.4"
  },
  "orig_nbformat": 4,
  "vscode": {
   "interpreter": {
    "hash": "1120dc956da57eca5c948a0118f4cdcd4d1b3be98c72752ed298d16085a61d24"
   }
  }
 },
 "nbformat": 4,
 "nbformat_minor": 2
}
