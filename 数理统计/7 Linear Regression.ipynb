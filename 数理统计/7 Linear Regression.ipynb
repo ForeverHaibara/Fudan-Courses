{
 "cells": [
  {
   "cell_type": "markdown",
   "metadata": {},
   "source": [
    "# 7 Linear Regression\n",
    "\n",
    "Regression is a statistical technique to build up an explicit relationship between one dependent variable and regressors. For linear regression, it is \n",
    "$$y = \\beta_0 + \\beta_1 x_1 + \\dotsc +\\beta_p x_p +\\epsilon$$\n",
    "where $\\epsilon$ is the random noise and $\\mathbb E(\\epsilon) = 0$ and ${\\rm Var}(\\epsilon)=\\sigma^2$.\n",
    "\n",
    "\n",
    "### Matrix Form\n",
    "\n",
    "If we have mulitple observations $(y_i,x_{i1},\\dotsc,x_{ip})$, then we can write \n",
    "$$\\left[\\begin{matrix}y_1\\\\y_2\\\\\\vdots \\\\y_n\\end{matrix}\\right] \n",
    "=\\left[\\begin{matrix}1 & x_{11} & \\cdots & x_{1p} \\\\ 1 & x_{21} & \\cdots & x_{2p}\n",
    "\\\\\\vdots & \\vdots &\\ddots &\\vdots \\\\  1 & x_{n1} & \\cdots & x_{np}\n",
    "\\end{matrix}\\right]\n",
    "\\left[\\begin{matrix}\\beta_0\\\\\\beta_1\\\\\\vdots \\\\\\beta_p\\end{matrix}\\right]\n",
    "+\\left[\\begin{matrix}\\epsilon_1\\\\\\epsilon_2\\\\\\vdots \\\\\\epsilon_n\\end{matrix}\\right]$$\n",
    "\n",
    "Or, $y = X\\beta +\\epsilon$ in brief. In the following we assume that $\\epsilon_i$ are uncorrelated and each has distribution $N(0,\\sigma^2)$."
   ]
  },
  {
   "cell_type": "markdown",
   "metadata": {},
   "source": [
    "### Least Squares Estimator\n",
    "\n",
    "We find $\\beta$ such that $\\Vert y - X\\beta\\Vert $ is the minimum and it is well-known that $\\hat\\beta = X^{\\dag }y$."
   ]
  },
  {
   "cell_type": "code",
   "execution_count": null,
   "metadata": {
    "vscode": {
     "languageId": "r"
    }
   },
   "outputs": [],
   "source": []
  },
  {
   "cell_type": "code",
   "execution_count": null,
   "metadata": {
    "vscode": {
     "languageId": "r"
    }
   },
   "outputs": [],
   "source": []
  }
 ],
 "metadata": {
  "kernelspec": {
   "display_name": "R",
   "language": "R",
   "name": "ir"
  },
  "language_info": {
   "name": "R"
  },
  "orig_nbformat": 4
 },
 "nbformat": 4,
 "nbformat_minor": 2
}
