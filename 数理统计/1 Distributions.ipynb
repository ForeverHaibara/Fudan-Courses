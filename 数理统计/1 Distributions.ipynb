{
 "cells": [
  {
   "cell_type": "markdown",
   "metadata": {},
   "source": [
    "# 1 Distributions\n",
    "\n",
    "### Binom\n",
    "\n",
    "Discrete random variable equals to $0$ with probability $p$ while $1$ with probability  $1-p$. Repeat the trial for $n$ times and sum up the result to obtain $X$. Write\n",
    "$$X\\sim B(n,p).$$\n",
    "\n",
    "Properties.\n",
    "\n",
    "1. Mean: $\\mu = np$.\n",
    "2. Variance: $\\sigma^2 = np(1-p)$.\n",
    "3. PDF: $$P(X=k) = \\binom nkp^k(1-p)^{n-k}$$\n",
    "4. MGF: $$\\psi_X(t) = (pe^t+ 1-p)^n$$\n",
    "4. If $X\\sim B(n,p)$ and $Y\\sim B(m,p)$ are independent, $X+Y\\sim B(n+m,p)$."
   ]
  },
  {
   "cell_type": "code",
   "execution_count": 38,
   "metadata": {
    "vscode": {
     "languageId": "r"
    }
   },
   "outputs": [
    {
     "name": "stdout",
     "output_type": "stream",
     "text": [
      "Mean 1.9272 \n",
      "Var 1.526605\n",
      "np = 1.92 \n",
      "np(1-p) = 1.4592"
     ]
    },
    {
     "data": {
      "text/plain": [
       "x\n",
       "   0    1    2    3    4    5    6    7    8 \n",
       " 558 1444 1492  981  391  109   20    4    1 "
      ]
     },
     "metadata": {},
     "output_type": "display_data"
    }
   ],
   "source": [
    "repeats <- 5000; n <- 8; p <- 0.24;\n",
    "x <- rbinom(repeats, n, p)\n",
    "cat(\"Mean\", mean(x), \"\\nVar\", var(x))\n",
    "cat(\"\\nnp =\", n * p, \"\\nnp(1-p) =\", n * p * (1 - p))\n",
    "table(x)"
   ]
  },
  {
   "cell_type": "markdown",
   "metadata": {},
   "source": [
    "* pbinom (k, n, p):&nbsp;&nbsp; Return $P(X\\leqslant k)$ where $X\\sim B(n,p)$.\n",
    "* dbinom (x, n, p):&nbsp;&nbsp; Return $P(X=x)$ where $X\\sim B(n,p)$.\n",
    "* qbinom (q, n, p):&nbsp;&nbsp; Return $x$ such that $P(X\\leqslant x-1)< q\\leqslant P(X\\leqslant x)$ where $X\\sim B(n,p)$."
   ]
  },
  {
   "cell_type": "code",
   "execution_count": 66,
   "metadata": {
    "vscode": {
     "languageId": "r"
    }
   },
   "outputs": [
    {
     "name": "stdout",
     "output_type": "stream",
     "text": [
      "0.9987211 = 0.9987211 \n",
      "0.003859282 = 0.003859282 \n",
      "0.2375078 < 0.4 <= 0.4163708"
     ]
    }
   ],
   "source": [
    "n <- 20; p <- 0.3; k <- 12; x <- 12; q <- 0.4\n",
    "cat(pbinom(k, n, p), \"=\",\n",
    "        sum(choose(n, (0:k)) * p ^ (0:k) * (1 - p) ^ seq(n, n - k, -1)), \"\\n\")\n",
    "\n",
    "cat(dbinom(x, n, p), \"=\", choose(n, x) * p ^ x * (1 - p) ^ (n - x), \"\\n\")\n",
    "\n",
    "y <- qbinom(q, n, p)\n",
    "cat(pbinom(y - 1, n, p), \"<\", q, \"<=\", pbinom(y, n, p))\n"
   ]
  },
  {
   "cell_type": "markdown",
   "metadata": {},
   "source": [
    "### Geometric\n",
    "\n",
    "Discrete random variable $X\\in \\mathbb N$ represents the number of trials needed to get the first $X = 1$ in a Bernoulli trial $B(1,p)$. Write\n",
    "$$X\\sim {\\rm Geo}(p).$$\n",
    "\n",
    "Properties. \n",
    "\n",
    "1. Mean: $\\mu = \\frac 1p$\n",
    "2. Variance: $\\sigma^2 = \\frac {1}{p^2} - \\frac 1p$\n",
    "3. PDF: $$P(X = k) = (1-p)^{k-1}p$$\n",
    "4. MGF: $$\\psi_X(t) = \\frac{pe^t}{1-(1-p)e^t}$$"
   ]
  },
  {
   "cell_type": "markdown",
   "metadata": {},
   "source": [
    "### Possion\n",
    "\n",
    "Discrete random variable $X\\in \\mathbb N$. \n",
    "$$x\\sim {\\rm Possion}(\\lambda).$$\n",
    "\n",
    "Properties.\n",
    "1. Mean: $\\mu = \\lambda$\n",
    "2. Variance: $\\sigma^2 = \\lambda$\n",
    "3. PDF: $$P(X = k) = \\frac{\\lambda ^k}{k!}e^{-\\lambda}$$\n",
    "4. MGF: $$\\psi_X(t) = e^{\\lambda (e^t - 1)}$$"
   ]
  },
  {
   "cell_type": "markdown",
   "metadata": {},
   "source": [
    "### Gaussian\n",
    "\n",
    "Gaussian distribution, or normal distribution, has continuous random variable $X\\in \\mathbb R$.\n",
    "$$x\\sim N(\\mu, \\sigma^2).$$\n",
    "\n",
    "Properties:\n",
    "1. Mean: $\\mu = \\mu$\n",
    "2. Variance: $\\sigma^2 = \\sigma^2$\n",
    "3. PDF:\n",
    "   $$ P (X = x) = \\frac{1}{\\sqrt{2\\pi }|\\sigma|}e^{-(x-\\mu)^2/2\\sigma^2}$$\n",
    "4. MGF:\n",
    "$$\\psi_X(t) = e^{\\mu t + \\sigma^2t^2/2}$$\n",
    "\n",
    "Often one will denote by $\\Phi$ the CDF, i.e.\n",
    "$$\\Phi (t) = \\int_0^t \\frac{1}{\\sqrt{2\\pi }|\\sigma|}e^{-(x-\\mu)^2/2\\sigma^2}dx.$$"
   ]
  },
  {
   "cell_type": "markdown",
   "metadata": {},
   "source": [
    "### Gamma\n",
    "\n",
    "Gamma distribution has continous random variable $X$ over $\\mathbb R_+$.\n",
    "$$X\\sim {\\rm Gamma}(\\alpha, \\beta).$$\n",
    "\n",
    "Properties.\n",
    "1. Mean: $\\alpha\\beta$\n",
    "2. Variance: $\\alpha\\beta^2$\n",
    "3. PDF:\n",
    "$$P(X = x) = \\frac{1}{\\beta^\\alpha \\Gamma (\\alpha)}x^{\\alpha - 1}e^{-x/\\beta}\\quad\\quad (x>0)$$\n",
    "4. MGF:\n",
    "$$\\psi_X(t) = (1-\\beta t)^{-\\alpha}$$"
   ]
  },
  {
   "cell_type": "markdown",
   "metadata": {},
   "source": [
    "\n",
    "### Cauchy\n",
    "\n",
    "Gamma distribution has continous random variable $X$ over $\\mathbb R_+$.\n",
    "$$X\\sim {\\rm Cauchy}.$$\n",
    "\n",
    "Properties.\n",
    "1. Mean: Non-exist.\n",
    "2. Variance: $+\\infty$\n",
    "3. PDF:\n",
    "$$P(X = x) =  \\frac{1}{\\pi (1+x^2)}$$\n",
    "4. MGF:\n",
    "$$\\psi_X(t) = -\\frac{1}{\\pi t}\\cos \\frac 1t$$"
   ]
  },
  {
   "cell_type": "markdown",
   "metadata": {},
   "source": [
    "See more at the chapters \"Hypothesis Testing\" and \"(Honor) Multivariate Normal\"."
   ]
  },
  {
   "cell_type": "markdown",
   "metadata": {},
   "source": [
    "## Bivariate Distributions\n",
    "\n",
    "For random variable pair $(X,Y)$, their joint CDF is defined by\n",
    "$$F_{X,Y}(x,y) = P(X\\leqslant x, \\ Y\\leqslant y).$$\n",
    "\n",
    "Specially, \n",
    "$$F_X(x) = P(X\\leqslant x) = F_{X,Y}(x,+\\infty).$$\n",
    "\n",
    "#### Covariance and Correlation\n",
    "$${\\rm Cov}(X,Y) = \\mathbb E\\{(X - \\mathbb E(X))(Y - \\mathbb E(Y))\\} = \\mathbb E(XY) - \\mathbb E(X)\\mathbb E(Y)$$\n",
    "$${\\rm Corr}(X,Y) = {\\rm Cov(X,Y)}/\\sqrt{{\\rm Cov}(X,X)\\cdot {\\rm Cov}(Y,Y)}$$\n",
    "\n",
    "When ${\\rm Cov}(X,Y) = 0$, we call that $X,Y$ are uncorrelated. Particularly, when $X,Y$ are independent, it can be proved that \n",
    "${\\rm Cov}(X,Y) = 0$ and as a consequence $X,Y$ are uncorrelated. Note that uncorrelation does not always imply  independence on the other side. However, uncorrelation for multivariate normal distribution implies independence.\n",
    "\n",
    "#### Joint PDF\n",
    "\n",
    "If there exists function $f_{X,Y}$ such that for any $x,y$, \n",
    "$$F_{X,Y}(x,y) = \\int_{-\\infty}^y \\int_{-\\infty}^x f_{X,Y}(x,y)dxdy,$$\n",
    "then we call $f_{X,Y}$ is the joint PDF of the distribution.\n",
    "\n",
    "#### Marginal PDF\n",
    "\n",
    "One can deprive the marginal PDF of the distribution from joint PDF. It is the probability with regard to one random variable.\n",
    "$$f_{X}(x) = \\int_{-\\infty}^{+\\infty}  f_{X,Y}(x,y)dy$$\n",
    "$$f_{Y}(y) = \\int_{-\\infty}^{+\\infty}  f_{X,Y}(x,y)dx$$\n",
    "\n",
    "Particularly, if the marginal PDF exists, the distribution is independent iff $f(x,y) = f_X(x)f_Y(y)$."
   ]
  },
  {
   "cell_type": "markdown",
   "metadata": {},
   "source": [
    "### Conditional Distributions\n",
    "\n",
    "If $X,Y$ are not independent, the value of $X$ might impact the value of $Y$. If $X,Y$ are discrete, the conditional PDF is given by\n",
    "$$P(Y=y|X = x) = \\frac{P(Y = y,\\ X = x) }{ P(X = x)}.$$\n",
    "\n",
    "If $X,Y$ are both continuous, the conditional PDF is given by \n",
    "$$P(Y = y|X = x) = f_{Y|X}(Y = y|X = x) = \\frac{f_{X,Y}(Y = y,\\ X = x) }{ f_X(X = x)}.$$\n",
    "\n",
    "Given $x$, $P(Y| X = x)$ is a PDF.\n",
    "\n",
    "#### Expectance\n",
    "\n",
    "The expectance is a function of $x$ rather $y$. \n",
    "$$\\mathbb E(Y|X = x) = \\int yf_{Y|X}(Y = y|X = x)dy$$\n",
    "\n",
    "#### Variance\n",
    "The variance is a function of $x$ rather $y$. \n",
    "$${\\rm Var}(Y|X = x) = \\int (y - \\mathbb E(Y|X =x))^2f_{Y|X}(Y = y|X = x)dy$$"
   ]
  },
  {
   "cell_type": "markdown",
   "metadata": {},
   "source": [
    "## Multivariate Distributions\n",
    "\n",
    "Let $\\mathbf X = (X_1,\\dotsc, X_n)^T$ be a random vector with $n$ random variables. Its joint CDF is given by \n",
    "$$F(x_1,\\dotsc,x_n)\\stackrel{\\triangle}{=}P(X_1\\leqslant x_1,\\dotsc, X_n\\leqslant x_n).$$\n",
    "\n",
    "Continuous multivariate distributions might have joint CDF \n",
    "$$F(x_1,\\dotsc,x_n) = \\int_{-\\infty}^{x_n}\\dotsi \\int_{-\\infty}^{x_1}f(t_1,\\dotsc, t_k)dt_1\\dotsm dt_k.$$\n",
    "\n",
    "#### Expectance\n",
    "Its expectance is a column vector containing expectances of $X_i$.\n",
    "$$\\bm  \\mu = \\mathbb E(\\mathbf X ) = [\\mathbb E(X_1),\\dotsc,\\mathbb E(X_n)]^T$$\n",
    "\n",
    "#### Covariance Matrix\n",
    "Its covariance matrix $\\mathbb R^{n\\times n}$ has entries ${\\rm Cov}(X_i,X_j)$.\n",
    "$$\\mathbf \\Sigma = {\\rm Cov}(\\mathbf X) = [{\\rm Cov}(X_i,X_j)] = \\mathbb E[(\\mathbf X - \\mathbb E(\\mathbf X))(\\mathbf X - \\mathbb E(\\mathbf X))^T]$$\n",
    "\n",
    "Properties:\n",
    "1. $\\mathbf \\Sigma $ is symmetric and positive-semidefinite as a Gram matrix with generalized norm $\\langle X,Y\\rangle = {\\rm Cov}(X,Y)$.\n",
    "2. $\\mathbf \\Sigma = \\mathbb E(\\mathbf X\\mathbf X^T) - \\bm  \\mu\\bm \\mu^T$.\n",
    "3. ${\\rm Cov}(A\\mathbf X+b) = A{\\rm Cov}(\\mathbf X)A^T$.\n"
   ]
  },
  {
   "cell_type": "markdown",
   "metadata": {},
   "source": [
    "### Multivariate Normal Distributions\n",
    "\n",
    "A random vector $\\mathbf X\\in \\mathbb R^n$ with each entry follows a normal distribution.\n",
    "$$\\mathbf X\\sim N(\\bm \\mu,\\mathbf \\Sigma).$$\n",
    "\n",
    "Properties:\n",
    "1. Mean: $\\bm \\mu =\\bm   \\mu$.\n",
    "2. Covariance Matrix: $\\mathbf \\Sigma =\\mathbf  \\Sigma$.\n",
    "3. Joint PDF:\n",
    "$$f(\\mathbf x) = \\frac{1}{(2\\pi )^{\\frac n2}\\mathbf |\\Sigma| ^\\frac 12}\\exp\\{-\\frac12(\\mathbf x - \\bm  \\mu)^T\\mathbf \\Sigma ^{-1}(\\mathbf x -\\bm  \\mu)\\}$$"
   ]
  }
 ],
 "metadata": {
  "kernelspec": {
   "display_name": "R",
   "language": "R",
   "name": "ir"
  },
  "language_info": {
   "codemirror_mode": "r",
   "file_extension": ".r",
   "mimetype": "text/x-r-source",
   "name": "R",
   "pygments_lexer": "r",
   "version": "3.6.1"
  },
  "orig_nbformat": 4
 },
 "nbformat": 4,
 "nbformat_minor": 2
}
