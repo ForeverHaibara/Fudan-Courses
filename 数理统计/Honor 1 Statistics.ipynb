{
 "cells": [
  {
   "cell_type": "markdown",
   "metadata": {},
   "source": [
    "# Honor 1 Statistics"
   ]
  },
  {
   "cell_type": "markdown",
   "metadata": {},
   "source": [
    "## Order Statistics\n",
    "\n",
    "Given a random sample and we order them by $Y_{(1)}\\leqslant Y_{(2)}\\leqslant \\dotsc \\leqslant Y_{(n)}$. The r-th is $Y_{(r)}$. If the CDF of $Y$ is continuous, then $Y_{(r)}<Y_{(r+1)}$ holds almost surely. The probability of \n",
    "$Y_{(r)}\\in [y,y+dy)$ is given by\n",
    "$$\\mathbb P(Y_{(r)}\\in [y,y+dy)) = \\frac{n!}{(r-1)!1!(n-r)!}\\times F(y)^{r-1} \\times \\left(1 - F(y)\\right)^{n-r}\\times f(y)dy.$$\n",
    "\n",
    "### Beta Function \n",
    "\n",
    "When $Y\\sim U[0,1]$ is uniformly distributed. Then $Y_{(r)} = U_{(r)}$ has density\n",
    "$$f_{U_{(r)}}(u) = \\frac{n!}{(r-1)!(n-r)!}u^{r-1}(1-u)^{n-r}\\sim {\\rm Beta}(r,n-r+1).$$\n",
    "One can show that $\\mathbb E(U_{(r)}) = \\frac{r}{n+1}$.\n",
    "\n",
    "### General Random Generator\n",
    "\n",
    "Let $U_1,\\dotsc,U_n$ be a random sample from the standard uniform $U[0,1]$. One can verify that \n",
    "$F^{-1}(U_1),\\dotsc, F^{-1}(U_n)$ is a random sample from CDF $F$. Therefore, \n",
    "$$(Y_{(1)},\\dotsc,Y_{(n)}) \\stackrel{D}{=}(F^{-1}(U_{(1)}),\\dotsc,F^{-1}(U_{(n)})).$$\n",
    "\n",
    "### Moments Approximation\n",
    "\n",
    "Intuitively, \n",
    "$$\\mathbb E(Y_{(r)}) = \\mathbb E(F^{-1}(U_{(r)}))\\approx F^{-1}(\\mathbb E(U_{(r)}))\n",
    " = F^{-1}(\\frac{r}{n+1})$$\n",
    "\n",
    "\n",
    "### Asympototical Normality\n",
    "$$\\sqrt n \\frac{\\left(Y_{(r)} - F^{-1}(p)\\right)f(F^{-1}(P))}{\\sqrt{p(1-p)}}\\stackrel{d}{\\rightarrow }N(0,1)$$"
   ]
  }
 ],
 "metadata": {
  "kernelspec": {
   "display_name": "R",
   "language": "R",
   "name": "ir"
  },
  "language_info": {
   "codemirror_mode": "r",
   "file_extension": ".r",
   "mimetype": "text/x-r-source",
   "name": "R",
   "pygments_lexer": "r",
   "version": "3.6.1"
  },
  "orig_nbformat": 4
 },
 "nbformat": 4,
 "nbformat_minor": 2
}
