{
 "cells": [
  {
   "cell_type": "markdown",
   "metadata": {},
   "source": [
    "# 5 Longitudinal Data\n",
    "\n",
    "Consider the following scene:\n",
    "\n",
    "Suppose we are conducting some experiment and  have $N$ objects (subjects) indexed by $i=1,2,\\dotsc,N$. And we observe each subject $i$ at $n_i$ different time. We denote by $x_{ij}\\in \\mathbb R^p$  the observation of subject $i$ at time $j$. Combining them up for each $i$, we use $X_i\\in \\mathbb R^{n_i\\times p}$ to represent all the observations of subject $i$."
   ]
  },
  {
   "cell_type": "markdown",
   "metadata": {},
   "source": [
    "## ANCOVA\n",
    "\n",
    "We begin with a simple case where $n_i = 2$, meaning that there are only $2$ observations for each. For example, \n",
    "after time $1$ we introduce some intervention to the subjects, and we check at time $2$ whether the intervention is effective.\n",
    "\n",
    "### Paired T-Test \n",
    "\n",
    "It is easy to introduce a paired t-test, where we follow the hypotheses\n",
    "$$H_0:\\ \\mathbb E(x_{\\cdot 1} - x_{\\cdot 2}) = 0\\quad{\\rm and}\\quad H_1:\\ {\\rm otherwise}.$$\n",
    "\n",
    "### Change Score Analysis\n",
    "\n",
    "More detailedly, we may assume that there is a control group where we did not impose any intervention while a treatment group for experiment.\n",
    "\n",
    "We use the notation indicator $I_i = \\left\\{\\begin{array}{ll} 1 & i {\\rm \\ is\\ in\\ treatment\\ group,}\\\\ 0 & i{\\rm \\ is\\ in \\ control\\ group.}\\end{array}\\right.$."
   ]
  }
 ],
 "metadata": {
  "kernelspec": {
   "display_name": "R",
   "language": "R",
   "name": "ir"
  },
  "language_info": {
   "name": "R"
  },
  "orig_nbformat": 4
 },
 "nbformat": 4,
 "nbformat_minor": 2
}
