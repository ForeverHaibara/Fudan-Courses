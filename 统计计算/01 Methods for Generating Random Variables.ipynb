{
 "cells": [
  {
   "cell_type": "markdown",
   "metadata": {},
   "source": [
    "# 1 Methods for Generating Random Variables\n",
    "\n",
    "## Generating Random Variables\n",
    "\n",
    "### Linear Congruential Generator\n",
    "\n",
    "We can use a linear congruential generator (线性同余发生器) to generate random numbers. The linear congruential generator is defined by the recurrence relation\n",
    "\n",
    "$$x_{n+1} = (ax_n + c) \\mod m$$\n",
    "\n",
    "where $a$, $c$, and $m$ are integers. The modulus $m$ is usually a large prime number (i.e. $2^{31}-1$ is a prime). The seed $x_0$ is an integer between 0 and $m-1$.\n"
   ]
  },
  {
   "cell_type": "code",
   "execution_count": 54,
   "metadata": {},
   "outputs": [
    {
     "name": "stdout",
     "output_type": "stream",
     "text": [
      "0.08875480298360568\n",
      "0.734270822598725\n",
      "0.2712740382511514\n",
      "0.35774912515550344\n",
      "0.06940153058124778\n",
      "0.5976311031717952\n",
      "0.8111343182675235\n",
      "0.5257845989082868\n",
      "0.05639533654618791\n",
      "0.20051448009932157\n"
     ]
    }
   ],
   "source": [
    "from time import time\n",
    "class linear_congruential_generator():\n",
    "    a = 1103515245\n",
    "    m = 2147483647\n",
    "    c = 1234567890\n",
    "    seed_ = 1 # int(time() * 1000) % m\n",
    "    @classmethod\n",
    "    def seed(cls, seed__):\n",
    "        cls.seed_ = seed__\n",
    "\n",
    "    @classmethod\n",
    "    def random(cls):\n",
    "        cls.seed_ = (cls.a * cls.seed_ + cls.c) % cls.m\n",
    "        return cls.seed_ / cls.m\n",
    "\n",
    "for _ in range(10):\n",
    "    print(linear_congruential_generator.random())"
   ]
  },
  {
   "cell_type": "markdown",
   "metadata": {},
   "source": [
    "### Inverse Transform Method\n",
    "\n",
    "If $U\\sim U(0,1)$ is standard uniform, then $F^{-1}(U)$ is a random variable with distribution function $F$. This is called the inverse transform method. Here $F^{-1}(u) = \\inf\\{x: F(x)\\geqslant u\\}$.\n",
    "\n",
    "Mathematically,\n",
    "\n",
    "$$\\mathbb P(F^{-1}(U)\\leqslant  x) = \\mathbb P(U\\leqslant  F(x)) = F(x)$$"
   ]
  },
  {
   "cell_type": "code",
   "execution_count": 83,
   "metadata": {},
   "outputs": [
    {
     "data": {
      "image/png": "[encoded data removed]",
      "text/plain": [
       "<Figure size 432x288 with 1 Axes>"
      ]
     },
     "metadata": {
      "needs_background": "light"
     },
     "output_type": "display_data"
    }
   ],
   "source": [
    "import numpy as np\n",
    "def inverse_transform(invF, u):\n",
    "    return invF(u)\n",
    "\n",
    "def exponential_random_variable(lam):\n",
    "    # y = F(x) = 1 - exp(-lam * x)\n",
    "    # x = log(1 - y) / -lam\n",
    "    return inverse_transform(lambda u: -1 / lam * np.log(1 - u), linear_congruential_generator.random())\n",
    "\n",
    "# generate 1000 random variables\n",
    "lam = 1\n",
    "linear_congruential_generator.seed(1)\n",
    "random_variables = np.array([exponential_random_variable(lam) for _ in range(1000)])\n",
    "\n",
    "# plot the histogram and compare with the theoretical pdf\n",
    "from matplotlib import pyplot as plt\n",
    "plt.hist(random_variables, density=True, bins=50, color='lightblue')\n",
    "x = np.linspace(0, random_variables.max(), 100)\n",
    "plt.plot(x, lam * np.exp(-lam * x), color='red')\n",
    "plt.title('Exponential Distribution with $\\\\lambda = {}$'.format(lam))\n",
    "plt.show()"
   ]
  },
  {
   "cell_type": "markdown",
   "metadata": {},
   "source": [
    "However, sometimes it is difficult to compute $F$ and $F^{-1}$ (e.g. normal distribution) for the inverse transform method. In this case, we can use the following algorithm:\n",
    "\n",
    "\n",
    "### Acceptance-Rejection Method\n",
    "\n",
    "If for random variable $X$ with density $f$, we can find another random variable $Y$ with density $g$ such that $f(x)\\leqslant cg(x)$ for some constant $c$, then we can generate $X$ by the following steps:\n",
    "\n",
    "1. Generate a particular value $y$ from P.D.F. $g$.\n",
    "2. Generate a uniform random variable $u$ on $(0,1)$.\n",
    "3. If $u\\leqslant \\frac{f(y)}{cg(y)}$, then output $x=y$. Otherwise, go back to step 1 until it holds.\n",
    "\n",
    "This is called the acceptance-rejection method (舍选法).\n",
    "\n",
    "**Proof** Given arbitrary $x_0$, we have three cases in each loop: (i) accept $x\\leqslant x_0$, (ii) accept $x>x_0$, (iii) $y$ is rejected. Repeating the loop until (iii) does not happen, we have the relation that:\n",
    "\n",
    "$$\\frac{\\mathbb P(\\text{Finally accept } x\\leqslant x_0)}{\\mathbb P(\\text{Finally accept } x> x_0)}=\\frac{\\mathbb P(\\text{Case (i)})}{\\mathbb P(\\text{Case (ii)})}$$\n",
    "\n",
    "While in a single loop, we have\n",
    "\n",
    "$$\\mathbb P(\\text{Case (i)}) = \\mathbb P(y\\leqslant  x_0, \\ u \\leqslant  \\frac{f(y)}{cg(y)}) \n",
    "=\\int_{-\\infty}^{x_0} \\frac{f(y)}{cg(y)}\\cdot g(y)dy=\\frac1c\\mathbb P(X\\leqslant x_0).$$\n",
    "\n",
    "Similarly, $\\mathbb P(\\text{Case (ii)}) =\\frac1c \\mathbb P(X> x_0)$.\n",
    "\n",
    "Therefore, ${\\mathbb P(\\text{Finally accept } x\\leqslant x_0)} = \\mathbb P(X\\leqslant x_0)$ as desired."
   ]
  },
  {
   "cell_type": "code",
   "execution_count": 84,
   "metadata": {},
   "outputs": [
    {
     "data": {
      "image/png": "[encoded data removed]",
      "text/plain": [
       "<Figure size 432x288 with 1 Axes>"
      ]
     },
     "metadata": {
      "needs_background": "light"
     },
     "output_type": "display_data"
    }
   ],
   "source": [
    "def acceptance_rejection(f, g, invG, c):\n",
    "    while True:\n",
    "        y = inverse_transform(invG, linear_congruential_generator.random())\n",
    "        u = linear_congruential_generator.random()\n",
    "        if u < f(y) / (c * g(y)):\n",
    "            return y\n",
    "\n",
    "def normal_random_variable():\n",
    "    f = lambda x: np.exp(-x**2 / 2) / np.sqrt(2 * np.pi)\n",
    "    g = lambda x: 1 / np.pi / (1 + x**2) # something easy to compute G and invG\n",
    "    # G = lambda x: np.arctan(x) / np.pi + 0.5\n",
    "    invG = lambda u: np.tan(np.pi * (u - 0.5))\n",
    "\n",
    "    # f <= 1.6 * g\n",
    "    return acceptance_rejection(f, g, invG, 1.6)\n",
    "\n",
    "# generate 1000 random variables\n",
    "linear_congruential_generator.seed(1)\n",
    "random_variables = np.array([normal_random_variable() for _ in range(1000)])\n",
    "\n",
    "# plot the histogram and compare with the theoretical pdf\n",
    "from matplotlib import pyplot as plt\n",
    "plt.hist(random_variables, density=True, bins=50, color='lightblue')\n",
    "x = np.linspace(random_variables.min(), random_variables.max(), 100)\n",
    "plt.plot(x, np.exp(-x**2 / 2) / np.sqrt(2 * np.pi), color='red')\n",
    "plt.title('Normal Distribution')\n",
    "plt.show()"
   ]
  },
  {
   "cell_type": "markdown",
   "metadata": {},
   "source": [
    "## Transformations\n",
    "\n",
    "Some random variables can be generated by applying transformations.\n",
    "\n",
    "### Transformations\n",
    "\n",
    "These are some common transformations:\n",
    "\n",
    "1. If $Z\\sim N(0,1)$, then $X=\\mu+\\sigma Z\\sim N(\\mu,\\sigma^2)$.\n",
    "2. If $Z\\sim N(0,1)$, then $Z^2\\sim \\chi^2(1)$.\n",
    "3. If $U\\sim \\chi^2(m)$ and $V\\sim \\chi^2(n)$ are independent, then $F = \\frac{U/m}{V/n}\\sim F(m,n)$.\n",
    "4. If $Z\\sim N(0,1)$ and $U\\sim \\chi^2(m)$ are independent, then $T = \\frac{Z}{\\sqrt{U/m}}\\sim t(m)$.\n",
    "5. (Box Muller) If $U,V\\sim U(0,1)$ are independent, then $Z_1=\\sqrt{-2\\log U}\\cos(2\\pi V)$ and $Z_2=\\sqrt{-2\\log U}\\sin(2\\pi V)$ are independent $N(0,1)$.\n",
    "\n",
    "The first four are well-known from definition. We will prove the last one.\n",
    "\n",
    "**Proof** Attempting to use the Cramer-Wold device, for arbitrary $a,b\\in\\mathbb R$, the characteristic function of $aZ_1+bZ_2$ is\n",
    "\n",
    "$$\\begin{aligned}\\psi_{aZ_1+bZ_2}(t)& =\\mathbb E(e^{i(aZ_1+bZ_2)t}) = \\mathbb E(e^{i(a\\sqrt{-2\\log U}\\cos(2\\pi V)+b\\sqrt{-2\\log U}\\sin(2\\pi V))t})\n",
    "\\\\ &= \\int_0^1\\int_0^1 e^{i(a\\sqrt{-2\\log u}\\cos(2\\pi v)+b\\sqrt{-2\\log u}\\sin(2\\pi v))t}dvdu \n",
    "\\\\ &= \\int_0^1\\int_0^1 e^{it\\sqrt{-2(a^2+b^2)\\log u}\\sin(2\\pi v)}dvdu.\\end{aligned}$$\n",
    "\n",
    "Next we denote $w = t\\sqrt{a^2+b^2}$, and we take the transformation $u = e^{-\\frac 12 r^2}$, $v = \\frac{1}{2\\pi }\\theta$, then\n",
    "\n",
    "$$\\begin{aligned}\\psi_{aZ_1+bZ_2}(t)& =  \\frac{1}{2\\pi}\\int_0^{\\infty}\\int_0^{2\\pi}r e^{iwr\\sin\\theta - \\frac12r^2} d\\theta  dr\n",
    "\\\\ &= \\frac{1}{2\\pi}\\int_0^\\infty\\int_0^\\infty  e^{iwy - \\frac12(x^2+y^2)}dxdy\n",
    "\\\\ &= \\frac{1}{\\sqrt{2\\pi}}\\int_0^\\infty e^{iwy - \\frac12 y^2}dy=\\psi_{N(0,1)}(w) = e^{-\\frac12 t^2(a^2+b^2)}\n",
    ".\\end{aligned}$$\n",
    "\n",
    "<!-- Note that for $w\\in \\mathbb R$,\n",
    "\n",
    "$$\\begin{aligned}\\int_0^1 e^{iw\\sqrt{-2\\ln x}}dx & \\stackrel{x=e^{-t^2/2}}{=\\!=\\!=\\!=\\!=\\!=}\\int_{0}^\\infty te^{iwt-\\frac12 t^2}dt \n",
    " =e^{-\\frac12 w^2}\\int_{-wi}^{-wi+\\infty} (t+wi)e^{-\\frac12 t^2}dt \\\\ &\n",
    " = 1-iwe^{-\\frac12 w^2}\\left[\\sqrt{\\frac{\\pi}{2}}+\\int_0^{-wi}e^{-\\frac12 t^2}dt\\right]\n",
    "\\end{aligned}$$ -->"
   ]
  },
  {
   "cell_type": "code",
   "execution_count": 87,
   "metadata": {},
   "outputs": [
    {
     "data": {
      "image/png": "[encoded data removed]",
      "text/plain": [
       "<Figure size 432x288 with 1 Axes>"
      ]
     },
     "metadata": {
      "needs_background": "light"
     },
     "output_type": "display_data"
    }
   ],
   "source": [
    "def normal_random_variable2():\n",
    "    u, v = linear_congruential_generator.random(), linear_congruential_generator.random()\n",
    "    return np.sqrt(-2 * np.log(u)) * np.cos(2 * np.pi * v)\n",
    "\n",
    "# generate 10000 random variables\n",
    "linear_congruential_generator.seed(1)\n",
    "random_variables = np.array([normal_random_variable2() for _ in range(10000)])\n",
    "\n",
    "# plot the histogram and compare with the theoretical pdf\n",
    "from matplotlib import pyplot as plt\n",
    "plt.hist(random_variables, density=True, bins=50, color='lightblue')\n",
    "x = np.linspace(random_variables.min(), random_variables.max(), 100)\n",
    "plt.plot(x, np.exp(-x**2 / 2) / np.sqrt(2 * np.pi), color='red')\n",
    "plt.title('Normal Distribution 2')\n",
    "plt.show()"
   ]
  },
  {
   "cell_type": "markdown",
   "metadata": {},
   "source": [
    "### Summation\n",
    "\n",
    "Some random variables are the sum of multiple independent random variables. Gamma distribution $\\Gamma(\\alpha,\\beta)$ has following P.D.F.:\n",
    "\n",
    "$$f(x) = \\frac{\\beta^\\alpha}{\\Gamma(\\alpha)}x^{\\alpha-1}e^{-\\beta x}.$$\n",
    "\n",
    "Gamma distribution is additive: if $X\\sim \\Gamma(\\alpha_1,\\beta)$ and $Y\\sim \\Gamma(\\alpha_2,\\beta)$ are independent, then $X+Y\\sim \\Gamma(\\alpha_1+\\alpha_2,\\beta)$.\n",
    "\n",
    "Also, the exponential distribution is $\\text{Exp}(\\lambda) = \\Gamma (1,\\beta)$, and the chi-squared distribution is $\\chi^2(n) = \\Gamma(\\frac n2,\\frac12)$.\n",
    "\n",
    "### Mixture\n",
    "\n",
    "If we have the distribution of $X|Y$ and $Y$, then we call $X$ a mixture of $X|Y$ and $Y$. \n",
    "\n",
    "A special case is when $Y$ is discrete. Then we have\n",
    "\n",
    "$$\\mathbb P(X) = \\sum_{y\\in Y} \\mathbb P(X|Y=y)\\mathbb P(Y=y).$$\n",
    "\n",
    "For example, the Gaussian mixture model is a mixture of normal distributions.\n",
    "\n"
   ]
  },
  {
   "cell_type": "markdown",
   "metadata": {},
   "source": [
    "## Generating Random Vectors\n",
    "\n",
    "Data points can be high dimensional, in $\\mathbb R^d$. \n",
    "\n",
    "### Multivariate Normal Distribution\n",
    "\n",
    "For multivariate normal distribution $N(\\mu,\\Sigma)$, it can be generated by applying transformation on the standard multivariate normal $N(0,I)$.\n",
    "\n",
    "We can find some matrix $A$ such that $AA^T=\\Sigma$, then $Ax+\\mu$ will be $N(\\mu,\\Sigma)$ if $x$ is $N(0,I)$.\n",
    "\n",
    "Common ways to find $A$ include Cholesky decomposition, eigenvalue decomposition and singular value decomposition."
   ]
  },
  {
   "cell_type": "code",
   "execution_count": 2,
   "metadata": {},
   "outputs": [
    {
     "name": "stdout",
     "output_type": "stream",
     "text": [
      "Method: cholesky, time: 1.2295506000518799\n",
      "Method: eigen   , time: 1.015258550643921\n",
      "Method: svd     , time: 0.9494452476501465\n",
      "Method: eigh    , time: 0.9686329364776611\n"
     ]
    }
   ],
   "source": [
    "from time import time\n",
    "import numpy as np\n",
    "def cov(A):\n",
    "    return A @ A.T\n",
    "\n",
    "def multivariate_normal_distribution(n, mu, Sigma, method='cholesky'):\n",
    "    \"\"\"\n",
    "    Generate n samples from a multivariate normal distribution with mean mu and covariance matrix Sigma.\n",
    "    Method should be one of ['cholesky', 'eigen', 'svd', 'eigh']\n",
    "    \"\"\"\n",
    "    if method == 'cholesky':\n",
    "        A = np.linalg.cholesky(Sigma)\n",
    "    elif method == 'eigen':\n",
    "        eigs = np.linalg.eig(Sigma)\n",
    "        A = eigs[1] * np.sqrt(eigs[0]).reshape(1, -1)\n",
    "    elif method == 'svd':\n",
    "        eigs = np.linalg.svd(Sigma)\n",
    "        A = eigs[0] * np.sqrt(eigs[1]).reshape(1, -1)\n",
    "    elif method == 'eigh':\n",
    "        eigs = np.linalg.eigh(Sigma)\n",
    "        A = eigs[1] * np.sqrt(eigs[0]).reshape(1, -1)\n",
    "        \n",
    "    z = np.random.randn(mu.shape[0], n)\n",
    "    return mu.reshape(-1, 1) + A @ z\n",
    "\n",
    "def time_test(n = 1000, d = 50, times = 200, seed = 100, method = 'cholesky'):\n",
    "    np.random.seed(seed)\n",
    "    mu = np.random.randn(d)\n",
    "    start_time = time()\n",
    "    for _ in range(times):\n",
    "        Sigma = cov(np.random.randn(d,d))\n",
    "        gen = multivariate_normal_distribution(n, mu, Sigma)\n",
    "    end_time = time()\n",
    "    return end_time - start_time\n",
    "\n",
    "for method in ['cholesky', 'eigen   ', 'svd     ', 'eigh    ']:\n",
    "    # very slight difference?\n",
    "    print(f\"Method: {method}, time: {time_test(method=method.strip())}\")"
   ]
  },
  {
   "cell_type": "markdown",
   "metadata": {},
   "source": [
    "### Wishart Distribution\n",
    "\n",
    "If $X\\in\\mathbb R^{n\\times d}$ is a random matrix where each row is a sample from $N(0,\\Sigma)$, then we say $X^TX\\in \\mathbb R^{d\\times d}$ is a random matrix following [Wishart distribution](https://handwiki.org/wiki/Wishart_distribution) $W_d(n, \\Sigma)$.\n",
    "\n",
    "In particular when $d = 1$, $W_1(n, \\sigma^2) = \\sigma^2\\chi^2(n)$.\n",
    "\n",
    "\n",
    "However, it is slow to compute $X^TX\\in\\mathbb R^{d\\times d}$ when $n$ is large because we need to generate $X$ first, even though the size of $X^TX$ does not depend on $n$.\n",
    "\n",
    "#### Bartlett Decomposition\n",
    "\n",
    "Bartlett decomposition is a faster way to generate Wishart distribution $W_d(n, \\Sigma)$.\n",
    "\n",
    "Define $L\\in\\mathbb R^{d\\times d}$ by the following lower triangular matrix:\n",
    "\n",
    "$$L = \\left[\\begin{matrix}\\chi^2(n) & 0 & 0 & \\cdots & 0\\\\ N(0,1) & \\chi^2(n-1) & 0 &  \\cdots & 0\\\\ N(0,1) & N(0,1) & \\chi^2(n-2) & \\cdots & 0 \\\\  \\vdots & \\vdots & \\vdots & \\ddots & \\vdots\\\\ N(0,1) & N(0,1) & N(0,1) & \\cdots & \\chi^2(n-d+1)\\end{matrix}\\right]$$\n",
    "\n",
    "Here all entries are independent. Then $LL^T$ is a Wishart distribution $W_d(n, I_d)$."
   ]
  },
  {
   "cell_type": "code",
   "execution_count": null,
   "metadata": {},
   "outputs": [],
   "source": [
    "import numpy as np\n",
    "def wishart(n, Sigma):\n",
    "    d = Sigma.shape[0]\n",
    "    A = np.linalg.cholesky(Sigma)\n",
    "    L = np.tril(np.random.randn(d, d))\n",
    "    L.flat[::d+1] = np.random.chisquare(n - np.arange(d))\n",
    "    return A @ L @ L.T @ A.T"
   ]
  },
  {
   "cell_type": "markdown",
   "metadata": {},
   "source": [
    "### Uniform on a Sphere\n",
    "\n",
    "If $X_1,\\dotsc,X_d$ are independent $N(0,1)$, then $\\frac{X}{\\Vert X\\Vert}$ is uniformly distributed on the unit sphere where $X = [X_1,\\dotsc,X_d]^T$.\n"
   ]
  },
  {
   "cell_type": "code",
   "execution_count": 3,
   "metadata": {},
   "outputs": [
    {
     "data": {
      "image/png": "[encoded data removed]",
      "text/plain": [
       "<Figure size 432x288 with 1 Axes>"
      ]
     },
     "metadata": {
      "needs_background": "light"
     },
     "output_type": "display_data"
    }
   ],
   "source": [
    "import numpy as np\n",
    "from matplotlib import pyplot as plt\n",
    "\n",
    "def uniform_on_sphere(n, d):\n",
    "    z = np.random.randn(n, d)\n",
    "    z /= np.linalg.norm(z, axis=1, keepdims=True)\n",
    "    return z\n",
    "\n",
    "np.random.seed(0)\n",
    "z = uniform_on_sphere(n = 100, d = 2)\n",
    "[plt.scatter(z[:,0], z[:,1]), plt.axis('equal')]\n",
    "plt.show()"
   ]
  }
 ],
 "metadata": {
  "kernelspec": {
   "display_name": "Python 3",
   "language": "python",
   "name": "python3"
  },
  "language_info": {
   "codemirror_mode": {
    "name": "ipython",
    "version": 3
   },
   "file_extension": ".py",
   "mimetype": "text/x-python",
   "name": "python",
   "nbconvert_exporter": "python",
   "pygments_lexer": "ipython3",
   "version": "3.8.4"
  }
 },
 "nbformat": 4,
 "nbformat_minor": 2
}
