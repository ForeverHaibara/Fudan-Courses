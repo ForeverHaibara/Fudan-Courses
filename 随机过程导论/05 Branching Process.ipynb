{
 "cells": [
  {
   "cell_type": "markdown",
   "metadata": {},
   "source": [
    "# 05 Branching Process\n",
    "\n",
    "Branching process is a special case of Markov chain. \n",
    "\n",
    "Denote $\\xi_{ij}$ to be the number of offsprings from the $j$-th member of the $i$-th generation.\n",
    "\n",
    "Let $Z_n = \\sum_{j=1}^{Z_{n-1}} \\xi_{n-1,j}$ be the total number of offsprings in the $n$-th generation. Define $Z_0 = 1$. Then $Z_1 = \\xi_{01}$ is a single random variable.\n",
    "\n",
    "Now we suppose $\\xi_{ij}$ are i.i.d. from a distribution $\\xi$. Then $Z_1,Z_2,\\dotsc$ is called a branching process. Clearly it is a Markov chain because it is memoryless.\n",
    "\n",
    "## Generating Function\n",
    "\n",
    "Let $G(s) = \\mathbb{E}[s^\\xi]$ be the generating function of $\\xi$. Explicitly, $G(s) = \\sum_{k=0}^\\infty s^k \\mathbb{P}(\\xi = k)$.\n",
    "\n",
    "**Be careful!** Generating function is not moment generating function! Actually, $G(s) = \\psi(\\ln s)$.\n",
    "\n",
    "\n",
    "### Recurrsion\n",
    "\n",
    "**Theorem** The generating function of $Z_n\\ (n\\geqslant 2)$ has recurrsion $G_n(s) = G_{n-1}(G(s))$.\n",
    "\n",
    "**Proof** \n",
    "\n",
    "\n",
    "$$G_n(s)=\\mathbb E[s^{Z_n}]=\\mathbb E[s^{\\sum_{j=1}^{Z_{n-1}} \\xi_{n-1,j}}]= \\mathbb E_{Z_{n-1}}\\left\\{\\psi (s)^{Z_{n-1}}\\right\\}=\\sum_{k=0}^\\infty \\psi(s)^k \\mathbb{P}(Z_{n-1} = k)= G_{n-1}(G(s)).$$\n",
    "\n",
    "<br>\n",
    "\n",
    "**Theorem** Suppose $\\mathbb{E}[\\xi] = \\mu < \\infty$. Then $\\mathbb E(Z_n) = \\mu^n$.\n",
    "\n",
    "**Proof**\n",
    "\n",
    "$$\\mathbb E(Z_n) = G_n'(1) = G_{n-1}'(G(1))G'(1) = \\mu G_{n-1}'(1) = \\mu\\mathbb E(Z_{n-1}). $$\n",
    "\n",
    "Then $\\mathbb E(Z_n) = \\mu^n$ by induction."
   ]
  },
  {
   "cell_type": "markdown",
   "metadata": {},
   "source": [
    "## Extinction\n",
    "\n",
    "Define $\\tau= \\lim_{n\\rightarrow\\infty} \\mathbb P(Z_n = 0)$ be the probability of extinction. \n",
    "\n",
    "Note that $\\mathbb P(Z_n=0)$ must be non-decreasing because $Z_n=0\\Rightarrow Z_{n+1}=0$. Thus the sequence is convergent and $\\tau$ must exist and $0\\leqslant \\tau\\leqslant 1$.\n",
    "\n",
    "**Theorem** Denote $p_0 = \\mathbb P(\\xi = 0)$. Then $\\tau$ is given by the below argument.\n",
    "\n",
    "1. When $\\mu\\leqslant 1$, $\\tau = 1$.\n",
    "2. When $\\mu>1$ and $0<p_0<1$, then $\\tau$ is the unique root of $G(\\tau)=\\tau$ in $(0,1)$.\n",
    "3. When $\\mu>1$ and $p_0=0$, then $\\tau=0$.\n",
    "4. When $\\mu>1$ and $p_0=1$, then $\\tau=1$.\n",
    "\n",
    "**Proof**\n",
    "\n",
    "For the first, by Markov inequality, \n",
    "\n",
    "$$\\mathbb P(Z_n\\neq 0)= \\mathbb P(Z_n\\geqslant 1)\\leqslant \\mathbb E(Z_n) = \\mu^n\\rightarrow 0.$$\n",
    "\n",
    "<br>\n",
    "\n",
    "For the second, note that $\\tau = \\lim \\mathbb P(Z_n=0) = \\lim G_n(0)$, then it has equation $G_n(\\tau)=\\tau$. Now we will show the existence and the uniqueness of the root.\n",
    "\n",
    "Let $h(s) = G(s)-s$. Then $h''(s) \\geqslant 0$, $h'(1)=\\mu-1>0$ and $h'(0)=\\mathbb P(\\xi=1)-1<0$. Thus $h(s)$ first decreases and then increases over $(0,1)$. But $h(1)=0$ and $h(0)=p_0>0$. Thus there is a unique root in $(0,1)$.\n",
    "\n",
    "<br>\n",
    "\n",
    "For the third, one is easy to show $G_n(0)=0$ by induction. For the fourth, the extinction immediately happens."
   ]
  },
  {
   "cell_type": "code",
   "execution_count": 29,
   "metadata": {},
   "outputs": [
    {
     "name": "stdout",
     "output_type": "stream",
     "text": [
      "tau = 0.5\n"
     ]
    },
    {
     "data": {
      "image/png": "[encoded data removed]",
      "text/plain": [
       "<Figure size 432x489.6 with 1 Axes>"
      ]
     },
     "metadata": {
      "needs_background": "light"
     },
     "output_type": "display_data"
    }
   ],
   "source": [
    "from matplotlib import pyplot as plt\n",
    "import numpy as np\n",
    "\n",
    "def solve_fixed_point(g, x = .5):\n",
    "    # Solve the fixed point equation x = g(x) by iterating\n",
    "    x1, x = x, x + 1\n",
    "    while abs(x1-x) > 1e-8:\n",
    "        x1, x = g(x1), x1\n",
    "    return x1\n",
    "\n",
    "g = lambda s: 1/(3-2*s)\n",
    "tau = solve_fixed_point(g)\n",
    "print('tau =', tau)\n",
    "\n",
    "xaxis = np.linspace(0, 1, 100)\n",
    "plt.figure(figsize = (6, 6.8))\n",
    "plt.plot(xaxis, g(xaxis), label = 'g(x)')\n",
    "plt.plot(xaxis, xaxis, linestyle = '--')\n",
    "plt.plot(tau, tau, 'o', label = 'fixed point %.2f'%tau)\n",
    "[plt.legend(), plt.axis('equal'), plt.xlim(0, 1)]\n",
    "plt.show()"
   ]
  }
 ],
 "metadata": {
  "kernelspec": {
   "display_name": "Python 3",
   "language": "python",
   "name": "python3"
  },
  "language_info": {
   "codemirror_mode": {
    "name": "ipython",
    "version": 3
   },
   "file_extension": ".py",
   "mimetype": "text/x-python",
   "name": "python",
   "nbconvert_exporter": "python",
   "pygments_lexer": "ipython3",
   "version": "3.8.4"
  }
 },
 "nbformat": 4,
 "nbformat_minor": 2
}
