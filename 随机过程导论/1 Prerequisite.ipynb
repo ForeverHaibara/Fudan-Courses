{
 "cells": [
  {
   "cell_type": "markdown",
   "metadata": {},
   "source": [
    "# 1 Prerequisite\n",
    "\n",
    "## Central Limit Theorem\n",
    "\n",
    "### Levy-Feller Central Limit Theorem\n",
    "\n",
    "$X_n$ are i.i.d. and $\\mathbb E(X)=\\mu$ and ${\\rm Var}(X)=\\sigma^2<\\infty$. Then we have\n",
    "$$\\frac{S_n - n\\mu}{\\sigma\\sqrt{n}} \\xrightarrow{d} N(0,1).$$\n",
    "\n",
    "**Proof** Take standardization $X=\\mu+\\sigma Y$ with $Y$ has zero mean and unit variance. It suffices to prove $\\frac{\\sum_{i=1}^n Y_i}{\\sqrt n}\\xrightarrow{d} N(0,1)$. Using characteristic function. Let $\\phi_Y(t)$ be the characteristic function of $Y$.\n",
    "$$\\phi_{\\frac{\\sum_{j=1}^n Y_j}{\\sqrt n}}(t) = \\mathbb E\\exp\\left\\{it\\frac{\\sum_{j=1}^nY_j}{\\sqrt n}\\right\\}=\\phi_Y\\left(\\frac{t}{\\sqrt n}\\right)^n= \\left[1 - \\frac12\\left(\\frac{t}{\\sqrt n}\\right)^2 + o(n^{-1})\\right]^n\\rightarrow e^{-\\frac {t^2}{2}}=\\phi_{N(0,1)}(t).$$"
   ]
  },
  {
   "cell_type": "markdown",
   "metadata": {},
   "source": [
    "## Stochastic Process\n",
    "\n",
    "Stochastic process is a collection of random variables ordered by a subset real numbers.\n",
    "\n",
    "A concrete realization is called as sample path. State space is the set of all possible values of the random variables."
   ]
  }
 ],
 "metadata": {
  "language_info": {
   "name": "python"
  }
 },
 "nbformat": 4,
 "nbformat_minor": 2
}
