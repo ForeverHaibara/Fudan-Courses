{
 "cells": [
  {
   "attachments": {},
   "cell_type": "markdown",
   "metadata": {},
   "source": [
    "# 1 Time-to-event Data Analysis\n",
    "\n",
    "We want to predict the time to the occurence of a particular event. For example, when a patient will die from disease, when a patient will recover, etc.\n",
    "\n",
    "## Survival Data\n",
    "\n",
    "For example, the data \"when an electronic device will fail\" or \"when a patient will die\" are typical survival data.\n",
    "\n",
    "### Skewness\n",
    "\n",
    "Survival data are generally not symmetric, and tend to positively skewed. Thus we seldom use Gaussian distribution to model the data.\n",
    "\n",
    "### Censoring\n",
    "\n",
    "Censoring (删失) is a major concern in survival regression analysis. \n",
    "\n",
    "For example, we want to study how long can a patient survive after receiving a heart transplant. And we track the health states of some patients. However, some of the patients have not yet deceased when our study ends at time $C$, and we will not know when they will die (we only know that $T>C$). Then the data are censored.\n",
    "\n",
    "#### Right Censoring\n",
    "\n",
    "Right censoring underestimates the occurence time of event. \n",
    "\n",
    "For example, the study ends before the event occurs, or we fail to follow up the track of a subject.\n",
    "\n",
    "#### Left Censoring\n",
    "\n",
    "Left censoring misses the beginning time of experiment.\n",
    "\n",
    "For example, we want to find out when a man with bad lifestyle will get cancer. Suppose he sees a doctor once a year and he is diagnosed with cancer in the $T$-th year. Then he gets cancer in $(T-1)\\sim T$-th year.\n",
    "\n",
    "#### Independence\n",
    "\n",
    "Censoring is sometimes not independent with the time.\n",
    "\n",
    "For example, we are conducting a new treatment on patients and want to learn the time for patients to recover. But some patients quit the treatment before the study ends, leading to right censoring. This might be due to the chance that the patient is getting good, which is not independent with the time.\n",
    "\n",
    "<br>\n",
    "\n",
    "We will assume independent censoring in the following course."
   ]
  },
  {
   "attachments": {},
   "cell_type": "markdown",
   "metadata": {},
   "source": [
    "## Survival Function\n",
    "\n",
    "Let $T$ be the time of the event occurs, and it follows some distribution $\\mathbb P$. We assume the distribution is continuous. Define $S(t)$ by \n",
    "\n",
    "$$S(t) = 1 - \\mathbb P(T\\leqslant t)=\\mathbb P(T>t),$$\n",
    "\n",
    "which is the complement of C.D.F., and we call $S(t)$ the survival function.\n",
    "\n",
    "Clearly, $S$ is nonincreasing and $S(0)=1$ and $S(+\\infty)=0$.\n",
    "\n",
    "### Hazard Function\n",
    "\n",
    "Define the hazard function $\\lambda(t)$ by \n",
    "\n",
    "$$\\lambda(t) = \\lim_{h\\rightarrow 0}\\frac 1h\\mathbb P(t\\leqslant T<t+h|T\\geqslant t),$$\n",
    "\n",
    "which is the conditional probability density that the event occurs in the coming moment.\n",
    "\n",
    "\n",
    "**Theorem** $\\lambda(t)  = f(t)/S(t)= -\\frac{\\partial }{\\partial t}\\log S(t)$ where $f$ is the probability density function.\n",
    "\n",
    "<br>\n",
    "\n",
    "**Example** Exponential family has constant hazard, and is said to be \"memoryless\".\n",
    "\n",
    "**Proof** $S(t) = e^{-\\lambda t}$ and thus $\\lambda(t) = -\\frac{\\partial}{\\partial t}(-\\lambda t)=\\lambda$."
   ]
  },
  {
   "cell_type": "code",
   "execution_count": 7,
   "metadata": {},
   "outputs": [
    {
     "data": {
      "image/png": "[encoded data removed]",
      "text/plain": [
       "<Figure size 432x288 with 1 Axes>"
      ]
     },
     "metadata": {
      "needs_background": "light"
     },
     "output_type": "display_data"
    }
   ],
   "source": [
    "from matplotlib import pyplot as plt\n",
    "import numpy as np\n",
    "\n",
    "r = .5\n",
    "survival = np.exp(np.linspace(0, 10, 100) * (-r))\n",
    "plt.plot(survival)\n",
    "plt.legend(['$S = \\\\exp(-%.1ft)$'%r])\n",
    "plt.title('Survival Function of an Exponential Family')\n",
    "plt.show()"
   ]
  },
  {
   "attachments": {},
   "cell_type": "markdown",
   "metadata": {},
   "source": [
    "## Kaplan-Meier Estimation\n",
    "\n",
    "For example if we have observed $21$ pieces of survival data\n",
    "\n",
    "$$t = 6, 6, 6, 6, 7, 9, 10, 10, 11, 13, 16, 17, 19, 20, 22, 23, 25, 32, 32, 34, 35.$$\n",
    "\n",
    "Then we can estimate, for example, $\\hat S(9) =\\hat{ \\mathbb P}(t>9) = \\frac{15}{21}\\approx .7143$.\n",
    "\n",
    "<br>\n",
    "\n",
    "\n",
    "However, if we get censored data like following (with right-censored data marked with $\\cdot ^+$), things get different.\n",
    "\n",
    "$$t = 6^+, 6, 6, 6, 7, 9^+, 10^+, 10, 11^+, 13, 16, 17^+,19^+, 20^+, 22, 23, 25^+, 32^+, 32^+, 34^+, 35^+.$$\n",
    "\n",
    "\n",
    "This is because we do not know the true values of the censored data (but we know that they are no smaller than the observed values).\n",
    "\n",
    "### Kaplan-Meier Estimation\n",
    "\n",
    "[Kaplan-Meier (KM) method](https://handwiki.org/wiki/Kaplan%E2%80%93Meier_estimator) handles censored data by recurrsion. Assume all events all happen on integer timestamps, then\n",
    "\n",
    "$$\\hat{\\mathbb P}(T> t)=\\hat{\\mathbb P}(T> t-1)\\cdot \\hat{\\mathbb P}(T> t|T>  t-1)=\\hat{\\mathbb P}(T> t-1)\\cdot \\left[1 - \\hat{\\mathbb P}(T=t|T>t-1)\\right].$$\n",
    "\n",
    "This is a recurrsive formula, and we can also take the product to yield:\n",
    "\n",
    "$$\\hat S(t) = \\prod_{t_j<t}\\left[ 1 - \\frac{d_j}{r_j}\\right]$$\n",
    "\n",
    "where $d_j$ is the number of (uncensored) events at time $t_j$ while $r_j$ is the number of survivors $\\geqslant t_j$. The method is also known as the product-limit method.\n",
    "\n",
    "<br>\n",
    "\n",
    "For instance in the data above, we have \n",
    "\n",
    "$$\\hat{S}_{\\rm KM}(9)=\\left(1 - \\frac {3}{21}\\right)\\left(1 - \\frac {1}{17}\\right)\\left(1 - \\frac {0}{16}\\right)=\\frac{96}{119}\\approx .8067$$"
   ]
  },
  {
   "cell_type": "code",
   "execution_count": 56,
   "metadata": {},
   "outputs": [
    {
     "data": {
      "image/png": "[encoded data removed]",
      "text/plain": [
       "<Figure size 432x288 with 1 Axes>"
      ]
     },
     "metadata": {
      "needs_background": "light"
     },
     "output_type": "display_data"
    }
   ],
   "source": [
    "import numpy as np\n",
    "from matplotlib import pyplot as plt\n",
    "\n",
    "data = np.array([6, 6, 6, 6, 7, 9, 10, 10, 11, 13, 16, 17, 19, 20, 22, 23, 25, 32, 32, 34, 35])\n",
    "censor = np.array([1,0,0,0,0,1,1,0,1,0,0,1,1,1,0,0,1,1,1,1,1])\n",
    "\n",
    "def trivial(data, censor = None):\n",
    "    timeline = np.zeros(data.max() + 1)\n",
    "    for i in data:\n",
    "        timeline[:i] += 1  # add count to time <= i\n",
    "    return timeline / data.size\n",
    "\n",
    "def KM(data, censor):\n",
    "    timeline, prob = np.zeros(data.max() + 1), 1.\n",
    "    count_cs = np.unique(np.extract(1^censor, data), return_counts = True)\n",
    "    count_all = np.unique(data, return_counts = True)\n",
    "    t, r = 0, data.size\n",
    "    for v, d, c2 in zip(count_cs[0], count_cs[1], count_all[1]):\n",
    "        while v > t:\n",
    "            timeline[t] = prob\n",
    "            t += 1\n",
    "        prob *= 1 - d / r\n",
    "        r -= c2 # move on to the next timestamp\n",
    "    timeline[t:] = prob\n",
    "    return timeline\n",
    "\n",
    "plt.plot(trivial(data))\n",
    "plt.plot(KM(data, censor))\n",
    "plt.legend(['Trivial', 'KM'])\n",
    "plt.title('Estimated Survival Function')\n",
    "plt.show()"
   ]
  },
  {
   "attachments": {},
   "cell_type": "markdown",
   "metadata": {},
   "source": [
    "### Greenwoods' Formula\n",
    "\n",
    "Greenwoods formula estimates the variance of the KM estimator. It suggests that \n",
    "\n",
    "$${\\rm Var}(\\hat S(t)) \\approx [\\hat S(t)]^2 \\sum_{t_j\\leqslant t}\\frac{d_j}{(r_j -d_j)r_j}$$\n",
    "\n",
    "\n",
    "where $d_j$ is the number of (uncensored) events at time $t_j$ while $r_j$ is the number of survivors $\\geqslant t_j$. \n",
    "\n",
    "**Proof** We use the following lemma:\n",
    "\n",
    "* Lemma: (Delta method) if $a_n(X_n - \\mu)\\rightarrow_d N(0,\\sigma^2)$ and $a_n>0$ and $a_n\\rightarrow \\infty$. Then $a_n[g(X_n) - g(\\mu)]\\rightarrow_d N(0,g'(\\mu)^2\\sigma^2)$ if $g$ is differentiable at $\\mu$.\n",
    "\n",
    "Back to the main problem, first we compute the asymptotic property of $\\log \\hat S(t)$.\n",
    "\n",
    "$$\\log \\hat S(t) = \\sum_{t_j\\leqslant t}\\log \\left[1 - \\frac{d_j}{r_j}\\right].$$\n",
    "\n",
    "Note that $d_j$ approximately follows a binomial distribution $B(d_j,p)$ with $\\hat p = \\frac{d_j}{r_j}$. If we **assume** that $d_j/r_j$ are (asymptotically / approximately) independent, then\n",
    "\n",
    "$$ {\\rm Var}(\\log \\hat S(t)) \\approx  \\sum_{t_j\\leqslant t}{\\rm Var}\\left\\{\\log \\left[1 - \\frac{d_j}{r_j}\\right]\\right\\}.$$\n",
    "\n",
    "When $d_j\\rightarrow\\infty$, $\\sqrt {\\frac{r_j}{p(1-p)}}(\\frac{d_j}{r_j} -p)\\rightarrow_d N(0,1)$ and  the lemma tells us that $\\sqrt {\\frac{r_j}{p(1-p)}}(\\log (1 - \\frac{d_j}{r_j})) \\rightarrow_d N(0,\\frac{1}{(1-p)^2})$. Therefore, \n",
    "\n",
    "$${\\rm Var}\\left[\\log (1 - \\frac{r_j}{d_j})\\right] = \\frac{p}{(1-p)\\cdot r_j}\\approx \\frac{\\hat p}{(1 - \\hat p)r_j} = \\frac{d_j}{(r_j - d_j)r_j}.$$\n",
    "\n",
    "Finally, applying the lemma on $\\log \\hat S(t)$ (just assume it is right) claims that \n",
    "\n",
    "$${\\rm Var}\\left[\\log\\hat  S(t)\\right]\\approx \\frac{1}{ [\\hat S(t)]^2} {\\rm Var}(\\hat S(t)),$$\n",
    "\n",
    "leading to the desired result."
   ]
  },
  {
   "attachments": {},
   "cell_type": "markdown",
   "metadata": {},
   "source": [
    "### Log-log Approach\n",
    "\n",
    "We can give an approximate confidence bound for $S(t)$ by $\\hat S(t)\\pm z_{1-\\frac  \\alpha 2}\\sqrt{\\widehat{\\rm Var}(\\hat S(t))}$. However, it is sometimes not good because the bound might exceed $[0,1]$ while we know for sure that $S(t)\\in [0,1]$.\n",
    "\n",
    "Instead we can first give an confidence bound for $L(t)=\\log(-\\log S(t))\\in (-\\infty, \\infty)$ and then transform it back: $S(t) = \\exp (-\\exp(L(t)))\\in (0,1)$. This is the log-log approach. Concretely,\n",
    "\n",
    "**Theorem** Using the Delta method on $\\log \\hat S(t)$ we yield\n",
    "\n",
    "$${\\rm Var}(\\hat L(t))\\approx \\frac{1}{[\\log \\hat S(t)]^2}\\sum_{t_j\\leqslant t} \\frac{d_j}{(r_j - d_j) r_j}$$\n",
    "\n",
    "and, if $L(t)\\in (\\hat L(t) - A,\\hat L(t)+A)$ is a confidence bound for $L$, then the confidence bound for $S$ should be\n",
    "\n",
    "$$S(t) \\in \\left( [\\hat S(t)]^{e^A}, [\\hat S(t)]^{e^{-A}}\\right)$$"
   ]
  },
  {
   "cell_type": "code",
   "execution_count": 1,
   "metadata": {},
   "outputs": [
    {
     "data": {
      "image/png": "[encoded data removed]",
      "text/plain": [
       "<Figure size 432x288 with 1 Axes>"
      ]
     },
     "metadata": {
      "needs_background": "light"
     },
     "output_type": "display_data"
    }
   ],
   "source": [
    "import numpy as np\n",
    "from matplotlib import pyplot as plt\n",
    "\n",
    "data = np.array([6, 6, 6, 6, 7, 9, 10, 10, 11, 13, 16, 17, 19, 20, 22, 23, 25, 32, 32, 34, 35])\n",
    "censor = np.array([1,0,0,0,0,1,1,0,1,0,0,1,1,1,0,0,1,1,1,1,1])\n",
    "\n",
    "def KM_bound(data, censor, zz = 2.):\n",
    "    \"\"\"\n",
    "    Parameters\n",
    "    -------\n",
    "    data  : numpy integer array, shape (n,), the survival data\n",
    "    censor: numpy bool array, shape (n,), indicating whether a datum is censored\n",
    "    zz    : half bandwidth of std, defaults to +- 2 std\n",
    "    \"\"\"\n",
    "    timeline, prob = np.zeros(data.max() + 1), 1.\n",
    "    bound1, bound2 = timeline.copy(), timeline.copy()\n",
    "    count_cs = np.unique(np.extract(1^censor, data), return_counts = True)\n",
    "    count_all = np.unique(data, return_counts = True)\n",
    "    t, r, s, bd1, bd2 = 0, data.size, 0, 1, 1\n",
    "    for v, d, c2 in zip(count_cs[0], count_cs[1], count_all[1]):\n",
    "        while v > t:\n",
    "            timeline[t] = prob\n",
    "            bound1[t], bound2[t] = bd1, bd2\n",
    "            t += 1\n",
    "        prob *= 1 - d / r\n",
    "        s += d / (r - d) / r # accumulation\n",
    "        standard_error = np.sqrt(s / np.log(prob)**2)\n",
    "        bd1, bd2 = prob ** np.exp(standard_error*zz), prob ** np.exp(-standard_error*zz)\n",
    "        r -= c2 # move on to the next timestamp\n",
    "    timeline[t:] = prob\n",
    "    bound1[t:], bound2[t:] = bd1, bd2\n",
    "    return timeline, bound1, bound2\n",
    "\n",
    "[plt.plot(y, color) for y, color in zip(KM_bound(data, censor),('r','b--','b--'))]\n",
    "plt.title('95% confidence for survival function')\n",
    "plt.show()"
   ]
  },
  {
   "attachments": {},
   "cell_type": "markdown",
   "metadata": {},
   "source": [
    "### Nelson-Aalen Estimator\n",
    "\n",
    "There are other estimators for the survival function besides the KM estimator. For example, the [Nelson-Aalen estimator](https://handwiki.org/wiki/Nelson%E2%80%93Aalen_estimator).\n",
    "\n",
    "$$-\\log S(t)\\approx \\sum_{t_j\\leqslant t}\\frac{d_j}{r_j}$$\n",
    "\n",
    "where $d_j$ is the number of (uncensored) events at time $t_j$ while $r_j$ is the number of survivors $\\geqslant t_j$. "
   ]
  },
  {
   "attachments": {},
   "cell_type": "markdown",
   "metadata": {},
   "source": [
    "## Logrank Test\n",
    "\n",
    "Logrank test is a hypothesis testing to compare whether two survival functions have significant difference. For example we want to test whether a new treatment has an impact on the survival time. It is also called the Cox-Mantel test.\n",
    "\n",
    "At each timestamp when the event happens, we construct a $2\\times 2$ contigency table to conduct the chi-squared test. Suppose the timestamp is $t_1<\\dotsc<t_K$, for $1\\leqslant j\\leqslant K$ we count the number of occurring events in two collections of survival data at time $t_j$ and have the following table:\n",
    "\n",
    "|Index|Occurs at $t_j$|Survivors till $t_j$|Total|\n",
    "|---|---|---|---|\n",
    "|$0$|$d_{0j}$|$r_{0j}-d_{0j}$|$r_{0j}$|\n",
    "|$1$|$d_{1j}$|$r_{1j}-d_{1j}$|$r_{1j}$|\n",
    "|Total|$d_{ j}$|$r_{ j}-d_{ j}$|$r_{j}$|\n",
    "\n",
    "Assuming $H_0$: two survival functions are identical, then the test statistic is then given by \n",
    "\n",
    "$$\\chi_{\\rm logrank}^2 = \\frac{[\\sum_{j=1}^K(d_{0j} - \\frac{r_{0j}}{r_j}d_j)]^2}{\\sum_{j=1}^K \\frac{r_{0j}r_{1j}d_j(r_j - d_j)}{r_j^2(r_j - 1)}}\\sim \\chi_1^2.$$\n",
    "\n",
    "\n",
    "Note: the test statistic is symmetric with respect to the index $0$ and $1$ since $d_{0j} - \\frac{r_{0j}}{r_j}d_j= -(d_{1j} - \\frac{r_{1j}}{r_j}d_j)$.\n",
    "\n",
    "\n",
    "### Test for Trend\n",
    "\n",
    "For test for multiple survival functions, e.g. how different age groups impact on the survival data, we should take the impact of trend into consideration."
   ]
  }
 ],
 "metadata": {
  "kernelspec": {
   "display_name": "Python 3",
   "language": "python",
   "name": "python3"
  },
  "language_info": {
   "codemirror_mode": {
    "name": "ipython",
    "version": 3
   },
   "file_extension": ".py",
   "mimetype": "text/x-python",
   "name": "python",
   "nbconvert_exporter": "python",
   "pygments_lexer": "ipython3",
   "version": "3.8.4"
  },
  "orig_nbformat": 4,
  "vscode": {
   "interpreter": {
    "hash": "1120dc956da57eca5c948a0118f4cdcd4d1b3be98c72752ed298d16085a61d24"
   }
  }
 },
 "nbformat": 4,
 "nbformat_minor": 2
}
