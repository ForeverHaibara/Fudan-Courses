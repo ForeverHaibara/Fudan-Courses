{
 "cells": [
  {
   "cell_type": "markdown",
   "metadata": {},
   "source": [
    "# 5 Autoregressive Integrated Moving Average (ARIMA)\n",
    "\n",
    "ARIMA, known as autoregressive integrated moving average models, is the combination of two time series models -\n",
    "autoregressive models (AR) and moving average models (MA).\n",
    "\n",
    "## Autoregressive Models (AR)\n",
    "\n",
    "Current values in autoregressive models can be predicted by past values, which is in the general form of \n",
    "$$x_t = f(x_{t-1},x_{t-2},\\dotsc, w_t)$$\n",
    "For example, an additive noise model is given by \n",
    "$$x_t = f(x_{t-1},x_{t-2},\\dotsc) + w_t$$\n",
    "\n",
    "<br>\n",
    "\n",
    "**Definition**. (Autoregressive models of order $p$) A zero-mean **stationary** process $x_t\\sim {\\rm AR}(p)$ when it admits \n",
    "$$x_t = \\phi_1 x_{t-1}+\\phi_2 x_{t-2}+\\dotsc + \\phi_p x_{t-p}+w_t$$\n",
    "where $w_t\\sim {\\rm WN}(0,\\sigma_w^2)$ and $\\phi_i$ are constants. ($\\phi_p \\neq 0$)\n",
    "\n",
    "In general, if the mean of a stationary process $x_t$ is $\\mu \\neq 0$, one can filter out the mean value and \n",
    "construct an AR model by \n",
    "$$x_t - \\mu = \\phi_1(x_{t-1} - \\mu) + \\phi_2(x_{t-2} - \\mu) + \\dotsc + \\phi_p(x_{t-p} - \\mu) + w_t$$\n",
    "which is equivalent to, if we denote by $\\alpha = \\mu (1 - \\phi_1 - \\phi_2 - \\dotsc - \\phi_p)$, \n",
    "$$x_t = \\alpha + \\phi_1x_{t-1} + \\phi_2 x_{t-2} + \\dotsc + \\phi_p x_{t-p} + w_t.$$\n",
    "\n",
    "<br>\n",
    "\n",
    "More generally if $x_t$ is not stationary but admits the equation above, we call $x_t$ admits the autoregressive equation. \n",
    "\n",
    "### Autoregressive Operator\n",
    "\n",
    "Recall the backshift operator $B$ that $B(x_t) = x_{t-1}$. We define the autoregressive operator as\n",
    "$$\\phi (B) = 1 - \\phi_1B - \\phi_2B^2 - \\dotsc - \\phi_pB^p$$\n",
    "\n",
    "Then one can rewrite the autoregressive equation above by\n",
    "$$\\phi(B)x_t = w_t$$\n",
    "\n",
    "### AR(1)\n",
    "\n",
    "${\\rm AR}(1)$ stands for the autoregressive models with order $1$, which is \n",
    "$$x_t = \\phi x_{t-1} + w_t$$\n",
    "\n",
    "There are two main cases for $\\phi$, as analyzed below. \n",
    "\n",
    "#### Causal\n",
    "\n",
    "When $|\\phi| < 1$, the ${\\rm AR}(1)$ is called causal. The sufficient and necessary condition for stationarity of the ${\\rm AR}(1)$ model is precisely $|\\phi|<1$. And the regressive equation has a unique stationary solution in the form of \n",
    "$$x_t = \\sum_{j=0}^{\\infty} \\phi_j w_{t-j}.\n",
    "$$\n",
    "\n",
    "Proof. If the model is stationary, then we can the variance of both sides and yield\n",
    "$${\\rm Var}(x_t) = \\phi^2 {\\rm Var}(x_{t-1}) + \\sigma_w^2.$$\n",
    "The stationarity has guaranteed that ${\\rm Var}(x_t) = {\\rm Var}(x_{t-1})$ so that \n",
    "$\\sigma_w^2 = (1 - \\phi^2)\\gamma (0)$ and $|\\phi|<1$.\n",
    "\n",
    "On the other hand, if $|\\phi | <1$ , one can represent the ${\\rm AR}(1)$ model by \n",
    "$$x_t = \\phi x_{t-1} + w_t = \\phi^2 x_{t-2} + \\phi w_{t-1} + w_t = \\dotsc\n",
    "=\\sum_{j=0}^{\\infty} \\phi^j w_{t-j}.\n",
    "$$\n",
    "And thus we can compute its autocovariance by \n",
    "$$\\gamma(h) = {\\rm Cov}(x_{t+h},x_t) = {\\rm Cov}\\left(\\sum_{j=-\\infty}^{t} \\phi^{t-j} w_{j}\n",
    ",\\sum_{j=-\\infty}^{t+h} \\phi^{t+h-j} w_{j}\\right)\n",
    "=\\sigma_w^2 \\sum_{j=-\\infty}^{t} \\phi^{t-j}\\phi^{t+h-j} =\\frac{\\sigma_w^2 \\phi^h}{1-\\phi^2}\n",
    ",$$\n",
    "which is independent on $t$. Hence the series is stationary.\n",
    "\n",
    "<br>\n",
    "\n",
    "Finally we will prove that the stationary solution is unique.\n",
    "\n",
    "Assume $\\{y_t\\}$ is a stationary solution and we shift back finite times to obtain\n",
    "$$y_t = \\phi^k y_{t-  k} + \\sum_{j=0}^{k -1}\\phi^j w_{t-j}$$\n",
    "\n",
    "Yet both the mean and the variance of $y_{t-k}$ are bounded and $\\phi^{2k}\\rightarrow 0$, we learn that\n",
    "$$\\sum_{j=0}^{k-1}\\phi^j w_{t-j}\\stackrel{\\mathbb P}{\\longrightarrow }y_t$$\n",
    "\n",
    "\n",
    "<br>\n",
    "\n",
    "We shall note that\n",
    "$$\\gamma(h) =\\frac{\\sigma_w^2 \\phi^{|h|}}{1-\\phi^2},\\quad \\rho(h) =\\phi^{|h|}$$"
   ]
  },
  {
   "cell_type": "code",
   "execution_count": 2,
   "metadata": {},
   "outputs": [
    {
     "data": {
      "image/png": "[encoded data removed]",
      "text/plain": [
       "Plot with title \"AR(1) ~ ~~phi == -0.9\""
      ]
     },
     "metadata": {},
     "output_type": "display_data"
    }
   ],
   "source": [
    "library(astsa)\n",
    "par(mfrow = c(2,1))\n",
    "tsplot(arima.sim(list(order=c(1,0,0), ar=.9), n = 100), ylab = 'x', main = (expression(AR(1)~~~phi==+.9)))\n",
    "tsplot(arima.sim(list(order=c(1,0,0), ar=-.9), n = 100), ylab = 'x', main = (expression(AR(1)~~~phi==-.9)))"
   ]
  },
  {
   "cell_type": "markdown",
   "metadata": {},
   "source": [
    "#### Explosive\n",
    "\n",
    "When $|\\phi|>1$, the ${\\rm AR}(1)$ model is called explosive. One can literally rewrite the autoregressive equation as \n",
    "$$x_t = \\phi^{-1}x_{t+1} - \\phi^{-1}w_{t+1}$$\n",
    "\n",
    "Then $|\\phi^{-1}|<1$ and **IF WE ADMIT THAT $x_t$ IS DEPENDENT ON $w_{t+j}\\ (j>0)$** rather $w_{t-j}$, we might apply the analysis above and\n",
    "$$x_t = -\\sum_{j=1}^{\\infty}\\phi^{-j}w_{t+j}$$\n",
    "\n",
    "And under the assumption that $x_t$ is dependent on $w_{t+j}$, we deprive\n",
    "$$\\gamma(h) = \\frac{\\sigma_w^2 \\phi^{-|h|-2}}{1-\\phi^{-2}},\\quad \\rho(h) = \\phi^{-|h|}.$$\n",
    "\n",
    "Yet this is useless because all the knowledge is based on the future. \n",
    "\n",
    "One might construct a stochastically equivalent series $y_t$ by \n",
    "$$y_t = \\phi^{-1}y_{t-1}+v_t,\\quad v_t\\sim N(0,\\sigma_w^2\\phi^{-2})$$\n",
    "with the same mean and autocovariance as $x$.\n",
    "\n",
    "\n",
    "<br>\n",
    "\n",
    "\n",
    "### Inverse Autogregressive Operator\n",
    "\n",
    "For a general order $p$ autoregressive model $\\phi(B)x_t = w_t$, inspired by ${\\rm AR(1)}$ we assume the solution is the form of \n",
    "$$x_t = \\psi(B)w_t = \\sum_{j=0}^{\\infty}\\psi_j w_{t-j},$$\n",
    "hence\n",
    "$$\\phi(B)\\psi(B)w_t = w_t$$\n",
    "and by Neumann series, \n",
    "$$\\psi(B) = \\frac{1}{\\phi (B)} = \\frac{1}{1 - (\\phi_1 B+\\phi_2B^2+\\dotsc +\\phi_pB^p)}\n",
    "=\\sum_{j=0}^{\\infty} (\\phi_1B+\\phi_2 B^2+\\dotsc +\\phi_p B^p)^j$$"
   ]
  },
  {
   "cell_type": "markdown",
   "metadata": {},
   "source": [
    "## Moving Average Models (MA)\n",
    "\n",
    "**Definition**. (Moving average models of order $q$) A  process $x_t\\sim {\\rm MA}(q)$ when it admits \n",
    "$$x_t = w_t+\\theta_1 w_{t-1}+\\dotsc + \\theta_q w_{t-q}$$\n",
    "where $w_t\\sim {\\rm WN}(0,\\sigma_w^2)$ and $\\theta_i$ are constants. ($\\theta_q \\neq 0$)\n",
    "\n",
    "### Moving Average Operator\n",
    "\n",
    "Recall the backshift operator $B$ that $B(x_t) = x_{t-1}$. We correspondingly define the moving average operator as\n",
    "$$\\theta (B) = 1 + \\theta_1B + \\theta_2B^2 + \\dotsc + \\theta_qB^q$$\n",
    "\n",
    "Then one can rewrite the autoregressive equation above by\n",
    "$$x_t = \\theta(B) w_t$$\n",
    "\n",
    "It is easy to verify that $x_t$ is stationary.\n",
    "\n",
    "### MR(1)\n",
    "\n",
    "${\\rm MR}(1)$ is the special case where order $q = 1$. More specifically, \n",
    "$$x_t = w_{t-1} + \\theta w_{t-1}$$\n",
    "\n",
    "One is easy to compute that\n",
    "$$\\gamma(h) = \\left\\{\\begin{array}{cc} (1+\\theta ^2)\\sigma_w^2  & h = 0 \n",
    "\\\\ \\theta \\sigma_w^2 & h = 1\\\\ 0 & h > 1\\end{array}\\right. \n",
    "\\quad \\rho(h) = \\left\\{\\begin{array}{cc} \\frac{\\theta}{1+\\theta^2} & h = 1\\\\ 0 & h > 1\\end{array}\\right.$$\n",
    "\n",
    "It is clear that $x_t$ is correlated with $x_{t-1}$, but not with $x_{t-j} (j>1)$. Moreover, $|\\rho(1)|\\leqslant \\frac 12$ for whatever parameter $\\theta$.\n",
    "\n",
    "We shall note that, if $v_t\\sim N(0,\\theta^2\\sigma_w^2)$, then\n",
    "$$y_t = y_{t-1} + \\theta^{-1} v_{t-1}$$\n",
    "has the same autocovariance and autocorrelation, implying stochastical equivalence."
   ]
  },
  {
   "cell_type": "code",
   "execution_count": 5,
   "metadata": {},
   "outputs": [
    {
     "data": {
      "image/png": "[encoded data removed]",
      "text/plain": [
       "Plot with title \"MA(1) ~ ~~theta == -0.5\""
      ]
     },
     "metadata": {},
     "output_type": "display_data"
    }
   ],
   "source": [
    "par(mfrow = c(2,1))\n",
    "plot(arima.sim(list(order=c(0,0,1), ma=.9), n=100), ylab=\"x\", main=(expression(MA(1)~~~theta==+.5)))\n",
    "plot(arima.sim(list(order=c(0,0,1), ma=-.9), n=100), ylab=\"x\", main=(expression(MA(1)~~~theta==-.5)))"
   ]
  },
  {
   "cell_type": "markdown",
   "metadata": {},
   "source": [
    "### Inverse Moving Average Operator\n",
    "\n",
    "In the same manner we assume\n",
    "$$w_t = \\pi(B)x_t = \\sum_{j=0}^{\\infty} \\pi_j x_{t-j}$$\n",
    "and \n",
    "$$\\pi (B) = \\frac{1}{\\theta(B)} = \\sum_{j=0}^{\\infty} \\left(-(1+\\theta_1 B+\\theta_2 B+\\dotsc +\\theta_qB)\\right)^j$$"
   ]
  },
  {
   "cell_type": "markdown",
   "metadata": {},
   "source": [
    "Lemma. if $w_i\\sim N(0,\\sigma^2),\\ i=1,2,\\dotsc$ are uncorrelated ($\\sigma>0$). A random variable $X$ and a constant $c\\neq 0$ satisfy that for all $i$ we have ${\\rm Cov}(X,w_i) = c$. Then ${\\rm Var}(X)$ is unbounded.\n",
    "\n",
    "Proof. Let $\\rho = \\frac{c}{2\\sigma^2}$ and consider\n",
    "$$\\begin{aligned}0&\\leqslant {\\rm Cov}(X - \\rho(w_1+w_2+\\dotsc +w_n), \\ X - \\rho(w_1+w_2+\\dotsc+w_n))\n",
    "\\\\ &={\\rm Var}(X) - 2\\rho n c+\\rho^2n \\sigma^2\n",
    "\\\\ &={\\rm Var}(X) - \\frac{3}{4}nc^2\\sigma^{-2}\\end{aligned}$$\n",
    "Let $n\\rightarrow \\infty$ and ${\\rm Var}(X)\\rightarrow +\\infty$."
   ]
  },
  {
   "cell_type": "markdown",
   "metadata": {},
   "source": [
    "## Autoregressive Moving Average Models (ARMA)\n",
    "\n",
    "**Definition**. (Autoregressive moving average models of order $p,q$) A zero-mean stationary process $x_t\\sim {\\rm ARMA}(p,q)$ when it admits \n",
    "$$x_t = \\phi_1 x_{t-1}+\\phi_2x_{t-2} +\\dotsc + \\phi_p x_{t-p} + w_t+\\theta_1 w_{t-1}+\\dotsc + \\theta_q w_{t-q}$$\n",
    "where $w_t\\sim {\\rm WN}(0,\\sigma_w^2)$ and $\\phi_i,\\theta_i$ are constants. ($\\phi_p,\\theta_q \\neq 0$)\n",
    "\n",
    "In general if the stationary series $x_t$ has mean $\\mu$, then one can denote $\\alpha = \\mu(1- \\theta_1 -  \\dotsc - \\theta_p)$ and write\n",
    "$$x_t = \\alpha +\\phi_1 x_{t-1}+\\phi_2x_{t-2} +\\dotsc + \\phi_p x_{t-p} + w_t+\\theta_1 w_{t-1}+\\dotsc + \\theta_q w_{t-q}.$$\n",
    "\n",
    "<br>\n",
    "\n",
    "If one uses the operator notations above, it is equivalent to\n",
    "$$\\phi(B)x_t = \\theta(B)w_t$$\n",
    "where\n",
    "$$\\begin{aligned}\\phi(B) &= 1 - \\phi_1(B) - \\dotsc - \\phi_p(B)\\\\ \n",
    "\\theta(B) &= 1+\\theta_1(B)+\\dotsc +\\theta_q(B)\\end{aligned}$$\n",
    "\n",
    "#### Parameter Redundancy\n",
    "\n",
    "For example, $x_{t} = \\frac12 x_{t-1}  - \\frac 12 w_{t-1}+w_t$, or $(1-\\frac 12B)x_t = (1-\\frac 12B )w_t$ should be simplified as $x_t = w_t$.\n",
    "\n",
    "#### Causality\n",
    "\n",
    "An ARMA model is called causal iff $X_t$ can be written as a one-sided linear process,\n",
    "$$x_t = \\Psi(B) w_t = \\sum_{j=0}^{\\infty} \\psi_j w_{t-j}$$\n",
    "where $\\Psi(B) = \\sum_{j=0}^{\\infty}\\psi_jB^j$ and has $\\psi_0 = 1$ and $\\sum_{j=0}^{\\infty}|w_j|<+\\infty$. Also, one can prove that an ARMA model in the form $\\phi(B) x_t =  \\theta(B)w_t$ is causal iff\n",
    "$\\phi(z)\\neq 0$ in the unit disk $|z|\\leqslant 1$. The solution of $\\Psi(B)$ is given by \n",
    "$$\\Psi(B) = \\frac{\\theta(B)}{\\phi(B)}.$$\n",
    "\n",
    "#### Invertibility\n",
    "\n",
    "An ARMA model is invertible iff it admits the form \n",
    "$$w_t = \\pi(B)x_t = \\sum_{j=0}^{\\infty}\\pi_j x_{t-j}$$\n",
    "where $\\pi(B) = \\sum_{j=0}^{\\infty}\\pi_jB^j$ and has $\\pi_0 = 1$ and $\\sum_{j=0}^{\\infty}|\\pi_j|<+\\infty$. One can similarly show that an ARMA model is invertible iff \n",
    "$\\theta(z)\\neq 0$ in the unit disk $|z|\\leqslant  1$. The solution of $\\pi(B)$ is given by \n",
    "$$\\pi(B) = \\frac{\\phi(B)}{\\theta (B)}$$\n",
    "\n",
    "\n",
    "#### AR(2)\n",
    "\n",
    "One can verify that an ${\\rm AR}(2)$ process $(1 - \\phi_1B - \\phi_2B^2)x_t = w_t$ is causal iff \n",
    "$$\\phi_1+\\phi_2<1,\\quad \\phi_2 - \\phi_1<1,\\quad |\\phi_2|<1.$$"
   ]
  },
  {
   "cell_type": "markdown",
   "metadata": {},
   "source": [
    "## Difference Equations\n",
    "\n",
    "### AR\n",
    "\n",
    "Consider a **causal** ${\\rm AR}$ process $\\phi(B)x_t = w_t$ and we multiply $x_{t-h}\\ (h\\geqslant 1)$ on both sides to get \n",
    "$$\\mathbb E(\\phi(B)x_t\\cdot x_{t-h}) = \\mathbb E(w_tx_{t-h})\n",
    "=\\mathbb E(w_t \\sum_{j=0}^{\\infty} \\phi_j w_{t-h-j}) = 0$$\n",
    "Note that $\\mathbb E(x_tx_{t-h}) = {\\rm Cov}(x_t,x_{t-h}) = \\gamma(h)$, we conclude the recurrence\n",
    "$$\\gamma (h) - \\sum_{k=1}^p\\phi_k\\gamma(h-k)  = 0\\quad (h\\geqslant 1).$$\n",
    "and\n",
    "$$\\rho (h) - \\sum_{k=1}^p\\phi_k\\rho(h-k)  = 0\\quad (h\\geqslant 1).$$\n",
    "\n",
    "The initial values $\\rho(0) = 1,\\rho(1),\\dotsc,\\rho(p-1)$ can be obtained by solving the linear system formed by \n",
    "$h = 1,2,\\dotsc, p-1$. And we can solve all ACF $\\rho(n)$ by the recurrence. These two equations are called difference equations of an AR model.\n",
    "\n",
    "The characteristic equation of the recurrence is given by \n",
    "$$0 = z^{p} - \\sum_{k=1}^p \\phi_k z^{p-k} = \\prod_{k=1}^p (z - \\frac{1}{z_k})$$\n",
    "where $z_k$ are the roots of $\\phi(B)$ and $|z_k|>1$ by causality.\n",
    "\n",
    "\n",
    "#### AR(2)\n",
    "\n",
    "For ${\\rm AR}(2)$, $\\rho(n)\\rightarrow 0$ because of the bounded eigenvalues of the recurrence $|\\frac{1}{z_k}|<1$. Particularly, if the roots of ${\\rm AR}(2)$ are complex, then its  ACF shows sinusoidal pattern in  decay since \n",
    "$$\\rho(h) = c_1z_1^{-h} + c_2\\overline{z_2}^{-h}$$\n",
    "And the solution is in the following form, where $\\omega = {\\rm Arg}(z_1)$,\n",
    "$$\\rho(h) = a|z_1|^{-h}\\cos(\\omega h +   \\varphi)$$"
   ]
  },
  {
   "cell_type": "code",
   "execution_count": 10,
   "metadata": {},
   "outputs": [
    {
     "name": "stdout",
     "output_type": "stream",
     "text": [
      "Roots  = 1+0.57735i 1-0.57735i \n",
      "Period = 12 \n"
     ]
    },
    {
     "data": {
      "image/png": "[encoded data removed]",
      "text/plain": [
       "plot without title"
      ]
     },
     "metadata": {},
     "output_type": "display_data"
    }
   ],
   "source": [
    "library('astsa')\n",
    "# an AR model with phi = 1 + 1.5z - .75z^2\n",
    "roots <- polyroot(c(1, -1.5, .75))\n",
    "cat('Roots  =', roots, '\\nPeriod =', 2 * pi / Arg(roots[1]),'\\n')\n",
    "ar2 <- arima.sim(list(order=c(2,0,0), ar=c(1.5,-.75)), n = 144)\n",
    "\n",
    "par(mfrow = c(2,1))\n",
    "plot(ar2, axes=FALSE, xlab=\"Time\")\n",
    "axis(2); axis(1, at=seq(0,144,by=12)); box()\n",
    "abline(v=seq(0,144,by=12), lty=2)\n",
    "ACF <- ARMAacf(ar=c(1.5,-.75), ma=0, 50)\n",
    "f <- function(x){ 2*sqrt(13)/7 * (sqrt(.75) ^ x) * cos(-pi/6 * x + atan(sqrt(3)/7))}\n",
    "#print(ACF - f(0:(length(ACF)-1)))\n",
    "plot(ACF, type=\"h\", xlab=\"lag\")\n",
    "abline(h=0)"
   ]
  },
  {
   "cell_type": "markdown",
   "metadata": {},
   "source": [
    "## MA\n",
    "\n",
    "As for MA models, $x_{t} = \\sum_{j=0}^q \\theta_j w_{t-j}$ where $\\theta_0 = 1$, direct computation yields\n",
    "$$\\gamma(h) = {\\rm Cov}\\left(\\sum_{j=0}^q \\theta_j w_{t-j}, \\sum_{j=0}^q \\theta _j w_{t+h-j}\\right)\n",
    "=\\left\\{\\begin{array}{ll}\n",
    "\\sigma_w^2\\sum_{j=0}^{q-h}\\theta_j\\theta_{j+h} & \\quad 0\\leqslant h\\leqslant q,\\\\ \n",
    "0 &\\quad h >q.\\end{array}\\right.\n",
    "$$\n",
    "and by $\\gamma(0) = \\sum_{j=0}^q \\theta_j^2$ we get\n",
    "$$\\rho(h) =  \\left\\{\\begin{array}{ll}\n",
    "\\frac{\\sigma_w^2\\sum_{j=0}^{q-h}\\theta_j\\theta_{j+h}}{\\sum_{j=0}^q \\theta_j^2} & \\quad 0\\leqslant h\\leqslant q,\\\\ \n",
    "0 &\\quad h >q.\\end{array}\\right.\n",
    "$$\n",
    "\n",
    "It has the truncation property that its ACF is zero as long as $h>q$, hence we can estimate $q$ by judging when ACF vanishes."
   ]
  },
  {
   "cell_type": "code",
   "execution_count": 24,
   "metadata": {},
   "outputs": [
    {
     "data": {
      "image/png": "[encoded data removed]",
      "text/plain": [
       "Plot with title \"Series  ar3\""
      ]
     },
     "metadata": {},
     "output_type": "display_data"
    }
   ],
   "source": [
    "ar3 <- arima.sim(n = 300, list(order = c(0,0,2), ma = c(-1.5, .75)))\n",
    "par(mfrow = c(2,1))\n",
    "plot(ar3)\n",
    "acf(ar3)"
   ]
  },
  {
   "cell_type": "markdown",
   "metadata": {},
   "source": [
    "### ARMA\n"
   ]
  }
 ],
 "metadata": {
  "kernelspec": {
   "display_name": "R",
   "language": "R",
   "name": "ir"
  },
  "language_info": {
   "codemirror_mode": "r",
   "file_extension": ".r",
   "mimetype": "text/x-r-source",
   "name": "R",
   "pygments_lexer": "r",
   "version": "3.6.1"
  },
  "orig_nbformat": 4
 },
 "nbformat": 4,
 "nbformat_minor": 2
}
