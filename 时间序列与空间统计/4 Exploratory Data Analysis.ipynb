{
 "cells": [
  {
   "cell_type": "markdown",
   "metadata": {},
   "source": [
    "# 4 Exploratory Data Analysis (EDA)\n",
    "\n",
    "These are some regular methods to explore a given time series.\n",
    "\n",
    "## Trend stationary model\n",
    "\n",
    "If a time series is not stationary, it can be broken down into the sum of a trend and a stationary process. For example in the formula below $\\{\\mu_t \\}$ is the trend while $\\{ y_t\\}$ is stationary.\n",
    "\n",
    "$$x_t = \\mu_t + y_t$$\n",
    "\n",
    "The trend $\\{\\mu_t\\}$ is either deterministic or stochastic. After having estimated the trend $\\hat \\mu$, the stationary part is given by $y_t = x_t - \\hat \\mu_t$. \n",
    "\n",
    "#### Linear trend\n",
    "\n",
    "$$\\mu_t = \\beta_0 + \\beta_1 t$$\n",
    "\n",
    "#### Random-walk-with-drift trend\n",
    "\n",
    "Random-walk-with-drift trend is stochastic, where white noise is included.\n",
    "$$\\mu_t = \\delta + \\mu_{t-1} + w_t\\\\ \\mu_t - \\mu_{t-1} = \\delta + w_t$$\n",
    "\n",
    "### Detrending\n",
    "\n",
    "Linear trend can be estimated simply by linear regression. \n",
    "$$\\beta = \\argmin_\\beta \\Vert \\mu - t\\beta\\Vert_2^2$$\n",
    "\n",
    "#### Differencing\n",
    "\n",
    "One can deal with the random-walk-with-drift trend by differencing,\n",
    "$$x_t - x_{t-1} = \\mu_t - \\mu_{t-1} + y_t - y_{t-1} = \\delta + w_t + (y_t - y_{t-1})$$\n",
    "Differencing is a non-parametric method that stationalize a series.\n",
    "$$\\Delta x_t = \\delta + w_t + \\Delta y_t$$\n",
    "\n",
    "Differencing also works on other time series, linear one included.\n",
    "\n",
    "#### Higher-order differencing\n",
    "\n",
    "Define the backshift operator $B (x_t) = x_{t-1}$ and more generally $B^{k}(x_t) = x_{t-k}$. \n",
    "\n",
    "Then the differencing operator is $\\Delta x_t = (I - B)(x_t)$ and more generally \n",
    "$$\\Delta^n x_t = (I-B)^n(x_t) = \\sum_{k=0}^n \\binom{n}{k} (-1)^kx_{t-k}$$\n",
    "\n",
    "### Transformation\n",
    "\n",
    "The goal is to improve linearity and approximate normality. \n",
    "\n",
    "#### Power transformation\n",
    "\n",
    "Also known as the Box-Cox transformation,\n",
    "$$y_t = \\frac{x_t^\\lambda - 1}{\\lambda}\\quad ,\\lambda \\neq 0\\\\\n",
    "y_t = \\log x_t\\quad \\ , \\lambda =0$$"
   ]
  }
 ],
 "metadata": {
  "kernelspec": {
   "display_name": "R",
   "language": "R",
   "name": "ir"
  },
  "language_info": {
   "name": "R"
  },
  "orig_nbformat": 4
 },
 "nbformat": 4,
 "nbformat_minor": 2
}
