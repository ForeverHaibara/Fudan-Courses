{
 "cells": [
  {
   "cell_type": "markdown",
   "metadata": {},
   "source": [
    "# 10 Spectral Analysis\n",
    "\n",
    "We begin with a trignometric function\n",
    "$$x_t = A\\cos(2\\pi \\omega t + \\phi) = A\\cos \\phi \\cos (2\\pi \\omega t) - A\\sin\\phi \\sin(2\\pi \\omega t).$$\n",
    "\n",
    "Parameter $\\omega$ is the frequency, $A$ is the amplitude and  $\\phi$ is the phase. Here $A$ and $\\phi$ can be random variables. \n",
    "\n",
    "Let $U_1 = A\\cos\\phi$ while $U_2 = -A\\sin\\phi$, we can show that the following two assumptions are equivalent:\n",
    "1. $U_1,U_2$ are independently sample from $N(0,1)$.\n",
    "2. $A^2\\sim \\chi^2(2)$ and $\\phi\\sim U(-\\pi,\\pi)$ are independent."
   ]
  },
  {
   "cell_type": "markdown",
   "metadata": {},
   "source": [
    "## Periodogram\n",
    "\n",
    "### Real DFT\n",
    "\n",
    "Given $n$ observations $x_t$ where $n$ is odd, we can decompose by  \n",
    "$$x_t = a_0+\\sum_{j=1}^{(n-1)/2}\\left(a_j\\cos\\frac{2\\pi jt}{n}+b_j\\sin \\frac{2\\pi jt}{n}\\right)$$\n",
    "where\n",
    "$$a_j = \\frac 2n\\sum_{k=1}^n x_t \\cos\\frac{2\\pi j t}{n}\\quad {\\rm and}\\quad \n",
    "b_j = \\frac 2n\\sum_{k=1}^n x_t\\sin \\frac{2\\pi jt}{n}.$$\n",
    "\n",
    "The **scaled** periodogram is defined by\n",
    "$$P\\left(\\frac jn \\right) = a_j^2+b_j^2.$$\n",
    "\n",
    "Large $P(j/n)$ implies predominance while small ones are overshadowed  by the noise.\n",
    "\n",
    "\n",
    "### Complex DFT\n",
    "\n",
    "Let $d(j/n)$ be defined as follows,\n",
    "$$d\\left(\\frac jn\\right) = \\frac{1}{\\sqrt n}\\sum_{j=1}^n x_te^{-\\frac{2\\pi ijt}{n}}$$\n",
    "where $i^2=-1$. We call its squared magnitude the periodogram, \n",
    "$$\\left|d\\left(\\frac jn\\right) \\right|^2 = \\frac 1n\\left(\\sum_{j=1}^n x_t\\cos \\frac{2\\pi jt}{n}\\right)^2\n",
    "+\\frac 1n \\left(\\sum_{j=1}^n x_t \\sin \\frac{2\\pi jt}{n}\\right)^2.$$\n",
    "It has the relation that $P(j/n) = \\frac 4n|d(j/n)|^2$."
   ]
  }
 ],
 "metadata": {
  "interpreter": {
   "hash": "1120dc956da57eca5c948a0118f4cdcd4d1b3be98c72752ed298d16085a61d24"
  },
  "kernelspec": {
   "display_name": "Python 3.8.4 64-bit (system)",
   "language": "python",
   "name": "python3"
  },
  "language_info": {
   "name": "python",
   "version": "3.8.4"
  },
  "orig_nbformat": 4
 },
 "nbformat": 4,
 "nbformat_minor": 2
}
