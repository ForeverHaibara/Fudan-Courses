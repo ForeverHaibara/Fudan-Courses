{
 "cells": [
  {
   "cell_type": "markdown",
   "metadata": {},
   "source": [
    "# 8 Spatial Statistics\n",
    "\n",
    "### Random Field\n",
    "\n",
    "We call a spatial process $Z(s):\\ s\\in D\\subset \\mathbb R^d$ a random field. \n",
    "\n",
    "A spatial-temporal process can be represented by $Z(s,t)$."
   ]
  },
  {
   "cell_type": "markdown",
   "metadata": {},
   "source": [
    "## Gaussian Process\n",
    "\n",
    "Recall that in time series the white noise, WN,  is a Gaussian distribution, we can generalize it to higher dimensions, and even to infinite dimensions. In the infinite-dimensional case, we call it a Gaussian process. \n",
    "\n",
    "**Definition** A gaussian process is a infinite collection of random variables,  any finite number of which is a multivariate gaussian distribution."
   ]
  }
 ],
 "metadata": {
  "kernelspec": {
   "display_name": "R",
   "language": "R",
   "name": "ir"
  },
  "language_info": {
   "name": "R"
  },
  "orig_nbformat": 4
 },
 "nbformat": 4,
 "nbformat_minor": 2
}
