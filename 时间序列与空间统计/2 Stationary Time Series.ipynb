{
 "cells": [
  {
   "cell_type": "markdown",
   "metadata": {},
   "source": [
    "# 2 Stationary Time Series\n",
    "\n",
    "Definition. A **strictly** stationary time series $\\{x_t:\\ t\\in\\mathbb Z\\}$ has the property that any collection of \n",
    "$\\{x_{t_1},x_{t_2},\\dotsc,x_{t_n}\\}$ is probabilistically identical to its shifted set\n",
    "$\\{x_{t_1+k},x_{t_2+k},\\dotsc,x_{t_n+k}\\}$ (in the sense of joint distribution).\n",
    "\n",
    "i.e. for all $n,x_{t_1},\\dotsc,x_{t_n}$ and all $k,c_1,\\dotsc,c_n$,\n",
    "\n",
    "$$\\mathbb P(x_{t_1}\\leqslant c_1,\\dotsc,x_{t_n}\\leqslant c_n)\n",
    "=\\mathbb P(x_{t_1+k}\\leqslant c_1,\\dotsc,x_{t_n+k}\\leqslant c_n)$$\n",
    "\n",
    "#### Properties\n",
    "* Mean function $\\mu_x(t)$ is constant. This is given by the special case $n = 1$, $\\mathbb P(x_t\\leqslant c)=\\mathbb P(x_{t+1}\\leqslant c)$.\n",
    "\n",
    "* Autocovariance only depends on the gap $\\gamma(s,t) = \\gamma_0(|s-t|)$. This is by $n=2$ where \n",
    "$(x_s,x_t)$ and $(x_{s+k},x_{t+k})$ share identical distributions (and therefore covariance) for all $k$.\n",
    "\n",
    "<br>\n",
    "\n",
    "Definition 2. A finite-variance time series $\\{x_t\\}$ is a **weak** stationary time series that has two properties above: constant mean function $\\mu(t)$ and gap-dependent autocovariance $\\gamma(s,t) =  \\gamma_0(|s-t|)$. \n",
    "\n",
    "Sometimes the word 'weak' is omitted and we by phrase 'stationary time series' refer to a weak stationary time series.\n",
    "\n",
    "#### Notations\n",
    "\n",
    "* Mean function $\\mu(t)\\equiv \\mu$.\n",
    "* Autocovariance $\\gamma(s,t) = \\gamma(s-t)$.\n",
    "* Autocorrelation $\\rho(s,t) = \\rho(s-t) = \\frac{\\gamma(s-t)}{\\gamma (0)}$.\n",
    "\n",
    "#### Autocovariance\n",
    "\n",
    "Autocovariance of a stationary time series has several properties as follows.\n",
    "\n",
    "1. $\\gamma(0) = {\\rm Var}(x_t)$.\n",
    "2. $|\\gamma(h)|\\leqslant \\gamma(0)$.\n",
    "3. $\\gamma(h) = \\gamma(-h)$.\n",
    "4. $\\gamma$ is positive semidefinite by the positive semidefinite matrix $[\\gamma(i-j)]\\in \\mathbb R^{n\\times n}$ for $\\forall n$.\n",
    "\n",
    "This is because\n",
    "$$\\sum_{i=1}^n\\sum_{j=1}^n \\gamma(i-j)a_ia_j=\\sum_{i=1}^n\\sum_{j=1}^n {\\rm Cov}(a_ix_i,a_jx_j)\n",
    "={\\rm Var}(\\sum_{i=1}^n a_ix_i)\\geqslant 0.$$"
   ]
  },
  {
   "cell_type": "markdown",
   "metadata": {},
   "source": [
    "### Examples\n",
    "\n",
    "#### White Noise\n",
    "\n",
    "White noise $w_i\\sim N(0,\\sigma^2)$ is strictly stationary. $\\gamma(h) = \\delta_{h0}\\sigma^2$ where $\\delta$ is the Dirac function.\n",
    "\n",
    "#### Moving Average \n",
    "\n",
    "Moving average is strictly stationary as it has zero mean and the covariance is determined by the overlapping interval. \n",
    "\n",
    "#### Random Walk with Drift\n",
    "\n",
    "Random walk with drift is **not** stationary even $\\delta = 0$ because the autocovariance depends on $\\min\\{s,t\\}$."
   ]
  },
  {
   "cell_type": "markdown",
   "metadata": {},
   "source": [
    "## Joint Stationary\n",
    "\n",
    "Two time series $\\{x_t\\},\\{y_t\\}$ are called joint stationary iff $x_t$ is stationary, $y_t$ is stationary and also\n",
    "$\\gamma_{xy}(s,t) = {\\rm Cov}(x_{s},y_t) = \\gamma_0(s-t)$ is a function of the gap $h=s-t$.\n",
    "\n",
    "#### Cross-correlation\n",
    "\n",
    "Cross-correlation of joint stationary series has the properties that\n",
    "\n",
    "1. $-1\\leqslant \\rho_{xy}(h)\\leqslant 1$.\n",
    "2. $\\rho_{xy}(h) = \\rho_{yx}(-h)$.\n",
    "\n",
    "### Examples\n",
    "\n",
    "#### Combinations of White Noise\n",
    "\n",
    "$x_t = w_t + w_{t-1}$ and $y_t = w_t - w_{t-1}$ are joint stationary.\n",
    "\n",
    "#### Prediction with CCF\n",
    "\n",
    "Suppose $y_t = Ax_{t- l}+w_t$ and $x_t,w_t$ are uncorrelated and $x_t$ is stationary. If $l>0$ then we call $x_t$ leads $y_t$ by $l$. \n",
    "\n",
    "$$\\gamma_{yx}(h) = {\\rm Cov}(y_{t+h},x_t) = \n",
    "{\\rm Cov}(Ax_{t+h-l}+w_{t+h},x_t)=A\\gamma_x(h-l)$$\n",
    "\n",
    "Hence $y = \\gamma_{yx}(h)$ is symmetric by vertical line $h = l$ and has global maximum or minimum at $h = l$."
   ]
  },
  {
   "cell_type": "code",
   "execution_count": 1,
   "metadata": {
    "vscode": {
     "languageId": "r"
    }
   },
   "outputs": [
    {
     "data": {
      "text/html": [
       "<strong>null device:</strong> 1"
      ],
      "text/latex": [
       "\\textbf{null device:} 1"
      ],
      "text/markdown": [
       "**null device:** 1"
      ],
      "text/plain": [
       "null device \n",
       "          1 "
      ]
     },
     "metadata": {},
     "output_type": "display_data"
    },
    {
     "data": {
      "image/png": "[encoded data removed]",
      "text/plain": [
       "Plot with title \"y & x\""
      ]
     },
     "metadata": {},
     "output_type": "display_data"
    }
   ],
   "source": [
    "library(astsa)\n",
    "\n",
    "####################\n",
    "# Example 1.24 Prediction with cross-correlation\n",
    "set.seed(2)\n",
    "x = rnorm(100)\n",
    "y = lag(x, -5) + rnorm(100)\n",
    "ccf(y, x, ylab='CCovF', type='covariance')\n",
    "abline(v=0, lty=2)\n",
    "text(11, .9, 'x leads')\n",
    "text(-9, .9, 'y leads')\n",
    "dev.off()"
   ]
  },
  {
   "cell_type": "code",
   "execution_count": 16,
   "metadata": {
    "vscode": {
     "languageId": "r"
    }
   },
   "outputs": [
    {
     "data": {
      "text/html": [
       "<strong>null device:</strong> 1"
      ],
      "text/latex": [
       "\\textbf{null device:} 1"
      ],
      "text/markdown": [
       "**null device:** 1"
      ],
      "text/plain": [
       "null device \n",
       "          1 "
      ]
     },
     "metadata": {},
     "output_type": "display_data"
    },
    {
     "data": {
      "image/png": "[encoded data removed]",
      "text/plain": [
       "Plot with title \"SOI vs Recruitment\""
      ]
     },
     "metadata": {},
     "output_type": "display_data"
    }
   ],
   "source": [
    "par(mfrow=c(3,1))\n",
    "acf(soi, 48, main=\"Southern Oscillation Index\")\n",
    "acf(rec, 48, main=\"Recruitment\")\n",
    "ccf2(soi, rec, 48, main=\"SOI vs Recruitment\")\n",
    "dev.off()"
   ]
  },
  {
   "cell_type": "markdown",
   "metadata": {},
   "source": [
    "## Linear Process\n",
    "\n",
    "Suppose the sum of coefficients are absolutely convergent $|\\sum_{i=-\\infty}^{\\infty} \\psi_i|<\\infty$, if $w_i\\sim N(0,\\sigma^2)$ are uncorrelated white noises, define\n",
    "$$x_t = \\mu + \\sum_{i=-\\infty}^{\\infty} \\psi_i w_{t-i}$$\n",
    "\n",
    "It is a generalization of ARMA (auto regression moving average). Each $x_t$ has dependence on the past, present and future.\n",
    "\n",
    "\n",
    "Properties\n",
    "\n",
    "* $\\mu_t = \\mathbb E (x_t) = \\mu$\n",
    "* $\\gamma(h) = \\sigma^2 \\sum_{i=1}^{\\infty} \\psi_{i+h}\\psi_i$. \n",
    "  \n",
    "\n",
    "## Gaussian Process\n",
    "\n",
    "$$x_t\\sim {\\rm GP}(\\mu(t), k(s,t))$$\n",
    "\n",
    "Any finite collections of points $t_1,\\dotsc,t_n$ has the property that\n",
    "\n",
    "$$x=(x_{t_1},\\dotsc,x_{t_n})^T\\sim N_n\\left(\\left(\\begin{matrix}\\mu_{t_1}\\\\ \\vdots\\\\\\mu_{t_n}\\end{matrix}\\right),\n",
    "\\left(k_{t_i,t_j}\\right)_{1\\leqslant i,j\\leqslant n}\\right)$$"
   ]
  },
  {
   "cell_type": "markdown",
   "metadata": {},
   "source": [
    "## Estimation of Correlation\n",
    "\n",
    "Estimate correlation of a stationary time series by samples. \n",
    "\n",
    "Metrics\n",
    "* Unbiasness\n",
    "* Consistency\n",
    "* Asymtotical normality\n",
    "\n",
    "#### Mean function\n",
    "\n",
    "By plugin estimation, we have the estimation given as follows. \n",
    "$$\\mu_t = \\mathbb E(x_t),\\quad \\hat \\mu_t = \\frac{1}{n}\\sum_{t=1}^n x_{t}$$\n",
    "\n",
    "The variance of the estimator is given by \n",
    "\n",
    "$${\\rm Var}\\left[\\frac{1}{n}\\sum_{t=1}^n (x_t - \\mu)\\right]=\\frac{1}{n^2}{\\rm Cov}(\\sum_{t=1}^n x_t,\\sum_{t=1}^n x_t)\n",
    "=\\frac{1}{n^2}\\left(n\\gamma(0)+2\\sum_{h=1}^n (n-h)\\gamma(h)\\right)\n",
    "$$\n",
    "\n",
    "\n",
    "#### Autocovariance function\n",
    "\n",
    "Given the estimator below, we shall note that larger $h$ leads to smaller samples available and therefore less accuracy. Here we prefer use $\\frac{1}{n}$ rather $\\frac{1}{n-h}$ because this enables $\\hat \\gamma$ to preserve the positive semidefinite property of $\\gamma$. Also $\\lim_{n\\rightarrow \\infty}\\frac{n}{n-h}=1$ so the biasness eliminates if $n$ is sufficiently large.\n",
    "$$\\gamma(h) = \\mathbb E[(x_{t+h}-\\mu)(x_t - \\mu)]\\\\\n",
    "\\hat\\gamma (h) = \\frac{1}{n}\\sum_{t=1}^{n-h} (x_{t+h}-\\hat \\mu)(x_t - \\hat \\mu)$$\n",
    "\n",
    "#### Autocorrelation function\n",
    "\n",
    "$$\\hat \\rho (h) = \\frac{\\hat \\gamma(h)}{\\hat \\gamma(0)}$$\n",
    "\n",
    "Particularly, if $x_t$ is $w_t\\sim N(0,1)$, then its asymptotical normality reveals that \n",
    "$$\\sqrt n\\hat \\rho(h) \\stackrel{d}{\\longrightarrow} N(0,1)$$\n",
    "\n",
    "#### Cross-covariance function\n",
    "\n",
    "When $h>0$, \n",
    "$$\\hat \\gamma_{xy}(h) = \\frac 1n\\sum_{t=1}^{n-h} (x_{t-h} - \\overline x)(y_t - \\overline y)\\\\\n",
    "\\hat \\gamma_{xy}(-h) = \\gamma_{yx}(h)$$\n",
    "\n",
    "#### Cross-correlation function\n",
    "\n",
    "$$\\hat \\rho_{xy}(h) = \\frac{\\hat \\gamma_{xy}(h)}{\\sqrt{\\hat \\gamma_x(0)\\hat \\gamma_y(0)}}$$\n",
    "\n",
    "Particularly, if at least one of $x_t$ and $y_t$ is white noise, then \n",
    "$$\\sqrt n\\hat \\rho_{xy}(h) \\stackrel{d}{\\longrightarrow} N(0,1)$$"
   ]
  }
 ],
 "metadata": {
  "kernelspec": {
   "display_name": "R",
   "language": "R",
   "name": "ir"
  },
  "language_info": {
   "codemirror_mode": "r",
   "file_extension": ".r",
   "mimetype": "text/x-r-source",
   "name": "R",
   "pygments_lexer": "r",
   "version": "3.6.1"
  },
  "orig_nbformat": 4
 },
 "nbformat": 4,
 "nbformat_minor": 2
}
