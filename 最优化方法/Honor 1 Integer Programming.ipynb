{
 "cells": [
  {
   "cell_type": "markdown",
   "metadata": {},
   "source": [
    "# Honor 1 Integer Programming\n",
    "\n",
    "Recall that a general formulation of LP is given by\n",
    "$$\\min\\{c^Tx:\\quad Ax\\leqslant b,\\quad x\\geqslant 0.\\},$$\n",
    "and sometimes we might require that some of the variables $x$ be integers. \n",
    "\n",
    "### Mixed Integer Progamming \n",
    "\n",
    "Mixed integer programming (MIP) where some of the variables are integers, say $y$, and we write \n",
    "$$\\min\\{c^Tx+d^Ty:\\quad A_1x+A_2y\\leqslant b,\\quad x\\geqslant 0,\\quad y\\in \\mathbb N\\}.$$\n",
    "\n",
    "\n",
    "### Binary Integer Programming \n",
    "If all variables are either $0$ or $1$,  it is called a binary integer programming (BIP),\n",
    "$$\\min\\{c^Tx:\\quad Ax\\leqslant b,\\quad x_i\\in \\{0,1\\}\\}.$$\n",
    "\n",
    "Theoretically, an interger programming with bounded $x$ can be reformulated as BIP by binary representation."
   ]
  },
  {
   "cell_type": "markdown",
   "metadata": {},
   "source": [
    "### Logical Relationships\n",
    "\n"
   ]
  },
  {
   "cell_type": "markdown",
   "metadata": {},
   "source": [
    "## Formulation\n",
    "\n",
    "A finite set of linear constraints \n",
    "$P = \\{x\\in \\mathbb R^n:\\ Ax\\leqslant b\\}$ is called a polyhedron.\n",
    "\n",
    "And given a set $X\\in\\mathbb R^n\\times \\mathbb R^p$, we call a polyhedron $P$ a formulation of $X$ if \n",
    "and only if $X = P\\cup (\\mathbb Z^n\\times \\mathbb R^p)$. ($P$ precisely contains all the integer points of $X$).\n",
    "\n",
    "\n",
    "### Linear Relaxation\n",
    "\n",
    "If $P$ is a formulation of $X$, then \n",
    "$$\\max\\{c^Tx:\\ x\\in X\\} \\leqslant \\max\\{c^Tx:\\ x\\in P\\}$$\n",
    "and we call the latter the linear relaxation of the primal problem. We can solve \n",
    "$\\max\\{c^Tx:\\ x\\in P\\}$ for an  approximation to the integer programming. \n",
    "\n",
    "### Better Formulation\n",
    "\n",
    "If $P_1,P_2$ are fomulations of $X$ and $P_1\\subset P_2$, then we call $P_1$ is better than $P_2$. Better formulation means better approximation.\n",
    "\n",
    "### Ideal Formulation\n",
    "\n",
    "Since polyhedrons are convex because it is the intersection of convex halfplanes, the convex hull of $X$ must be a formulation. \n",
    "Ant it is therefore the best formulation, called the ideal formulation. Ideal formulation leads to the **exact** answer to the integer programming. This is because linear programming has extrema at the vertices. \n"
   ]
  },
  {
   "cell_type": "markdown",
   "metadata": {},
   "source": [
    "## Enumeration\n",
    "\n",
    "To solve a binary integer programming, one of the algorithms is to enumerate all possible cases (e.g. by DFS or BFS). Yet it has terrible time complexity and we need pruning to fix.\n",
    "\n",
    "### Pruning\n",
    "\n",
    "Assuming we are minimizing a binary interger programming. There are various pruning strategies. If we are now enumerating a subproblem (e.g. by DFS, BFS).\n",
    "\n",
    "* If the subproblem has lower bound $\\underline z$. Yet we have already found a better solution $z_0 \\leqslant \\underline z$, then \n",
    "the subproblem can be pruned. \n",
    "\n",
    "* If a upper bound of the optimal solution $\\overline z$ is better than the lower bound of the subproblem, \n",
    "$\\overline z <\\underline z$, then it can pruned.\n",
    "\n",
    "* If the subproblem is infeasible, it can be pruned.\n",
    "\n",
    "### Branch and Bound\n",
    "\n",
    "We have mentioned that we estimate a lower bound for the subproblem. This can be done by solving the linear relaxation. This is the idea of the Branch and Bound algorithm."
   ]
  },
  {
   "cell_type": "markdown",
   "metadata": {},
   "source": [
    "## Cutting Plane Algorithm\n"
   ]
  },
  {
   "cell_type": "code",
   "execution_count": null,
   "metadata": {},
   "outputs": [],
   "source": []
  }
 ],
 "metadata": {
  "interpreter": {
   "hash": "1120dc956da57eca5c948a0118f4cdcd4d1b3be98c72752ed298d16085a61d24"
  },
  "kernelspec": {
   "display_name": "Python 3.8.4 64-bit (system)",
   "language": "python",
   "name": "python3"
  },
  "language_info": {
   "name": "python",
   "version": "3.8.4"
  },
  "orig_nbformat": 4
 },
 "nbformat": 4,
 "nbformat_minor": 2
}
