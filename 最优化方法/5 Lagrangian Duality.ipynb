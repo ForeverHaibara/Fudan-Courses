{
 "cells": [
  {
   "cell_type": "markdown",
   "metadata": {},
   "source": [
    "# 5 Lagrangian Duality\n",
    "\n",
    "### Lagrangian Multiplier\n",
    "For a general optimization problem (no need to be convex) in the form of \n",
    "$$v_p^* = \\min \\{f(x):\\quad g_i(x)\\leqslant 0,\\quad h_j(x)\\leqslant 0,\\quad x\\in X\\},$$\n",
    "we write\n",
    "$$L(x,\\lambda,\\mu) = f(x) + \\lambda^T G(x)+\\mu^T H(x)$$ \n",
    "where $G(x) = [g_1(x), \\dotsc,g_m(x)]^T$ and $H(x) = [h_1(x),\\dotsc,h_p(x)]^T$ and call $\\lambda,\\mu$ the Lagrangian multipliers. It is clear that\n",
    "\n",
    "Note that \n",
    "$$\\sup_{\\lambda\\geqslant 0, \\forall \\mu}L(x,\\lambda,\\mu) = \\left\\{\\begin{array}{ll}f(x) & G(x)\\leqslant 0,\\ H(x) =0 ,\\ \\\\ \n",
    "+\\infty& {\\rm otherwise}\\end{array}\\right.$$\n",
    "characterizes the inequalities and the equalities, it indicates the primal optimization problem is equivalent to \n",
    "$$v_p^* = \\inf_{x\\in X}\\sup_{\\lambda\\geqslant 0, \\forall \\mu}L(x,\\lambda,\\mu)$$\n",
    "\n",
    "### Dual Function\n",
    "\n",
    "Define $\\theta:\\ \\mathbb R_+^m\\times \\mathbb R^p\\rightarrow \\mathbb R$ the dual function of the original optimization problem by\n",
    "$$\\theta(\\lambda,\\mu) = \\inf_{x\\in X}L(x,\\lambda,\\mu).$$\n",
    "The dual function $\\theta$ is always concave.\n",
    "\n",
    "Proof: Recall that $L(x,\\lambda,\\mu)$ is affine with regard to $\\lambda$ and $\\mu$, so $\\theta$ being a pointwise infimum, \n",
    "$\\theta(x,\\lambda,\\mu) = \\inf_{x\\in X}L(x,\\lambda,\\mu)$ must be concave.\n",
    "\n",
    "\n",
    "### Weak Duality Theorem\n",
    "\n",
    "We have\n",
    "\n",
    "$$v_d^* = \\sup_{\\lambda\\geqslant 0, \\forall \\mu}\\theta(\\lambda,\\mu)\\leqslant \\inf_{x\\in X}\\sup_{\\lambda\\geqslant 0, \\forall \\mu}L(x,\\lambda,\\mu) = v_p^*,$$\n",
    "meaning that the supremum of the dual function provides a lower bound for the primal optimization problem. We call the new maximizing problem $$v_d^*=\\sup_{\\lambda\\geqslant 0, \\forall \\mu}\\theta(\\lambda,\\mu)$$\n",
    "as a Lagrangian dual of the original problem. \n",
    "\n",
    "\n",
    "\n",
    "Proof: For whatever $\\lambda_0,\\mu_0$, we have\n",
    "$$\\theta(\\lambda_0,\\mu_0)=\\inf_{x\\in X}L(x,\\lambda_0,\\mu_0)\\leqslant\\inf_{x\\in X}\\sup_{\\lambda\\geqslant 0, \\forall \\mu}L(x,\\lambda,\\mu).$$\n",
    "\n",
    "Since the right hand side is a constant, taking the supremum of the left yields the desired inequality.\n",
    "\n",
    "\n",
    "### Inspirations\n",
    "\n",
    "The weak duality theorem implies for arbitrary $\\lambda_0,\\mu_0$ and $x_0$ in the feasible set, \n",
    "$$\\theta(\\lambda_0,\\mu_0)\\leqslant v_d^*\\leqslant v_p^*\\leqslant f(x_0).$$\n",
    "Hence if in practice we can find $\\theta(\\lambda_0,\\mu_0)$ and $f(x_0)$ are near, the $v_d^*$ and $v_p^*$ are bounded inbetween.\n"
   ]
  },
  {
   "cell_type": "markdown",
   "metadata": {},
   "source": []
  }
 ],
 "metadata": {
  "interpreter": {
   "hash": "1403262caf5c96c562d23c2ec1d0e9409dfef636549d4d9dd4887bed656bec38"
  },
  "kernelspec": {
   "display_name": "Python 3.8.4 64-bit (system)",
   "language": "python",
   "name": "python3"
  },
  "language_info": {
   "name": "python",
   "version": "3.8.4"
  },
  "orig_nbformat": 4
 },
 "nbformat": 4,
 "nbformat_minor": 2
}
