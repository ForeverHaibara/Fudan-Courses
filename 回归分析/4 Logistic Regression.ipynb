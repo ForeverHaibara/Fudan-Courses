{
 "cells": [
  {
   "attachments": {},
   "cell_type": "markdown",
   "metadata": {},
   "source": [
    "# 4 Logistic Regression\n",
    "\n",
    "### Logistic Function\n",
    "\n",
    "For some event $A$, define its odds by ${\\rm odds}(A) = \\dfrac{\\mathbb P(A)}{1 - \\mathbb P(A)}$. Define the logit function to be \n",
    "${\\rm logit}(p) = \\log\\dfrac{p}{1-p}$. Define the inverse logit function, or known as logistic function, by the inverse of logit function, $\\sigma(x) = \\dfrac{1}{1+\\exp(-x)}$.\n",
    "\n",
    "Properties:\n",
    "\n",
    "1. $\\sigma(-x) = 1 - \\sigma(x)$.\n",
    "2. $\\sigma'(x) = \\sigma(x)(1- \\sigma(x)) = \\sigma(x)\\sigma(-x)$.\n",
    "3. $\\dfrac{\\partial \\log \\sigma(x)}{\\partial x} = 1 - \\sigma(x) = \\sigma(-x)$."
   ]
  },
  {
   "cell_type": "code",
   "execution_count": 24,
   "metadata": {},
   "outputs": [
    {
     "data": {
      "image/png": "[encoded data removed]",
      "text/plain": [
       "<Figure size 864x288 with 2 Axes>"
      ]
     },
     "metadata": {
      "needs_background": "light"
     },
     "output_type": "display_data"
    }
   ],
   "source": [
    "import numpy as np\n",
    "from matplotlib import pyplot as plt\n",
    "x = np.linspace(-15, 15, 1000)\n",
    "logistic = 1. / (1 + np.exp(-x))\n",
    "x2 = np.linspace(1e-6, 1 - 1e-6, 1000)\n",
    "logit = np.log(x2 / (1 - x2))\n",
    "\n",
    "plt.figure(figsize = (12, 4))\n",
    "for i, x_, y_, title in zip((1,2), (x,x2), (logistic,logit), \n",
    "        ('logisitic: $\\\\bar R\\\\rightarrow [0,1]$','logit: $[0,1]\\\\rightarrow \\\\bar R$')):\n",
    "    plt.subplot(1, 2, i)\n",
    "    plt.plot(x_, y_)\n",
    "    plt.title(title)\n",
    "plt.show()"
   ]
  },
  {
   "attachments": {},
   "cell_type": "markdown",
   "metadata": {},
   "source": [
    "## Logistic Regression\n",
    "\n",
    "There exists $\\beta\\in\\mathbb R^{k+1}$ such that, given covariates $x\\in\\mathbb R^k$, then random varaible $y\\in\\{0,1\\}$ follows a conditional Bernoulli distribution,\n",
    "$$y|x \\sim B(\\sigma(x^T\\beta) )=\\left\\{\\begin{aligned}1 & ,\\quad {\\rm with\\ prob\\ }\\sigma(x^T\\beta),\\\\ 0 &,\\quad  {\\rm with\\ prob\\ }1-\\sigma(x^T\\beta).\\end{aligned}\\right. $$\n",
    "\n",
    "Here $\\sigma(t) = \\dfrac{1}{1+\\exp(-t)}$ is the logistic function.\n",
    "\n",
    "### Maximum Log-likelihood Estimator\n",
    "\n",
    "Write $p_i = \\sigma([1,x_i^T]\\beta)$ so that the likelihood of $y_i$ given $x_i$ is $p_i^{y_i}(1 - p_i)^{1 - y_i}$. Thus, given observations $(x_i,y_i),\\ (i=1,\\dotsc,n)$, the loglikelihood is given by\n",
    "$$\\begin{aligned}\\ell &= \\log\\prod_{i=1}^n p_i^{y_i}(1 - p_i)^{1 - y_i} = \\sum_{i=1}^n\\left\\{ y_i \\log p_i +(1-y_i)\\log (1 - p_i)\\right\\}\\\\ &= \\sum_{i=1}^n \\left\\{y_i \\log \\frac{p_i}{1 - p_i} + \\log (1 - p_i)\\right\\}\n",
    "=\\sum_{i=1}^n y_i x_i^T\\beta + \\sum_{i=1}^n\\log \\sigma(-x_i^T\\beta).\n",
    "\\end{aligned}$$\n",
    "\n",
    "Hence, \n",
    "$$\\frac{\\partial \\ell}{\\partial \\beta^T} = \\sum_{i=1}^n x_i\\left(y_i -   \\sigma(x_i^T\\beta)\\right).\n",
    "$$\n",
    "\n",
    "\n",
    "### Iterative Reweighted Least Squares\n",
    "\n",
    "We can solve ${\\rm argmin}_\\beta \\{-\\ell\\} $ numerically with Newton's iteration. The Hessian is computed as\n",
    "$$\\frac{\\partial^2 \\ell}{\\partial \\beta\\partial \\beta^T} = \\sum_{i=1}^n x_i\\sigma(x_i^T\\beta)\\sigma(-x_i^T\\beta)x_i^T.$$\n",
    "\n",
    "Hence we iterate by \n",
    "$$\\beta^{(t+1)}=\\beta^{(t)}-\\left(\\sum_{i=1}^n x_i\\sigma(x_i^T\\beta)\\sigma(-x_i^T\\beta)x_i^T\\right)^{-1}\\sum_{i=1}^n x_i\\left(y_i -   \\sigma(x_i^T\\beta)\\right).$$\n",
    "\n",
    "\n",
    "If we write $X = [x_1,\\dotsc,x_n]^T\\in\\mathbb R^{n\\times k}$ (or $\\in\\mathbb R^{n\\times (k+1)}$ if the first column of $x$ is one) and $W = {\\rm diag}[p_i(1 - p_i)]\\in\\mathbb R^{n\\times n}$, then it is \n",
    "$$\\begin{aligned}\\beta^{(t+1)}&=\\beta^{(t)}-(X^TWX)^{-1}X^T(y - p)\n",
    "\\\\ &= \\beta^{(t)}-(X^T\\sqrt{W}\\sqrt{W}X)^{-1}X^T\\sqrt{W} \\sqrt{W}(y - p).\\end{aligned}$$\n",
    "\n",
    "The second term is equivalent to solving the least squares $\\min_{\\tilde \\beta}\\Vert \\sqrt{W}X\\tilde \\beta -\\sqrt{W}(y-p)\\Vert^2$, so the algorithm is also named as iterative reweighted least squares."
   ]
  }
 ],
 "metadata": {
  "kernelspec": {
   "display_name": "Python 3",
   "language": "python",
   "name": "python3"
  },
  "language_info": {
   "codemirror_mode": {
    "name": "ipython",
    "version": 3
   },
   "file_extension": ".py",
   "mimetype": "text/x-python",
   "name": "python",
   "nbconvert_exporter": "python",
   "pygments_lexer": "ipython3",
   "version": "3.8.4 (tags/v3.8.4:dfa645a, Jul 13 2020, 16:46:45) [MSC v.1924 64 bit (AMD64)]"
  },
  "orig_nbformat": 4,
  "vscode": {
   "interpreter": {
    "hash": "1120dc956da57eca5c948a0118f4cdcd4d1b3be98c72752ed298d16085a61d24"
   }
  }
 },
 "nbformat": 4,
 "nbformat_minor": 2
}
