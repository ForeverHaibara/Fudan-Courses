{
 "cells": [
  {
   "cell_type": "markdown",
   "metadata": {},
   "source": [
    "# 0 Basis \n",
    "\n",
    "### Mean Square Error\n",
    "Mean square error of an estimator is the sum of variance and the square of bias. \n",
    "$$\\mathbb E\\left(\\hat \\theta - \\theta\\right)^2\n",
    "=\\mathbb E\\left( \\hat \\theta - \\mathbb E\\hat \\theta +\\mathbb E\\hat \\theta - \\theta\\right)=\n",
    "\\mathbb E\\left(\\hat \\theta  - \\mathbb E \\hat \\theta\\right)^2 +\\left( \\mathbb E \\hat \\theta - \\theta\\right)^2\n",
    "={\\rm Var}\\hat \\theta + {\\rm Bias}^2\\hat \\theta $$\n",
    "\n",
    "E.g. For independent sample $X_1,\\dotsc,X_n\\sim N(\\mu, \\sigma^2)$, estimator for $\\sigma^2$ that \n",
    "$\\hat \\sigma^2 = \\frac{1}{n}\\sum_{k=1}^n (X_k - \\overline X)^2$ is biased.\n",
    "\n",
    "### Moment Estimator \n",
    "\n",
    "Let $m_k = \\mathbb E(X^k)$ be the moment of order $k$. If the parameter $\\theta$ is a function of $m$, e.g.\n",
    "$\\theta = g(m_1,m_2,\\dotsc,)$, then we can estimate $\\theta $ by plugging in the observed moment, $\\hat\\theta = g(\\hat{m_1},\\hat{m_2},\\dotsc)$. "
   ]
  },
  {
   "cell_type": "markdown",
   "metadata": {},
   "source": [
    "## Confidence Interval \n",
    "\n",
    "An interval estimation $[\\hat l, \\hat u]$ for a parameter $\\theta$.\n",
    "\n",
    "### Confidence\n",
    "\n",
    "The confidence for a confidence interval is defined by $\\mathbb P\\left(\\hat l\\leqslant \\theta\\leqslant\\hat u\\right) = 1 - \\alpha$\n",
    "\n",
    "Four steps to construct a confidence interval \n",
    "1. Find a point estimation\n",
    "2. Derive the distribution of the point estimation \n",
    "3. Bound the point estimator by confidence\n",
    "4. Solve for the parameter in the bound\n"
   ]
  }
 ],
 "metadata": {
  "kernelspec": {
   "display_name": "Python 3.8.4 64-bit (system)",
   "language": "python",
   "name": "python3"
  },
  "language_info": {
   "name": "python",
   "version": "3.8.4"
  },
  "orig_nbformat": 4,
  "vscode": {
   "interpreter": {
    "hash": "1120dc956da57eca5c948a0118f4cdcd4d1b3be98c72752ed298d16085a61d24"
   }
  }
 },
 "nbformat": 4,
 "nbformat_minor": 2
}
