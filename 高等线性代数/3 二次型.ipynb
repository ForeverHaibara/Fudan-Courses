{
 "cells": [
  {
   "cell_type": "markdown",
   "metadata": {},
   "source": [
    "## References\n",
    "\n",
    "1. 姚慕生, 吴泉水, 谢启鸿, 《高等代数学(第三版)》, 复旦大学出版社, 2014.\n",
    "2. Roger A. Horn and Charles R. Johnson, Matrix Analysis (Second Edition), Cambridge University Press, 2013.\n",
    "3. Roger A. Horn and Charles R. Johnson, Topics in Matrix Analysis, Cambridge University Press, 1991.\n",
    "4. Rajendra Bhatia, Positive Definite Matrices, Princeton University Press, 2007.\n",
    "\n",
    "未标注参考出处的内容大多可以通过网络搜索查到.\n"
   ]
  },
  {
   "cell_type": "markdown",
   "metadata": {},
   "source": [
    "# 5 二次型\n",
    "\n",
    "### 二次型\n",
    "\n",
    "若 $A$ 是实对称矩阵, 实多元函数 $f(x)=x^TAx$ 称为二次型 (quadratic form). 若 $A$ 为 Hermite 矩阵, 则 $f(x)=x^*Ax$ 称为 二次型 或 Hermite 型, 注意此时 $\\overline {f(x)} = x^* A^*x = f(x)$, 因此 $f(x)$ 是实数.\n",
    "\n",
    "#### Rayleigh 商\n",
    "\n",
    "若 $A$ 是 Hermite 矩阵, 则 $f(x) = x^*Ax$ 在 $\\Vert x\\Vert_2=1$ 的约束下最大值为其最大特征值, 最小值为其最小特征值. (由谱分解显然) 这两个极值称为 Rayleigh 商 (Rayleigh quotient).\n",
    "\n",
    "#### 数值域\n",
    "\n",
    "对于一般的复矩阵 $A$ (不一定 Hermite), 其二次型 $f(x) = x^*Ax$ 在 $\\Vert x\\Vert_2 = 1$ 的约束下的值域称为数值域 (numerical range). $A$ 的数值域在复平面上是 $A$ 所有特征值的凸包.\n",
    "\n",
    "<br>\n",
    "\n",
    "### 合同变换 \n",
    "\n",
    "对于方阵 $A$, 若 $C$ 为可逆矩阵, 变换 $A\\mapsto C^TAC$ 称为 (实) 合同变换 (congruence) ($C\\in \\mathbb R^{n\\times n}$), 变换 $A\\mapsto C^*AC$ 称为复合同变换 ($C\\in \\mathbb C^{n\\times n}$). 若存在合同变换使 $A\\mapsto B$, 则称 $A,B$ 合同 (congruent).\n",
    "\n",
    "由于合同要求可逆矩阵, 故显然合同具有如下性质:\n",
    "\n",
    "(1) 自反性: $A$ 与 $A$ 合同.\n",
    "\n",
    "(2) 对称性: $A$ 与 $B$ 合同 等价于 $B$ 与 $A$ 合同.\n",
    "\n",
    "(3) 传递性: $A,B$ 合同且 $B,C$ 合同则 $A,C$ 合同.\n",
    "\n",
    "(4) 若 $A,B$ 合同, 则二次型 $x^*Ax$ 与 $x^*Bx$ 值域相同.\n",
    "\n",
    "#### 惯性指数\n",
    "\n",
    "$A$ 为 Hermite 矩阵, 记其大于 0 的特征值的数目, 小于 0 的特征值数目 与 零特征值的数目 为 $i_+(A),i_-(A),i_0(A)$, 分别称为正惯性指数, 负惯性指数 与 零惯性指数. 合称为惯性指数 (inertia): ([1] pp. 348, [2] pp. 282)\n",
    "$$ i(A) = \\left(i_+(A),i_-(A),i_0(A) \\right)$$\n",
    "\n",
    "#### 惯性标准型\n",
    "\n",
    "$A$ 为 Hermite 矩阵, 则其与它的惯性标准型 (inertia matrix) 合同, 其中惯性标准型为:\n",
    "$$\\left[\\begin{matrix}I_{i_+(A)} &  &  \\\\   &I_{i_-(A)} &  \\\\   &   & I_{i_0(A)}\\end{matrix}\\right]$$\n",
    "\n",
    "#### 惯性定理\n",
    "\n",
    "惯性定理 (Sylvester's law of inertia) : 合同变换不改变惯性, 两个 Hermite 矩阵合同当且仅当它们有相同的惯性."
   ]
  },
  {
   "cell_type": "markdown",
   "metadata": {},
   "source": [
    "## 正定矩阵\n",
    "\n",
    "以下未特别说明只对 Hermite 矩阵讨论. \n",
    "\n",
    "若 Hermite 矩阵 $A$ 所有特征值都是正数, 则其称为正定矩阵 (strictly positive matrix). 若 $A$ 有正特征值和零特征值, 但没有负特征值则称为半正定矩阵 (positive matrix). 若 $A$ 有正特征值和负特征值, 则称为不定矩阵. \n",
    "\n",
    "若 $A$ 是 Hermite 矩阵, 则有如下性质:\n",
    "\n",
    "(1) 若 $x\\neq 0$ 时总有 $x^*Ax>0$, 等价于 $A$ 正定. 若总有 $x^*Ax\\geqslant 0$, 等价于 $A$ 半正定.\n",
    "\n",
    "(2) $A$ 的所有顺序主子式行列式为正数 等价于 $A$ 正定. $A$ 的所有顺序主子式行列式非负 等价于 $A$ 半正定. \n",
    "\n",
    "(3) 正定矩阵的对角元均为实数且大于零. 半正定矩阵对角元均非负.\n",
    "\n",
    "(4) (半)正定矩阵之和还是(半)正定矩阵.\n",
    "\n",
    "#### Cholesky 分解\n",
    "\n",
    "若 $A$ 正定, 则存在唯一一个对角元均为正实数的下三角矩阵 $L$ 使得 $A = LL^*$ (若 $A$ 是实的则 $L$ 也是实的). 该分解称为 Cholesky 分解. 反之, 若 $A=LL^*$ 且 $L$ 非奇异, 则 $A$ 是正定矩阵.\n",
    "\n",
    "若 $A$ 半正定, 则存在对角元均非负的下三角矩阵 $L$ 使得 $A = LL^*$ (若 $A$ 是实的则 $L$ 也是实的).  反之, 若 $A=LL^*$, 则 $A$ 是半正定矩阵.\n",
    "\n",
    "#### 谱分解\n",
    "\n",
    "所有 Hermite 矩阵可以谱分解 (spectral decomposition). $A = UDU^*$ 或 $AU = UD$. 其中 $U$ 为酉矩阵, 每一列是 $A$ 的特征向量, $D$ 为对应特征值构成的实对角阵. 谱分解还可以写为秩1矩阵之和: $A = \\sum_{k=1}^n \\lambda_k u_ku_k^*$ 其中 $u_k$ 单位且两两正交. 显然\n",
    "\n",
    "$$A^m = \\sum_{k=1}^n \\lambda_k^m u_ku_k^*$$\n",
    "\n",
    "#### 平方根\n",
    "\n",
    "(半)正定矩阵 $A$ 有平方根 $B=A^\\frac 12$: (半) 正定矩阵 $B$ 满足 $B^2=A$. 实际上, 若设 $A = UDU^*$, 取 $B=UD^\\frac 12U^*$ 即可.\n",
    "\n",
    "#### Schur 乘积定理\n",
    "\n",
    "(Schur product) 若 $A,B$ (半)正定, 则其 Hadmard 积 $A\\circ B$ (半)正定. ([3] pp. 301, [4] pp. 8)\n",
    "\n",
    "证: 作 $A,B$ 的谱分解: $A = \\sum_{k=1}^n \\lambda_k u_ku_k^*$, $B = \\sum_{k=1}^n \\mu_k v_kv_k^*$, 因此\n",
    "$$A\\circ B = (\\sum_{i=1}^n \\lambda_i u_iu_i^*) \\circ (\\sum_{j=1}^n \\mu_j v_jv_j^*)\n",
    "=\\sum_{i=1}^n\\sum_{j=1}^n \\lambda_i \\mu_j (u_iu_i^*)\\circ (v_jv_j^*)\n",
    "=\\sum_{i=1}^n\\sum_{j=1}^n \\lambda_i \\mu_j (u_i\\circ v_j) (u_i^*\\circ v_j^*)$$\n",
    "\n",
    "右侧是 $n^2$ 个(半)正定矩阵之和, 所以 $A\\circ B$ (半)正定."
   ]
  },
  {
   "cell_type": "markdown",
   "metadata": {},
   "source": [
    "#### A-内积空间\n",
    "\n",
    "若 $A$ 为正定矩阵, 二元函数 $\\langle x,y\\rangle_A = y^*Ax$ 是内积. $\\Vert x\\Vert_A = \\sqrt{x^*Ax}$ 是对应的(向量)范数, 称作 A-范数."
   ]
  },
  {
   "cell_type": "markdown",
   "metadata": {},
   "source": [
    "### 同时合同对角化\n",
    "\n",
    "**定理** ([2] pp. 487) $A,B$ 都是 Hermite 矩阵, 且 $A$ 正定. 则存在非奇异矩阵 $S$ 使得 $A=SS^*$ 且 $B=SDS^*$ 其中 $D$ 为实对角阵.\n",
    "\n",
    "**定理** ([2] pp. 485) $A,B$ 都是 Hermite 矩阵, 且 $A$ 正定. 则存在非奇异矩阵 $S$ 使得 $A=SS^*$ 且 $S^*BS=D$ 其中 $D$ 为实对角阵."
   ]
  }
 ],
 "metadata": {
  "interpreter": {
   "hash": "1403262caf5c96c562d23c2ec1d0e9409dfef636549d4d9dd4887bed656bec38"
  },
  "kernelspec": {
   "display_name": "Python 3.8.4 64-bit (system)",
   "language": "python",
   "name": "python3"
  },
  "language_info": {
   "name": "python",
   "version": "3.8.4"
  },
  "orig_nbformat": 4
 },
 "nbformat": 4,
 "nbformat_minor": 2
}
