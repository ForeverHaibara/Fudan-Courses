{
 "cells": [
  {
   "cell_type": "markdown",
   "metadata": {},
   "source": [
    "## References\n",
    "\n",
    "1. Roger A. Horn and Charles R. Johnson, Matrix Analysis (Second Edition), Cambridge University Press, 2013."
   ]
  },
  {
   "cell_type": "markdown",
   "metadata": {},
   "source": [
    "# 7 特征值\n",
    "\n",
    "## Courant–Fischer Minimax Theorem 极小极大定理\n",
    "记号. 方阵 $A$ 的第$k$**大**的奇异值为$\\sigma_k$. \n",
    "\n",
    "记号. 若方阵 $A$ 为 Hermite 矩阵, 记第$k$**小**特征值为 $\\lambda_k(A)$.\n",
    "\n",
    "(Courant–Fischer) ([1] pp. 236)\n",
    "$$\\lambda_k \\ =\\  \\min_{{\\rm rank}(U) = k} \\mathop{\\max_{x\\in {\\rm row}(U)\\atop \\Vert x\\Vert_2 = 1}} x^*Ax \n",
    "\\ =\\  \\max_{{\\rm rank}(U) = n+1-k} \\mathop{\\min_{x\\in {\\rm row}(U)\\atop \\Vert x\\Vert_2 = 1}} x^*Ax. $$\n",
    "\n",
    "### Rayleigh 商\n",
    "\n",
    "特别地,\n",
    "$$\\lambda_1 = \\min \\frac{x^*Ax}{x^*x},\\quad \n",
    "\\lambda_n = \\max \\frac{x^*Ax}{x^*x}$$"
   ]
  },
  {
   "cell_type": "markdown",
   "metadata": {},
   "source": [
    "### Poincaré Separation Theorem 隔离定理\n",
    "\n",
    "若 $n\\times k\\ (n>k)$ 的矩阵 $Q$ 满足 $Q^*Q=I_k$, 则对于 Hermite 矩阵 $A$, ([1] pp. 248)\n",
    "$$\\lambda_i(A)\\leqslant \\lambda_i(Q^*AQ)\\leqslant \\lambda_{n-k+i}(A).$$ \n",
    "\n",
    "\n",
    "证:\n",
    "\n",
    "$$\\lambda_i(Q^*AQ)=\\min_{{\\rm rank}(U) = i} \\mathop{\\max_{x\\in {\\rm row}(U)\\atop \\Vert x\\Vert_2 = 1}} x^*Q^*AQx. $$\n",
    "\n",
    "注意 $Q^*Q = I$, 故 $Uy \\mapsto QUy$ 是双射, 故 $Row(U)\\longrightarrow Row(QU)$ 是双射.\n",
    "\n",
    "结合 $\\Vert Qx\\Vert_2^2 = x^*Q^*Qx = x^*x = \\Vert x\\Vert_2^2$, 若令 $y=Qx$, 则\n",
    "\n",
    "$$\\min_{{\\rm rank}(U) = i} \\mathop{\\max_{x\\in {\\rm row}(U)\\atop \\Vert x\\Vert_2 = 1}} x^*Q^*AQx \n",
    "= \\min_{{\\rm rank}(U) = i} \\mathop{\\max_{y\\in {\\rm row}(QU)\\atop \\Vert y\\Vert_2 = 1}} y^*Ay. $$\n",
    "\n",
    "注意 ${\\rm rank}(U)\\geqslant {\\rm rank}(QU) \\geqslant {\\rm rank}(Q^*QU) = {\\rm rank}(U)$, 故 \n",
    "${\\rm rank}(QU)={\\rm rank}(U)=i$. 因此 \n",
    "$$\\{QU| {\\rm rank}(U)=i, U\\subset R^n \\} \\subset \\{V| {\\rm rank}(V)=i, V\\subset R^n \\}.$$\n",
    "\n",
    "因此\n",
    "$$\\lambda_i(Q^*AQ)\n",
    "= \\min_{{\\rm rank}(QU) = i} \\mathop{\\max_{y\\in {\\rm row}(QU)\\atop \\Vert y\\Vert_2 = 1}} y^*Ay\n",
    "\\geqslant \\min_{{\\rm rank}(V) = i} \\mathop{\\max_{y\\in {\\rm row}(V)\\atop \\Vert y\\Vert_2 = 1}} y^*Ay\n",
    "= \\lambda_i(A).$$\n",
    "\n",
    "同理\n",
    "$$\\lambda_i(Q^*AQ)\\leqslant \\lambda_{n-k+i}(A).$$"
   ]
  },
  {
   "cell_type": "code",
   "execution_count": 24,
   "metadata": {},
   "outputs": [
    {
     "name": "stdout",
     "output_type": "stream",
     "text": [
      "-3.926877 <= -3.052868 <= -2.182393\n",
      "-3.367258 <= -2.835964 <= -0.907139\n",
      "-2.182393 <= -1.346801 <= -0.580918\n",
      "-0.907139 <= -0.756822 <= 0.890592\n",
      "-0.580918 <= 0.881933 <= 2.217261\n",
      "0.890592 <= 1.581007 <= 2.528416\n",
      "2.217261 <= 2.809923 <= 2.977110\n",
      "2.528416 <= 4.368789 <= 4.951946\n"
     ]
    }
   ],
   "source": [
    "import numpy as np\n",
    "n , k = 10 , 8\n",
    "A = np.random.randn(n,n) \n",
    "A = (A + A.T.conj()) / 2.   # to Hermite\n",
    "Q = np.linalg.qr(np.random.randn(n,k))[0]\n",
    "B = Q.T @ A @ Q\n",
    "u , v = np.linalg.eigvalsh(A) , np.linalg.eigvalsh(B)\n",
    "for i in range(k):\n",
    "    print('%.6f <= %.6f <= %.6f'%(u[i],v[i],u[i-k]))"
   ]
  },
  {
   "cell_type": "markdown",
   "metadata": {},
   "source": [
    "### Cauchy's Interlacing Theorem 柯西交错定理\n",
    "(Cauchy) 若 $A$ 是 $n\\times n$ 的 Hermite 阵（则特征值都是实数）, 设 $A$ 的前 $(n-1)$ 行与前 $(n-1)$ 列构成 Hermite 阵 $B$, 则 ([1] pp. 242)\n",
    "$$\\lambda_1(A)\\leqslant \\lambda_1(B)\\leqslant \\lambda_2(A)\\leqslant \\lambda_2(B) \\leqslant \\cdots \n",
    "\\leqslant \\lambda_{n-1}(A)\\leqslant \\lambda_{n-1}(B) \\leqslant \\lambda_n(A).$$\n",
    "\n",
    "证:\n",
    "取 $Q = \\left[\\begin{matrix} I_{n-1} \\\\ 0\\end{matrix}\\right]$, 则 $Q^*Q = I_{n-1}$. \n",
    "注意 $B = Q^*AQ$, 运用**Poincaré Separation Theorem**, 得\n",
    "$$\\lambda_i(A)\\leqslant \\lambda_i(B) \\leqslant \\lambda_{i+1}(A).$$"
   ]
  },
  {
   "cell_type": "code",
   "execution_count": 22,
   "metadata": {},
   "outputs": [
    {
     "name": "stdout",
     "output_type": "stream",
     "text": [
      "-5.221824 <= -5.137579 <= -3.598130 <= -2.740290 <= -2.480573 <= -2.304974 <= -1.827582 <= -0.854917 <= -0.788340 <= -0.597603 <= -0.204771 <= 0.386571 <= 1.790189 <= 1.796895 <= 2.659210 <= 3.031490 <= 3.193260 <= 3.969319 <= 4.551648 "
     ]
    }
   ],
   "source": [
    "import numpy as np\n",
    "n = 10\n",
    "A = np.random.randn(n,n) + np.random.randn(n,n)*1j\n",
    "A = (A + A.T.conj()) / 2. # to Hermite\n",
    "u , v = np.linalg.eigvalsh(A) , np.linalg.eigvalsh(A[:-1,:-1])\n",
    "\n",
    "print('%.6f '%(u[0]), end='')\n",
    "for i in range(n-1):\n",
    "    print('<= %.6f <= %.6f '%(v[i],u[i+1]) ,end='')"
   ]
  },
  {
   "cell_type": "markdown",
   "metadata": {},
   "source": [
    "### Weyl 定理\n",
    "\n",
    "$A,B$ 为 $n\\times n$ 的 Hermite 阵, 则 ([1] pp. 239)\n",
    "\n",
    "$$\\lambda_{i-k+1}(A)+\\lambda_k(B)\\leqslant \\lambda_i(A+B)\\leqslant \\lambda_{i+j}(A)+\\lambda_{n-j}(B)$$\n",
    "\n",
    "### 推论\n",
    "\n",
    "([1] pp. 242)\n",
    "\n",
    "$$\\lambda_{i}(A)+\\lambda_1(B)\\leqslant \\lambda_i(A+B)\\leqslant \\lambda_{i}(A)+\\lambda_{n}(B)$$\n",
    "\n",
    "若 $B$ 半正定, 则\n",
    "\n",
    "$$\\lambda_{i}(A)\\leqslant \\lambda_i(A+B)$$\n",
    "\n",
    "### 推论2\n",
    "\n",
    "若 $A,B$ 为 Hermite 矩阵, 则其特征值的距离被 $A-B$ 控制:\n",
    "\n",
    "$$\\max_k |\\lambda_k(A)-\\lambda_k(B)| \\leqslant \\rho(A-B)  \\leqslant \\Vert A-B\\Vert_2$$"
   ]
  },
  {
   "cell_type": "markdown",
   "metadata": {},
   "source": [
    "### Hoffman-Wiedlant 不等式\n",
    "\n",
    "若 $A,B$ 为 Hermite 矩阵, 则其特征值的总距离被 A-B 控制:\n",
    "$$\\sum_{k=1}^n \\left(\\lambda_k \\left(A\\right) - \\lambda_k \\left(B\\right)\\right)^2 \\leqslant \\Vert A-B\\Vert_F^2$$\n",
    "\n",
    "### 其它\n",
    "\n",
    "若 $A$ 为 Hermite 矩阵, 则 $\\sum_{i=1}^n |\\lambda_i| \\geqslant \\sum_{i=1}^n |a_{ii}|^2$.\n",
    "\n",
    "证: 谱分解,  $A = \\sum_{i=1}^n \\lambda_i q_iq_i^*$, 其中 $q_i$ 为一组标准正交基. 再记 $e_i = [0,0,\\dotsc,1,0,\\dotsc,0]^T$ 为单位阵的第 $i$ 列. 则 \n",
    "$$a_{jj} = e_j^*Ae_j = \\sum_{i=1}^n \\lambda_i e_j^*q_iq_i^*e_j=\\sum_{i=1}^n \\lambda_i |q_i^*e_j|^2$$\n",
    "于是\n",
    "$$\\sum_{j=1}^n |a_{jj}|\\leqslant \\sum_{j=1}^n \\sum_{i=1}^n |\\lambda_i| |q_i^*e_j|^2\n",
    "=\\sum_{i=1}^n |\\lambda_i| \\sum_{j=1}^n |q_i^*e_j|^2\n",
    "=\\sum_{i=1}^n |\\lambda_i| \\sum_{j=1}^n |q_{ij}|^2=\\sum_{i=1}^n |\\lambda_i| .\n",
    "$$"
   ]
  },
  {
   "cell_type": "code",
   "execution_count": 36,
   "metadata": {},
   "outputs": [
    {
     "name": "stdout",
     "output_type": "stream",
     "text": [
      "8.25062053835345 9.447292821748807\n"
     ]
    }
   ],
   "source": [
    "import numpy as np\n",
    "n = 10\n",
    "A = np.random.randn(n,n)\n",
    "B = np.random.randn(n,n)\n",
    "A = (A + A.T.conj())/2.\n",
    "B = (B + B.T.conj())/2.\n",
    "u , v = np.linalg.eigvalsh(A) , np.linalg.eigvalsh(B) \n",
    "dist = np.sum(np.square(u - v))\n",
    "fro  = np.linalg.norm(A - B)\n",
    "print(dist, fro)"
   ]
  },
  {
   "cell_type": "markdown",
   "metadata": {},
   "source": [
    "### Kyfan's Trace Minimization Theorem 樊畿迹极小化定理\n",
    "\n",
    "已知 $n\\times n$ 的 Hermite 阵 $A$, 则对于满足 $Q^*Q = I_k$ 的 $Q\\in \\mathbb C^{n\\times k}$, ([1] pp. 248)\n",
    "\n",
    "$${\\rm tr}\\left(Q^*AQ\\right) \\geqslant \\lambda_1(A)+\\lambda_2(A)+\\dotsc + \\lambda_k(A)$$\n",
    "$${\\rm tr}\\left(Q^*AQ\\right) \\leqslant \\lambda_n(A)+\\lambda_{n-1}(A)+\\dotsc + \\lambda_{n+1-k}(A)\\\\$$\n",
    "\n",
    "当 $Q$ 为 $A$ 的最小(最大)的 k 个特征值对应的特征向量构成的矩阵可相应取等.\n",
    "\n",
    "### 推论\n",
    "\n",
    "已知 $n\\times n$ 的任意方阵 $A$, 设其奇异值为 $\\sigma_1\\geqslant \\sigma_2 \\geqslant \\dotsc \\geqslant \\sigma_n$, 则对于满足 $Q^*Q = I_k$ 的 $Q\\in \\mathbb C^{n\\times k}$, 有:\n",
    "\n",
    "$$\\sum_{i=n-k+1}^n \\sigma_i^2 (A)\\leqslant \\Vert AQ\\Vert_F^2\\leqslant \\sum_{i=1}^k \\sigma_i^2 (A)$$\n",
    "\n",
    "且 $Q$ 为 $A$ 相应奇异向量构成的矩阵时可以取等."
   ]
  },
  {
   "cell_type": "markdown",
   "metadata": {},
   "source": [
    "### 奇异值的 Courant-Fischer 极小极大定理\n",
    "\n",
    "记号. $A\\in \\mathbb C^{m\\times n}$,  $m\\geqslant n$, 其奇异值降序排列: $\\sigma_1(A)\\geqslant \\dotsc\\geqslant \\sigma_n(A)\\geqslant 0$.\n",
    "\n",
    "则 \n",
    "$$\\sigma_k(A) = \\max_{{\\rm rank}(U)=k}\\mathop{\\min_{x\\in {\\rm row}(U)\\atop \\Vert x\\Vert_2 = 1}} \\Vert Ax\\Vert_2\n",
    "\\ =\\  \\max_{{\\rm rank}(U) = n+1-k} \\mathop{\\min_{x\\in {\\rm row}(U)\\atop \\Vert x\\Vert_2 = 1}} \\Vert Ax\\Vert_2. $$\n",
    "\n",
    "### Rayleigh 商\n",
    "\n",
    "特别地, \n",
    "\n",
    "$$\\sigma_1(A) = \\max_{\\Vert x\\Vert_2=1} \\Vert Ax\\Vert_2,\\quad \n",
    "\\sigma_n(A) = \\min_{\\Vert x\\Vert_2=1}\\Vert Ax\\Vert_2$$\n",
    "\n",
    "且,\n",
    "$$\\sigma_1(A) = \\max_{\\Vert x\\Vert_2=\\Vert y\\Vert_2=1} |y^*Ax|$$\n",
    "\n",
    "证: 若 $\\Vert x\\Vert_2=\\Vert y\\Vert_2=1$, 则 $A^*yy^*A$ 是秩 1 矩阵,\n",
    "$$x^*A^*yy^*Ax\\leqslant \\lambda_n(A^*yy^*A)={\\rm tr}(A^*yy^*A) = {\\rm tr}(y^*AA^*y)\\leqslant \\sigma_1(A)^2$$\n",
    "\n",
    "最后一步不等式是 Kyfan 定理的推论. 显然可取等.\n",
    "\n",
    "### 奇异值的 Weyl 不等式\n",
    "\n",
    "$$\\max_k |\\sigma_k(A)-\\sigma_k(B)|\\leqslant \\Vert A-B\\Vert_2$$\n",
    "\n",
    "证: 由 Schur 补的技巧易证 $\\sigma_k(A)=\\lambda_{m+n+1-k}\\left(\\left[\\begin{matrix}0 & A^T\\\\A & 0\\end{matrix}\\right]\\right)$, $\\sigma_k(B)=\\lambda_{m+n+1-k}\\left(\\left[\\begin{matrix}0 & B^T\\\\B & 0\\end{matrix}\\right]\\right)$\n",
    "从而\n",
    "$$\\max_k |\\sigma_k(A)-\\sigma_k(B)|\\leqslant \\Vert \\left[\\begin{matrix}0 & (A-B)^T\\\\(A-B)& 0\\end{matrix}\\right]\\Vert_2\n",
    "\\leqslant \\sigma_1(A-B) = \\Vert A-B\\Vert_2\n",
    "$$\n",
    "\n",
    "\n",
    "### 奇异值的 Hoffman-Wielandt 不等式\n",
    "\n",
    "$$\\sum_{k=1}^n \\left(\\sigma_k(A)-\\sigma_k(B)\\right)^2\\leqslant \\Vert A-B\\Vert_F^2$$"
   ]
  },
  {
   "cell_type": "code",
   "execution_count": 50,
   "metadata": {},
   "outputs": [
    {
     "name": "stdout",
     "output_type": "stream",
     "text": [
      "[-2.22323294 -1.97377794 -0.70409105 -0.07513333  0.07513333  0.70409105\n",
      "  1.97377794  2.22323294]\n",
      "[2.22323294 1.97377794 0.70409105 0.07513333]\n"
     ]
    }
   ],
   "source": [
    "import numpy as np\n",
    "n = 4\n",
    "A = np.random.randn(n,n)\n",
    "B = np.zeros((n*2,n*2))\n",
    "B[n:,:n] = A.T\n",
    "B[:n,n:] = A\n",
    "print(np.linalg.eigvalsh(B))\n",
    "print(np.linalg.svd(A)[1])"
   ]
  },
  {
   "cell_type": "markdown",
   "metadata": {},
   "source": [
    "### Eckart-Young Theorem 最佳低秩逼近\n",
    "\n",
    "$$\\min_{{\\rm rank}(B)\\leqslant k}\\Vert A-B\\Vert_2 = \\sigma_{k+1}(A)$$\n",
    "$$\\min_{{\\rm rank}(B)\\leqslant k}\\Vert A-B\\Vert_F^2 = \\sum_{i=k+1}^n \\sigma_i(A)^2\n",
    "$$\n",
    "\n",
    "取等只需要在 $A$ 的奇异值分解中滤去最小的若干奇异值即可. "
   ]
  },
  {
   "cell_type": "markdown",
   "metadata": {},
   "source": [
    "## Gerschgorin 定理\n",
    "\n",
    "方阵 $A$ 所有特征值位于 $n$ 个盖尔圆盘的并集中:\n",
    "\n",
    "$$\\lambda_k(A)\\in \\bigcup_{i=1}^n \\{|z-a_{ii}| \\leqslant \\sum_{j\\neq i}|a_{ij}|\\}$$\n",
    "\n",
    "更强地, 若并集中某一连通区域恰有 $m$ 个圆盘, 则应恰有 $m$ 个特征值落在该连通区域, 称为 Gerschgorin 第二圆盘定理.\n",
    "\n",
    "考虑转置, 上述定理每个圆盘的半径全改为对列求和同样成立:\n",
    "\n",
    "$$\\lambda_k(A)\\in \\bigcup_{i=1}^n \\{|z-a_{ii}| \\leqslant \\sum_{j\\neq i}|a_{ji}|\\}$$\n",
    "\n",
    "\n",
    "<br>\n",
    "\n",
    "若 $A\\in \\mathbb C^{n\\times n}$ 是 Hermite 矩阵, 则如下每个圆盘至少含有 1 个特征值:\n",
    "\n",
    "$$D_i = \\{|z-a_{ii}|^2\\leqslant \\sum_{j\\neq i}|a_{ij}|^2\\}$$"
   ]
  }
 ],
 "metadata": {
  "interpreter": {
   "hash": "1403262caf5c96c562d23c2ec1d0e9409dfef636549d4d9dd4887bed656bec38"
  },
  "kernelspec": {
   "display_name": "Python 3.8.4 64-bit (system)",
   "language": "python",
   "name": "python3"
  },
  "language_info": {
   "codemirror_mode": {
    "name": "ipython",
    "version": 3
   },
   "file_extension": ".py",
   "mimetype": "text/x-python",
   "name": "python",
   "nbconvert_exporter": "python",
   "pygments_lexer": "ipython3",
   "version": "3.8.4"
  },
  "orig_nbformat": 4
 },
 "nbformat": 4,
 "nbformat_minor": 2
}
