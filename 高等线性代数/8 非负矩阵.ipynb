{
 "cells": [
  {
   "cell_type": "markdown",
   "metadata": {},
   "source": [
    "## References\n",
    "\n",
    "1. Roger A. Horn and Charles R. Johnson, Matrix Analysis (Second Edition), Cambridge University Press, 2013."
   ]
  },
  {
   "cell_type": "markdown",
   "metadata": {},
   "source": [
    "# 11 矩阵函数\n",
    "\n",
    "定义. 设 $\\Omega$ 是复平面的区域, 且包含方阵 $A$ 的特征值, 函数 $f$ 在 $\\Omega$ 上解析, 则定义对应的矩阵函数\n",
    "$$f(A)=\\frac{1}{2\\pi i}\\int_{\\partial \\Omega} f(z)\\left(zI - A\\right)^{-1}dz$$\n",
    " \n",
    "**定理**. 若在 $\\Omega$ 上 $f(z) = \\sum_{k=0}a_kz^k$, 则如上定义的 $f(A)=\\sum_{k=0}a_kA^k$.\n",
    "\n",
    "证: 可基于如下相似变换变成 Jordan 标准型再代入定义公式计算.\n",
    "\n",
    "**定理**. 若 $A = P^{-1}BP$, 则 $f(A) = P^{-1}f(B)P$.\n",
    "\n",
    "证: $$f(A)=\\frac{1}{2\\pi i}\\int_{\\partial \\Omega} f(z)\\left(zI - P^{-1}BP\\right)^{-1}dz\n",
    "=\\frac{1}{2\\pi i}\\int_{\\partial \\Omega} f(z)P^{-1}\\left(zI -B\\right)^{-1}Pdz= P^{-1}f(B)P$$\n",
    "\n",
    "**推论**. 若 $A$ 可对角化 $A=P^{-1}\\left[\\begin{matrix}\\lambda_1 & & \\\\  &\\ddots & \\\\  & & \\lambda_n\\end{matrix}\\right]P$, 则 $f(A)=P^{-1}\\left[\\begin{matrix}f(\\lambda_1) & & \\\\  &\\ddots & \\\\  & & f(\\lambda_n)\\end{matrix}\\right]P$, 相当于<font color=red>函数作用在特征值上</font>. \n",
    "\n",
    "对于一般的方阵相当于作用于 Jordan 标准型.\n",
    "\n",
    "\n",
    "\n",
    "### 平方根\n",
    "\n",
    "对于(半)正定矩阵 $A$ 存在唯一的 (半)正定矩阵 $B$ 使得 $B^2=A$, 记 $A^{\\frac 12}=B$.\n",
    "\n",
    "证: 其存在性利用矩阵函数作用在特征值这点是显而易见的.\n",
    "\n",
    "唯一性: 假设 $B,C$ 均满足 $B^2=C^2=A$ 且 (半)正定. 由于 $B,C$ 均可对角化故可以表为 $A$ 的多项式, 从而 $B,C$ 可交换故可同时对角化: \n",
    "$$B=U^*D_1U\\quad C=U^*D_2U$$\n",
    "\n",
    "因此 $D_1^2=D_2^2$ 继而根据对角阵的正定性有 $D_1=D_2$.\n",
    "\n",
    "### 指数函数\n",
    "\n",
    "对于任何方阵 $A$ 均可如上定义指数函数 $e^{A}=\\exp(A)=\\sum_{k=0}^{\\infty}\\frac{A^k}{k!}$, 它具有如下性质:\n",
    "\n",
    "1. 若 $AB=BA$, 则 $e^{A}e^{B}=e^{A+B}$ (从幂级数定义显然).\n",
    "2. ${\\rm det}(e^A) = e^{{\\rm tr}(A)}$\n",
    "3. ${\\rm det}(e^Ae^B) = {\\rm det}(e^{A+B})$\n",
    "4. $\\frac{d}{dt}e^{At} = Ae^{At}$\n",
    "\n",
    "### 对数函数\n",
    "\n",
    "非奇异方阵 $A$ 存在对数函数: $\\log (A)$, 由于需要考虑复平面, 对数函数不一定唯一. 它具有如下性质:\n",
    "\n",
    "1. $\\exp(\\log(A)) = A$\n",
    "2. 若 $AB=BA$, 则 $\\log (AB) = \\log A+\\log B$\n",
    "3. ${\\rm tr}\\log A=\\log {\\rm det} A$\n",
    "4. ${\\rm tr}\\log (AB)={\\rm tr}\\log A+{\\rm tr}\\log B$"
   ]
  },
  {
   "cell_type": "markdown",
   "metadata": {},
   "source": [
    "# 12 非负矩阵\n",
    "\n",
    "定义. 正矩阵为所有元素都大于 0 的实矩阵, 非负矩阵为所有元素都非负的实矩阵. (与正定性或对称性无关.) ([1] pp. 524)\n",
    "\n",
    "正矩阵有如下性质:\n",
    "\n",
    "1. $\\rho(A)>0$, 即不是幂零矩阵.\n",
    "2. $\\rho(A)$ 是 $A$ 的特征值, 即最大特征值是实数.\n",
    "3. $\\rho(A)$ 特征值重数为 1. \n",
    "4. 在圆 $|z|=\\rho(A)$ 上, $\\rho(A)$ 是唯一的特征值.\n",
    "5. 存在元素均为正数的向量使得 $Ax = \\rho(A)x$, 即正的特征向量.\n",
    "6. $\\lim_{k\\rightarrow \\infty}(A/\\rho(A))^k$ 收敛至一个秩 1 的正矩阵.\n",
    "\n",
    "对于非负矩阵有如下性质:\n",
    "1. $\\rho(A)$ 是 $A$ 的特征值.\n",
    "2. 存在元素均为非负数的向量使得 $Ax = \\rho(A)x$, 即非负的特征向量.\n",
    "\n",
    "对于不可约非负矩阵有如下性质:\n",
    "1. $\\rho(A)>0$, 即不是幂零矩阵.\n",
    "2. $\\rho(A)$ 是 $A$ 的特征值.\n",
    "3. $\\rho(A)$ 特征值重数为 1. \n",
    "4. 存在元素均为正数的向量使得 $Ax = \\rho(A)x$, 即正的特征向量.\n",
    " \n",
    "### 可约性\n",
    "\n",
    "对于非负矩阵 $A$, 以下三条等价:\n",
    "1. $A$不可约\n",
    "2. $A$为强连通图\n",
    "3. $(I+A)^{n-1}$ 是正矩阵.\n",
    "\n",
    "### Perron 根\n",
    "\n",
    "称非负矩阵的特征值 $\\rho(A)$ 为 Perron 根.  对应的正特征向量为 Perron 向量.\n",
    "\n",
    "对于不可约非负矩阵, ([1] pp. 522)\n",
    "\n",
    "$$\\rho(A) = \\max_{x>0}\\min_i \\frac{1}{x_i}\\sum_{j=1}^na_{ij}x_j\n",
    "= \\min_{x>0}\\max_i \\frac{1}{x_i}\\sum_{j=1}^na_{ij}x_j\n",
    "$$\n",
    "\n",
    "证: 首先证明不等式关系 \n",
    "$$\\min_i \\frac{1}{x_i}\\sum_{j=1}^na_{ij}x_j\n",
    "\\leqslant \\rho(A)\\leqslant \\max_i \\frac{1}{x_i}\\sum_{j=1}^na_{ij}x_j$$\n",
    "\n",
    "显然只需考虑 $x_i\\equiv 1$ 的情况, 在此基础上可以通过相似变换得到一般情况. 此时右侧不等式为 Gerschgorin 定理. 对于左侧不等式, 由齐次性不妨 $\\rho(A)=1$, 取 $A$ 的 Perron 向量 $u$, 并设 $u_k = \\min_{i} u_i$. 注意 $\\sum_i a_{ki}u_i = u_k$ 知 $\\sum_i a_{ki}\\leqslant 1=\\rho(A)$.\n",
    "\n",
    "再证明可以取等. 显然取 $x$ 为 $A$ 的 Perron 向量即可取等."
   ]
  },
  {
   "cell_type": "code",
   "execution_count": 7,
   "metadata": {},
   "outputs": [
    {
     "data": {
      "text/plain": [
       "<matplotlib.collections.PathCollection at 0x21ffba9a130>"
      ]
     },
     "execution_count": 7,
     "metadata": {},
     "output_type": "execute_result"
    },
    {
     "data": {
      "image/png": "[encoded data removed]",
      "text/plain": [
       "<Figure size 792x432 with 1 Axes>"
      ]
     },
     "metadata": {
      "needs_background": "light"
     },
     "output_type": "display_data"
    }
   ],
   "source": [
    "import numpy as np\n",
    "import matplotlib.pyplot as plt\n",
    "n = 100\n",
    "A = np.random.random((n,n))\n",
    "eigs = np.linalg.eigvals(A)\n",
    "plt.figure(figsize=(11,6))\n",
    "plt.scatter([_.real for _ in eigs],[_.imag for _ in eigs],s=5,color='r')"
   ]
  },
  {
   "cell_type": "markdown",
   "metadata": {},
   "source": [
    "若实矩阵 $A$ 所有特征值的实部均非负, 且对角元以外的元素均非正, 且 $A$ 可逆, 求证 $A^{-1}$ 所有元素均非负.\n",
    "\n",
    "证: 取足够大的 $\\lambda>0$ 使得 $B = -A+\\lambda I$ 所有元素均非负, 则由 Perron 定理知 $B$ 的谱半径 $\\rho(B)$ 是 $B$ 的特征值. \n",
    "\n",
    "因此 $A = \\lambda I -B$ 有特征值 $\\lambda - \\rho(B)$, 说明 $\\lambda > \\rho(B)$.\n",
    "于是由 Neumann 级数, \n",
    "$$A^{-1} = (\\lambda I - B)^{-1} = \\lambda^{-1}\\sum_{k=0}^{\\infty}\\left(\\frac{B}{\\lambda}\\right)^k$$\n",
    "是非负矩阵之和, 因此 $A^{-1}$ 所有元素均非负."
   ]
  }
 ],
 "metadata": {
  "interpreter": {
   "hash": "1120dc956da57eca5c948a0118f4cdcd4d1b3be98c72752ed298d16085a61d24"
  },
  "kernelspec": {
   "display_name": "Python 3.8.4 64-bit (system)",
   "language": "python",
   "name": "python3"
  },
  "language_info": {
   "codemirror_mode": {
    "name": "ipython",
    "version": 3
   },
   "file_extension": ".py",
   "mimetype": "text/x-python",
   "name": "python",
   "nbconvert_exporter": "python",
   "pygments_lexer": "ipython3",
   "version": "3.8.4"
  },
  "orig_nbformat": 4
 },
 "nbformat": 4,
 "nbformat_minor": 2
}
