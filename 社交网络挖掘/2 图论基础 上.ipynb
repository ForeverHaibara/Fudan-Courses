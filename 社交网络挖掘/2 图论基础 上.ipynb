{
 "cells": [
  {
   "cell_type": "markdown",
   "metadata": {},
   "source": [
    "# 2 图论基础 上\n",
    "\n"
   ]
  },
  {
   "cell_type": "markdown",
   "metadata": {},
   "source": [
    "## 网络流\n",
    "\n",
    "网络流是一个带权有向图, 每条有向边 $(u,v)$ 都有一个容量 $c(u,v)\\geqslant 0$ 与流量 $f(u,v)\\in [0,c(u,v)]$.\n",
    "\n",
    "且有一个源点 $s$ 与汇点 $t$, 对于源点与汇点以外的点的流进流量等于流出流量.\n",
    "\n",
    "网络的总流量等于从源点流出的流量, 也等于流进汇点的流量.\n",
    "\n",
    "### Ford-Fulkerson 算法\n",
    "\n",
    "给定网络以及每条边的容量, Ford-Fulkerson 用来求网络的最大总流量.\n",
    "\n",
    "### 二分图的最大匹配\n",
    "\n",
    "设一个二分图的顶点分成 $(A,B)$ 两块. 可以构建一个点 $s$ 指向 $A$ 中每个顶点, 再构建一个顶点 $t$ 被 $B$ 中每个顶点指向, 然后让 $A$ 中每个顶点指向 $B$. 设每条边容量为 $1$, 则整个新的网络最大流对应二分图的最大匹配."
   ]
  }
 ],
 "metadata": {
  "kernelspec": {
   "display_name": "Python 3.8.4 64-bit (system)",
   "language": "python",
   "name": "python3"
  },
  "language_info": {
   "name": "python",
   "version": "3.8.4"
  },
  "orig_nbformat": 4,
  "vscode": {
   "interpreter": {
    "hash": "1120dc956da57eca5c948a0118f4cdcd4d1b3be98c72752ed298d16085a61d24"
   }
  }
 },
 "nbformat": 4,
 "nbformat_minor": 2
}
