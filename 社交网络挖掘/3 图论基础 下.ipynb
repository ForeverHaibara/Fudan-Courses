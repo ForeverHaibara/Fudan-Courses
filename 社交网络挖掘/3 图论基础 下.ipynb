{
 "cells": [
  {
   "cell_type": "markdown",
   "metadata": {},
   "source": [
    "# 3 图论基础 下 \n",
    "\n"
   ]
  },
  {
   "cell_type": "markdown",
   "metadata": {},
   "source": [
    "## 中心性度量\n",
    "\n",
    "### 度中心性 \n",
    "\n",
    "对于一个顶点, 度中心性 (degree centrality) 定义为其度数 $C(v) =d$. 对于有向图, 可以定义为入度或出度或入度+出度.\n",
    "\n",
    "也可以归一化\n",
    "$$\\left\\{\\begin{aligned}C_d^{\\rm norm}(v_i)& = \\frac{d_i}{|V| -1}\\\\ \n",
    "C_d^{\\rm max}(v_i) &= \\frac{d_i}{\\max_j d_j}\\\\ \n",
    "C_d^{\\rm sum}(v_i) &= \\frac{d_i}{\\sum_j d_j} = \\frac{d_i}{2|E|}\\end{aligned}\\right.$$\n",
    "\n",
    "这个度量认为度数越大, 点越位于\"中心\". \n",
    "\n",
    "\n",
    "### 特征向量中心性\n",
    "\n",
    "一般不能简单地看点的度数衡量中心程度. 还要看一个点的邻居的中心性. \n",
    "\n",
    "假设 $A$ 是邻接矩阵 (每个元素为 $0$ 或 $1$), 希望一个点的中心性和邻居的中心性之和成正比, 即\n",
    "$$C(v_i) = \\alpha \\sum_{j=1}^n A_{ji}C(v_j) \\ \\Rightarrow\\ \\frac{1}{\\alpha} C = A^TC$$\n",
    "取 $\\alpha^{-1}$, $C$ 为 $A$ 最大特征值及对应的特征向量 (由 Perron 定理可以保证 $\\lambda$, $C$ 的元素均非负实数), 这就是特征向量中心性 (eigenvector centrality).\n",
    "\n",
    "### Katz 中心性\n",
    "\n",
    "特征向量中心性中, 没有入度的点的中心性都为零. 为了区分这些点, 可以加一个偏置 (bias), 即\n",
    "$$C(v_i) = \\alpha  \\sum_{j=1}^n A_{ji}C(v_j) + \\beta  \n",
    "\\ \\Rightarrow\\ C =\\alpha A^TC+\\beta e$$\n",
    "\n",
    "解得 (一类解为) ${\\rm det}( I - \\alpha A^T)\\neq 0$, 取 $C = \\beta(  I -\\alpha A^T)^{-1}e$. \n",
    "\n",
    "这就是 Katz 中心性 (Leo Katz 提出, 1953).\n",
    "\n",
    "### PageRank 中心性\n",
    "\n",
    "若每个点来自邻居的中心性要根据其出度按比例贡献, 即为 PageRank 中心性 (Google 提出).\n",
    "$$C(v_i) = \\alpha \\sum_{j=1}^n A_{ji}\\frac{C(v_j)}{d_j^{\\rm out}} + \\beta $$\n",
    "\n",
    "\n",
    "### HITS 中心性\n",
    "\n",
    "每个网络分为权威值 (authority) $a$ 与 中枢值 (hub) $h$. 权威值衡量网站内容的质量 (如维基百科), 中枢值衡量一个网页指向权威网页的数量 (如导航页). 建立如下关系 \n",
    "$$a_i = \\lambda \\sum_{(j,i)\\in E}h_i\\quad\\quad h_i =\\mu \\sum_{(i,j)\\in E}a_j$$\n",
    "矩阵形式为\n",
    "$$a = \\lambda A^Th\\quad \\quad h = \\mu Aa$$\n",
    "解得 $a,h$ 分别为 $A^TA,AA^T$ 的特征向量, 即 $A$ 的右左奇异向量. \n"
   ]
  },
  {
   "cell_type": "markdown",
   "metadata": {},
   "source": [
    "### 中介中心性\n",
    "\n",
    "对于一个顶点 $v_i$, 用图中任意两点最短路径是否经过 $v_i$ 衡量. 这是中介中心性 (betweenness centrality). 亦称中间中心性.\n",
    "\n",
    "$$C_b (i) = \\sum_{s\\neq t\\neq i}\\frac{\\sigma_{st}(i)}{\\sigma_{st}}$$\n",
    "\n",
    "其中 $\\sigma_{st}$ 表示 $s$ 到 $t$ 的最短路径数量 (可以不唯一). $\\sigma_{st}(i)$ 表示这些最短路径中经过点 $i$ 的数量.\n",
    "\n",
    "### 接近中心性\n",
    "\n",
    "用一个点到达其它点的平均距离衡量, 即接近中心性 (closeness centrality).\n",
    "\n",
    "$$C_C(i) =  \\frac{1}{(|V| - 1)\\sum_{i\\neq j}l_{ij}}$$\n",
    "\n",
    "其中 $l_{ij}$ 表示 $i$ 到 $j$ 的最短距离.\n",
    "\n",
    "### 群体中心性\n",
    "\n",
    "不止是一个顶点, 一个点集 $S$ 也可以定义群体中心性 (group centrality), 类似地可以定义群体度中心性、 群体中介中心性、 群体接近中心性."
   ]
  },
  {
   "cell_type": "markdown",
   "metadata": {},
   "source": [
    "## 网络联系\n",
    "\n",
    "### 三元组\n",
    "\n",
    "图中的一个角称为三元组. 三角形有三个三元组. 若一个点度数为 $d$, 则其贡献 $\\binom{d}{2}$ 个三元组.\n",
    "\n",
    "### 聚类系数\n",
    "\n",
    "一个图的聚类系数 (cluster coefficient) 定义为 \n",
    "$${\\rm 聚类系数} = \\frac{{\\rm 三角形数量}\\times 3}{三元组数量}$$\n",
    "\n",
    "节点的聚类系数定义为\n",
    "$${\\rm 节点聚类系数} = \\frac{{\\rm 包含该节点的三角形数量}\\times 3}{以该节点为角顶点的三元组数量}$$"
   ]
  }
 ],
 "metadata": {
  "kernelspec": {
   "display_name": "Python 3.8.4 64-bit (system)",
   "language": "python",
   "name": "python3"
  },
  "language_info": {
   "name": "python",
   "version": "3.8.4"
  },
  "orig_nbformat": 4,
  "vscode": {
   "interpreter": {
    "hash": "1120dc956da57eca5c948a0118f4cdcd4d1b3be98c72752ed298d16085a61d24"
   }
  }
 },
 "nbformat": 4,
 "nbformat_minor": 2
}
