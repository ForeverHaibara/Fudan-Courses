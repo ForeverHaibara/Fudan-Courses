{
 "cells": [
  {
   "cell_type": "markdown",
   "metadata": {},
   "source": [
    "# 6 社区挖掘\n",
    "\n",
    "社区 (community): 具有相似特征的一些节点团体. 社区可以分为显式 (explicit) 社区和隐式 (implicit) 社区. 社区发现关注隐式社区.\n",
    "\n",
    "社区发现算法主要分为：\n",
    "1. 基于成员的社区发现：个体的特征相似\n",
    "2. 基于群组的社区发现：认识关系紧密\n"
   ]
  },
  {
   "cell_type": "markdown",
   "metadata": {},
   "source": [
    "## 基于节点度数的社区发现\n",
    "\n",
    "\n",
    "\n",
    "### 团\n",
    "\n",
    "图的完全图子图称为团 (clique). 若团有 $|V|$ 个顶点, 则团的每个顶点的度数为 $|V|-1$. 搜索一个图的最大团是 NP 问题. 可以降低要求, 使用简化团.\n",
    "\n",
    "对于一个整数 $k\\geqslant 1$, 若一个子图有 $|V|$ 个顶点且每个顶点度数不小于 $|V|-k$, 则称为简化团或 $k$-簇 (k-plex). (不过搜索一个图的最大$k$簇仍然是 NP 问题)\n",
    "\n",
    "### 团过滤算法 (CPM)"
   ]
  },
  {
   "cell_type": "markdown",
   "metadata": {},
   "source": [
    "### 基于节点可达性的社区发现\n",
    "\n",
    "$k$-clique: 满足任意两个点**在原图上的**最短路径不超过 $k$ 的**最大**连通子图.\n",
    "\n",
    "$k$-club: 满足任意两个点**在原图上的**最短路径不超过 $k$ 的, 且任意两个点的**在原图上的**最短路径也包含在子图中的连通子图.\n",
    "\n",
    "$k$-clan: 既是 $k$-clique 又是 $k$-club."
   ]
  },
  {
   "cell_type": "markdown",
   "metadata": {},
   "source": [
    "### 基于节点相似度的社区发现\n",
    "\n",
    "先计算节点相似度或特征, 然后用聚类算法."
   ]
  },
  {
   "cell_type": "markdown",
   "metadata": {},
   "source": [
    "## 基于群组的社区发现\n",
    "\n",
    "\n"
   ]
  },
  {
   "cell_type": "markdown",
   "metadata": {},
   "source": [
    "### 层次化社区发现\n",
    "\n",
    "(Newman, 2002) 定义边介数 (edge betweenness): 图中任意两点经过该边的组数. 算法: 每次删除图中边介数最大的边."
   ]
  },
  {
   "cell_type": "markdown",
   "metadata": {},
   "source": [
    "\n",
    "### 动态社区发现\n",
    "\n",
    "现实世界网络随时间 $t$ 演变, 则 $t+1$ 时间的社区分类可以基于 $t$ 时间分类."
   ]
  },
  {
   "cell_type": "markdown",
   "metadata": {},
   "source": [
    "## 社区演变\n",
    "\n",
    "常见的演变: 分裂、致密化、缩径.\n",
    "\n",
    "\n",
    "### 分裂\n",
    "\n",
    "例如网络的中心节点离开.\n",
    "\n",
    "网络可能分解成巨大结构、星状结构、单元素.\n",
    "\n",
    "\n",
    "### 致密化\n",
    "\n",
    "网络增长过程中，图的密度也会变大，且边数大约是关于顶点数的幂函数.\n",
    "\n",
    "$$|E| \\approx \\lambda |V|^\\alpha \\quad (1\\leqslant \\alpha\\leqslant 2 )$$\n",
    "\n",
    "### 缩径\n",
    "\n",
    "网络增长过程中，图的直径会变小."
   ]
  },
  {
   "cell_type": "markdown",
   "metadata": {},
   "source": [
    "## 社区评价\n",
    "\n",
    "可以评价社区分类的效果.\n",
    "\n",
    "### 有监督\n",
    "\n",
    "若有真实分类答案, 可以验证任意两个顶点 $(v_i,v_j)$ 是否有分在同一社区. 计算 TP, TN, FP, FN, 准确率, 召回率, F1 等指标.\n",
    "\n",
    "或用纯度: $\\frac{1}{|V|}\\sum_{i=1}^k M_i$ 其中 $k$ 为分类数, $M_i$ 为第 $i$ 类中真实标签的众数.\n",
    "\n",
    "### 无监督\n",
    "\n",
    "用聚类的指标评价.\n"
   ]
  }
 ],
 "metadata": {
  "language_info": {
   "name": "python"
  },
  "orig_nbformat": 4
 },
 "nbformat": 4,
 "nbformat_minor": 2
}
