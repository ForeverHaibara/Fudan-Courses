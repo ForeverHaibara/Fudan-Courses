{
 "cells": [
  {
   "cell_type": "markdown",
   "metadata": {},
   "source": [
    "# 5 数据挖掘概论\n",
    "\n",
    " KDD (Knowledge Discovery in Database): 从数据中发掘隐藏的有用的模式.\n",
    "\n",
    " 数据预处理（数据清理、数据集成）→数据选择→数据变换→数据挖掘→模式评估→知识表示\n",
    "\n"
   ]
  },
  {
   "cell_type": "markdown",
   "metadata": {},
   "source": [
    "## 数据预处理\n",
    "\n",
    "* 数据聚合\n",
    "* 数据集成\n",
    "* 数据离散化\n",
    "* 特征筛选\n",
    "* 特征提取\n",
    "\n",
    "### 数据采样\n",
    "\n",
    "采样一部分数据研究. 在大规模社交网络中, 可以只爬取距离种子用户在 $n$ 跳范围内的节点用户与边. (由于六度分割, $n$ 可以很小, 如 $n\\approx 3$.)"
   ]
  },
  {
   "cell_type": "markdown",
   "metadata": {},
   "source": [
    "\n",
    "## 频繁模式挖掘\n",
    "\n",
    "频繁模式挖掘 (frequent pattern mining) 亦称关联规则挖掘. 定义两个事件 $A,B$ 的支持度 (support) 与置信度 (confidence) 为\n",
    "$$\\begin{aligned}{\\rm support}(A\\Rightarrow B) &= \\mathbb P(A\\cap B) = {\\rm support}(B\\Rightarrow A)\\\\\n",
    "{\\rm confidence}(A\\Rightarrow B) &= \\mathbb P(B|A)\\end{aligned}$$\n",
    "\n",
    "假设有 $n$ 个事件 $A_1,\\dotsc,A_n$ (称为\"项\"), 任意若干个的交集构成全集 $\\Omega = \\left\\{X:\\ X = \\cap_{j=1}^k A_{a_j}\\right\\}$.\n",
    "\n",
    "每个事件 $X\\in\\Omega$ 都有对应的出现概率 $\\mathbb P(X)$. 任取一个阈值 ${\\rm min\\_sup}$, 如果 $\\mathbb P(X)\\geqslant {\\rm min\\_sup}$ 则称 $X$ 是频繁项集.\n",
    "\n",
    "<br>\n",
    "\n",
    "* 若 $B\\subset A$, 则 $\\mathbb P(B)\\leqslant \\mathbb P(A)$.\n",
    "* 若 $B\\subset A$ 且 $B$ 是频繁的, 则显然 $A$ 是频繁的.\n",
    "* 若对于集合 $A$, 不存在 $B$ 使得 $B\\subset A$ 且 ${\\rm support}(A) = {\\rm support}(B)$, 则称 $A$ 是闭项集.\n",
    "* 若对于频繁的 $A$, 不存在 $B$ 使得 $B\\subset A$ 且 $B$ 是频繁的, 则称 $A$ 是极小频繁的.\n",
    "\n",
    "### Apriori算法\n",
    "\n",
    "给定阈值 ${\\rm min\\_sup}$, Apriori算法用于求解所有频繁集. 算法: 先找只有一个事件构成的频繁集, 然后在此基础上看哪些可以构成两项的频繁集, ......"
   ]
  },
  {
   "cell_type": "markdown",
   "metadata": {},
   "source": [
    "## 分类算法\n",
    "\n",
    "### 决策树与随机森林\n",
    "\n",
    "\n",
    "### 朴素贝叶斯\n",
    "\n",
    "### K-近邻算法\n",
    "\n",
    "(K-Nearest Neighbors, KNN) 每个点选取最近的 $K$ 个邻居, 用邻居中最多的一类类别预测该节点的类别.\n",
    "\n",
    "### 基于社交辅助的分类\n",
    "\n",
    "社交网路中, 每个节点分类的概率受到其邻居的影响, 即\n",
    "\n",
    "$$\\mathbb P(i)=  \\frac{\\sum_{j\\in N(i)} \\mathbb P(i)}{|N(i)|}$$\n",
    "\n",
    "进行迭代计算直至收敛.\n",
    "\n"
   ]
  },
  {
   "cell_type": "markdown",
   "metadata": {},
   "source": [
    "## 聚类算法\n",
    "\n",
    "假设没有已知的类别. 将点进行无监督地归类 (簇), 即聚类 (clustering).\n",
    "\n",
    "### 距离度量\n",
    "\n",
    "欧氏距离、余弦相似度.\n"
   ]
  },
  {
   "cell_type": "code",
   "execution_count": 38,
   "metadata": {},
   "outputs": [],
   "source": [
    "import numpy as np\n",
    "from matplotlib import pyplot as plt\n",
    "import plotly.graph_objects as go\n",
    "# Download GLoVE embedding at https://www.kaggle.com/datasets/anmolkumar/glove-embeddings\n",
    "data_dir = 'D:\\\\Python Projects\\\\Neural Network\\\\RNN\\\\Glove Embedding\\\\glove.6B.50d.txt'\n",
    "data = {}\n",
    "with open(data_dir, 'r', errors='ignore') as f:\n",
    "    for i in range(9000):\n",
    "        data_line = f.readline().split()\n",
    "        data[data_line[0]] = np.array([float(i) for i in data_line[1:]])"
   ]
  },
  {
   "cell_type": "code",
   "execution_count": 71,
   "metadata": {},
   "outputs": [
    {
     "data": {
      "application/vnd.plotly.v1+json": {
       "config": {
        "plotlyServerURL": "https://plot.ly"
       },
       "data": [
        {
         "colorscale": [
          [
           0,
           "#000004"
          ],
          [
           0.1111111111111111,
           "#1b0c41"
          ],
          [
           0.2222222222222222,
           "#4a0c6b"
          ],
          [
           0.3333333333333333,
           "#781c6d"
          ],
          [
           0.4444444444444444,
           "#a52c60"
          ],
          [
           0.5555555555555556,
           "#cf4446"
          ],
          [
           0.6666666666666666,
           "#ed6925"
          ],
          [
           0.7777777777777778,
           "#fb9b06"
          ],
          [
           0.8888888888888888,
           "#f7d13d"
          ],
          [
           1,
           "#fcffa4"
          ]
         ],
         "type": "heatmap",
         "x": [
          "cat",
          "orange",
          "tree",
          "green",
          "pretty",
          "perfectly",
          "enjoy"
         ],
         "y": [
          "cat",
          "orange",
          "tree",
          "green",
          "pretty",
          "perfectly",
          "enjoy"
         ],
         "z": [
          [
           0.9999999999999999,
           0.4069568871182626,
           0.5660999362000334,
           0.5011106373843551,
           0.5043202337691028,
           0.34869878786571057,
           0.3538394130989055
          ],
          [
           0.4069568871182626,
           1,
           0.5638017200935664,
           0.7566696948773824,
           0.27160832890218933,
           0.19649292254301956,
           0.2687145125112531
          ],
          [
           0.5660999362000334,
           0.5638017200935664,
           1,
           0.7451863003373721,
           0.3802981778344767,
           0.3240330137464272,
           0.29526855318659556
          ],
          [
           0.5011106373843551,
           0.7566696948773824,
           0.7451863003373721,
           1,
           0.5464789258229319,
           0.5063022539695823,
           0.3649299072678148
          ],
          [
           0.5043202337691028,
           0.27160832890218933,
           0.3802981778344767,
           0.5464789258229319,
           0.9999999999999998,
           0.80054170797375,
           0.5923959621855229
          ],
          [
           0.34869878786571057,
           0.19649292254301956,
           0.3240330137464272,
           0.5063022539695823,
           0.80054170797375,
           1,
           0.5132574733002943
          ],
          [
           0.3538394130989055,
           0.2687145125112531,
           0.29526855318659556,
           0.3649299072678148,
           0.5923959621855229,
           0.5132574733002943,
           0.9999999999999999
          ]
         ]
        }
       ],
       "layout": {
        "template": {
         "data": {
          "bar": [
           {
            "error_x": {
             "color": "#2a3f5f"
            },
            "error_y": {
             "color": "#2a3f5f"
            },
            "marker": {
             "line": {
              "color": "#E5ECF6",
              "width": 0.5
             },
             "pattern": {
              "fillmode": "overlay",
              "size": 10,
              "solidity": 0.2
             }
            },
            "type": "bar"
           }
          ],
          "barpolar": [
           {
            "marker": {
             "line": {
              "color": "#E5ECF6",
              "width": 0.5
             },
             "pattern": {
              "fillmode": "overlay",
              "size": 10,
              "solidity": 0.2
             }
            },
            "type": "barpolar"
           }
          ],
          "carpet": [
           {
            "aaxis": {
             "endlinecolor": "#2a3f5f",
             "gridcolor": "white",
             "linecolor": "white",
             "minorgridcolor": "white",
             "startlinecolor": "#2a3f5f"
            },
            "baxis": {
             "endlinecolor": "#2a3f5f",
             "gridcolor": "white",
             "linecolor": "white",
             "minorgridcolor": "white",
             "startlinecolor": "#2a3f5f"
            },
            "type": "carpet"
           }
          ],
          "choropleth": [
           {
            "colorbar": {
             "outlinewidth": 0,
             "ticks": ""
            },
            "type": "choropleth"
           }
          ],
          "contour": [
           {
            "colorbar": {
             "outlinewidth": 0,
             "ticks": ""
            },
            "colorscale": [
             [
              0,
              "#0d0887"
             ],
             [
              0.1111111111111111,
              "#46039f"
             ],
             [
              0.2222222222222222,
              "#7201a8"
             ],
             [
              0.3333333333333333,
              "#9c179e"
             ],
             [
              0.4444444444444444,
              "#bd3786"
             ],
             [
              0.5555555555555556,
              "#d8576b"
             ],
             [
              0.6666666666666666,
              "#ed7953"
             ],
             [
              0.7777777777777778,
              "#fb9f3a"
             ],
             [
              0.8888888888888888,
              "#fdca26"
             ],
             [
              1,
              "#f0f921"
             ]
            ],
            "type": "contour"
           }
          ],
          "contourcarpet": [
           {
            "colorbar": {
             "outlinewidth": 0,
             "ticks": ""
            },
            "type": "contourcarpet"
           }
          ],
          "heatmap": [
           {
            "colorbar": {
             "outlinewidth": 0,
             "ticks": ""
            },
            "colorscale": [
             [
              0,
              "#0d0887"
             ],
             [
              0.1111111111111111,
              "#46039f"
             ],
             [
              0.2222222222222222,
              "#7201a8"
             ],
             [
              0.3333333333333333,
              "#9c179e"
             ],
             [
              0.4444444444444444,
              "#bd3786"
             ],
             [
              0.5555555555555556,
              "#d8576b"
             ],
             [
              0.6666666666666666,
              "#ed7953"
             ],
             [
              0.7777777777777778,
              "#fb9f3a"
             ],
             [
              0.8888888888888888,
              "#fdca26"
             ],
             [
              1,
              "#f0f921"
             ]
            ],
            "type": "heatmap"
           }
          ],
          "heatmapgl": [
           {
            "colorbar": {
             "outlinewidth": 0,
             "ticks": ""
            },
            "colorscale": [
             [
              0,
              "#0d0887"
             ],
             [
              0.1111111111111111,
              "#46039f"
             ],
             [
              0.2222222222222222,
              "#7201a8"
             ],
             [
              0.3333333333333333,
              "#9c179e"
             ],
             [
              0.4444444444444444,
              "#bd3786"
             ],
             [
              0.5555555555555556,
              "#d8576b"
             ],
             [
              0.6666666666666666,
              "#ed7953"
             ],
             [
              0.7777777777777778,
              "#fb9f3a"
             ],
             [
              0.8888888888888888,
              "#fdca26"
             ],
             [
              1,
              "#f0f921"
             ]
            ],
            "type": "heatmapgl"
           }
          ],
          "histogram": [
           {
            "marker": {
             "pattern": {
              "fillmode": "overlay",
              "size": 10,
              "solidity": 0.2
             }
            },
            "type": "histogram"
           }
          ],
          "histogram2d": [
           {
            "colorbar": {
             "outlinewidth": 0,
             "ticks": ""
            },
            "colorscale": [
             [
              0,
              "#0d0887"
             ],
             [
              0.1111111111111111,
              "#46039f"
             ],
             [
              0.2222222222222222,
              "#7201a8"
             ],
             [
              0.3333333333333333,
              "#9c179e"
             ],
             [
              0.4444444444444444,
              "#bd3786"
             ],
             [
              0.5555555555555556,
              "#d8576b"
             ],
             [
              0.6666666666666666,
              "#ed7953"
             ],
             [
              0.7777777777777778,
              "#fb9f3a"
             ],
             [
              0.8888888888888888,
              "#fdca26"
             ],
             [
              1,
              "#f0f921"
             ]
            ],
            "type": "histogram2d"
           }
          ],
          "histogram2dcontour": [
           {
            "colorbar": {
             "outlinewidth": 0,
             "ticks": ""
            },
            "colorscale": [
             [
              0,
              "#0d0887"
             ],
             [
              0.1111111111111111,
              "#46039f"
             ],
             [
              0.2222222222222222,
              "#7201a8"
             ],
             [
              0.3333333333333333,
              "#9c179e"
             ],
             [
              0.4444444444444444,
              "#bd3786"
             ],
             [
              0.5555555555555556,
              "#d8576b"
             ],
             [
              0.6666666666666666,
              "#ed7953"
             ],
             [
              0.7777777777777778,
              "#fb9f3a"
             ],
             [
              0.8888888888888888,
              "#fdca26"
             ],
             [
              1,
              "#f0f921"
             ]
            ],
            "type": "histogram2dcontour"
           }
          ],
          "mesh3d": [
           {
            "colorbar": {
             "outlinewidth": 0,
             "ticks": ""
            },
            "type": "mesh3d"
           }
          ],
          "parcoords": [
           {
            "line": {
             "colorbar": {
              "outlinewidth": 0,
              "ticks": ""
             }
            },
            "type": "parcoords"
           }
          ],
          "pie": [
           {
            "automargin": true,
            "type": "pie"
           }
          ],
          "scatter": [
           {
            "fillpattern": {
             "fillmode": "overlay",
             "size": 10,
             "solidity": 0.2
            },
            "type": "scatter"
           }
          ],
          "scatter3d": [
           {
            "line": {
             "colorbar": {
              "outlinewidth": 0,
              "ticks": ""
             }
            },
            "marker": {
             "colorbar": {
              "outlinewidth": 0,
              "ticks": ""
             }
            },
            "type": "scatter3d"
           }
          ],
          "scattercarpet": [
           {
            "marker": {
             "colorbar": {
              "outlinewidth": 0,
              "ticks": ""
             }
            },
            "type": "scattercarpet"
           }
          ],
          "scattergeo": [
           {
            "marker": {
             "colorbar": {
              "outlinewidth": 0,
              "ticks": ""
             }
            },
            "type": "scattergeo"
           }
          ],
          "scattergl": [
           {
            "marker": {
             "colorbar": {
              "outlinewidth": 0,
              "ticks": ""
             }
            },
            "type": "scattergl"
           }
          ],
          "scattermapbox": [
           {
            "marker": {
             "colorbar": {
              "outlinewidth": 0,
              "ticks": ""
             }
            },
            "type": "scattermapbox"
           }
          ],
          "scatterpolar": [
           {
            "marker": {
             "colorbar": {
              "outlinewidth": 0,
              "ticks": ""
             }
            },
            "type": "scatterpolar"
           }
          ],
          "scatterpolargl": [
           {
            "marker": {
             "colorbar": {
              "outlinewidth": 0,
              "ticks": ""
             }
            },
            "type": "scatterpolargl"
           }
          ],
          "scatterternary": [
           {
            "marker": {
             "colorbar": {
              "outlinewidth": 0,
              "ticks": ""
             }
            },
            "type": "scatterternary"
           }
          ],
          "surface": [
           {
            "colorbar": {
             "outlinewidth": 0,
             "ticks": ""
            },
            "colorscale": [
             [
              0,
              "#0d0887"
             ],
             [
              0.1111111111111111,
              "#46039f"
             ],
             [
              0.2222222222222222,
              "#7201a8"
             ],
             [
              0.3333333333333333,
              "#9c179e"
             ],
             [
              0.4444444444444444,
              "#bd3786"
             ],
             [
              0.5555555555555556,
              "#d8576b"
             ],
             [
              0.6666666666666666,
              "#ed7953"
             ],
             [
              0.7777777777777778,
              "#fb9f3a"
             ],
             [
              0.8888888888888888,
              "#fdca26"
             ],
             [
              1,
              "#f0f921"
             ]
            ],
            "type": "surface"
           }
          ],
          "table": [
           {
            "cells": {
             "fill": {
              "color": "#EBF0F8"
             },
             "line": {
              "color": "white"
             }
            },
            "header": {
             "fill": {
              "color": "#C8D4E3"
             },
             "line": {
              "color": "white"
             }
            },
            "type": "table"
           }
          ]
         },
         "layout": {
          "annotationdefaults": {
           "arrowcolor": "#2a3f5f",
           "arrowhead": 0,
           "arrowwidth": 1
          },
          "autotypenumbers": "strict",
          "coloraxis": {
           "colorbar": {
            "outlinewidth": 0,
            "ticks": ""
           }
          },
          "colorscale": {
           "diverging": [
            [
             0,
             "#8e0152"
            ],
            [
             0.1,
             "#c51b7d"
            ],
            [
             0.2,
             "#de77ae"
            ],
            [
             0.3,
             "#f1b6da"
            ],
            [
             0.4,
             "#fde0ef"
            ],
            [
             0.5,
             "#f7f7f7"
            ],
            [
             0.6,
             "#e6f5d0"
            ],
            [
             0.7,
             "#b8e186"
            ],
            [
             0.8,
             "#7fbc41"
            ],
            [
             0.9,
             "#4d9221"
            ],
            [
             1,
             "#276419"
            ]
           ],
           "sequential": [
            [
             0,
             "#0d0887"
            ],
            [
             0.1111111111111111,
             "#46039f"
            ],
            [
             0.2222222222222222,
             "#7201a8"
            ],
            [
             0.3333333333333333,
             "#9c179e"
            ],
            [
             0.4444444444444444,
             "#bd3786"
            ],
            [
             0.5555555555555556,
             "#d8576b"
            ],
            [
             0.6666666666666666,
             "#ed7953"
            ],
            [
             0.7777777777777778,
             "#fb9f3a"
            ],
            [
             0.8888888888888888,
             "#fdca26"
            ],
            [
             1,
             "#f0f921"
            ]
           ],
           "sequentialminus": [
            [
             0,
             "#0d0887"
            ],
            [
             0.1111111111111111,
             "#46039f"
            ],
            [
             0.2222222222222222,
             "#7201a8"
            ],
            [
             0.3333333333333333,
             "#9c179e"
            ],
            [
             0.4444444444444444,
             "#bd3786"
            ],
            [
             0.5555555555555556,
             "#d8576b"
            ],
            [
             0.6666666666666666,
             "#ed7953"
            ],
            [
             0.7777777777777778,
             "#fb9f3a"
            ],
            [
             0.8888888888888888,
             "#fdca26"
            ],
            [
             1,
             "#f0f921"
            ]
           ]
          },
          "colorway": [
           "#636efa",
           "#EF553B",
           "#00cc96",
           "#ab63fa",
           "#FFA15A",
           "#19d3f3",
           "#FF6692",
           "#B6E880",
           "#FF97FF",
           "#FECB52"
          ],
          "font": {
           "color": "#2a3f5f"
          },
          "geo": {
           "bgcolor": "white",
           "lakecolor": "white",
           "landcolor": "#E5ECF6",
           "showlakes": true,
           "showland": true,
           "subunitcolor": "white"
          },
          "hoverlabel": {
           "align": "left"
          },
          "hovermode": "closest",
          "mapbox": {
           "style": "light"
          },
          "paper_bgcolor": "white",
          "plot_bgcolor": "#E5ECF6",
          "polar": {
           "angularaxis": {
            "gridcolor": "white",
            "linecolor": "white",
            "ticks": ""
           },
           "bgcolor": "#E5ECF6",
           "radialaxis": {
            "gridcolor": "white",
            "linecolor": "white",
            "ticks": ""
           }
          },
          "scene": {
           "xaxis": {
            "backgroundcolor": "#E5ECF6",
            "gridcolor": "white",
            "gridwidth": 2,
            "linecolor": "white",
            "showbackground": true,
            "ticks": "",
            "zerolinecolor": "white"
           },
           "yaxis": {
            "backgroundcolor": "#E5ECF6",
            "gridcolor": "white",
            "gridwidth": 2,
            "linecolor": "white",
            "showbackground": true,
            "ticks": "",
            "zerolinecolor": "white"
           },
           "zaxis": {
            "backgroundcolor": "#E5ECF6",
            "gridcolor": "white",
            "gridwidth": 2,
            "linecolor": "white",
            "showbackground": true,
            "ticks": "",
            "zerolinecolor": "white"
           }
          },
          "shapedefaults": {
           "line": {
            "color": "#2a3f5f"
           }
          },
          "ternary": {
           "aaxis": {
            "gridcolor": "white",
            "linecolor": "white",
            "ticks": ""
           },
           "baxis": {
            "gridcolor": "white",
            "linecolor": "white",
            "ticks": ""
           },
           "bgcolor": "#E5ECF6",
           "caxis": {
            "gridcolor": "white",
            "linecolor": "white",
            "ticks": ""
           }
          },
          "title": {
           "x": 0.05
          },
          "xaxis": {
           "automargin": true,
           "gridcolor": "white",
           "linecolor": "white",
           "ticks": "",
           "title": {
            "standoff": 15
           },
           "zerolinecolor": "white",
           "zerolinewidth": 2
          },
          "yaxis": {
           "automargin": true,
           "gridcolor": "white",
           "linecolor": "white",
           "ticks": "",
           "title": {
            "standoff": 15
           },
           "zerolinecolor": "white",
           "zerolinewidth": 2
          }
         }
        }
       }
      }
     },
     "metadata": {},
     "output_type": "display_data"
    }
   ],
   "source": [
    "words = ['cat', 'orange', 'tree', 'green', 'pretty', 'perfectly', 'enjoy']\n",
    "\n",
    "X = np.vstack([data[word].reshape((1,-1)) for word in words])\n",
    "X /= np.linalg.norm(X, axis = 1, keepdims = True)\n",
    "\n",
    "# https://www.tutorialspoint.com/plotly/plotly_heatmap.htm https://plotly.com/python/heatmaps/\n",
    "go.Figure(data = [go.Heatmap(z = X @ X.T, x = words, y = words, colorscale = 'Inferno')])"
   ]
  },
  {
   "cell_type": "markdown",
   "metadata": {},
   "source": [
    "\n",
    "\n",
    "### K-均值\n",
    "\n",
    "(K-Means) 对于度量空间的若干个点, 先随机选取 $k$ 个点作为**中心点**. 然后再将所有点归类为最近的中心点. 再将每一类的中心作为新的中心点, 如此迭代.\n",
    "\n",
    "该方法效果与初始随机的中心点有关.\n"
   ]
  },
  {
   "cell_type": "code",
   "execution_count": 237,
   "metadata": {},
   "outputs": [
    {
     "name": "stderr",
     "output_type": "stream",
     "text": [
      "100%|██████████| 30/30 [00:01<00:00, 20.75it/s]"
     ]
    },
    {
     "name": "stdout",
     "output_type": "stream",
     "text": [
      "['month', 'year']\n",
      "['jennifer', 'friend', 'manager']\n",
      "['move', 'pretty', 'perfectly', 'crazy', 'survive', 'hands', 'can', 'shadow', 'terrible', 'somewhere', 'tears', 'weakness', 'illness', 'reluctant', 'overcome']\n",
      "['age', 'southwestern', 'hospital']\n",
      "['criminals', 'legislators', 'christians', 'massacre', 'conspiracy']\n",
      "['tree', 'sun', 'orange', 'blue', 'red', 'yellow', 'bird', 'mediterranean']\n",
      "['cat', 'dog', 'beautiful', 'themes', 'holidays', 'pure']\n",
      "['run', 'play', 'sprint']\n"
     ]
    },
    {
     "name": "stderr",
     "output_type": "stream",
     "text": [
      "\n"
     ]
    }
   ],
   "source": [
    "from tqdm import tqdm\n",
    "def KMeans(X, k, iter = 10):\n",
    "    X /= np.linalg.norm(X, axis = 1, keepdims = True)\n",
    "    center_indices = np.arange(X.shape[0])\n",
    "    np.random.shuffle(center_indices)\n",
    "    centers = X[center_indices[:k]] # random initialize centers\n",
    "    for i in tqdm(range(iter)):\n",
    "        classes = np.argmax(X @ centers.T, axis = 1)\n",
    "        for c in range(k):\n",
    "            centers[c] = ((classes == c).reshape((-1, 1)) * X).mean(axis = 0)\n",
    "        centers /= np.linalg.norm(centers, axis = 1, keepdims = True)\n",
    "    return classes\n",
    "\n",
    "np.random.seed(0)\n",
    "words = list(data.keys())\n",
    "X = np.vstack([data[word].reshape((1,-1)) for word in words])\n",
    "classes = KMeans(X, 9, iter = 30)\n",
    "\n",
    "words2 = 'cat dog tree move run play sun pretty beautiful perfectly month year age jennifer friend manager crazy criminals orange southwestern legislators worker christians survive blue red yellow massacre bird individual business hospital treatment hands can shadow themes ambitious terrible somewhere sprint tears holidays legally pure weakness illness techniques reluctant overcome conspiracy implement useful mediterranean'.split()\n",
    "words_in_classes = [[word for word in words2 if classes[words.index(word)] == i] for i in range(np.max(classes))]\n",
    "print('\\n'.join(['%s'%c for c in  words_in_classes]))"
   ]
  },
  {
   "cell_type": "markdown",
   "metadata": {},
   "source": [
    "\n",
    "### 层次聚类\n",
    "\n",
    "凝聚法是最常用的层次聚类法: 先将所有点各自作为一类. 然后将最近的两类合并. 重复上一步直至认为可以终止 (类似 Kruskal) .\n",
    "\n",
    "### 聚类评估\n",
    "\n",
    "假设最终分为 $k$ 簇, 第 $i$ 簇有 $x_{i1},\\dotsc,x_{i,m_i}$, 第 $i$ 簇的中心为 $c_i$.  总共数目为 $\\sum_{i=1}^{k}m_i = n$. \n",
    "评估聚类效果的指标有:\n",
    "\n",
    "* 内聚性: $\\sum_{i=1}^k \\sum_{j=1}^{m_i}\\Vert x_{ij} - c_i\\Vert^2$\n",
    "* 离散性: $\\sum_{i=1}^k \\Vert c_i - \\frac{1}{n}\\sum_{i,j}x_{ij}\\Vert^2$\n",
    "* Silhouette 指数: 令\n",
    "$$\\begin{aligned}a(i,j) &= \\frac{1}{n-1}\\sum_{(i',j')\\neq(i,j)}\\Vert x_{ij}-x_{i'j'}\\Vert^2\n",
    "\\\\ b(i,j) &= \\min_{i'\\neq i}\\frac{1}{m_i'}\\sum_{j'=1}^{m_i'}\\Vert x_{ij} - x_{i'j'}\\Vert^2 \n",
    "\\\\ {\\rm Silhouette} &= \\frac{1}{n}\\sum_{i,j}\\frac{b(i,j) - a(i,j)}{\\max (b(j),a(j))}\\end{aligned}$$"
   ]
  }
 ],
 "metadata": {
  "kernelspec": {
   "display_name": "Python 3.8.4 64-bit",
   "language": "python",
   "name": "python3"
  },
  "language_info": {
   "codemirror_mode": {
    "name": "ipython",
    "version": 3
   },
   "file_extension": ".py",
   "mimetype": "text/x-python",
   "name": "python",
   "nbconvert_exporter": "python",
   "pygments_lexer": "ipython3",
   "version": "3.8.4"
  },
  "orig_nbformat": 4,
  "vscode": {
   "interpreter": {
    "hash": "1120dc956da57eca5c948a0118f4cdcd4d1b3be98c72752ed298d16085a61d24"
   }
  }
 },
 "nbformat": 4,
 "nbformat_minor": 2
}
