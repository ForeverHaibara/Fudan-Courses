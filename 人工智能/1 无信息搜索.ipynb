{
 "cells": [
  {
   "cell_type": "markdown",
   "metadata": {},
   "source": [
    "# 1 无信息搜素\n",
    "\n",
    "## 基本概念\n",
    "\n",
    "### 状态\n",
    "\n",
    "状态刻画了一个场景的所有变量. 状态空间是所有状态的集合. 搜索问题是要从开始状态到达目标(结尾)状态.\n",
    "\n",
    "### 后继函数\n",
    "\n",
    "每个状态可以通过一些动作进入另一个状态, 并有一定的代价 / 损耗.\n",
    "\n",
    "### 搜索树\n",
    "\n",
    "将每个状态看成节点, 将每个后继关系看成有向边, 这些共同构成一个有向无环图. 根节点是开始状态节点, 即形成一个树结构.\n",
    "\n",
    "**一个状态节点只能在搜索树出现一次**\n",
    "\n",
    "注: 如果状态存在循环, 可以通过引入时间变量来防止形成有环图, 但是树无限大."
   ]
  },
  {
   "cell_type": "code",
   "execution_count": 28,
   "metadata": {},
   "outputs": [],
   "source": [
    "from random import sample\n",
    "class Node:\n",
    "    def __init__(self, name = ''):\n",
    "        self.name = name\n",
    "        self.children = []\n",
    "    def __str__(self):\n",
    "        return self.name\n",
    "    def AppendChild(self, node):\n",
    "        self.children.append(node)\n",
    "\n",
    "def ConstructGraph(edges):\n",
    "    \"\"\"Construct an acyclic, directed graph with given edges and node names\"\"\"\n",
    "    nodes = set()\n",
    "    for edge in edges:\n",
    "        for name in edge:\n",
    "            nodes.add(name)\n",
    "    nodes = dict((name, Node(name)) for name in nodes)\n",
    "    for edge in edges:\n",
    "        nodes[edge[0]].AppendChild(nodes[edge[1]])\n",
    "    return nodes\n",
    "        \n",
    "graph = ['sd','de','db','dc','ba','ca','fc','fg','rf','er','eh','hq','hp','pq','sp','se']\n",
    "graph = sample(graph, len(graph)) # random permutation\n",
    "graph = ConstructGraph(graph)"
   ]
  },
  {
   "cell_type": "markdown",
   "metadata": {},
   "source": [
    "## 搜索算法概念\n",
    "\n",
    "### 过程\n",
    "* 搜索开始: 从搜索树的根节点开始\n",
    "* 节点扩展: 访问一个**未访问**但是**已发现**的节点\n",
    "* 节点生成: **发现**新的节点\n",
    "* 目标测试: 判断当且节点对应的状态是不是目标状态 (游戏胜利)\n",
    "\n",
    "### 实现模块\n",
    "* 搜索边缘: (frontier / fringe) 已经**发现**但是**未访问**的所有节点\n",
    "* 节点扩展: **访问**一个节点, 并枚举它的邻居节点\n",
    "* 节点发现: 将节点扩展中的新节点加入搜索边缘\n",
    "* <font color=red>搜索策略</font>: 在搜索边缘中确定下一个要**访问**的节点的策略\n",
    "\n",
    "\"生成\" (generate) 与 \"发现\" (discover) 是同义词. 而 \"访问\" (visit) 与 \"扩展\" (expand) 是同义词。这两对同义词可能会在下文中使用.\n",
    "\n",
    "### 搜索算法评价\n",
    "\n",
    "搜索算法会生成搜索树 (数据结构的树结构). 用 $b$ 表示分支因子, 即每一个节点的相邻 (后继) 节点数量. $m$ 表示搜索树的深度 (层数) 减一. $s$ 为目标状态的节点.\n",
    "\n",
    "搜索树的根节点只有 $1$ 个节点, 但该根节点可以衍生出 $b$ 个节点, 继而这 $b$ 个节点每个衍生出 $b$ 个节点... 总共节点数量为\n",
    "$$1+b+\\dotsc+b^m = \\frac{b^{m+1}-1}{b-1} = O(b^m)$$\n",
    "\n",
    "* 完备性: 如果存在目标节点, 理论上是否一定能搜索到?\n",
    "* 最优性: 最先找到的目标节点是不是损耗最小的?\n",
    "* 时间复杂度: 用总共搜索节点数衡量.\n",
    "* 空间复杂度: 一般用搜索边缘的大小衡量. 因为要保存搜索边缘."
   ]
  },
  {
   "cell_type": "markdown",
   "metadata": {},
   "source": [
    "## 搜索算法\n",
    "\n",
    "### 深度优先搜索 \n",
    "\n",
    "深度优先搜索 (Depth-First Search, DFS) 的策略: 每次选择搜索树深度最大的未被访问的节点, 将其扩展.\n",
    "\n",
    "DFS 不完备, 如果有环可能卡死在环上或树高无限的分支.\n",
    "\n",
    "DFS 并非最优, 它常常一条路吊死.\n",
    "\n",
    "最劣情况下, DFS 生成节点个数可以达到 $O(b^m)$.\n",
    "\n",
    "搜索边缘需保存每层正在查找的节点发现的后继 $b$ 个节点, 空间复杂度为 $O(bm)$.\n"
   ]
  },
  {
   "cell_type": "code",
   "execution_count": 29,
   "metadata": {},
   "outputs": [
    {
     "name": "stdout",
     "output_type": "stream",
     "text": [
      "-> s(1) -> e(2) -> h(3) -> p(4) -> q(5) -> q(4) -> r(3) -> f(4) -> g(5) "
     ]
    },
    {
     "data": {
      "text/plain": [
       "True"
      ]
     },
     "execution_count": 29,
     "metadata": {},
     "output_type": "execute_result"
    }
   ],
   "source": [
    "def DFS(node: Node, aim, depth = 1, maxdepth = 100):\n",
    "    if depth > maxdepth:\n",
    "        return False\n",
    "    print('-> %s(%d) '%(node, depth), end = '')\n",
    "    if node.name == aim:\n",
    "        return True \n",
    "    for child in node.children: # frontier\n",
    "        if DFS(child, aim, depth + 1, maxdepth):\n",
    "            return True \n",
    "    return False\n",
    "\n",
    "DFS(graph['s'], aim = 'g')    "
   ]
  },
  {
   "cell_type": "markdown",
   "metadata": {},
   "source": [
    "### 广度优先搜索\n",
    "\n",
    "广度优先搜索 (Breadth-First Search, BFS) 的策略: 每次选择搜索树深度最小的未被访问的节点, 将其扩展. 这样刚好相当于按层搜索.\n",
    "\n",
    "\n",
    "BFS 是完备且最优的.\n",
    "\n",
    "BFS 生成节点个数是 $O(b^m)$.\n",
    "\n",
    "由于最新一层每个节点都有 $b$ 个后继节点, 空间复杂度是 $O(b^{m+1})$."
   ]
  },
  {
   "cell_type": "code",
   "execution_count": 30,
   "metadata": {},
   "outputs": [
    {
     "name": "stdout",
     "output_type": "stream",
     "text": [
      "-> s(1) -> e(2) -> p(2) -> d(2) -> h(3) -> r(3) -> q(3) -> b(3) -> e(3) -> c(3) -> p(4) -> q(4) -> f(4) -> a(4) -> h(4) -> r(4) -> a(4) -> q(5) -> g(5) "
     ]
    }
   ],
   "source": [
    "def BFS(node: Node, aim):\n",
    "    tree = [(node, 1)]\n",
    "    while len(tree) > 0:\n",
    "        node, depth = tree.pop(0)\n",
    "        print('-> %s(%d) '%(node, depth), end = '')\n",
    "        if node.name == aim:\n",
    "            break \n",
    "        for child in node.children:\n",
    "            tree.append((child, depth + 1))\n",
    "        \n",
    "BFS(graph['s'], aim = 'g')"
   ]
  },
  {
   "cell_type": "markdown",
   "metadata": {},
   "source": [
    "### 迭代加深算法\n",
    "\n",
    "迭代加深算法 (Iterative Deepening Search, IDS): 先设定最大深度为 $1$, 使用深度优先搜索. 再设定深度为 $2$, 使用深度优先搜索. 再设定深度为 $3$, 使用深度优先搜索...\n",
    "\n",
    "生成节点个数 $O(b^m)$, 搜索边缘大小 $O(bm)$.\n",
    "\n",
    "注: 生成节点个数实际为 \n",
    "$b+(b+b^2)+(b+b^2+b^3)+\\dotsc = O(b^{m+1})$."
   ]
  },
  {
   "cell_type": "code",
   "execution_count": 31,
   "metadata": {},
   "outputs": [
    {
     "name": "stdout",
     "output_type": "stream",
     "text": [
      "Depth 1 -> s(1) \n",
      "Depth 2 -> s(1) -> e(2) -> p(2) -> d(2) \n",
      "Depth 3 -> s(1) -> e(2) -> h(3) -> r(3) -> p(2) -> q(3) -> d(2) -> b(3) -> e(3) -> c(3) \n",
      "Depth 4 -> s(1) -> e(2) -> h(3) -> p(4) -> q(4) -> r(3) -> f(4) -> p(2) -> q(3) -> d(2) -> b(3) -> a(4) -> e(3) -> h(4) -> r(4) -> c(3) -> a(4) \n",
      "Depth 5 -> s(1) -> e(2) -> h(3) -> p(4) -> q(5) -> q(4) -> r(3) -> f(4) -> g(5) "
     ]
    }
   ],
   "source": [
    "def LDS(node: Node, aim, maxdepth = 100):\n",
    "    for depth in range(1, maxdepth):\n",
    "        print('Depth %d'%depth, end = ' ')\n",
    "        if DFS(node, aim, maxdepth = depth):\n",
    "            break \n",
    "        print('')\n",
    "\n",
    "LDS(graph['s'], aim = 'g')"
   ]
  },
  {
   "cell_type": "markdown",
   "metadata": {},
   "source": [
    "### 一致代价搜索 \n",
    "\n",
    "一致代价搜索 (Uniform Cost Search, UCS): 每次选择代价最小的节点扩展. 代价是一个自定义的函数. 例如广度优先搜索是一致代价搜索的特例, 其代价 $=$ 节点深度. 深度优先搜索也可以是一致代价搜索的特例, 其代价 $= -$ 节点深度.\n",
    "\n",
    "UCS 是完备且最优的. 时间复杂度和空间复杂度由目标节点的代价决定, 相当于代价函数的等高线才是深度."
   ]
  }
 ],
 "metadata": {
  "kernelspec": {
   "display_name": "Python 3.8.4 64-bit (system)",
   "language": "python",
   "name": "python3"
  },
  "language_info": {
   "codemirror_mode": {
    "name": "ipython",
    "version": 3
   },
   "file_extension": ".py",
   "mimetype": "text/x-python",
   "name": "python",
   "nbconvert_exporter": "python",
   "pygments_lexer": "ipython3",
   "version": "3.8.4"
  },
  "orig_nbformat": 4,
  "vscode": {
   "interpreter": {
    "hash": "1120dc956da57eca5c948a0118f4cdcd4d1b3be98c72752ed298d16085a61d24"
   }
  }
 },
 "nbformat": 4,
 "nbformat_minor": 2
}
