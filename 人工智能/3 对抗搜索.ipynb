{
 "cells": [
  {
   "cell_type": "markdown",
   "metadata": {},
   "source": [
    "#  3 对抗搜索\n",
    "\n",
    "## 零和游戏\n",
    "\n",
    "一些游戏可以等价于: 有个全局分数 $v$, 甲的目标是使 $v$ 尽量大, 乙的目标是使 $v$ 尽量小. 这样的游戏称为零和 (zero sum) 游戏.\n",
    "\n",
    "\n",
    "<br>\n",
    "\n",
    "例如五子棋, 若甲胜则使 $v=+\\inf$, 若乙胜则使 $v=-\\inf$, (若平局则 $v=0$). 则甲乙双方的目标均等价于追求胜利. 所以五子棋可以视为零和游戏."
   ]
  },
  {
   "cell_type": "markdown",
   "metadata": {},
   "source": [
    "## 极小极大搜索 (Minimax Search)\n",
    "\n",
    "\n",
    "在如上所述的**零和游戏**中, **把 AI 视为甲**, 则 AI 每一步的目标是最大化 $v$, 其对手每一步的目标是最小化 $v$. \n",
    "\n",
    "为此可以构建一个树型的数据结构, 分为两种节点: 极大节点和极小节点. 每个节点的后继节点是选择各个行动的结果.\n",
    "\n",
    "<br>\n",
    "\n",
    "极大节点是甲 (AI) 准备行动的回合, 极小节点是乙行动的回合. 一个极大节点的值是其后继节点的值的最大值, 极小节点反之. \n",
    "\n",
    "这样, 每个节点通过 DFS 不停地计算值, 直至终止节点 (terminal / leaf node)."
   ]
  },
  {
   "cell_type": "code",
   "execution_count": 30,
   "metadata": {},
   "outputs": [
    {
     "data": {
      "image/png": "[encoded data removed]",
      "text/plain": [
       "<Figure size 432x288 with 1 Axes>"
      ]
     },
     "metadata": {},
     "output_type": "display_data"
    }
   ],
   "source": [
    "import networkx as nx\n",
    "from matplotlib import pyplot as plt\n",
    "G = nx.Graph()\n",
    "[G.add_node(i, layer = 2 if i == 0 else (1 if i < 4 else 0)) for i in range(13)]\n",
    "[G.add_edge(a, b) for a, b in [(0, i) for i in range(1,4)]]\n",
    "for j in range(1, 4):\n",
    "    [G.add_edge(j, (j*3 + 1 + i)) for i in range(3)]\n",
    "\n",
    "pos = nx.multipartite_layout(G, subset_key = 'layer', align = 'horizontal')\n",
    "nx.draw(G, pos, node_size = 400, node_color = ['orange'] + ['lightgray'] * 3 + ['orange'] * 9, \n",
    "        labels = dict(zip(range(13), [3,3,2,2,3,12,8,2,4,6,14,5,2])))\n",
    "plt.title('Orange: Max Nodes      Gray: Min Nodes')\n",
    "plt.show()"
   ]
  },
  {
   "cell_type": "code",
   "execution_count": 19,
   "metadata": {},
   "outputs": [],
   "source": [
    "# 井字棋 -- 用 Minimax\n",
    "n = 3\n",
    "class TicTacToe():\n",
    "    def __init__(self, state):\n",
    "        # 0: player AI, 1: opponent, 2: empty\n",
    "        self.state = [[2 for i in range(n)] for j in range(n)] if state is None else state\n",
    "        self.turn = sum(sum(self.state[i][j] != 2 for i in range(n)) for j in range(n))\n",
    "    \n",
    "    def max_node(self):\n",
    "        t = self.terminate(1)\n",
    "        if t is not None: return (1, None) if t == 0 else ((-1, None) if t == 1 else (0, None))\n",
    "        v, a = -2147483647, None # initialize\n",
    "        for m in self.next_moves():\n",
    "            self.turn += 1\n",
    "            self.state[m[0]][m[1]] = 0 # attempt a move\n",
    "            v2, a2 = self.min_node()\n",
    "            self.state[m[0]][m[1]] = 2 # cancel the move\n",
    "            self.turn -= 1\n",
    "            if v2 > v:\n",
    "                v, a = v2, m\n",
    "        return v, a\n",
    "\n",
    "    def min_node(self):\n",
    "        t = self.terminate(0)\n",
    "        if t is not None: return (1, None) if t == 0 else ((-1, None) if t == 1 else (0, None))\n",
    "        v, a = 2147483647, None # initialize\n",
    "        for m in self.next_moves():\n",
    "            self.turn += 1\n",
    "            self.state[m[0]][m[1]] = 1 # attempt a move\n",
    "            v2, a2 = self.max_node()\n",
    "            self.state[m[0]][m[1]] = 2 # cancel the move\n",
    "            self.turn -= 1\n",
    "            if v2 < v:\n",
    "                v, a = v2, m\n",
    "        return v, a\n",
    "\n",
    "    def next_moves(self):\n",
    "        moves = []\n",
    "        for i in range(n):\n",
    "            for j in range(n):\n",
    "                if self.state[i][j] == 2: # empty\n",
    "                    moves.append((i, j))\n",
    "        return moves\n",
    "\n",
    "    def terminate(self, c): \n",
    "        \"\"\"Return the player that wins. Return None if not terminate. Return 2 if tie.\"\"\"\n",
    "        s = self.state\n",
    "        for i in range(n): \n",
    "            if all(s[i][j] == c for j in range(n)): return c\n",
    "            if all(s[j][i] == c for j in range(n)): return c\n",
    "        if all(s[i][i] == c for i in range(n)): return c\n",
    "        if all(s[i][n-1-i] == c for i in range(n)): return c\n",
    "        if self.turn == n * n: return 2 # tie\n",
    "        return None"
   ]
  },
  {
   "cell_type": "code",
   "execution_count": 45,
   "metadata": {},
   "outputs": [
    {
     "data": {
      "text/plain": [
       "(0, (0, 1))"
      ]
     },
     "execution_count": 45,
     "metadata": {},
     "output_type": "execute_result"
    }
   ],
   "source": [
    "from copy import deepcopy\n",
    "state = [[2,2,2],[2,2,2],[2,2,2]]\n",
    "turn, states = 0, [deepcopy(state)]\n",
    "ttt = TicTacToe(state)\n",
    "while ttt.terminate() is not None:\n",
    "    if turn == 0:\n",
    "        TicTacToe(state).max_node()"
   ]
  },
  {
   "cell_type": "markdown",
   "metadata": {},
   "source": [
    "### 截断搜索\n",
    "\n",
    "很多时候, 不可能搜索地完. 如果达到一定深度需要停止搜索, 立即返回一个 (估计的) 效用值.\n",
    "\n",
    "## Alpha-Beta 剪枝\n"
   ]
  }
 ],
 "metadata": {
  "kernelspec": {
   "display_name": "Python 3.8.4 64-bit",
   "language": "python",
   "name": "python3"
  },
  "language_info": {
   "codemirror_mode": {
    "name": "ipython",
    "version": 3
   },
   "file_extension": ".py",
   "mimetype": "text/x-python",
   "name": "python",
   "nbconvert_exporter": "python",
   "pygments_lexer": "ipython3",
   "version": "3.8.4"
  },
  "orig_nbformat": 4,
  "vscode": {
   "interpreter": {
    "hash": "1120dc956da57eca5c948a0118f4cdcd4d1b3be98c72752ed298d16085a61d24"
   }
  }
 },
 "nbformat": 4,
 "nbformat_minor": 2
}
