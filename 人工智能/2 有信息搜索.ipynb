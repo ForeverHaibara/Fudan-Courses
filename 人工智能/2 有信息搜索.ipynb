{
 "cells": [
  {
   "cell_type": "markdown",
   "metadata": {},
   "source": [
    "# 2 有信息搜索\n",
    "\n",
    "搜索时, 可以分析节点, 选择更有可能 / 更容易达到目标节点的节点并扩展.\n",
    "\n",
    "\n",
    "为此, 可以设计一个启发式损耗函数 (用来估计节点到目标节点的距离), 每次选取启发式函数值最小的节点并扩展.\n"
   ]
  },
  {
   "cell_type": "code",
   "execution_count": 26,
   "metadata": {},
   "outputs": [],
   "source": [
    "class Node:\n",
    "    def __init__(self, name = '', heur = 0):\n",
    "        self.name = name\n",
    "        self.children = []    # children pointers\n",
    "        self.distance = []    # distance to each child\n",
    "        self.heuristic = heur # heuristic function value\n",
    "    def __str__(self):\n",
    "        return self.name\n",
    "    def AppendChild(self, node, dist = 0):\n",
    "        self.children.append(node)\n",
    "        self.distance.append(dist)\n",
    "    def __lt__(self, node2):\n",
    "        return self.name < node2.name \n",
    "    def __eq__(self, node2):\n",
    "        return self.name == node2.name\n",
    "    def Expand(self):\n",
    "        pass \n",
    "    def __hash__(self):\n",
    "        return self.name.__hash__()\n",
    "    \n",
    "def ConstructGraph(edges):\n",
    "    \"\"\"Construct an acyclic, directed graph with given edges and node names\"\"\"\n",
    "    nodes = set()\n",
    "    for edge, dist in edges:\n",
    "        for name in edge:\n",
    "            nodes.add(name)\n",
    "    nodes = dict((name, Node(name)) for name in nodes)\n",
    "    for edge, dist in edges:\n",
    "        nodes[edge[0]].AppendChild(nodes[edge[1]], dist)\n",
    "    return nodes\n",
    "        \n",
    "graph = ConstructGraph([('sa',1),('ad',3),('dg',2),('ae',8),('ed',1),('ab',1),('bc',1)])\n",
    "for name, heur in zip('sadegbc',[6,5,2,1,0,6,7]):\n",
    "    # assign heuristic function values to each node \n",
    "    graph[name].heuristic = heur "
   ]
  },
  {
   "cell_type": "markdown",
   "metadata": {},
   "source": [
    "### 贪心搜索\n",
    "\n",
    "贪心搜索 (Greedy Search): 每次选取启发式函数值最小的节点扩展. 不完备. 且不关心历史损耗."
   ]
  },
  {
   "cell_type": "code",
   "execution_count": 21,
   "metadata": {},
   "outputs": [
    {
     "name": "stdout",
     "output_type": "stream",
     "text": [
      "Expand: \n",
      "s(Heuristic = 6), a(Heuristic = 5), e(Heuristic = 1), d(Heuristic = 2), "
     ]
    }
   ],
   "source": [
    "import heapq\n",
    "from random import randint \n",
    "def Greedy(node: Node, aim = 'g'):\n",
    "    tree = []\n",
    "    heuristic, cost, node = node.heuristic, 0, node \n",
    "    print('Expand: ')\n",
    "    while node.name != aim:\n",
    "        print('%s(Heuristic = %d), '%(node, heuristic), end = '')\n",
    "        node.Expand()\n",
    "        for child, dist in zip(node.children, node.distance):\n",
    "            next_cost = cost + dist\n",
    "            heapq.heappush(tree, (child.heuristic, next_cost, child))\n",
    "        heuristic, cost, node = heapq.heappop(tree)\n",
    "\n",
    "    # print('\\nTotal cost = %d'%cost)\n",
    "\n",
    "Greedy(graph['s'], 'g')"
   ]
  },
  {
   "cell_type": "markdown",
   "metadata": {},
   "source": [
    "### ${\\rm A}^*$ 搜索\n",
    "\n",
    "${\\rm A}^*$ 搜索设计一个估值函数, 将历史损耗与启发式损耗函数相加. 每次选取新的估值损耗最小的节点扩展.\n",
    "\n",
    "估值函数 \n",
    "$$f(x)=g(x)+h(x)$$\n",
    "其中 $f(x)$ 为估值, $g(x)$ 为历史损耗, $h(x)$ 为启发损耗.\n",
    "\n",
    "一致代价搜索 UCS 是 $h(x)$ 为常数时的特例."
   ]
  },
  {
   "cell_type": "code",
   "execution_count": 22,
   "metadata": {},
   "outputs": [
    {
     "name": "stdout",
     "output_type": "stream",
     "text": [
      "Expand: \n",
      "s(Evaluate = 6), a(Evaluate = 6), d(Evaluate = 6), "
     ]
    }
   ],
   "source": [
    "import heapq\n",
    "from random import randint \n",
    "def Astar(node: Node, aim = 'g', verbose = True):\n",
    "    tree = []\n",
    "    evaluation, cost, node = node.heuristic, 0, node \n",
    "    if verbose: print('Expand: ')\n",
    "    while node.name != aim:\n",
    "        if verbose: print('%s(Evaluate = %d), '%(node, evaluation), end = '')\n",
    "        node.Expand()\n",
    "        for child, dist in zip(node.children, node.distance):\n",
    "            next_cost = cost + dist\n",
    "            heapq.heappush(tree, (child.heuristic + next_cost, next_cost, child))\n",
    "        evaluation, cost, node = heapq.heappop(tree)\n",
    "\n",
    "    # print('\\nTotal cost = %d'%cost)\n",
    "\n",
    "Astar(graph['s'], 'g')"
   ]
  },
  {
   "cell_type": "markdown",
   "metadata": {},
   "source": [
    "## 启发函数的最优性\n",
    "\n",
    "### 可采纳性\n",
    "\n",
    "如果对于任一个节点 $n$, 启发函数值 $h(n)$ 非负且不超过真实值 $h^*(n)$ ($h^*(n)$ 表示 $n$ 到目标的最小代价), 则称 $h$ 是可采纳的 (admissible) 启发函数. \n",
    "\n",
    "**定理** 使用可采纳的启发函数, 则 ${\\rm A}^*$ 搜索有最优性. (即能保证访问目标节点的时候恰是最小代价的路径)\n",
    "\n",
    "**证明** 设历史价值函数为 $g$, 启发函数为 $h$, 真实最小代价为 $h^*$, 估值函数为 $f=g+h$. 反证法, 假设最小代价到达目标节点的方式为 $S\\rightarrow A_1\\rightarrow \\dotsc \\rightarrow A_n$ 并假设算法先发现了 $S\\rightarrow B_1\\rightarrow \\dotsc \\rightarrow B_m$. ($A_i,B_j$ 可以相同也可以不同.)\n",
    "\n",
    "考虑最后一步时, 算法为了访问 $B_m$, 是因为其估值函数 $f(B_m)=g(B_m)+h(B_m)=g(B_m)$ 比其它搜索边缘节点的估值都小.\n",
    "\n",
    "但是 \n",
    "$$g(B_m)\\geqslant g(A_n) = g(A_i)+h^*(A_i)\\geqslant g(A_i)+h(A_i)=f(A_i),\\quad \\forall i\\in\\{1,2,\\dotsc,n\\}$$\n",
    "\n",
    "即所有 $A_i$ 的估值函数都比 $B_m$ 小, 因此这个时候 $A_1,\\dotsc,A_n$ 应该已经被访问到才对. 矛盾."
   ]
  },
  {
   "cell_type": "markdown",
   "metadata": {},
   "source": [
    "### 图搜索\n",
    "\n",
    "很多时候, 不需要重复访问同一个节点. 可以记录已经**访问**的节点, 再次**发现**准备将其插入搜索边缘时跳过. 这就是图搜索."
   ]
  },
  {
   "cell_type": "code",
   "execution_count": 64,
   "metadata": {},
   "outputs": [
    {
     "name": "stdout",
     "output_type": "stream",
     "text": [
      "Expand: \n",
      "s(Evaluate = 6), a(Evaluate = 6), d(Evaluate = 6), Totally expanded 3 nodes.\n"
     ]
    }
   ],
   "source": [
    "import heapq\n",
    "from random import randint \n",
    "def GraphAstar(node: Node, aim, verbose = True, show_size = True):\n",
    "    tree = []\n",
    "    searched = {}\n",
    "    evaluation, cost, node, nil = node.heuristic, 0, node, Node('empty')\n",
    "    pre = nil \n",
    "    if verbose: print('Expand: ')\n",
    "    while node != aim:\n",
    "        if verbose: print('%s(Evaluate = %d), '%(node, evaluation), end = '')\n",
    "        searched[node] = pre \n",
    "        node.Expand()\n",
    "        for child, dist in zip(node.children, node.distance):\n",
    "            if searched.get(child): # skip this because it has been visited\n",
    "                continue \n",
    "            next_cost = cost + dist\n",
    "            heapq.heappush(tree, (child.heuristic + next_cost, next_cost, child, node))\n",
    "        evaluation, cost, node, pre = heapq.heappop(tree)\n",
    "\n",
    "    if show_size: print('Totally expanded %d nodes.'%len(searched))\n",
    "    if node != aim:\n",
    "        return None \n",
    "    # print('\\nTotal cost = %d'%cost)\n",
    "    sequence = [aim]\n",
    "    while pre != nil:\n",
    "        sequence.append(pre)\n",
    "        pre = searched[pre] \n",
    "    return sequence[::-1]\n",
    "\n",
    "answer = GraphAstar(graph['s'], Node('g'))"
   ]
  },
  {
   "cell_type": "markdown",
   "metadata": {},
   "source": [
    "### 一致性\n",
    "\n",
    "**定理** 对于 ${\\rm A}^*$ 的图搜索版本, 启发函数需要以下两个条件才保证算法的最优性:\n",
    "\n",
    "* $0\\leqslant h(A)\\leqslant h^*(A)$\n",
    "* $h(A)-h(B)\\leqslant {\\rm cost}(A{\\ \\rm to\\ }B)$\n",
    "\n",
    "第一个条件即为前文的可采纳性, 第二个则称为一致性 (consistency). 注: 第二个条件蕴含第一个条件中的右边的不等号.\n",
    "\n",
    "**证明** 不难看出, 第二个条件实际上是说以任何一个点为终点, 都有可采纳性. 即访问每一个点都是通过最小路径访问的. 因此每个节点不需要第二次访问, 符合图搜索的理念.\n",
    "\n",
    "\n",
    "### 支配性\n",
    "\n",
    "假设有两个启发函数 $h_1$, $h_2$, 如果对于任意节点 $A$ 都有 $h_1(A)\\geqslant h_2(A)$, 就称 $h_1$ 支配 $h_2$. 写作 $h_1\\succeq h_2$. 占支配的且可采纳的启发函数一般效果更好 (访问更少节点达到目标).\n",
    "\n",
    "### 半格\n",
    "\n",
    "\"最小的\" 可采纳启发式函数是零函数, 对应 UCS. \"最大的\" 可采纳启发式函数是真实代价 $h^*$. 两个可采纳的启发函数 $h_1,h_2$ 的最大值 $\\max(h_1,h_2)$ 也是可采纳的. 因此启发式函数形成一个[半格](https://encyclopediaofmath.org/wiki/Semi-lattice) (semilattice)."
   ]
  },
  {
   "cell_type": "markdown",
   "metadata": {},
   "source": [
    "## 例子: 八数码\n",
    "\n",
    "八数码即华容道游戏. 在 $3\\times 3$ 的方阵里有 $1\\sim 8$ 与一个空格. 每次可以将空格与一个相邻的数字互换位置. 求解办法到达正确位置. 可以选取可采纳启发函数: 每个数字到正确位置的曼哈顿距离之和."
   ]
  },
  {
   "cell_type": "code",
   "execution_count": 66,
   "metadata": {},
   "outputs": [
    {
     "name": "stdout",
     "output_type": "stream",
     "text": [
      "Totally expanded 162240 nodes.\n"
     ]
    }
   ],
   "source": [
    "N = 3\n",
    "coor = lambda v: (v//N, v%N)\n",
    "from copy import deepcopy\n",
    "class GameNode(Node):\n",
    "    def __init__(self, name='', heur=0):\n",
    "        super().__init__(name, heur)\n",
    "        s , t = 0 , N * N \n",
    "        for i in range(N):\n",
    "            for j in range(N):\n",
    "                s = t * s + self.name[i][j]\n",
    "        self.hash = s # every STATE can be encoded into a hash value\n",
    "        \n",
    "    def Expand(self): \n",
    "        \"\"\"Expand this node -- discovering its neighbors\"\"\"\n",
    "        if len(self.children) > 0:\n",
    "            return \n",
    "        for i in range(N):\n",
    "            for j in range(N):\n",
    "                v = self.name[i][j] \n",
    "                if v != 0: \n",
    "                    x , y = coor(v)\n",
    "                    self.heuristic += abs(x - i) + abs(y - j) # Manhattan heuristic function\n",
    "                else:\n",
    "                    for di, dj in ((-1,0),(1,0),(0,-1),(0,1)): # the neighbors of 0 (empty square)\n",
    "                        i2 , j2 = i + di , j + dj \n",
    "                        if 0 <= i2 < N and 0 <= j2 < N:\n",
    "                            new_child_name = deepcopy(self.name)\n",
    "                            new_child_name[i][j] = self.name[i2][j2]\n",
    "                            new_child_name[i2][j2] = 0\n",
    "                            self.AppendChild(GameNode(name = new_child_name), 1)\n",
    "        \n",
    "    def __lt__(self, node2):\n",
    "        return self.hash < node2.__hash__()\n",
    "    def __eq__(self, node2):\n",
    "        return self.hash == node2.__hash__()\n",
    "    def __hash__(self):\n",
    "        return self.hash \n",
    "\n",
    "start = [[3,1,2],[4,5,8],[6,7,0]] # easy version (15 nodes)\n",
    "start = [[7,2,4],[5,0,6],[8,3,1]] # hard version (162240 nodes, run 1 minute)\n",
    "end   = [[0,1,2],[3,4,5],[6,7,8]]\n",
    "answer = GraphAstar(GameNode(start), GameNode(end), verbose = False)"
   ]
  },
  {
   "cell_type": "code",
   "execution_count": 67,
   "metadata": {},
   "outputs": [
    {
     "name": "stdout",
     "output_type": "stream",
     "text": [
      "7 2 4    7 2 4    0 2 4    2 0 4    2 5 4    2 5 4    2 5 4    2 5 4    2 5 4    2 5 4    \n",
      "5 0 6    0 5 6    7 5 6    7 5 6    7 0 6    7 6 0    7 6 1    7 6 1    7 6 1    0 6 1    \n",
      "8 3 1    8 3 1    8 3 1    8 3 1    8 3 1    8 3 1    8 3 0    8 0 3    0 8 3    7 8 3    \n",
      "\n",
      "2 5 4    2 5 4    2 5 4    2 5 4    2 5 4    2 5 4    2 5 4    2 5 4    2 5 0    2 0 5    \n",
      "6 0 1    6 1 0    6 1 3    6 1 3    6 1 3    0 1 3    1 0 3    1 3 0    1 3 4    1 3 4    \n",
      "7 8 3    7 8 3    7 8 0    7 0 8    0 7 8    6 7 8    6 7 8    6 7 8    6 7 8    6 7 8    \n",
      "\n",
      "0 2 5    1 2 5    1 2 5    1 2 5    1 2 0    1 0 2    0 1 2    \n",
      "1 3 4    0 3 4    3 0 4    3 4 0    3 4 5    3 4 5    3 4 5    \n",
      "6 7 8    6 7 8    6 7 8    6 7 8    6 7 8    6 7 8    6 7 8    \n",
      "\n"
     ]
    }
   ],
   "source": [
    "def PrintAnswer(sequence, chunk_size = 10):\n",
    "    for chunk in range(0, len(sequence), chunk_size):\n",
    "        l = min(chunk_size, len(sequence) - chunk)\n",
    "        for i in range(N):\n",
    "            s = ''\n",
    "            for t in range(chunk, chunk + l):\n",
    "                s += ' '.join('%d'%sequence[t].name[i][j] for j in range(N))\n",
    "                s += '    '\n",
    "            print(s)\n",
    "        print('')\n",
    "PrintAnswer(sequence = answer)"
   ]
  }
 ],
 "metadata": {
  "kernelspec": {
   "display_name": "Python 3.8.4 64-bit (system)",
   "language": "python",
   "name": "python3"
  },
  "language_info": {
   "codemirror_mode": {
    "name": "ipython",
    "version": 3
   },
   "file_extension": ".py",
   "mimetype": "text/x-python",
   "name": "python",
   "nbconvert_exporter": "python",
   "pygments_lexer": "ipython3",
   "version": "3.8.4"
  },
  "orig_nbformat": 4,
  "vscode": {
   "interpreter": {
    "hash": "1120dc956da57eca5c948a0118f4cdcd4d1b3be98c72752ed298d16085a61d24"
   }
  }
 },
 "nbformat": 4,
 "nbformat_minor": 2
}
