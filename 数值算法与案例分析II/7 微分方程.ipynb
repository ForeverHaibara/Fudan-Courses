{
 "cells": [
  {
   "cell_type": "markdown",
   "metadata": {},
   "source": [
    "# 7 微分方程\n",
    "\n",
    "## 初值问题\n",
    "\n",
    "初值问题 (initial value problem, IVP) 是给定初始时间 $t_0=0$ 与 状态值 (或向量) $u_0$, 求解状态随时间演变的问题. 状态随着时间演变可以由如下微分方程给出:\n",
    "$$ \\frac{\\partial u}{\\partial t} = f(t,u) $$\n",
    "即状态的变化率是时间与当前状态的函数.\n",
    "\n",
    "### Picard-Lindelöf 定理\n",
    "\n",
    "若 $f$ 关于  $t$ 连续且关于 $u$ 是  Lipschitz 连续的, 即 $\\exists L$, 使得下式成立:\n",
    "$$\\Vert f(t,u_1) - f(t,u_2)\\Vert \\leqslant L\\Vert u_1-u_2\\Vert\\quad \\forall u_1,u_2$$\n",
    "那么初值问题\n",
    "$$ \\frac{\\partial u}{\\partial t} = f(t,u) \\quad\\quad u(0) = u_0$$\n",
    "存在且有唯一解. 为了方便, 我们以下只考虑这种情况 ($f$ 关于 $t$ 连续且关于 $u$ 是 Lipschitz 连续的).\n",
    "\n",
    "注: 显然唯一解由 $u(t) = \\int_0^t f(\\tau,u(\\tau))d\\tau $ 给出.\n",
    "\n",
    "\n",
    "### 例子\n",
    "\n",
    "常见的初值问题 (IVP) 包括:\n",
    "* 指数增长 / 衰减: $$u'(t) = ru(t)\\quad \\Rightarrow \\quad u(t) = u_0 e^{rt}$$\n",
    "* Logisitic 模型: $$u'(t)= ru(t) - c(u(t))^2\\quad \\Rightarrow\\quad u(t) = \\frac{ru_0}{cu_0+(r-cu_0)e^{-rt}}$$\n",
    "* 线性系统: $$u'(t) = Au(t)+v(t)\\quad\\Rightarrow\\quad u(t) = u_0e^{At}+\\int_0^t e^{A(t - \\tau)}v(\\tau)d\\tau$$\n",
    "* 阻尼振动: (高阶微分方程也许也可以写成 IVP, 即使用向量表示)\n",
    "$$\\frac{\\partial}{\\partial t}\\left[\\begin{matrix}x\\\\ v\\end{matrix}\\right]=\\left[\\begin{matrix}v\\\\ a\\end{matrix}\\right]\n",
    "=\\left[\\begin{matrix} 0 & 1\\\\  -\\frac km &-\\frac \\mu m\\end{matrix}\\right]\\left[\\begin{matrix}x\\\\ v\\end{matrix}\\right]\n",
    "$$"
   ]
  },
  {
   "cell_type": "markdown",
   "metadata": {},
   "source": [
    "## 龙格库塔法\n",
    "\n",
    "龙格库塔法是求解初值问题的数值方法. 由于是数值问题, 我们只 (近似) 计算 $u(t)$ 在离散的点上的取值. \n",
    "\n",
    "即给定数列 $t_0 = 0, t_1,t_2,\\dotsc$ 需要求出 $u(t_k)$. \n",
    "\n",
    "可以在离散的点上递推, 模拟演变.\n",
    "\n",
    "### 欧拉法\n",
    "\n",
    "欧拉法 (Euler method) 是一类特殊的龙格库塔法.  用如下方法递推: 令 $\\Delta t = t_{k+1} - t_k$, \n",
    "\n",
    "* (前向) 欧拉法 ((Forward) Euler method):\n",
    "$$u_{k+1} = u_k +  \\Delta t\\cdot f(t_k,u_k)$$\n",
    "\n",
    "* 反向欧拉法 (Backward Euler method): (需要解方程)\n",
    "$$u_{k+1} = u_k + \\Delta t\\cdot f(t_{k+1},u_{k+1})$$\n",
    "\n",
    "#### 误差\n",
    "\n",
    "若 $f$ 关于 $t,u$  Lipschitz 连续, 且 $\\Delta t =t_{k+1} - t_k$ 为定值, 则时间 $t$ 的全局误差 (global truncation error, GTE) 是 $O(\\Delta t)$ 的.\n",
    "\n",
    "$$\\Vert u_{k+1} - u(t_{k+1})\\Vert \\leqslant \\Vert u_{k+1} -u(t_k) - \\Delta t f(t_k,u(t_k) ) \\Vert\n",
    "+   \\Vert u(t_{k+1}) -u(t_k) - \\Delta t f(t_k,u(t_k) )\\Vert $$\n",
    "其中第一项有\n",
    "$$ \\Vert u_{k+1} -u(t_k) - \\Delta t f(t_k,u(t_k) ) \\Vert\n",
    "=\\Vert u_k + \\Delta tf(t_k, u_k) -u(t_k) - \\Delta t f(t_k,u(t_k) ) \\Vert\n",
    "\\leqslant (1 + L\\Delta t)\\Vert u_k - u(t_k)\\Vert $$\n",
    "第二项有\n",
    "$$\\Vert u(t_{k+1}) -u(t_k) - \\Delta t f(t_k,u(t_k) )\\Vert \n",
    "=\\Vert \\Delta t f(t_{\\xi},u(t_{\\xi})) - \\Delta t f(t_k,u(t_k) )\\Vert \\leqslant M\\Delta t^2$$\n",
    "故\n",
    "$$\\Vert u_{k+1} - u(t_{k+1})\\Vert\\leqslant (1 + L\\Delta t)\\Vert u_k - u(t_k)\\Vert+ M\\Delta t^2$$\n",
    "从而\n",
    "$$\\Vert u_k - u(t_k)\\Vert\\leqslant M\\Delta t^2 \\cdot \\frac{(1 + L\\Delta t)^k - 1}{L\\Delta t}\n",
    "\\leqslant \\frac{M\\Delta t}{L}(e^{\\Delta tLk} -1)$$\n",
    "\n",
    "为了求解时间 $t$ 的状态, 采用步长 $\\Delta t$ 需要总共递推 $k = \\frac{t}{\\Delta t}$ 步, 所以\n",
    "$$ \\Vert u_k - u(t_k)\\Vert\\leqslant \\frac{M\\Delta t}{L}(e^{Lt} -1) = O(\\Delta t)$$\n",
    "\n",
    "\n",
    "\n",
    "### 梯形法\n",
    "梯形法 (trapezoidal method) 是一类特殊的龙格库塔法. \n",
    "* (隐式) 梯形法 (Implicit trapezoidal method): (需要解方程)\n",
    "$$u_{k+1} =  u_k + \\frac {\\Delta t}{2}\\cdot \\left(f(t_k,u_k)+f(t_{k+1},u_{k+1})\\right)$$\n",
    "\n",
    "* (显式) 梯形法 (Explicit trapezoidal method):\n",
    "$$u_{k+1} = u_k + \\frac{\\Delta t}{2}\\cdot \\left(f(t_k,u_k)+f(t_{k+1}, u_k+\\Delta t_k)\\right)$$\n"
   ]
  },
  {
   "cell_type": "markdown",
   "metadata": {},
   "source": [
    "### 龙格库塔法\n",
    "\n",
    "上述欧拉法与梯形法都相当于数值积分:\n",
    "$$\\begin{aligned}u(t_{k+1})&= u_k + \\int_{t_k}^{t_{k+1}}f(\\tau ,u(\\tau ))d\\tau \n",
    "=u_k + \\Delta t\\int_0^1 f(t_k +r \\Delta t,u(t_k + r \\Delta t))dr\\\\ &\n",
    "\\approx u_k+\\Delta t \\sum_{i=1}^n b_i f(t_k +c_i\\Delta t,\\ u(t_k +c_i\\Delta t))\\end{aligned}$$\n",
    "\n",
    "但是问题在于中间要用到的每个 $ u(t_k +c_i\\Delta t)$ 也需要估计:\n",
    "$$ u(t_k +c_i\\Delta t)=u(t_k)+\\Delta t\\sum_{j=1}^n a_{ij} u(t_k +c_j\\Delta t) \\quad (i=1,2,\\dotsc,n)$$\n",
    "\n",
    "算法中, $c_i,b_i,a_{ij}$ 均是可以任意指定的参数, 我们写成下列 $(n+1)\\times (n+1)$ 的矩阵记号来表示对应的龙格库塔法\n",
    "$$\n",
    "\\left[\\begin{matrix}\n",
    "c & A\\\\ \n",
    "0 & b^T\n",
    "\\end{matrix}\\right]\n",
    "$$"
   ]
  },
  {
   "cell_type": "markdown",
   "metadata": {},
   "source": [
    "## 有限元方法 \n",
    "\n",
    "有限元方法 (Finite element method) 也是求解"
   ]
  }
 ],
 "metadata": {
  "interpreter": {
   "hash": "1120dc956da57eca5c948a0118f4cdcd4d1b3be98c72752ed298d16085a61d24"
  },
  "kernelspec": {
   "display_name": "Python 3.8.4 64-bit (system)",
   "language": "python",
   "name": "python3"
  },
  "language_info": {
   "codemirror_mode": {
    "name": "ipython",
    "version": 3
   },
   "file_extension": ".py",
   "mimetype": "text/x-python",
   "name": "python",
   "nbconvert_exporter": "python",
   "pygments_lexer": "ipython3",
   "version": "3.8.4"
  },
  "orig_nbformat": 4
 },
 "nbformat": 4,
 "nbformat_minor": 2
}
