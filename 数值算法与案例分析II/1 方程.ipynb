{
 "cells": [
  {
   "cell_type": "markdown",
   "metadata": {},
   "source": [
    "# 1 误差\n",
    "* 模型误差 (model)\n",
    "  数学模型对现实世界进行近似的误差.\n",
    "* 测量误差 (measure)\n",
    "* 舍入误差 (rounding)\n",
    "  储存小数精度与运算导致的误差.\n",
    "* 截断误差 (truncation)\n",
    "  迭代算法无法无穷次迭代导致的误差.\n",
    "\n",
    "若 $x$ 为真实值, $\\hat x$ 为测量值, 绝对误差常表为\n",
    "\n",
    "$$\\epsilon = \\hat x - x,\\quad \\Vert \\epsilon\\Vert = \\Vert \\hat x - x\\Vert$$\n",
    "\n",
    "相对误差常常表为\n",
    "\n",
    "$$\\epsilon_{r1} = \\frac{\\Vert \\hat x - x\\Vert}{\\Vert x\\Vert},\\quad \n",
    "\\epsilon_{r2} = \\frac{\\Vert \\hat x - x\\Vert}{\\Vert \\hat x\\Vert},\\quad \n",
    "\\epsilon_{r3} = \\frac{\\Vert \\hat x - x\\Vert}{\\max \\{\\Vert x\\Vert, \\Vert\\hat x \\Vert\\}}$$\n",
    "\n",
    "#### 误差下界\n",
    "\n",
    "例.\n",
    "\n",
    "$$S_n=1-\\frac13+\\frac15-\\frac17+\\dotsc\\rightarrow \\frac{\\pi}{4}$$\n",
    "\n",
    "$$\\frac{\\pi}{4} - S_{2n}=\\left(\\frac{1}{4n+1}-\\frac{1}{4n+3}\\right)\n",
    "+\\left(\\frac{1}{4n+5}-\\frac{1}{4n+7}\\right)+\\dotsc\n",
    "=\\frac{2}{(4n+2)^2-1}+\\frac{2}{(4n+6)^2-1}+\\dotsc\\\\\n",
    "\\geqslant \\sum_{k=n}^{\\infty} \\frac{2}{(4k+2)^2}\n",
    "=\\frac12\\sum_{k=n}^{\\infty}\\frac{1}{(2k+1)^2}\\geqslant \\frac12 \\int_{n}^{\\infty}\\frac{dx}{(2x+1)^2}=\\frac{1}{8n+4}\n",
    "$$"
   ]
  },
  {
   "cell_type": "code",
   "execution_count": 11,
   "metadata": {},
   "outputs": [
    {
     "name": "stdout",
     "output_type": "stream",
     "text": [
      "Error = 0.0012499921877442421 >= 0.0012437810945273632\n"
     ]
    }
   ],
   "source": [
    "from math import pi\n",
    "s = 0\n",
    "n = 100\n",
    "for i in range(n):\n",
    "    s += 1. / (4*i + 1)\n",
    "    s -=  1. / (4*i + 3)\n",
    "print(f'Error = {pi/4. - s} >= {1./(8*n+4)}')"
   ]
  },
  {
   "cell_type": "markdown",
   "metadata": {},
   "source": [
    "#### Wilkinson 模型\n",
    "\n",
    "$${\\rm fl}(a+b)\\leqslant (a+b)(1+\\epsilon)$$\n",
    "\n",
    "其中相对误差 $|\\epsilon |<\\mathbb u$ 被机器精度控制.\n",
    "\n",
    "##### 推论\n",
    "\n",
    "$$|{\\rm fl}(x^Ty)-x^Ty|\\leqslant |x|^T|y|\\cdot O(n\\mathbb u)$$\n",
    "\n",
    "#### IEEE754 模型\n",
    "\n",
    "${\\rm fl}(a+b)$ 必为最接近 $a+b$ 真实值的浮点数表示.\n"
   ]
  },
  {
   "cell_type": "markdown",
   "metadata": {},
   "source": [
    "## 条件数\n",
    "\n",
    "$${\\rm cond}(f,x)=\\lim_{\\epsilon\\rightarrow 0^+}\\sup_{\\Vert \\Delta x\\Vert\\leqslant \\epsilon}\n",
    "\\frac{\\Vert f(x+\\Delta x)-f(x)\\Vert}{\\epsilon \\Vert f(x)\\Vert}$$"
   ]
  },
  {
   "cell_type": "markdown",
   "metadata": {},
   "source": [
    "# 2 方程\n",
    "\n",
    "### 方程\n",
    "\n",
    "#### 线性方程组与最小二乘法\n",
    "\n",
    "求解 $\\text{argmin} \\Vert b - Ax\\Vert_2$ 或, 理论上等价于 $A^*Ax = A^*b$.\n",
    "\n",
    "#### 优化问题\n",
    "\n",
    "优化问题有时可以转化为导数为零的方程.\n",
    "\n",
    "$$\\text{argmin}_x F(x) = 0\\Leftrightarrow F'(x) = 0$$\n",
    "\n",
    "对于有约束项的问题可用拉格朗日乘数法 $L(x,\\lambda) = F(x)+\\lambda G(x)$, \n",
    "\n",
    "$$\\text{argmin}_x F(x) = 0\\Leftrightarrow \\frac{\\partial L}{\\partial x}=0,\\ \\frac{\\partial L}{\\partial \\lambda}= 0$$\n",
    "\n",
    "#### 隐函数\n",
    "\n",
    "$$F(x,y)=0\\leftrightarrow y = F(x)$$\n",
    "\n",
    "### 二分法\n",
    "\n",
    "若一元连续函数 $f(a)<0<f(b)$ 则可通过二分法求零点。 每次令 $c_k = \\frac{a_k+b_k}2$ .\n",
    "\n",
    "若 $f\\left( c_k\\right) < 0$ \n",
    "则取 $(a_{k+1},b_{k+1})=( c_k,b_{k+1})$, 否则\n",
    "$(a_{k+1},b_{k+1})=(a_k, c_k)$. 重复此步骤直至 $b_k-a_k<\\epsilon$.\n",
    "\n",
    "\n",
    "对多元连续值函数若 $f(x)<0<f(y)$, 可考虑 $g(t) = f(x+t(y-x))$.\n",
    "\n",
    "<br>\n",
    "\n",
    "二分法可能受到舍入误差干扰: 若 $f\\left( c_k \\right)$ 很接近零, 有可能舍入误差导致 $f\\left( c_k \\right)$ 正负号算错. 可通过判断以下条件提前终止: $$\\left|f\\left( c_k \\right)\\right| < \\widetilde \\epsilon$$\n",
    "\n",
    "这可以看作输入函数 $f(x)$ 存在微小扰动: $\\Vert \\widetilde f(x) - f(x)\\Vert_{\\infty}\\leqslant \\widetilde \\epsilon$.\n",
    "\n",
    "<br>\n",
    "\n",
    "#### 反插值法 (false position)\n",
    "\n",
    "每次取 $c_k = \\frac{a_kf(b_k) - b_kf(a_k)}{f(b_k) - f(a_k)}$ 为连接两端点 $(a_k,f(a_k)),(b_k,f(b_k))$ 的直线的横截距.\n"
   ]
  },
  {
   "cell_type": "code",
   "execution_count": 16,
   "metadata": {},
   "outputs": [
    {
     "name": "stdout",
     "output_type": "stream",
     "text": [
      "x    = 0.73908513321516\n",
      "f(x) = 0.7390851332151611\n"
     ]
    }
   ],
   "source": [
    "# solve x = cosx  ( 0 < x < 1) by binary search\n",
    "from math import cos\n",
    "f = lambda x: cos(x) - x\n",
    "l , r = 0 , 1\n",
    "for i in range(50):\n",
    "    m = (l + r) * .5\n",
    "    if f(m) < 0: r = m\n",
    "    else: l = m \n",
    "print(f'x    = {m}\\nf(x) = {cos(m)}')"
   ]
  },
  {
   "cell_type": "markdown",
   "metadata": {},
   "source": [
    "\n",
    "### 迭代法 (不动点法)\n",
    "\n",
    "将方程写成 $x=g(x)$ 的形式, 考虑迭代 $x_{k+1}\\leftarrow g(x_k)$. 若 $g(x)$ 在区间内可导且\n",
    "$\\Vert g'(x)\\Vert_{\\infty}=r<1$\n",
    "\n",
    "设精确解为 $x_*$ 则不动点迭代有一次收敛:\n",
    "$$|x_{k+1}-x_*|=|g(x_k)-g(x_*)|=|g'(\\xi)(x_k - x_*)|\\leqslant r|x_k - x_*|$$\n",
    "\n",
    "若在 $g(x)$ 在 $x_*$ 前 $m$ 阶导数为零, $0 = g'(x_*) = \\dotsc g^{(m)}(x_*)$, 则具有局部 $m+1$ 次收敛性.\n",
    "\n",
    "$$|x_{k+1}-x_*|=|g(x_k)-g(x_*)|=\\left|\\sum_{k=1}^{\\infty}\\frac{g(x_*)^{(k)}(x_k - x_*)^k}{k!}\\right|\n",
    "=o\\left((x_{k}-x_*)^{m}\\right)$$\n",
    "\n",
    "#### 例 巴比伦算法\n",
    "\n",
    "这实际上是牛顿法求解平方根的例子.\n",
    "\n",
    "求解方程 $x^2=2$, 等价于 $x=\\frac12x+\\frac1x$. 令 $g(x)=\\frac12x+\\frac1x$, 由于 $|g(x)|\\geqslant \\sqrt 2$, 不妨给定初值\n",
    "$x_1\\geqslant \\sqrt 2$. 则 \n",
    "$$\\Vert g(x)\\Vert_{\\infty} =\\Vert \\frac12 -\\frac{1}{x^2}\\Vert_{\\infty} \\leqslant \\frac12,\\quad x\\in[\\sqrt 2,+\\infty)$$\n",
    "\n",
    "由于 $g'(\\sqrt 2)=0$, 更精细的估计表明其具有局部二次收敛性:\n",
    "\n",
    "$$x_{k+1}-\\sqrt2=\\frac{1}{2}x_k+\\frac{1}{x_k}-\\sqrt 2\n",
    "=\\frac{(x_k - \\sqrt2)^2}{2x_k}\\leqslant \\frac{(x_k - \\sqrt2)^2}{2\\sqrt 2}\n",
    "$$"
   ]
  },
  {
   "cell_type": "code",
   "execution_count": 6,
   "metadata": {},
   "outputs": [
    {
     "name": "stdout",
     "output_type": "stream",
     "text": [
      "x  = 1.4142135623731118\n",
      "√2 = 1.4142135623730951\n"
     ]
    }
   ],
   "source": [
    "x = 3\n",
    "for i in range(5):\n",
    "    x = x * .5 + 1. / x\n",
    "print(f'x  = {x}\\n√2 = {2**0.5}')"
   ]
  },
  {
   "cell_type": "markdown",
   "metadata": {},
   "source": [
    "### 牛顿法 (切线法)\n",
    "\n",
    "对于方程 $f(x)=0$, 写成 $x = x - \\frac{f(x)}{f'(x)}$, 即迭代法中 $g(x) = x - \\frac{f(x)}{f'(x)}$. \n",
    "\n",
    "几何意义上是取 $x_{k+1}$ 为 $y=f(x)$ 在 $x_k$ 处切线的横截距.\n",
    "\n",
    "$$x_{k+1}\\leftarrow x_k - \\frac{f(x)}{f'(x)}$$\n",
    "\n",
    "且\n",
    "$$g'(x) = 1 - \\frac{f'(x)f'(x) - f(x)f''(x)}{\\left(f'(x)\\right)^2}=\\frac{f(x)f''(x)}{\\left(f'(x)\\right)^2}$$\n",
    "\n",
    "若 $f'(x_*)\\neq 0$, 则 $g'(x_*)=0$ 表明牛顿法具有局部二次收敛性. 但不一定具有全局收敛性. \n",
    "\n",
    "进一步, 若 $f(x_*) = f'(x_*) =\\dotsc f^{(m)}(x_*) = 0\\neq f^{(m+1)}(x_*)$ 则将迭代改为如下方案具有二次收敛性.\n",
    "\n",
    "$$x_{k+1}\\leftarrow x_k-\\frac{(m+1)f(x_k)}{f'(x_k)}$$\n",
    "\n",
    "<br>\n",
    "\n",
    "#### 割线法\n",
    "\n",
    "若难以求导, 由于 $x_k - x_{k-1}\\rightarrow 0$, 可在切线法中利用 $f'(x) \\approx \\frac{f(x_k) - f(x_{k-1})}{x_k - x_{k-1}}$ 代替求导. 可以证明其具备局部 $\\frac{\\sqrt 5+1}{2}$ 次收敛性.\n",
    "\n",
    "$$x_{k+1} = x_k - \\frac{f(x_k)(x_k - x_{k-1})}{f(x_k) - f(x_{k-1})}$$\n",
    "\n",
    "#### Stevenson 法\n",
    "\n",
    "若难以求导, 由于 $f(x_k)\\rightarrow 0$, 可在切线法中利用 $f'(x)\\approx \\frac{f(x_k + f(x_k)) - f(x_k)}{f(x_k)}$ 代替求导.\n",
    "可以证明其具备局部二次收敛性. 即迭代法中 $g(x) = x - \\frac{\\left(f(x)\\right)^2}{f(x+f(x)) - f(x)}$.\n",
    "\n",
    "$$x_{k+1} = x_k - \\frac{\\left(f(x_k)\\right)^2}{f(x_k+f(x_k)) - f(x_k)}$$\n",
    "\n",
    "$$g'(x) = 1 - \\frac{2f(x)f'(x)\\left(f(x+f(x)) - f(x)\\right) - \\left(f(x)\\right)^2\\left(f'(x+f(x))(1+f'(x)) - f'(x)\\right)}{\\left(\n",
    "    f(x+f(x)) - f(x)\\right)^2}$$\n",
    "\n",
    "假设 $f'(x)\\neq 0$, $f(x+f(x)) - f(x) \\sim f'(x)f(x)\\quad (x\\rightarrow x_*)$. 从而\n",
    "\n",
    "$$g'(x_*) = 1 - \\lim_{x\\rightarrow x_*}\\frac{2(f(x)f'(x))^2 - (f(x))^2\\left(f'(x+f(x))(1+f'(x)) - f'(x)\\right) + o(f(x))^3}{(f'(x)f(x))^2}\\\\=1-\\lim_{x\\rightarrow x_*}\\frac{2(f'(x))^2 - \\left(f'(x+f(x))(1+f'(x)) - f'(x)\\right)}{(f'(x))^2}\n",
    "=0\n",
    "$$\n",
    "\n",
    "\n",
    "#### 简化 Newton 法\n",
    "\n",
    "若难以求导, 可只估计一次邻域内导数的近似值 $f'(x_*)\\approx A$. \n",
    "\n",
    "$$x_{k+1} = x_k - \\frac{f(x_k)}{A}$$\n",
    "\n",
    "#### 阻尼牛顿法\n",
    "\n",
    "带有阻尼的牛顿法, 防止牛顿法发散.\n",
    "\n",
    "$$x_{k+1} = x_k - \\alpha_k \\frac{f(x_k)}{f'(x_k)}$$"
   ]
  },
  {
   "cell_type": "markdown",
   "metadata": {},
   "source": [
    "### 多元牛顿法\n",
    "\n",
    "若 $f:\\mathbb R^n\\rightarrow \\mathbb R^n$, 则求解 $f(x) = 0$ 有时可考虑多元形式的牛顿法. 设 $J_k = J_f(x_k)$ 表示 Jacobi 矩阵.\n",
    "\n",
    "$$x_{k+1} = x_k - J_k^{-1}f(x_k)$$\n",
    "\n",
    "\n",
    "#### Broyden 方法\n",
    "\n",
    "又称 Good Broyden 方法. \n",
    "\n",
    "由于求解线性方程组 $J_k^{-1}f(x_k)$ 是 $O(n^3)$ 量级的, Broyden 方法提出用其它近似的 $J_k$ 代替准确的 Jacobi 矩阵, 即类似割线法. 希望 $J_{k+1}$ 是 $J_k$ 的秩 1 修正, 且满足类似梯度的性质, 即以下两条.\n",
    "\n",
    "$$J_{k+1} = J_k + uv^T\\\\\n",
    "J_{k+1} (x_{k+1} - x_k) = f(x_{k+1}) - f(x_k)$$\n",
    "\n",
    "即\n",
    "$$u(v^T\\Delta x) = \\Delta f(x) - J_k\\Delta x$$\n",
    "不妨设 $\\Vert u\\Vert_2 = 1$, 从而\n",
    "$$u = \\frac{\\Delta f(x) - J_k\\Delta x}{\\Vert \\Delta f(x) - J_k\\Delta x\\Vert_2},\\quad v^T\\Delta x=\\Vert \\Delta f(x) - J_k\\Delta x\\Vert_2$$\n",
    "\n",
    "由于 $v$ 不唯一, 可额外限制其范数最小, 即与 $\\Delta x$ 平行, $v = \\Delta x \\frac{\\Vert \\Delta f(x) - J_k\\Delta x\\Vert_2}{\\Vert \\Delta x\\Vert_2^2}$, 整理得到\n",
    "\n",
    "$$J_{k+1} = J_k + \\frac{(\\Delta f(x) - J_k\\Delta x)\\Delta x^T}{\\Vert \\Delta x\\Vert_2^2}$$\n",
    "\n",
    "秩 1 修正取逆可通过 Sherman-Morrison 公式得到, 节省时间复杂度.\n",
    "$$(A+uv^T)^{-1} = A^{-1} - \\frac{A^{-1}uv^TA^{-1}}{1+v^TA^{-1}u}$$\n",
    "\n",
    "\n",
    "#### Bad Broyden 方法\n",
    "\n",
    "Bad Broyden 方法提出用其它近似的 $J_k^{-1}$ 代替准确的 Jacobi 矩阵的逆. 希望 $J_{k+1}^{-1}$ 是 $J_k^{-1}$ 的秩 1 修正.\n",
    "\n",
    "$$J_{k+1}^{-1} = J_k^{-1} + uv^T\\\\\n",
    "J_{k+1}^{-1}f(x_{k+1}) - f(x_k) = x_{k+1} - x_k $$\n",
    "\n",
    "类似求得\n",
    "\n",
    "$$J_{k+1} = J_k + \\frac{(\\Delta x - J_k^{-1}\\Delta f(x))\\Delta f(x)^T}{\\Vert \\Delta f(x)\\Vert_2^2}$$\n",
    "\n",
    "注: 笔者暂未找到 Bad Broyden 被冠名为 Bad 的原因, 即暂未找到其明确劣于 Good Broyden 的原因."
   ]
  }
 ],
 "metadata": {
  "interpreter": {
   "hash": "1120dc956da57eca5c948a0118f4cdcd4d1b3be98c72752ed298d16085a61d24"
  },
  "kernelspec": {
   "display_name": "Python 3.8.4 64-bit (system)",
   "language": "python",
   "name": "python3"
  },
  "language_info": {
   "codemirror_mode": {
    "name": "ipython",
    "version": 3
   },
   "file_extension": ".py",
   "mimetype": "text/x-python",
   "name": "python",
   "nbconvert_exporter": "python",
   "pygments_lexer": "ipython3",
   "version": "3.8.4"
  },
  "orig_nbformat": 4
 },
 "nbformat": 4,
 "nbformat_minor": 2
}
