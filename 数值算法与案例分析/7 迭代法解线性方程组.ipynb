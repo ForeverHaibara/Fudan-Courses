{
 "cells": [
  {
   "cell_type": "markdown",
   "metadata": {},
   "source": [
    "## 迭代法\n",
    "\n",
    "对于大型稀疏矩阵求解线性方程组, 倘若使用高斯消元法会使矩阵变得稠密, 可能会消耗大量内存. 迭代法是可以适应稀疏矩阵的一种方法.\n",
    "\n",
    "### Jacobi 迭代法\n",
    "\n",
    "以 $3\\times 3$ 的 $Ax = b$ 问题为例, 假设现在已解出近似解 $x = [x_1,\\dotsc,x_n]^T$, 令\n",
    "$$x_1' = (b_1 - a_{12}x_2 - a_{13}x_3)/ a_{11}\\\\\n",
    "  x_2' = (b_2 - a_{21}x_1 - a_{23}x_3)/ a_{22}\\\\\n",
    "  x_3' = (b_3 - a_{31}x_1 - a_{32}x_2)/ a_{33}$$\n",
    "算作一次迭代 . 迭代规则很好理解, 即 $x_k' = (b_k - \\sum_{i\\neq k}a_{ki}x_i) / a_{ki}$.\n",
    "\n",
    "若记 $$A = \\left[\\begin{matrix}a_{11} & a_{12} & a_{13} & \\dotsc & a_{1n}\\\\\n",
    "a_{21} & a_{22} & a_{23} &\\dotsc &a_{2n}\\\\\n",
    "a_{31} & a_{32} & a_{33} &\\dotsc &a_{3n}\\\\\n",
    "\\vdots & \\vdots &\\vdots &\\ddots &\\vdots \\\\\n",
    "a_{n1} & a_{n2} & a_{n3} &\\dotsc &a_{nn}\n",
    "\\end{matrix}\\right]$$\n",
    "\n",
    "令对角元构成矩阵 $D= {\\rm diag}[a_{11},a_{22},\\dotsc,a_{nn}]$, 以及 $L,U$ 为严格下三角与严格上三角:\n",
    "$$L = \\left[\\begin{matrix}  &   &  &   & \\\\\n",
    "a_{21} &   &  &  & \\\\\n",
    "a_{31} & a_{32} &  & & \\\\\n",
    "\\vdots & \\vdots &\\ddots & & \\\\\n",
    "a_{n1} & a_{n2} & a_{n3} &\\dotsc &\n",
    "\\end{matrix}\\right]\\quad \n",
    "U= \\left[\\begin{matrix}\\  & a_{12}  &a_{12}  &\\dotsc   &a_{1n} \\\\\n",
    "\\ &   & a_{23}&\\dotsc  &a_{2n} \\\\\n",
    "\\ &   &  & \\ddots & a_{3n} \\\\\n",
    "\\ &   &  & &\\vdots \\\\\n",
    "\\ &  &  &  &\n",
    "\\end{matrix}\\right].$$\n",
    "\n",
    "那么 $A = D + L + U$. 则该迭代可以写成向量形式\n",
    "\n",
    "$$ x' = D^{-1}(b - (L+U)x).$$\n",
    "\n",
    "这是线性递推, 考察其不动点 $x_* = D^{-1}(b - (L+U)x_*)$ 解得 $Ax_* =b$, 即不动点为精确解. 同时\n",
    "\n",
    "$$ x' - x_* = -D^{-1}(L+U)(x - x_*).$$\n",
    "\n",
    "或 $$x^{(n)} - x_* = (-D^{-1}(L+U))^n(x^{(0)}-x_*).$$\n",
    "\n",
    "因此若上式对于任意初始值, $n\\rightarrow \\infty$ 迭代收敛当且仅当 $D^{-1}(L+U)$ 的谱半径小于 $1$. 且极限为精确解 $x_*$. "
   ]
  },
  {
   "cell_type": "code",
   "execution_count": 2,
   "metadata": {},
   "outputs": [],
   "source": [
    "import numpy as np \n",
    "def JacobiIteration(A,b,iter = -1):\n",
    "    eps = np.linalg.norm(A) * 2e-15\n",
    "    n = A.shape[0]\n",
    "    x = np.random.randn(n)\n",
    "    d = np.zeros(n,dtype=A.dtype)\n",
    "    if iter < 0: iter = 200 * n\n",
    "    # 扔掉 A 的对角元, 变成 -(L+U)\n",
    "    for i in range(n):\n",
    "        d[i] = A[i,i]\n",
    "        A[i,i] = 0\n",
    "    \n",
    "    for _ in range(iter):\n",
    "        if np.linalg.norm(A @ x + d * x - b) <= eps:\n",
    "            break\n",
    "        x = (b - A @ x) / d\n",
    "\n",
    "    for i in range(n): # 还原\n",
    "        A[i,i] = d[i] \n",
    "\n",
    "    return x"
   ]
  },
  {
   "cell_type": "code",
   "execution_count": 3,
   "metadata": {},
   "outputs": [
    {
     "name": "stdout",
     "output_type": "stream",
     "text": [
      "Error    = 5.3466819503992217e-14\n",
      "Residual = 1.4001496497771627e-12\n"
     ]
    }
   ],
   "source": [
    "# 构造一个 D^{-1}(L+U) 谱半径必然小于 1 的矩阵\n",
    "n = 500\n",
    "np.random.seed(3)\n",
    "A = np.random.randn(n*n).reshape((n,n))\n",
    "for i in range(n):\n",
    "    A[i,i] = 0\n",
    "s = max(np.abs(np.linalg.eigvals(A)))\n",
    "for i in range(n):\n",
    "    A[i,i] = s + abs(np.random.randn())\n",
    "\n",
    "realsol = np.random.randn(n)\n",
    "b = A @ realsol\n",
    "x = JacobiIteration(A,b)\n",
    "print('Error    =',np.linalg.norm(x - realsol))\n",
    "print('Residual =',np.linalg.norm(A @ x - b))"
   ]
  },
  {
   "attachments": {},
   "cell_type": "markdown",
   "metadata": {},
   "source": [
    "### Gauss-Seidel 迭代法\n",
    "\n",
    "仍然以 $3\\times 3$ 为例, 现在\n",
    "$$x_1' = (b_1 - a_{12}x_2 - a_{13}x_3)/ a_{11}\\\\\n",
    "  x_2' = (b_2 - a_{21}x_1' - a_{23}x_3)/ a_{22}\\\\\n",
    "  x_3' = (b_3 - a_{31}x_1' - a_{32}x_2')/ a_{33}$$\n",
    "即更新$x_k$ 的时候利用已经更新过的 $x_1,\\dotsc,x_{k-1}$. 这被称为 Gauss-Seidel 迭代法. 采用方才的记号,\n",
    "$$x' = D^{-1}(b - Lx' - Ux).$$\n",
    "\n",
    "亦即\n",
    "\n",
    "$$x' = (D+L)^{-1}(b - Ux).$$\n",
    "\n",
    "保证收敛当且仅当 $(D+L)^{-1}U$ 的谱半径 $ < 1$. 注意, Jacobi 迭代法收敛和 Gauss-Seidel 迭代法收敛条件之间不存在充分或必要关系 (可能一个收敛但另一个不收敛).\n",
    "\n",
    "可以证明, 若 $A$ 对称正定, 则 Gauss-Seidel 方法必收敛. [1] p. 112."
   ]
  },
  {
   "cell_type": "code",
   "execution_count": 4,
   "metadata": {},
   "outputs": [
    {
     "name": "stdout",
     "output_type": "stream",
     "text": [
      "Error    = 3.5226807513908706e-11\n",
      "Residual = 3.157780465137217e-11\n"
     ]
    }
   ],
   "source": [
    "from numba import jit\n",
    "@jit(nopython = True)\n",
    "def GaussSeidel(A,b,iter = -1):\n",
    "    eps = np.linalg.norm(A) * 2e-15\n",
    "    n = A.shape[0]\n",
    "    x = np.random.randn(n)\n",
    "    if iter < 0: iter = 100 * n\n",
    "    for _ in range(iter):\n",
    "        if np.linalg.norm(A @ x - b) <= eps:\n",
    "            break\n",
    "        for k in range(n):\n",
    "            #x[k] =  (b[k] - np.dot(A[k],x) + A[k,k]*x[k]) / A[k,k]\n",
    "            x[k] += (b[k] - np.dot(A[k],x)) / A[k,k]\n",
    "    return x\n",
    "\n",
    "n = 500\n",
    "np.random.seed(1)\n",
    "A = np.random.randn(n*n).reshape((n,n))\n",
    "A = A.T @ A + np.eye(n) * np.random.random()\n",
    "\n",
    "realsol = np.random.randn(n)\n",
    "b = A @ realsol\n",
    "x = GaussSeidel(A,b)\n",
    "print('Error    =',np.linalg.norm(x - realsol))\n",
    "print('Residual =',np.linalg.norm(A @ x - b))"
   ]
  },
  {
   "cell_type": "markdown",
   "metadata": {},
   "source": [
    "## References\n",
    "\n",
    "1. 徐树方,高立,张平文, 数值线性代数, The Peking University Press, 2nd ed., 2013."
   ]
  }
 ],
 "metadata": {
  "interpreter": {
   "hash": "1403262caf5c96c562d23c2ec1d0e9409dfef636549d4d9dd4887bed656bec38"
  },
  "kernelspec": {
   "display_name": "Python 3.8.4 64-bit (system)",
   "language": "python",
   "name": "python3"
  },
  "language_info": {
   "codemirror_mode": {
    "name": "ipython",
    "version": 3
   },
   "file_extension": ".py",
   "mimetype": "text/x-python",
   "name": "python",
   "nbconvert_exporter": "python",
   "pygments_lexer": "ipython3",
   "version": "3.8.4"
  },
  "orig_nbformat": 4
 },
 "nbformat": 4,
 "nbformat_minor": 2
}
