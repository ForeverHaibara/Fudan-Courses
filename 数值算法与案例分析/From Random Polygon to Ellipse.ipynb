{
 "cells": [
  {
   "cell_type": "markdown",
   "metadata": {},
   "source": [
    "Reference: \n",
    "From Random Polygon to Ellipse: An Eigenanalysis, Adam N. Elmachtoub, Charles F. van Loan.\n",
    "\n",
    "This python notebook is devoted to the paper and to reproducing the experiments.\n",
    "\n",
    "**Python 3**, **NumPy** and **Matplotlib** are required for the environment."
   ]
  },
  {
   "cell_type": "code",
   "execution_count": null,
   "metadata": {},
   "outputs": [],
   "source": [
    "import numpy as np\n",
    "import matplotlib.pyplot as plt\n",
    "import math"
   ]
  },
  {
   "cell_type": "code",
   "execution_count": null,
   "metadata": {},
   "outputs": [],
   "source": [
    "valuetype = 'float64'\n",
    "n = 15\n",
    "xs = np.zeros((n,1),dtype=valuetype)\n",
    "ys = np.zeros((n,1),dtype=valuetype)\n",
    "M  = np.zeros((n,n),dtype=valuetype)\n",
    "\n",
    "# initialize the matrices according to the paper\n",
    "def initialize(size = 0,seed = 0):\n",
    "    global xs, ys, M, n\n",
    "    if size > 0: n = size\n",
    "    np.random.seed(seed)\n",
    "    xs = np.random.random((n,1)).astype(valuetype)-0.5\n",
    "    ys = np.random.random((n,1)).astype(valuetype)-0.5\n",
    "    \n",
    "    xs -= np.mean(xs)\n",
    "    ys -= np.mean(ys)\n",
    "\n",
    "    # adjency matrix\n",
    "    M = np.zeros((n,n),dtype=valuetype)\n",
    "    for i in range(n):\n",
    "        M[i][i] = 0.5\n",
    "        M[i][(i+1)%n] = 0.5\n",
    "        \n",
    "# plot the points conveniently\n",
    "def plotter(xs,ys,color='b',line=True,point=True,title=None,new=True,show=True):\n",
    "    if new:\n",
    "        plt.figure()\n",
    "    plt.gca().set_aspect(1)\n",
    "    if type(xs) != list:\n",
    "        if point:\n",
    "            plt.scatter(xs,ys,color=color)\n",
    "        if line:\n",
    "            xs = xs.flatten().tolist()\n",
    "            ys = ys.flatten().tolist()\n",
    "            xs.append(xs[0])\n",
    "            ys.append(ys[0])\n",
    "            plt.plot(xs,ys,color=color)\n",
    "    else:\n",
    "        for i in range(len(xs)):\n",
    "            if point:\n",
    "                plt.scatter(xs[i],ys[i],color=color[i])\n",
    "            if line:\n",
    "                xs[i] = xs[i].flatten().tolist()\n",
    "                ys[i] = ys[i].flatten().tolist()\n",
    "                xs[i].append(xs[i][0])\n",
    "                ys[i].append(ys[i][0])\n",
    "                plt.plot(xs[i],ys[i],color=color[i])\n",
    "    plt.xlim(-0.6,0.6)\n",
    "    plt.ylim(-0.6,0.6)\n",
    "    if title:\n",
    "        plt.title(title)\n",
    "    if show:\n",
    "        plt.show()"
   ]
  },
  {
   "cell_type": "markdown",
   "metadata": {},
   "source": [
    "1.2 Iteration: A First Try\n",
    "\n",
    "Generate a random set of points as a polygon. Replace them by the midpoints of the edges in each iteration. Repeat this and see the polygon gradually untangle and converge to a single point."
   ]
  },
  {
   "cell_type": "code",
   "execution_count": null,
   "metadata": {},
   "outputs": [],
   "source": [
    "initialize(15)\n",
    "keystage = [0,5,20,100]\n",
    "for epoch in range(101):\n",
    "    if epoch in keystage:\n",
    "        plotter(xs,ys,title='After %d Averagings'%epoch)\n",
    "        plt.show()\n",
    "    xs = M @ xs\n",
    "    ys = M @ ys "
   ]
  },
  {
   "cell_type": "markdown",
   "metadata": {},
   "source": [
    "Let $k_n$ be the smallest $k$ such that after $k$ averagings the edges untangle. Here are some average $k_n$ s corresponding to various $n$ s.\n",
    "\n",
    "<font color='red'>WARNING</font> This experiment is so slow that we introduce the magical numba-jit accelerator. This sharply cuts the executing time from several minutes down to 4 seconds. If you have not installed **numba**, it is recommended to use the command **pip install numba** to install one. \n",
    "\n",
    "It is an alternative to comment off the jit-decorator before these functions if numba is unavailable, but the following code will possibly runs a long time."
   ]
  },
  {
   "cell_type": "code",
   "execution_count": null,
   "metadata": {},
   "outputs": [],
   "source": [
    "from numba import jit\n",
    "    \n",
    "@jit(nopython = True)\n",
    "def between(x1,x2,x3):\n",
    "    return min(x1,x3) < x2 < max(x1,x3)\n",
    "\n",
    "# check if the segements {(x1,y1),(x2,y2)} and {(x3,y3),(x4,y4)} intersect\n",
    "@jit(nopython = True)\n",
    "def intersects(x1,y1,x2,y2,x3,y3,x4,y4):\n",
    "    if x1 != x2:\n",
    "        k1 = (y2-y1)/(x2-x1)\n",
    "        b1 = y1 - k1*x1 \n",
    "        if x3 != x4:\n",
    "            k2 = (y4-y3)/(x4-x3)\n",
    "            b2 = y3 - k2*x3\n",
    "            if k1 == k2 :\n",
    "                return False\n",
    "            # k1x + b1 = k2x + b2\n",
    "            x = (b2 - b1)/(k1 - k2)\n",
    "            return between(x1,x,x2)  and between(x3,x,x4)\n",
    "        else:\n",
    "            y = k1*x3 + b1\n",
    "            return between(x1,x3,x2) and between(y3,y,y4)\n",
    "    else:\n",
    "        if x3 != x4:\n",
    "            k2 = (y4-y3)/(x4-x3)\n",
    "            b2 = y3 - k2*x3\n",
    "            y = k2*x1 + b2\n",
    "            return between(x3,x1,x4) and between(y1,y,y2)\n",
    "    return False\n",
    "\n",
    "# check whether the figure untangles by enumerating all the combinations of the edges\n",
    "@jit(nopython = True)\n",
    "def check_untangle(n,xs,ys):\n",
    "    # to form a cycle\n",
    "    # extract each pair of edges\n",
    "    for i in range(n):\n",
    "        for j in range(n):\n",
    "            if i == j or i == j - 1 or i == j + 1: continue\n",
    "            if intersects(xs[i][0],ys[i][0],xs[(i+1)%n][0],ys[(i+1)%n][0],\n",
    "                            xs[j][0],ys[j][0],xs[(j+1)%n][0],ys[(j+1)%n][0]):\n",
    "                return False\n",
    "    return True\n",
    "\n",
    "# return the minimal k such that the figure untangles\n",
    "@jit(nopython = True)\n",
    "def untangle(n,M,xs,ys):\n",
    "    for epoch in range(0,2001):\n",
    "        if check_untangle(n,xs,ys):\n",
    "            return epoch\n",
    "        xs = M @ xs\n",
    "        ys = M @ ys\n",
    "    return epoch"
   ]
  },
  {
   "cell_type": "code",
   "execution_count": null,
   "metadata": {},
   "outputs": [],
   "source": [
    "ns = [10,20,40,80]\n",
    "ks = []\n",
    "examples = 100\n",
    "startseed = 0\n",
    "for n in ns:\n",
    "    k = 0\n",
    "    for seed in range(startseed, startseed + examples):\n",
    "        initialize(n,seed)\n",
    "        k += untangle(n,M,xs,ys)\n",
    "    ks.append(k * 1.0 / examples)\n",
    "print('Average k = ' , ks)\n"
   ]
  },
  {
   "cell_type": "markdown",
   "metadata": {},
   "source": [
    "1.3. Iteration: A Second Try\n",
    "\n",
    "In this experiment, vector normalization is included so that the figure does not collapse to the centroid. The result converges to an ellipse with 45-degree tilt from the coordinate axes."
   ]
  },
  {
   "cell_type": "code",
   "execution_count": null,
   "metadata": {},
   "outputs": [],
   "source": [
    "initialize(15)\n",
    "for epoch in range(100):\n",
    "    xs = M @ xs\n",
    "    ys = M @ ys \n",
    "    xs /= np.linalg.norm(xs)\n",
    "    ys /= np.linalg.norm(ys)\n",
    "plotter(xs,ys,show=False)\n",
    "\n",
    "coor = np.linspace(-0.6,0.6,num=1000)\n",
    "plt.plot(coor,coor,'gray')\n",
    "plt.plot(coor,-coor,'gray')\n",
    "plt.show()"
   ]
  },
  {
   "cell_type": "markdown",
   "metadata": {},
   "source": [
    "3.1. An Experiment and Another Conjecture.\n",
    "\n",
    "Even-indexed polygons given by the following code are all the same, while the odd-indexed are all the same. The even polygon is marked red while the odd marked blue."
   ]
  },
  {
   "cell_type": "code",
   "execution_count": null,
   "metadata": {},
   "outputs": [],
   "source": [
    "initialize(12)\n",
    "np.random.seed(1)\n",
    "theta_u = np.random.random() * 2*np.pi\n",
    "theta_v = np.random.random() * 2*np.pi\n",
    "cosx = math.sqrt(2.0/n) * np.cos(np.linspace(0,2.0*(n-1)*np.pi/n,num=n))\n",
    "sinx = math.sqrt(2.0/n) * np.sin(np.linspace(0,2.0*(n-1)*np.pi/n,num=n))\n",
    "\n",
    "u = math.cos(theta_u)*cosx + math.sin(theta_u)*sinx\n",
    "v = math.cos(theta_v)*cosx + math.sin(theta_v)*sinx\n",
    "us , vs = [] , []\n",
    "us.append(u)\n",
    "vs.append(v)\n",
    "for epoch in range(11):\n",
    "    u = M @ u \n",
    "    v = M @ v\n",
    "    u /= np.linalg.norm(u)\n",
    "    v /= np.linalg.norm(v)\n",
    "    us.append(u)\n",
    "    vs.append(v)\n",
    "plotter([us[-1],us[-2]],[vs[-1],vs[-2]],['r','b'])"
   ]
  },
  {
   "cell_type": "markdown",
   "metadata": {},
   "source": [
    "4.2. The D2 Ellipse.\n",
    "\n",
    "Calculation gives that the points form a 45-degree ellipse with semiaxes $|\\sigma_1|, |\\sigma_2|$. \n",
    "The equation is given by $\\frac{(x-y)^2}{2\\sigma_1^2} + \\frac{(x+y)^2}{2\\sigma_2^2}=1$. \n",
    "\n",
    "The code below draws the ellipse (in green) first and then the points to verify the latter lie precisely on the ellipse."
   ]
  },
  {
   "cell_type": "code",
   "execution_count": null,
   "metadata": {},
   "outputs": [],
   "source": [
    "initialize(12)\n",
    "sigma1 = 2/math.sqrt(n) * math.cos((theta_v - theta_u)/2)\n",
    "sigma2 = 2/math.sqrt(n) * math.sin((theta_v - theta_u)/2)\n",
    "\n",
    "# non-tilt ellipse\n",
    "base = np.linspace(0, 2*np.pi, num=1000)\n",
    "ellipse_x = sigma1 * np.cos(base)\n",
    "ellipse_y = sigma2 * np.sin(base)\n",
    "\n",
    "# spin 45-degree\n",
    "ellipse_x , ellipse_y = (ellipse_x + ellipse_y)/math.sqrt(2),  (ellipse_x - ellipse_y)/math.sqrt(2) \n",
    "plotter(ellipse_x,ellipse_y,color='g',point=False,show=False)\n",
    "plotter([us[-1],us[-2]],[vs[-1],vs[-2]],['r','b'],line=False,new=False)\n",
    "plt.show()"
   ]
  },
  {
   "cell_type": "markdown",
   "metadata": {},
   "source": [
    "4.4. Alternative Normalizations.\n",
    "\n",
    "Use different vector norms and chech how the points converge. The following experiment checks that \n",
    "the figure $P_{2n}$ coincides with $P_0$, indicating the iteration has a cycle of $2n$ (regardless of the order of norms because normalization does not influence their directions)."
   ]
  },
  {
   "cell_type": "code",
   "execution_count": null,
   "metadata": {},
   "outputs": [],
   "source": [
    "initialize()\n",
    "cosx = math.sqrt(2.0/n) * np.cos(np.linspace(0,2*(n-1)*np.pi/n,num=n))\n",
    "sinx = math.sqrt(2.0/n) * np.sin(np.linspace(0,2*(n-1)*np.pi/n,num=n))\n",
    "np.random.seed(1)\n",
    "u = (np.random.random()-0.5)*cosx + (np.random.random()-0.5)*sinx\n",
    "v = (np.random.random()-0.5)*cosx + (np.random.random()-0.5)*sinx\n",
    "\n",
    "# order of norm\n",
    "ordx = 3\n",
    "ordy = 1.5\n",
    "\n",
    "u /= np.linalg.norm(u, ord = ordx)\n",
    "v /= np.linalg.norm(v, ord = ordy)\n",
    "u0 , v0 = u.copy() , v.copy()\n",
    "for epoch in range(2*n):\n",
    "    u = M @ u \n",
    "    v = M @ v\n",
    "    u /= np.linalg.norm(u, ord = ordx)\n",
    "    v /= np.linalg.norm(v, ord = ordy)\n",
    "plotter([u0,u],[v0,v],color=['r','b'])"
   ]
  }
 ],
 "metadata": {
  "interpreter": {
   "hash": "1403262caf5c96c562d23c2ec1d0e9409dfef636549d4d9dd4887bed656bec38"
  },
  "kernelspec": {
   "display_name": "Python 3.8.4 64-bit (system)",
   "language": "python",
   "name": "python3"
  },
  "language_info": {
   "codemirror_mode": {
    "name": "ipython",
    "version": 3
   },
   "file_extension": ".py",
   "mimetype": "text/x-python",
   "name": "python",
   "nbconvert_exporter": "python",
   "pygments_lexer": "ipython3",
   "version": "3.8.4"
  },
  "orig_nbformat": 4
 },
 "nbformat": 4,
 "nbformat_minor": 2
}
