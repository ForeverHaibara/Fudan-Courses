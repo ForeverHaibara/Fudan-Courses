{
 "cells": [
  {
   "cell_type": "markdown",
   "metadata": {},
   "source": [
    "## 舍入误差\n",
    "\n",
    "由于计算机内存储小数的精度有限, 因此小数运算很可能出现舍入误差. \n",
    "\n",
    "### 小数存储\n",
    "\n",
    "单精度, 双精度的二进制小数存储与表示. 略.\n",
    "\n",
    "### 误差估计\n",
    "\n",
    "定义. ${\\rm fl}(x) = x(1+\\delta)$, 其中 $|\\delta|<\\bf u$ 为机器精度. 表示一个实数 $x$ 在计算机内以有限精度 ${\\rm}(x)$ 存储.\n",
    "\n",
    "**Theorem 1** $|\\sum_{i=1}^n a_ix_i - {\\rm fl}(\\sum_{i=1}^n a_ix_i)|<\\frac{n\\bf u}{1- n\\bf u}\\sum_{i=1}^n|a_ix_i|$."
   ]
  },
  {
   "cell_type": "markdown",
   "metadata": {},
   "source": [
    "### 条件数\n",
    "\n",
    "可逆方阵 $A$ 的条件数 (condition number) $\\kappa$ 定义为 $\\kappa = \\Vert A\\Vert_2 \\Vert A^{-1}\\Vert_2$. 不可逆方阵条件数为 $+\\infty$.\n",
    "\n",
    "\n",
    "<br>\n",
    "\n",
    "\n",
    "**Theorem 1**  对于方阵 $A$ , 设最大奇异值和最小奇异值为 $\\sigma_1$, $\\sigma_n$. 则其条件数  $\\kappa = \\frac{\\sigma_1}{\\sigma_n}$.\n",
    "\n",
    "证: 注意 $\\sigma_1 = \\Vert A\\Vert_2$, $\\sigma_n = \\Vert A^{-1}\\Vert_2$.\n",
    "\n",
    "据此, 对于一个普通的长方形矩阵, 可定义其条件数为最大奇异值和最小奇异值的比值.\n",
    "\n",
    "<br>\n",
    "\n",
    "\n",
    "**Theorem 2** 对于任意方阵 $A$, 总有 $\\kappa \\geqslant 1$, 取等当且仅当 $A$ 为酉矩阵的倍数(且非零).\n",
    "\n",
    "证: 由 Theorem 1, 知 $\\kappa = \\frac{\\sigma_1}{\\sigma_n}\\geqslant 1$. 取等当且仅当 $\\sigma_1 = \\sigma_n$. 这说明 \n",
    "$\\sigma_1 = \\sigma_2 = \\dotsc = \\sigma_n$, 从而奇异值分解\n",
    "\n",
    "$$A = \n",
    "U\\left[\\begin{matrix}\\sigma_1 & & & \\\\ \\ & \\sigma_2 & & \\\\ \\ &  & \\ddots & \\\\ \\ & & & \\sigma_n\n",
    "\\end{matrix}\\right]V=\\sigma_1 UV.$$\n",
    "\n",
    "$$A^*A = \\overline \\sigma_1\\sigma_1 V^*U^*UV=|\\sigma_1|^2 I.$$\n",
    "\n",
    "取 $Q = \\frac{A}{|\\sigma_1|}$, 则 $Q^*Q = I$ 表明 $Q$ 是酉矩阵."
   ]
  },
  {
   "cell_type": "markdown",
   "metadata": {},
   "source": [
    "### 误差与残差\n",
    "\n",
    "由于舍入误差的存在, 用计算机数值解方程组 $Ax = b$ 可能会带来误差, 即解得 $\\hat x=x_*+\\delta x$, 其中 $x_*$ 为精确解, $\\delta x$ 很小. \n",
    "\n",
    "称 $\\delta x = \\hat x - x_*$ 为向后误差 (backward error) 或误差 (error). \n",
    "\n",
    "称 $r = A\\hat x - b = A\\delta x$ 为向前误差 (forward error) 或残差 (residual).\n",
    "\n",
    "向前误差充分小时, 向后误差也充分小, 因为\n",
    "\n",
    "$$\\frac{\\Vert \\delta x\\Vert_2}{\\Vert x_*\\Vert_2} = \\frac{\\Vert A^{-1}r\\Vert_2}{\\Vert x_*\\Vert_2}\n",
    "\\leqslant \\frac{\\Vert A^{-1}\\Vert_2 \\Vert r\\Vert_2}{\\Vert x_*\\Vert_2}\n",
    "\\leqslant \\frac{\\Vert A^{-1}\\Vert_2 \\Vert r\\Vert_2}{\\frac{\\Vert Ax_*\\Vert_2}{\\Vert A\\Vert_2}}\n",
    "=\\kappa \\frac{\\Vert r\\Vert_2}{\\Vert b\\Vert_2}.$$\n",
    "\n",
    "从上式还能看出, $\\kappa$ 越小越好(此时称 $A$ 为良态的), $\\kappa$ 太大则称矩阵 $A$ 是病态的."
   ]
  },
  {
   "cell_type": "markdown",
   "metadata": {},
   "source": [
    "## 时间复杂度\n",
    "\n",
    "理论上,\n",
    "\n",
    "$1 \\times n$ 与 $n\\times 1$ 的向量相乘(内积), 时间复杂度为 $O(n)$.\n",
    "\n",
    "$m \\times n$ 与 $n\\times 1$ 的矩阵-向量相乘, 时间复杂度为 $O(mn)$.\n",
    "\n",
    "$m \\times n$ 与 $n\\times l$ 的矩阵-矩阵相乘, 时间复杂度为 $O(mnl)$.\n",
    "\n",
    "实际上, 在常用的矩阵运算库中, 如 BLAS, 矩阵乘法运算是高度优化的 (如对内存的读取、多线程等), 比自己用循环实现快得多. 也就是说调用一次 $m\\times n$ 与 $n\\times l$ 的矩阵-矩阵相乘比调用 $l$ 次矩阵-向量相乘效率更高. \n",
    "\n",
    "若把向量内积、矩阵-向量乘法、矩阵-矩阵乘法分别称为 1级BLAS、2级BLAS、3级BLAS, 则在设计算法与代码实现中, 应尽量使用少数次高级BLAS**代替**多次低级BLAS."
   ]
  },
  {
   "cell_type": "code",
   "execution_count": 2,
   "metadata": {},
   "outputs": [
    {
     "name": "stdout",
     "output_type": "stream",
     "text": [
      "Level 3 BLAS = 0.209608793258667 sec\n",
      "Level 2 BLAS = 2.2849934101104736 sec\n"
     ]
    }
   ],
   "source": [
    "import numpy as np \n",
    "import time\n",
    "n = 2000\n",
    "A = np.random.random((n,n)) - 0.5\n",
    "B = np.random.random((n,n)) - 0.5\n",
    "\n",
    "clock = time.time()\n",
    "C = A @ B\n",
    "print('Level 3 BLAS =',time.time() - clock,'sec')\n",
    "\n",
    "clock = time.time()\n",
    "for i in range(n):\n",
    "    C[:,i] = A @ B[:,i]\n",
    "print('Level 2 BLAS =',time.time() - clock,'sec')"
   ]
  },
  {
   "cell_type": "markdown",
   "metadata": {},
   "source": [
    "在实际的大多数基本矩阵问题中, 包括但不限于求最小二乘问题、求舒尔分解、求奇异值分解、解Sylvester方程等, 若输入矩阵的大小为 $n\\times n$, 则一般算法复杂度不应超过 $O(n^3)$. \n",
    "\n",
    "若输入矩阵的大小为 $m\\times n (n\\ll m)$, 则一般算法复杂度不应超过 $O(mn^2)$.\n",
    "\n",
    "这说明这些算法中很少使用完整的$n\\times n$矩阵-矩阵乘法."
   ]
  }
 ],
 "metadata": {
  "interpreter": {
   "hash": "1403262caf5c96c562d23c2ec1d0e9409dfef636549d4d9dd4887bed656bec38"
  },
  "kernelspec": {
   "display_name": "Python 3.8.4 64-bit (system)",
   "language": "python",
   "name": "python3"
  },
  "language_info": {
   "codemirror_mode": {
    "name": "ipython",
    "version": 3
   },
   "file_extension": ".py",
   "mimetype": "text/x-python",
   "name": "python",
   "nbconvert_exporter": "python",
   "pygments_lexer": "ipython3",
   "version": "3.8.4"
  },
  "orig_nbformat": 4
 },
 "nbformat": 4,
 "nbformat_minor": 2
}
