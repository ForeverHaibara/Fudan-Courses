{
 "cells": [
  {
   "cell_type": "markdown",
   "metadata": {},
   "source": [
    "## 解线性方程组\n",
    "\n",
    "### 三角方程组\n",
    "解方程 $Ux = b$, 其中 $U$ 为非奇异上三角方阵.\n",
    "\n",
    "$$\\left[\\begin{matrix}u_{11} & u_{12} & \\dotsc & u_{1n} \\\\\n",
    "\\ &u_{22} &\\dotsc & u_{2n}\\\\\n",
    "\\ &\\ &\\ddots & \\vdots \\\\\n",
    "\\ & & &u_{nn}\\end{matrix}\\right]\\left[\\begin{matrix}x_1\\\\ x_2\\\\ \\vdots \\\\ x_n\\end{matrix}\\right]\n",
    "=\\left[\\begin{matrix}b_1\\\\ b_2\\\\ \\vdots \\\\ b_n\\end{matrix}\\right].$$\n",
    "\n",
    "显然可以先解 $x_n = \\frac{b_n}{u_{nn}}$, 继而 $x_{n-1}=\\frac{b_{n-1}-u_{n-1,n}x_{n}}{u_{n-1,n-1}}\\dotsc$\n",
    "$$x_k = \\frac{b_k - \\sum_{i=k+1}^n u_{ki}x_i}{u_{kk}}.$$"
   ]
  },
  {
   "cell_type": "code",
   "execution_count": 9,
   "metadata": {},
   "outputs": [],
   "source": [
    "import numpy as np \n",
    "\n",
    "def SolveTriangular(U,b):\n",
    "    n = U.shape[0]\n",
    "    x = np.zeros(n)\n",
    "    for k in range(n-1,-1,-1):\n",
    "        x[k] = b[k]\n",
    "        for i in range(k+1,n):\n",
    "            x[k] -= U[k,i] * x[i]\n",
    "        x[k] /= U[k,k]\n",
    "    return x"
   ]
  },
  {
   "cell_type": "markdown",
   "metadata": {},
   "source": [
    "式子 $$x_k = \\frac{b_k - \\sum_{i=k+1}^n u_{ki}x_i}{u_{kk}}$$\n",
    "\n",
    "可以用向量-向量乘法改写, 即\n",
    "$$x_k = \\frac{b_k - U_{k,k+1:n}^Tx_{k+1:n}}{u_{kk}}.$$\n",
    "\n",
    "如此调用1级BLAS比不调用可以加快运算速度."
   ]
  },
  {
   "cell_type": "code",
   "execution_count": 10,
   "metadata": {},
   "outputs": [],
   "source": [
    "def SolveTriangular2(U,b):\n",
    "    n = U.shape[0]\n",
    "    x = np.zeros(n)\n",
    "    for k in range(n-1,-1,-1):\n",
    "        x[k] = b[k]\n",
    "        x[k] -= np.inner(U[k,k+1:],x[k+1:])\n",
    "        x[k] /= U[k,k]\n",
    "    return x"
   ]
  },
  {
   "cell_type": "code",
   "execution_count": 4,
   "metadata": {},
   "outputs": [
    {
     "name": "stdout",
     "output_type": "stream",
     "text": [
      "979 ms ± 31.4 ms per loop (mean ± std. dev. of 7 runs, 1 loop each)\n",
      "7.43 ms ± 1.06 ms per loop (mean ± std. dev. of 7 runs, 100 loops each)\n"
     ]
    }
   ],
   "source": [
    "# 比较一下运行速度\n",
    "# 生成一个上三角矩阵, 且对角元非零\n",
    "n = 1000\n",
    "#np.random.seed(1)\n",
    "U = np.random.random((n,n)) + 1  # +1 使得对角元离零比较远\n",
    "for i in range(n):\n",
    "    U[i,:i] = 0\n",
    "    \n",
    "b = np.random.randn(n)\n",
    "\n",
    "%timeit SolveTriangular(U.copy(),b.copy())\n",
    "%timeit SolveTriangular2(U.copy(),b.copy())"
   ]
  },
  {
   "cell_type": "markdown",
   "metadata": {},
   "source": [
    "## 高斯消元法\n",
    "\n",
    "解方程 $Ax = b$, 其中 $A$ 是可逆方阵.\n",
    "\n",
    "$$\\left[\\begin{matrix}a_{11} & a_{12} & \\dotsc & a_{1n} \\\\\n",
    "a_{21} &a_{22} &\\dotsc & a_{2n}\\\\\n",
    "\\vdots &\\vdots &\\ddots & \\vdots \\\\\n",
    "a_{n1} &a_{n2} &\\dotsc &a_{nn}\\end{matrix}\\right]\\left[\\begin{matrix}x_1\\\\ x_2\\\\ \\vdots \\\\ x_n\\end{matrix}\\right]\n",
    "=\\left[\\begin{matrix}b_1\\\\ b_2\\\\ \\vdots \\\\ b_n\\end{matrix}\\right].$$\n",
    "\n",
    "做初等行变换, 用方程组第 $i$ 行减去 $\\frac{a_{i1}}{a_{11}}$ 倍的第一行.\n",
    "\n",
    "$$a_i = a_i - \\frac{a_{i1}}{a_{11}}a_1$$\n",
    "\n",
    "$$b_i = b_i - \\frac{a_{i1}}{a_{11}}b_1$$\n",
    "\n",
    "变成\n",
    "\n",
    "$$\\left[\\begin{matrix}a_{11} & a_{12} & \\dotsc & a_{1n} \\\\\n",
    " 0&a_{22}-\\frac{a_{21}}{a_{11}}a_{12} &\\dotsc & a_{2n}-\\frac{a_{21}}{a_{11}}a_{1n}\\\\\n",
    "\\vdots &\\vdots &\\ddots & \\vdots \\\\\n",
    "0 &a_{n2}-\\frac{a_{n1}}{a_{11}}a_{12} &\\dotsc &a_{nn}-\\frac{a_{n1}}{a_{11}}a_{1n}\\end{matrix}\\right]\\left[\\begin{matrix}x_1\\\\ x_2\\\\ \\vdots \\\\ x_n\\end{matrix}\\right]\n",
    "=\\left[\\begin{matrix}b_1\\\\ b_2-\\frac{a_{21}}{a_{11}}b_{1}\\\\ \\vdots \\\\ b_n-\\frac{a_{n1}}{a_{11}}b_{n}\\end{matrix}\\right].$$\n",
    "\n",
    "再做初等行变换, 用新的方程组第 $i\\ (i> 2)$ 行减去 $\\frac{a_{i2}'}{a_{22}'}$ 倍的第二行, ..., 直至方程组变为上三角方程组.\n",
    "\n",
    "高斯消元法实际就是LU分解."
   ]
  },
  {
   "cell_type": "markdown",
   "metadata": {},
   "source": [
    "上述过程中, 第 $k$ 步是用目前方程组的第 $i\\ (i> k)$ 行减去 $\\frac{a_{ik}^{(k)}}{a_{kk}^{(k)}}$ 倍的第 $k$ 行.\n",
    "\n",
    "即对于 $i>k+1$, \n",
    "\n",
    "$$a_i = a_i - \\frac{a_{ik}}{a_{kk}}a_k$$\n",
    "\n",
    "$$b_i = b_i - \\frac{a_{ik}}{a_{kk}}b_k$$\n",
    "\n",
    "可以写成矩阵-向量乘法\n",
    "\n",
    "$$b_{k+1:n} = b_{k+1:n} - \\frac{b_k}{a_{kk}}A_{k+1:n,k}$$\n",
    "\n",
    "$$A_{k+1:n,k+1:n} = A_{k+1:n,k:n} - \\frac{1}{a_{kk}}A_{k+1:n,k}A_{k,k+1:n}$$\n",
    "\n",
    "$$A_{k+1:n,k} = 0.$$"
   ]
  },
  {
   "cell_type": "code",
   "execution_count": 5,
   "metadata": {},
   "outputs": [
    {
     "name": "stdout",
     "output_type": "stream",
     "text": [
      "Residual = 2.4363468245185613e-11\n"
     ]
    }
   ],
   "source": [
    "def SolveLinear(A,b):\n",
    "    n = A.shape[0]\n",
    "    for k in range(n-1):\n",
    "        b[k+1:] -= (b[k] / A[k,k]) * A[k+1:,k]\n",
    "        A[k+1:,k+1:] -= (A[k+1:,k:k+1] / A[k,k]) @ A[k:k+1,k+1:]\n",
    "        A[k+1:,k] = 0\n",
    "    return SolveTriangular2(A,b)\n",
    "\n",
    "n = 100\n",
    "np.random.seed(1)\n",
    "A = np.random.random((n,n)) - 0.5\n",
    "b = np.random.randn(n)\n",
    "sol = SolveLinear(A.copy(),b.copy())\n",
    "print('Residual =',np.linalg.norm(A@sol - b))"
   ]
  },
  {
   "cell_type": "markdown",
   "metadata": {},
   "source": [
    "### 列选主元的高斯消元法 (Partial-Pivoting)\n",
    "\n",
    "上述过程若中间执行到 $a_{kk}=0$ 则会中止. 或者, 若 $\\frac{a_{ik}}{a_{kk}}$ 过大(上溢或在后续造成巨大绝对误差), 则数值稳定性弱, 即容易出现很大累计舍入误差. 对此可以进行“列选主元”:\n",
    "\n",
    "在第 $k$ 步的时候: 对比 $A$ 的第 $k,\\dotsc, n$ 行, 选取 $|a_{ik}|$ 最大的第 $ i$ 行与第 $k$ 行做行交换.\n",
    "\n",
    "大多数情况下, 列选主元精度比不选主元的精度高. 也有例外如 Hilbert 矩阵."
   ]
  },
  {
   "cell_type": "code",
   "execution_count": 6,
   "metadata": {},
   "outputs": [],
   "source": [
    "def SolveLinear2(A,b):\n",
    "    n = A.shape[0]\n",
    "    for k in range(n-1):\n",
    "        # 列选主元\n",
    "        t = np.argmax(np.abs(A[k:,k])) + k\n",
    "        tmp = A[t,k:].copy()\n",
    "        A[t,k:] = A[k,k:]\n",
    "        A[k,k:] = tmp\n",
    "        \n",
    "        b[k] , b[t] = b[t] , b[k]\n",
    "\n",
    "        b[k+1:] -= (b[k] / A[k,k]) * A[k+1:,k]\n",
    "\n",
    "        A[k+1:,k+1:] -= (A[k+1:,k:k+1] / A[k,k]) @ A[k:k+1,k+1:]\n",
    "        A[k+1:,k] = 0\n",
    "        \n",
    "    return SolveTriangular2(A,b)"
   ]
  },
  {
   "cell_type": "code",
   "execution_count": 7,
   "metadata": {},
   "outputs": [
    {
     "name": "stdout",
     "output_type": "stream",
     "text": [
      "Error without partial pivoting = 3.5521635042681607e-09\n",
      "Error with    partial pivoting = 4.774189356382696e-12\n",
      "Residual without partial pivoting = 2.054667425486347e-09\n",
      "Residual with    partial pivoting = 3.3304376102372983e-12\n"
     ]
    }
   ],
   "source": [
    "# 比较一下有无列选主元的精度\n",
    "n = 1000\n",
    "np.random.seed(0)\n",
    "A = np.random.random((n,n)) - 0.5\n",
    "realsol = np.random.randn(n)\n",
    "b = A @ realsol\n",
    "sol1 = SolveLinear(A.copy(),b.copy())\n",
    "sol2 = SolveLinear2(A.copy(),b.copy())\n",
    "print('Error without partial pivoting =',np.linalg.norm(realsol - sol1))\n",
    "print('Error with    partial pivoting =',np.linalg.norm(realsol - sol2))\n",
    "print('Residual without partial pivoting =',np.linalg.norm(A@sol1 - b))\n",
    "print('Residual with    partial pivoting =',np.linalg.norm(A@sol2 - b))"
   ]
  },
  {
   "cell_type": "markdown",
   "metadata": {},
   "source": [
    "### 增长因子 (Growth Factor)\n",
    "\n",
    "若非零矩阵 $A$ 经过高斯消元法得到 $U$, 则记 $\\rho = \\frac{\\max u_{ij}}{\\max a_{ij}}$ 为增长因子.\n",
    "\n",
    "**Theorem 1** $\\rho \\leqslant 2^{n-1}$.\n",
    "\n",
    "**Theorem 2** 三对角矩阵的增长因子 $\\rho \\leqslant 2$. \n",
    "\n",
    "**Theorem 3** 对角占优矩阵的增长因子 $\\rho \\leqslant 2$."
   ]
  },
  {
   "cell_type": "markdown",
   "metadata": {},
   "source": [
    "### LU 分解\n",
    "\n",
    "在高斯消元法中, 最后得到的上三角矩阵正好可以作为 LU 分解的 $U$. 而 $L$ 对角元均为 $1$ 的上三角矩阵. 且第 $k$ 步时, $$\\frac{a_{ik}}{a_{kk}} = l_{ik}$$."
   ]
  },
  {
   "cell_type": "code",
   "execution_count": 16,
   "metadata": {},
   "outputs": [
    {
     "name": "stdout",
     "output_type": "stream",
     "text": [
      "||A - LU|| = 4.848705487927859e-12\n"
     ]
    }
   ],
   "source": [
    "def LU(A):\n",
    "    n = A.shape[0]\n",
    "    L = np.eye(n)\n",
    "    U = A.copy()\n",
    "    for k in range(n-1):\n",
    "        L[k+1:,k:k+1] = U[k+1:,k:k+1] / U[k,k]\n",
    "        U[k+1:,k:] -= L[k+1:,k:k+1] @ U[k:k+1,k:]\n",
    "        U[k+1:,k] = 0\n",
    "    return L, U\n",
    "\n",
    "n = 200\n",
    "np.random.seed(0)\n",
    "A = np.random.random((n,n)) - 0.5\n",
    "L , U = LU(A)\n",
    "# 比较一下 A 和 LU 有多接近\n",
    "print('||A - LU|| =',np.linalg.norm(A - L @ U))"
   ]
  },
  {
   "cell_type": "markdown",
   "metadata": {},
   "source": [
    "### LUP 分解\n",
    "\n",
    "按照列主元的高斯消元法步骤中, 将所有置换提出来, 得到置换矩阵 $P$.\n",
    "则 $PA = LU$. 一般来说 LUP 分解比 LU 分解数值稳定性更高.\n"
   ]
  },
  {
   "cell_type": "code",
   "execution_count": 15,
   "metadata": {},
   "outputs": [
    {
     "name": "stdout",
     "output_type": "stream",
     "text": [
      "||PA - LU|| = 8.101681572151669e-14\n"
     ]
    }
   ],
   "source": [
    "def LUP(A):\n",
    "    n = A.shape[0]\n",
    "    L = np.eye(n)\n",
    "    U = A.copy()\n",
    "    permutation = list(range(n))\n",
    "    for k in range(n-1):\n",
    "        # 列选主元\n",
    "        t = np.argmax(np.abs(U[k:,k])) + k\n",
    "        tmp = U[t,k:].copy()\n",
    "        U[t,k:] = U[k,k:]\n",
    "        U[k,k:] = tmp\n",
    "        \n",
    "        tmp = L[t,:k].copy()\n",
    "        L[t,:k] = L[k,:k]\n",
    "        L[k,:k] = tmp\n",
    "\n",
    "        permutation[k] , permutation[t] = permutation[t] , permutation[k]\n",
    "\n",
    "        L[k+1:,k:k+1] = U[k+1:,k:k+1] / U[k,k]\n",
    "        U[k+1:,k:] -= L[k+1:,k:k+1] @ U[k:k+1,k:]\n",
    "        U[k+1:,k] = 0\n",
    "    return L, U, permutation #np.eye(n)[permutation]\n",
    "\n",
    "n = 200\n",
    "np.random.seed(0)\n",
    "A = np.random.random((n,n)) - 0.5\n",
    "L , U , P = LUP(A)\n",
    "# 比较一下 PA 和 LU 有多接近\n",
    "print('||PA - LU|| =',np.linalg.norm(A[P] - L @ U))"
   ]
  }
 ],
 "metadata": {
  "interpreter": {
   "hash": "1403262caf5c96c562d23c2ec1d0e9409dfef636549d4d9dd4887bed656bec38"
  },
  "kernelspec": {
   "display_name": "Python 3.8.4 64-bit (system)",
   "language": "python",
   "name": "python3"
  },
  "language_info": {
   "codemirror_mode": {
    "name": "ipython",
    "version": 3
   },
   "file_extension": ".py",
   "mimetype": "text/x-python",
   "name": "python",
   "nbconvert_exporter": "python",
   "pygments_lexer": "ipython3",
   "version": "3.8.4"
  },
  "orig_nbformat": 4
 },
 "nbformat": 4,
 "nbformat_minor": 2
}
