{
 "cells": [
  {
   "cell_type": "markdown",
   "metadata": {},
   "source": [
    "## QR分解\n",
    "\n",
    "### Householder变换\n",
    "\n",
    "对于实向量 $x,y\\in \\mathbb R^n$, 若 $\\Vert x\\Vert_2 = \\Vert y\\Vert_2$, 则存在正交矩阵 $Q$ 使得 $Qx = y$.\n",
    "\n",
    "实际上, 取 $v = \\frac{x-y}{2\\sqrt{(x-y)^Tx}}$, $Q = I - 2vv^T$. \n",
    "\n",
    "则 $$Qx = x - 2vv^Tx = x - 2v(v^Tx) = y$$\n",
    "且 $v^Tv = \\frac{x^Tx+y^Ty-2x^Ty}{2\\sqrt{(x-y)^Tx}} = 1$, \n",
    "$$Q^TQ = (I-2vv^T)(I-2vv^T) = I - 4vv^T + 4vv^Tvv^T = I$$\n",
    "说明 $Q$ 是正交矩阵.\n",
    "\n",
    "实际上, 几何意义上, 变换 $Q$ 是一个反射(对称/镜像), 因为 $Q^2 = Q^TQ = I$. \n",
    "\n",
    "称 $Q$ 为 Householder 矩阵, 向量 $v$ 为 Householder 向量. \n",
    "\n",
    "由于 $v$ 是单位向量, 也可以写成 $v = \\frac{x-y}{\\Vert x-y\\Vert_2}$, 或\n",
    "$Q = I - \\frac{2}{\\Vert x-y\\Vert_2^2}(x-y)^T(x-y)$."
   ]
  },
  {
   "cell_type": "markdown",
   "metadata": {},
   "source": [
    "对于复向量 $x,y\\in \\mathbb C^n$, 若 $\\Vert x\\Vert_2 = \\Vert y\\Vert_2$, 则存在单位向量 $v$ 使得 $(I-2vv^*)x = y$ 当且仅当 $y^*x\\in \\mathbb R$.\n",
    "\n",
    "证: \n",
    "\n",
    "必要性: $y^*x = x^*(I-2vv^*)x = \\Vert x\\Vert_2^2 - 2|v^*x|^2\\in \\mathbb R$\n",
    "\n",
    "充分性: $y^*x\\in \\mathbb R$, 取 $v = e^{i\\theta}\\frac{x-y}{2\\sqrt{(x-y)^*x}}$ 即可."
   ]
  },
  {
   "cell_type": "markdown",
   "metadata": {},
   "source": [
    "### Householder QR\n",
    "\n",
    "对于矩阵 $A$ 首先找到 Householder 矩阵 $I-2v_1v_1^*$ 使得 $I-2v_1v_1^*$ 将 $A$ 的第一列变成除了第一个元素, 其余为零的向量. 那么, 在这个 Householder 矩阵作用下, \n",
    "\n",
    "$$(I-2v_1v_1^*)\\left[\\begin{matrix} \\times  &  \\times  & \\dotsc &  \\times  \\\\\n",
    " \\times  & \\times  &\\dotsc &  \\times \\\\\n",
    "\\vdots &\\vdots &\\ddots & \\vdots \\\\\n",
    " \\times  & \\times  &\\dotsc & \\times \\end{matrix}\\right]\n",
    "\\rightarrow \\left[\\begin{matrix} \\times  &  \\times  & \\dotsc &  \\times  \\\\\n",
    " & \\times  &\\dotsc &  \\times \\\\\n",
    " &\\vdots &\\ddots & \\vdots \\\\\n",
    "  & \\times  &\\dotsc & \\times \\end{matrix}\\right]\n",
    "$$\n",
    "\n",
    "当然上面的矩阵的后 $n-1$ 列也会变化. 再对右下 $(n-1)\\times (n-1)$ 矩阵处理, 找到一个 $(n-1)$ 维的 Householder 向量 $v_2$ 使得第二列除了第一个和第二个元素以外, 其余都是零. 即\n",
    "$$\\left[\\begin{matrix}1 & \\\\ \\ & I-2v_2v_2^*\\end{matrix}\\right]\n",
    "\\left[\\begin{matrix} \\times  &  \\times  & \\dotsc &  \\times  \\\\\n",
    " & \\times  &\\dotsc &  \\times \\\\\n",
    " &\\vdots &\\ddots & \\vdots \\\\\n",
    "  & \\times  &\\dotsc & \\times \\end{matrix}\\right]\n",
    "\\rightarrow \\left[\\begin{matrix} \\times  &  \\times  & \\dotsc &  \\times  \\\\\n",
    " &\\times    &\\dotsc &  \\times \\\\\n",
    " & &\\ddots & \\vdots \\\\\n",
    "  &   &\\dotsc & \\times \\end{matrix}\\right]$$\n",
    "\n",
    "如此继续, 最终得到\n",
    "$$\\left[\\begin{matrix}I_{n-1} & \\\\ \\ & I-2v_nv_n^*\\end{matrix}\\right]\\dotsm\n",
    "\\left[\\begin{matrix}I_{1} & \\\\ \\ & I-2v_2v_2^*\\end{matrix}\\right]\n",
    "(I-2v_1v_1^*)A = R.$$\n",
    "\n",
    "左边都是酉矩阵, 移项到右边自然得到 $A$ 的 $QR$ 分解."
   ]
  },
  {
   "cell_type": "markdown",
   "metadata": {},
   "source": [
    "<font color=red>必须注意</font>, Householder 变换无论左乘还是右乘都有便捷的方式:\n",
    "$$(I-2vv^*)P = P - 2v(v^*P)$$\n",
    "\n",
    "$$P(I - 2vv^*) = P - 2(Pv)v^*$$\n",
    "\n",
    "从上面两式可以看出, Householder 变换的代码并不需要真的计算 $I-2vv^*$ 再做矩阵-矩阵乘法, 而是可以用矩阵-向量乘法替代. 单次 Householder 变换的时间复杂度为 $O(n^2)$. \n",
    "\n",
    "因此上述 $QR$ 分解的总时间复杂度为 $O(n^3)$."
   ]
  },
  {
   "cell_type": "code",
   "execution_count": 2,
   "metadata": {},
   "outputs": [],
   "source": [
    "import numpy as np\n",
    "import math\n",
    "from numba import jit\n",
    "\n",
    "@jit(nopython=True)\n",
    "def HouseholderVector(A):\n",
    "    squarelength = np.dot(A[1:].conj(), A[1:])\n",
    "    if squarelength == 0: # 已经完成了,不需要做变换\n",
    "        return A, A, 1\n",
    "\n",
    "    # 对于复向量 x, 需要确定向量 y, 使得 y 的第一个分量模长等于 x 的范数\n",
    "    # 且 y,x 的内积是实数\n",
    "    # 才有 Householder变换 Qx = y\n",
    "    normal     = A.copy()\n",
    "    rotation   = A[0]/abs(A[0]) if A[0] != 0 else 1. \n",
    "    normal[0] = (abs(A[0]) + math.sqrt(max((squarelength + A[0] * A[0].conjugate()).real,0))) * rotation\n",
    "\n",
    "    # 用返回两个不同模长的向量替代正规化\n",
    "    normal2 = normal.conj() * ( -2. /(squarelength + normal[0] * normal[0].conjugate()))\n",
    "    \n",
    "    return normal, normal2, 0\n",
    "\n",
    "# Householder 作用在矩阵左侧\n",
    "@jit(nopython=True)\n",
    "def leftHouse(A,vectors):\n",
    "    normal , normal2 , flag = vectors\n",
    "    if flag:\n",
    "        return \n",
    "    tmp = normal2 @ A\n",
    "    n = tmp.shape[0]\n",
    "    # 这里做原地修改而非生成 n*n 矩阵才能不损失效率 , 亦即 CGEMM\n",
    "    # 为了使用 for 循环, 额外用到 jit 加速, 这样做比 numpy 生成 n*n 矩阵后再修改快很多倍\n",
    "    for i in range(normal.shape[0]):\n",
    "        for j in range(n):\n",
    "            A[i,j] += normal[i]*tmp[j]\n",
    "\n",
    "# Householder 作用在矩阵右侧\n",
    "@jit(nopython=True)\n",
    "def rightHouse(A,vectors):\n",
    "    normal , normal2 , flag = vectors\n",
    "    if flag:\n",
    "        return \n",
    "    tmp = A @ normal\n",
    "    n = normal2.shape[0]\n",
    "    for i in range(tmp.shape[0]):\n",
    "        for j in range(n):\n",
    "            A[i,j] += tmp[i]*normal2[j]"
   ]
  },
  {
   "cell_type": "code",
   "execution_count": 28,
   "metadata": {},
   "outputs": [
    {
     "name": "stdout",
     "output_type": "stream",
     "text": [
      "Orthogonality Loss = 1.461749019081143e-14\n",
      "Residual = 4.942814106352741e-14\n"
     ]
    }
   ],
   "source": [
    "def HouseholderQR(A,copy=1):\n",
    "    if copy: A = A.copy()\n",
    "    n = A.shape[1]\n",
    "    Q = np.eye(A.shape[0],dtype=A.dtype)\n",
    "    for k in range(n):\n",
    "        v = HouseholderVector(A[k:,k])\n",
    "        leftHouse(A[k:,k:],v)\n",
    "        rightHouse(Q[:,k:],v)\n",
    "        A[k+1:,k] = 0\n",
    "    return Q , A\n",
    "\n",
    "m , n = 200, 100  # m >= n\n",
    "np.random.seed(0)\n",
    "A = np.random.random((m,n)) - 0.5 + np.random.random((m,n))*1j - 0.5j\n",
    "Q , R = HouseholderQR(A)\n",
    "print('Orthogonality Loss =',np.linalg.norm(Q.T.conj() @ Q - np.eye(m)))\n",
    "print('Residual =',np.linalg.norm(A - Q @ R))"
   ]
  },
  {
   "cell_type": "markdown",
   "metadata": {},
   "source": [
    "Householder QR 算法的 $n$ 个Householder 矩阵还可以反向累计 (backward accumulation) 减少运算量, 见 [1] 5.1.6."
   ]
  },
  {
   "cell_type": "markdown",
   "metadata": {},
   "source": [
    "### Givens 变换\n",
    "\n",
    "Householder 变换是反射, 而 Givens 变换则是旋转. 若 $a,b\\in \\mathbb R$, 则存在 $\\theta$ 使得\n",
    "$$\\left[\\begin{matrix}cos\\theta & sin\\theta \\\\ -sin\\theta & cos\\theta \\end{matrix}\\right]\n",
    "\\left[\\begin{matrix}a \\\\ b\\end{matrix}\\right] = \\left[\\begin{matrix}\\pm \\sqrt{a^2+b^2} \\\\ 0\\end{matrix}\\right].$$\n",
    "\n",
    "其中,\n",
    "$cos\\theta = \\pm \\frac{a}{\\sqrt{a^2+b^2}}$, $sin\\theta = \\pm \\frac{b}{\\sqrt{a^2+b^2}}$.\n",
    "\n",
    "为了提高数值精度, 代码中应该按如下方式计算:\n",
    "\n",
    "若 $b = 0$, 则 $cos\\theta = 1$, $sin\\theta = 0$. \n",
    "\n",
    "若 $|b|>|a|$, 则 $cot\\theta = \\frac{a}{b}$, $sin\\theta = \\frac{1}{\\sqrt{1+cot^2\\theta}}$, $cos\\theta = cot\\theta sin\\theta$. \n",
    "\n",
    "若 $|a|>|b|>0$, 则 $tan\\theta = \\frac{b}{a}$, $cos\\theta = \\frac{1}{\\sqrt{1+tan^2\\theta}}$, $sin\\theta = tan\\theta cos\\theta$. \n",
    "\n",
    "<br>\n",
    "\n",
    "若在复数域 $a,b\\in \\mathbb C$, 则\n",
    "\n",
    "$$\\left[\\begin{matrix}cos\\theta & sin\\theta e^{i\\phi} \\\\ -sin\\theta  e^{-i\\phi} & cos\\theta \\end{matrix}\\right]\n",
    "\\left[\\begin{matrix}a \\\\ b\\end{matrix}\\right] = \\left[\\begin{matrix} re^{i\\alpha} \\\\ 0\\end{matrix}\\right].$$\n",
    "\n",
    "其中, $\\phi$ 是 $\\frac{a}{b}$ 的辐角, $tan\\theta = \\left| \\frac{b}{a}\\right|$. 等式右侧 $\\alpha $ 为 $a$ 的辐角, $r=\\sqrt{|a|^2+|b|^2}$.\n",
    "<br>\n",
    "\n",
    "相比于 Householder QR, Givens变换需要做更多次, 所以更慢. 但是若矩阵是稀疏的 (已有很多零), 使用 Givens 能尽量避免破坏这些零, 从而可以使用更少的 Givens变换, 效率可能更高."
   ]
  },
  {
   "cell_type": "code",
   "execution_count": 44,
   "metadata": {},
   "outputs": [
    {
     "name": "stdout",
     "output_type": "stream",
     "text": [
      "Orthogonality Loss = 3.164744597839578e-14\n",
      "Residual = 1.2840478585330373e-13\n"
     ]
    }
   ],
   "source": [
    "def GivensAngle(a,b):\n",
    "    if b == 0: return 1, 0\n",
    "    if abs(a) > abs(b):\n",
    "        tant = b / a\n",
    "        cost = 1. / math.sqrt(1 + (tant*tant.conjugate()).real)\n",
    "        sint = cost * tant.conjugate()\n",
    "    else:\n",
    "        cott = a / b\n",
    "        cost = abs(cott) / math.sqrt(1 + (cott*cott.conjugate()).real)\n",
    "        sint = cost / cott.conjugate()\n",
    "    return cost, sint\n",
    "\n",
    "def Givens(a,b,angle):\n",
    "    cost , sint = angle\n",
    "    tmp = cost * a + sint * b\n",
    "    b[:] = (-sint).conjugate() * a + cost * b\n",
    "    a[:] = tmp\n",
    "\n",
    "def GivensQR(A,copy=1):\n",
    "    if copy: A = A.copy()\n",
    "    m , n = A.shape\n",
    "    Q = np.eye(m,dtype=A.dtype)\n",
    "    for i in range(n):\n",
    "        for j in range(i+1,m):\n",
    "            angle = GivensAngle(A[i,i],A[j,i])\n",
    "            Givens(A[i,i:],A[j,i:],angle)\n",
    "            Givens(Q[:,i],Q[:,j],angle)\n",
    "        A[i+1:,i] = 0\n",
    "    return Q.conj() , A\n",
    "\n",
    "m , n = 200, 100  # m >= n\n",
    "np.random.seed(0)\n",
    "A = np.random.random((m,n)) - 0.5 + np.random.random((m,n))*1j - 0.5j\n",
    "Q , R = GivensQR(A)\n",
    "print('Orthogonality Loss =',np.linalg.norm(Q.T.conj() @ Q - np.eye(m)))\n",
    "print('Residual =',np.linalg.norm(A - Q @ R))"
   ]
  },
  {
   "cell_type": "markdown",
   "metadata": {},
   "source": [
    "### Gram-Schmidt 正交化\n",
    "\n",
    "设矩阵 $A = [ v_1\\ v_2\\ \\dotsc \\ v_n]$, 其中 $v_i$ 为列向量. 设 \n",
    "\n",
    "$$[ v_1\\ v_2\\ \\dotsc \\ v_n] = A = QR = [q_1\\ q_2\\ \\dotsc \\ q_n]\\left[\\begin{matrix} \\times  &  \\times  & \\dotsc &  \\times  \\\\\n",
    " & \\times  &\\dotsc &  \\times \\\\\n",
    "&  &\\ddots & \\vdots \\\\\n",
    "  &   &  & \\times \\end{matrix}\\right].$$\n",
    "\n",
    "可见 $v_1$ 是 $q_1$ 的线性组合, $v_2$ 是 $q_1,q_2$ 的线性组合, ..., $v_k$ 是 $q_1,\\dotsc ,q_k$ 的线性组合. 因此若已经求出 $q_1,\\dotsc ,q_{k-1}$, 则可以令 $q_k$ 为 $v_1$ 在与 $q_1,\\dotsc ,q_{k-1}$ 均垂直的方向的单位分量.\n",
    "\n",
    "$$q_k = \\frac{ v_k - q_1(q_1^*v_k) - \\dotsc - q_{k-1}(q_{k-1}^*v_k)}{\\rho}\n",
    "\n",
    "=\\frac{v_k - Q_{1:n,1:k-1}(Q^*_{1:n,1:k-1}v_k)}{\\rho}\n",
    "$$\n",
    "\n",
    "其中 $\\rho$ 使得 $\\Vert q_k\\Vert_2 = 1$."
   ]
  },
  {
   "cell_type": "code",
   "execution_count": 34,
   "metadata": {},
   "outputs": [
    {
     "name": "stdout",
     "output_type": "stream",
     "text": [
      "Orthogonality Loss = 5.436962427399599e-15\n",
      "Residual = 1.0506749576269586e-14\n"
     ]
    }
   ],
   "source": [
    "def GramSchmidt(A,copy=1):\n",
    "    if copy: Q = A.copy() \n",
    "    else:    Q = A\n",
    "    n = A.shape[1]\n",
    "    R = np.zeros((n,n),dtype=A.dtype)\n",
    "    for k in range(n):\n",
    "        R[:k,k] = Q[:,:k].T.conj() @ Q[:,k]\n",
    "        Q[:,k] -= Q[:,:k] @ R[:k,k]\n",
    "        R[k,k] = np.linalg.norm(Q[:,k])\n",
    "        Q[:,k] /= R[k,k]\n",
    "        R[k+1:,k] = 0\n",
    "    return Q , R\n",
    "\n",
    "m , n = 200, 100\n",
    "np.random.seed(0)\n",
    "A = np.random.random((m,n)) - 0.5 + np.random.random((m,n))*1j - 0.5j\n",
    "Q, R = GramSchmidt(A)\n",
    "print('Orthogonality Loss =',np.linalg.norm(Q.T.conj() @ Q - np.eye(n)))\n",
    "print('Residual =',np.linalg.norm(A - Q @ R))"
   ]
  },
  {
   "cell_type": "markdown",
   "metadata": {},
   "source": [
    "### Modified Gram-Schmidt (MGS)\n",
    "\n",
    "上一节的 Gram-Schmidt 正交化算法称为 Classical Gram Schmidt (CGS), 在以下用 for 循环减去平行分量的过程中,\n",
    "\n",
    "$$q_k = \\frac{ v_k - q_1(q_1^*v_k) - \\dotsc - q_{k-1}(q_{k-1}^*v_k)}{\\rho}$$\n",
    "\n",
    "由于舍入误差的累积, 减去太多之后可能方向逐渐偏离, 实际上可以舍弃矩阵乘法, 每次减去一个分量, 再用减掉该分量的结果继续做, 以提高数值精度. 该过程被称为 Modified Gram-Schmidt (MGS).\n"
   ]
  },
  {
   "cell_type": "code",
   "execution_count": 36,
   "metadata": {},
   "outputs": [],
   "source": [
    "def ModifiedGramSchmidt(A,copy=1):\n",
    "    if copy: Q = A.copy() \n",
    "    else:    Q = A\n",
    "    n = A.shape[1]\n",
    "    R = np.zeros((n,n),dtype=A.dtype)\n",
    "    for k in range(n):\n",
    "        for i in range(k):\n",
    "            R[i,k] = np.dot(Q[:,i].conj(),Q[:,k])\n",
    "            Q[:,k] -= R[i,k] * Q[:,i]\n",
    "        R[k,k] = np.linalg.norm(Q[:,k])\n",
    "        Q[:,k] /= R[k,k]\n",
    "        R[k+1:,k] = 0\n",
    "    return Q , R"
   ]
  },
  {
   "cell_type": "markdown",
   "metadata": {},
   "source": [
    "### 重正交化 (Reorthogonalization)\n",
    "\n",
    "假设矩阵 $A = [ v_1\\ v_2\\ \\dotsc \\ v_n]$, 其中 $v_i$ 为列向量. 若矩阵 $A$ 是病态的, 如若 $v_1,v_2,\\dotsc,v_k$ 恰好线性相关. 那么,\n",
    "\n",
    "$$\\rho q_k = v_k - q_1(q_1^*v_k) - \\dotsc - q_{k-1}(q_{k-1}^*v_k) = 0.$$\n",
    "\n",
    "如果考虑舍入误差, 或 $v_1,\\dotsc v_k$ 几乎线性相关但不完全线性相关, $\\rho q_k$ 应非常接近于零. 这种时候 Gram-Schmidt 过程会发生严重问题, 因为 $q_k = \\frac{0}{\\rho} = \\frac{0}{0} = {\\rm NaN}$. \n",
    "\n",
    "一个解决方案是重正交化: 虽然在舍入误差下 $\\rho q_k\\approx 0$, 但是如果用 $\\rho q_k$ 再把 $q_1,\\dotsc q_{k-1}$ 上的投影分量减掉就精确了 (重新做一次 Gram-Schmidt). 这个技巧称为重正交化 (Reorthogonalization).\n"
   ]
  },
  {
   "cell_type": "code",
   "execution_count": 85,
   "metadata": {},
   "outputs": [],
   "source": [
    "# 集成的 Gram-Schmidt\n",
    "# 参数 modified = 0 or 1, 表示是否是 MGS\n",
    "# 参数 reortho = 0 or 1, 表示是否重正交化\n",
    "# 只返回正交阵, 可以通过 Q^TA 计算 R\n",
    "def GramSchmidtQR(A,modified = 1,reortho = 1):\n",
    "    reortho += 1\n",
    "    Q = A.copy() \n",
    "    n = A.shape[1]\n",
    "    R = np.zeros((n,n),dtype=A.dtype)\n",
    "    for k in range(n):\n",
    "        if modified:\n",
    "            for _ in range(reortho):\n",
    "                for i in range(k):\n",
    "                    Q[:,k] -= np.dot(Q[:,i].conj(),Q[:,k]) * Q[:,i]\n",
    "        else:\n",
    "            for _ in range(reortho):          \n",
    "                Q[:,k] -= Q[:,:k] @ (Q[:,:k].T.conj() @ Q[:,k])\n",
    "        Q[:,k] /= np.linalg.norm(Q[:,k])\n",
    "        R[k+1:,k] = 0\n",
    "    return Q "
   ]
  },
  {
   "cell_type": "markdown",
   "metadata": {},
   "source": [
    "### Orthogonality Loss\n",
    "\n",
    "对于一个 $n$ 列几乎互相正交列向量构成的 $m\\times n$ 的矩阵 $Q$, 定义其 orthogonality loss 为\n",
    "$$Q^*Q - I_n$$\n",
    "\n",
    "该矩阵越接近零矩阵, 则说明 $Q$ 的 $n$ 个列向量正交性越好, 可以用来衡量计算正交矩阵的数值精度."
   ]
  },
  {
   "cell_type": "code",
   "execution_count": 86,
   "metadata": {},
   "outputs": [],
   "source": [
    "# 观察不同条件数的矩阵的不同 QR 分解得到的 orthogonality loss\n",
    "ortholoss = [[] for _ in range(5)]\n",
    "kappas = [10**i for i in range(15)] \n",
    "\n",
    "# 基于奇异值分解生成给定条件数的矩阵, 条件数 >= 1\n",
    "# 矩阵形状 m >= n\n",
    "def RandomMatrix(m,n,kappa):\n",
    "    singulars = np.random.random(n)*(1-1./kappa) + 1./kappa\n",
    "    singulars.sort()\n",
    "    singulars[0] = 1./kappa\n",
    "    singulars[-1] = 1.\n",
    "    D = np.zeros((n,n))\n",
    "    for i in range(n):\n",
    "        D[i,i] = singulars[i]\n",
    "    return np.linalg.qr(np.random.random((m,n))-0.5)[0] @ D @ np.linalg.qr(np.random.random((n,n))-0.5)[0]\n",
    "\n",
    "np.random.seed(0)\n",
    "m , n = 200, 50\n",
    "for kappa in kappas:\n",
    "    A = RandomMatrix(m,n,kappa)\n",
    "    Q , R = HouseholderQR(A)\n",
    "    ortholoss[0].append(np.linalg.norm(Q.conj().T @ Q - np.eye(m)))\n",
    "    for reortho in range(2):    \n",
    "        for modified in range(2):\n",
    "            Q = GramSchmidtQR(A,modified,reortho)\n",
    "            ortholoss[reortho*2+modified+1].append(np.linalg.norm(Q.conj().T @ Q - np.eye(n)))"
   ]
  },
  {
   "cell_type": "code",
   "execution_count": 89,
   "metadata": {},
   "outputs": [
    {
     "data": {
      "image/png": "[encoded data removed]",
      "text/plain": [
       "<Figure size 432x288 with 1 Axes>"
      ]
     },
     "metadata": {
      "needs_background": "light"
     },
     "output_type": "display_data"
    }
   ],
   "source": [
    "import matplotlib.pyplot as plt\n",
    "for ortho in ortholoss:\n",
    "    plt.plot(range(len(kappas)),np.log10(ortho))\n",
    "    plt.scatter(range(len(kappas)),np.log10(ortho),marker='.')\n",
    "plt.legend(['Householder','CGS','MGS','CGS+reortho','MGS+reortho'])\n",
    "plt.xlabel('Logarithm of Condition Number $\\kappa$')\n",
    "plt.ylabel('Logarithm of Orthogonality Loss $\\Vert Q^*Q - I\\Vert_F$')\n",
    "plt.show()\n"
   ]
  },
  {
   "cell_type": "markdown",
   "metadata": {},
   "source": [
    "## References\n",
    "1.  G. Golub and C. Van Loan, Matrix Computations, The Johns Hopkins University Press, Baltimore, Maryland, 4th ed., 2013."
   ]
  }
 ],
 "metadata": {
  "interpreter": {
   "hash": "1403262caf5c96c562d23c2ec1d0e9409dfef636549d4d9dd4887bed656bec38"
  },
  "kernelspec": {
   "display_name": "Python 3.8.4 64-bit (system)",
   "language": "python",
   "name": "python3"
  },
  "language_info": {
   "codemirror_mode": {
    "name": "ipython",
    "version": 3
   },
   "file_extension": ".py",
   "mimetype": "text/x-python",
   "name": "python",
   "nbconvert_exporter": "python",
   "pygments_lexer": "ipython3",
   "version": "3.8.4"
  },
  "orig_nbformat": 4
 },
 "nbformat": 4,
 "nbformat_minor": 2
}
