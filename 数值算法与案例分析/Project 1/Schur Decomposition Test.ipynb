{
 "cells": [
  {
   "cell_type": "code",
   "execution_count": 1,
   "metadata": {},
   "outputs": [],
   "source": [
    "import numpy as np\n",
    "from numba import jit\n",
    "from math import sqrt\n",
    "from sys import float_info\n",
    "from tqdm import tqdm\n",
    "import matplotlib.pyplot as plt"
   ]
  },
  {
   "cell_type": "code",
   "execution_count": 2,
   "metadata": {},
   "outputs": [],
   "source": [
    "@jit(nopython = True)\n",
    "def squarenorm(x):\n",
    "    return np.dot(x,x) # np.dot(x.conj(),x).real\n",
    "\n",
    "@jit(nopython = True)\n",
    "def cnorm(x):\n",
    "    return x * x # x.real * x.real + x.imag * x.imag\n",
    "    \n",
    "#@jit(nopython = True,cache=True)\n",
    "@jit(nopython=True)\n",
    "def HouseholderVector(A):\n",
    "    '''\n",
    "    Compute real Householder vector of norm 2. \n",
    "    \n",
    "    If no Householder is needed, the second argument returns one.\n",
    "    '''\n",
    "    squarelength = squarenorm(A[1:]) \n",
    "    if squarelength == 0:\n",
    "        return A, 1 # A, A, 1\n",
    "    normal     = A.copy()\n",
    "    rotation   = 1 if A[0]>=0 else -1\n",
    "    normal[0] = A[0] + sqrt(squarelength + cnorm(A[0]))*rotation\n",
    "    normal *= sqrt(2. / (squarelength + cnorm(normal[0])))\n",
    "    return normal, 0\n",
    "\n",
    "@jit(nopython=True)\n",
    "def leftHouse(A,normal):\n",
    "    '''\n",
    "    left Householder transformation where ||``normal``|| = sqrt 2\n",
    "    '''\n",
    "    tmp = normal @ A\n",
    "    n = tmp.shape[0]\n",
    "    for i in range(normal.shape[0]):\n",
    "        for j in range(n):\n",
    "            A[i,j] -= normal[i]*tmp[j]\n",
    "\n",
    "@jit(nopython=True)\n",
    "def rightHouse(A,normal):\n",
    "    '''\n",
    "    right Householder transformation where ||``normal``|| = sqrt 2\n",
    "    '''\n",
    "    tmp = A @ normal\n",
    "    n = normal.shape[0]\n",
    "    for i in range(tmp.shape[0]):\n",
    "        for j in range(n):\n",
    "            A[i,j] -= tmp[i]*normal[j]\n",
    "\n",
    "#@jit(nopython = True,cache=True)\n",
    "@jit(nopython=True)\n",
    "def Hessenberg(A):\n",
    "    ''' \n",
    "    Convert a matrix to upper-Hessenberg\n",
    "    '''\n",
    "    n = A.shape[0] \n",
    "    Q = np.eye(n,dtype=A.dtype)\n",
    "    for i in range(n-1):\n",
    "        normal, invalid = HouseholderVector(A[i+1:,i])\n",
    "        if invalid:\n",
    "            continue\n",
    "        # A ->  [I- (2nn*)] A   =   A - 2n(n* A)\n",
    "        leftHouse(A[i+1:,i:],normal)\n",
    "        A[i+2:,i] = 0\n",
    "        rightHouse(A[:,i+1:],normal)\n",
    "        rightHouse(Q[:,i+1:],normal)\n",
    "    return (Q,A)\n",
    "    \n",
    "@jit(nopython=True)\n",
    "def ImplicitDoubleShift(A,Q,U,V):\n",
    "    '''\n",
    "    Perform a double shift on matrix A and update A,Q,U,V\n",
    "    '''\n",
    "    s = A[-1,-1] + A[-2,-2]\n",
    "    t = A[-1,-1]*A[-2,-2] - A[-1,-2]*A[-2,-1]\n",
    "    normal, invalid = HouseholderVector(np.array([\n",
    "                A[0,0]*(A[0,0]-s) + A[0,1]*A[1,0] + t,\n",
    "                A[1,0]*(A[0,0]+A[1,1]-s),\n",
    "                A[1,0]*A[2,1]\n",
    "                        ], dtype=A.dtype))\n",
    "    if invalid:\n",
    "        return\n",
    "    leftHouse(A[:3,:],normal)\n",
    "    rightHouse(A[:4,:3],normal)\n",
    "    leftHouse(U[:3,:],normal)\n",
    "    rightHouse(V[:,:3],normal)\n",
    "    rightHouse(Q[:,:3],normal)\n",
    "\n",
    "@jit(nopython=True)\n",
    "def BuldgeChasing(A,Q,U,V):\n",
    "    '''\n",
    "    Convert the matrix back to Hessenberg and update A,Q,U,V\n",
    "    '''\n",
    "    n = A.shape[0]\n",
    "    for i in range(1,n-1): \n",
    "        j = i + 3\n",
    "        normal, invalid = HouseholderVector(A[i:j,i-1])\n",
    "        if invalid:\n",
    "            continue\n",
    "\n",
    "        leftHouse(A[i:j,:],normal)\n",
    "        A[i+1:j,i-1] = 0\n",
    "        rightHouse(A[:j+1,i:j],normal)\n",
    "        leftHouse(U[i:j,:],normal)\n",
    "        rightHouse(V[:,i:j],normal)\n",
    "        rightHouse(Q[:,i:j],normal)\n",
    "        \n",
    "\n",
    "@jit(nopython = True)\n",
    "def Deflation(A,start,end,eps):\n",
    "    '''\n",
    "    Determine the eigenvalues to deflat and an irreduced Hessenberg matrix to operate on.\n",
    "    '''\n",
    "    for i in range(start,end):\n",
    "        if A[i,i-1] != 0. and abs(A[i,i-1]) < eps * (abs(A[i,i])+abs(A[i-1,i-1])):\n",
    "            A[i,i-1] = 0.\n",
    "        \n",
    "    for i in range(end-1,0,-1):\n",
    "        if A[i,i-1] == 0.:\n",
    "            if end - i <= 2:\n",
    "                end = i\n",
    "            else :\n",
    "                start = i\n",
    "                break\n",
    "    else :\n",
    "        start = 0\n",
    "    return start , end\n",
    "\n",
    "#@jit\n",
    "def SchurDecomposition(A,maxiter=-1,copy=1,verbose=-1,printepoch=0):\n",
    "    '''\n",
    "    Compute Schur Decomposition for a real matrix. Return Q,T such that Q*AQ = T.\n",
    "\n",
    "    ``maxiter`` the maximum iteration steps permitted, defaults to 3n + 60\n",
    "\n",
    "    ``copy`` overwrites on A if ``copy`` == 0, defaults to 1\n",
    "\n",
    "    ``verbose`` verbose the progress if True, defaults to True when n >= 500. \n",
    "\n",
    "    ``printepoch`` show how many iterations it takes if True, defaults to False\n",
    "    '''\n",
    "    n , lastend = A.shape\n",
    "    start , end = 0 , lastend\n",
    "\n",
    "    if copy: A = A.copy()\n",
    "    if verbose < 0: verbose = 1 if n >= 500 else 0\n",
    "    if maxiter < 0: maxiter = 3*n + 60\n",
    "    eps = float_info.epsilon\n",
    "    Q , A = Hessenberg(A)\n",
    "    i = 0\n",
    "\n",
    "    if verbose:\n",
    "        pbar =  tqdm(total = n)\n",
    "        pbar.set_description('Deflation')\n",
    "\n",
    "    for i in range(maxiter):\n",
    "        if end <= 2:\n",
    "            break\n",
    "\n",
    "        ImplicitDoubleShift(A[start:end,start:end],Q[:,start:end],\n",
    "                            A[start:end,end:],A[:start,start:end])\n",
    "        BuldgeChasing(A[start:end,start:end],Q[:,start:end],\n",
    "                            A[start:end,end:],A[:start,start:end])\n",
    "\n",
    "        # deflation\n",
    "        start , end = Deflation(A,start,end,eps)\n",
    "\n",
    "        if verbose and i % 10 == 0:\n",
    "            pbar.set_postfix(steps = i)\n",
    "            pbar.update(lastend - end)\n",
    "            lastend = end\n",
    "            \n",
    "    else :\n",
    "        print('Warning: Convergence Failure')\n",
    "        \n",
    "    if verbose:\n",
    "        pbar.update(lastend)\n",
    "        pbar.close()\n",
    "    \n",
    "    if printepoch:\n",
    "        print('Steps =',i)\n",
    "\n",
    "    return (Q , A)"
   ]
  },
  {
   "cell_type": "code",
   "execution_count": 3,
   "metadata": {},
   "outputs": [
    {
     "name": "stderr",
     "output_type": "stream",
     "text": [
      "<ipython-input-2-fd8a713b6fe5>:57: NumbaPerformanceWarning: \u001b[1m\u001b[1m\u001b[1m\u001b[1mnp.dot() is faster on contiguous arrays, called on (array(float64, 1d, A), array(float64, 1d, A))\u001b[0m\u001b[0m\u001b[0m\u001b[0m\n",
      "  normal, invalid = HouseholderVector(A[i+1:,i])\n",
      "<ipython-input-2-fd8a713b6fe5>:61: NumbaPerformanceWarning: \u001b[1m\u001b[1m\u001b[1m'@' is faster on contiguous arrays, called on (array(float64, 1d, A), array(float64, 2d, A))\u001b[0m\u001b[0m\u001b[0m\n",
      "  leftHouse(A[i+1:,i:],normal)\n",
      "<ipython-input-2-fd8a713b6fe5>:61: NumbaPerformanceWarning: \u001b[1m\u001b[1m'@' is faster on contiguous arrays, called on (array(float64, 1d, A), array(float64, 2d, A))\u001b[0m\u001b[0m\n",
      "  leftHouse(A[i+1:,i:],normal)\n",
      "<ipython-input-2-fd8a713b6fe5>:63: NumbaPerformanceWarning: \u001b[1m\u001b[1m\u001b[1m'@' is faster on contiguous arrays, called on (array(float64, 2d, A), array(float64, 1d, A))\u001b[0m\u001b[0m\u001b[0m\n",
      "  rightHouse(A[:,i+1:],normal)\n",
      "<ipython-input-2-fd8a713b6fe5>:63: NumbaPerformanceWarning: \u001b[1m\u001b[1m'@' is faster on contiguous arrays, called on (array(float64, 2d, A), array(float64, 1d, A))\u001b[0m\u001b[0m\n",
      "  rightHouse(A[:,i+1:],normal)\n",
      "Deflation:   0%|          | 0/1000 [00:00<?, ?it/s]<ipython-input-2-fd8a713b6fe5>:81: NumbaPerformanceWarning: \u001b[1m\u001b[1m\u001b[1m'@' is faster on contiguous arrays, called on (array(float64, 1d, C), array(float64, 2d, A))\u001b[0m\u001b[0m\u001b[0m\n",
      "  leftHouse(A[:3,:],normal)\n",
      "<ipython-input-2-fd8a713b6fe5>:81: NumbaPerformanceWarning: \u001b[1m\u001b[1m'@' is faster on contiguous arrays, called on (array(float64, 1d, C), array(float64, 2d, A))\u001b[0m\u001b[0m\n",
      "  leftHouse(A[:3,:],normal)\n",
      "<ipython-input-2-fd8a713b6fe5>:82: NumbaPerformanceWarning: \u001b[1m\u001b[1m\u001b[1m'@' is faster on contiguous arrays, called on (array(float64, 2d, A), array(float64, 1d, C))\u001b[0m\u001b[0m\u001b[0m\n",
      "  rightHouse(A[:4,:3],normal)\n",
      "<ipython-input-2-fd8a713b6fe5>:82: NumbaPerformanceWarning: \u001b[1m\u001b[1m'@' is faster on contiguous arrays, called on (array(float64, 2d, A), array(float64, 1d, C))\u001b[0m\u001b[0m\n",
      "  rightHouse(A[:4,:3],normal)\n",
      "Deflation: 100%|██████████| 1000/1000 [00:25<00:00, 39.74it/s, steps=1790]"
     ]
    },
    {
     "name": "stdout",
     "output_type": "stream",
     "text": [
      "Steps = 1792\n"
     ]
    },
    {
     "name": "stderr",
     "output_type": "stream",
     "text": [
      "\n"
     ]
    }
   ],
   "source": [
    "n = 1000\n",
    "np.random.seed(0)\n",
    "A = np.random.randn(n*n).reshape((n,n))\n",
    "#A = np.random.random((n,n))-0.5 #+ 1j*np.random.random((n,n))\n",
    "#print(A)\n",
    "#ans = sp.linalg.schur(A)\n",
    "Q , B = SchurDecomposition(A,printepoch=1,verbose=1)"
   ]
  },
  {
   "cell_type": "code",
   "execution_count": 4,
   "metadata": {},
   "outputs": [],
   "source": [
    "# Data\n",
    "# 484m 24.4s  n = 8000 randn Q*AQ - B = 2.5182601591585813e-10      Q*Q - I = 4.68981849703805e-12    13505 iters\n",
    "# 214m 10.8s  n = 6500 randn Q*AQ - B = 1.860677296855103e-10       Q*Q - I = 3.83229116343654e-12    11057 iters\n",
    "# 103m 37.8s  n = 5000       Q*AQ - B = 1.1411477551545515e-10      Q*Q - I = 2.0928321616504077e-12  8577 iters\n",
    "# 48m 3.1s    n = 4000 randn Q*AQ - B = 9.07271319294229e-11        Q*Q - I = 2.3742217299220984e-12  6836 iters\n",
    "# 13m 41.8s   n = 3000       Q*AQ - B = 3.833070825628782e-11       Q*Q - I = 1.2521887384130525e-12  5158 iters\n",
    "# 3m 30.9s   n = 2000        Q*AQ - B = 2.0067186990856122e-11      Q*Q - I = 8.49412669727072e-13    3463 iters\n",
    "# 1m 26.7s   n = 1500        Q*AQ - B = 1.203190413969607e-11       Q*Q - I = 6.293800307572206e-13   2613 iters\n",
    "# 1m 21.8s   n = 1500        Q*AQ - B = 6.214637239512623e-12       Q*Q - I = 9.168397247523479e-13   2635 iters\n",
    "# 27.4s   n = 1000           Q*AQ - B = 1.1867459198653925e-11      Q*Q - I = 6.239258866135082e-13  1782 iters\n",
    "# 3.9s   n = 500             Q*AQ - B = 4.2306266511828556e-12      Q*Q - I = 3.206861450323301e-13   900 iters"
   ]
  },
  {
   "cell_type": "code",
   "execution_count": 5,
   "metadata": {},
   "outputs": [
    {
     "name": "stdout",
     "output_type": "stream",
     "text": [
      "1.1938972610857391e-11\n",
      "6.150083246542916e-13\n"
     ]
    }
   ],
   "source": [
    "#print(np.max(Q.conj().T @ A @ Q - B))\n",
    "#print(np.max(Q.T @ Q - np.eye(n)))\n",
    "\n",
    "print(np.linalg.norm(Q.conj().T @ A @ Q - B))\n",
    "print(np.linalg.norm(Q.T @ Q - np.eye(n)))\n",
    "\n",
    "#print(np.linalg.eig(A))\n",
    "#print(sys.float_info.epsilon)\n",
    "\n",
    "#plt.imshow(np.abs(Q.T @ Q - np.eye(n)))\n",
    "#plt.show()\n",
    "#plt.imshow(B)\n",
    "#plt.show()"
   ]
  },
  {
   "cell_type": "code",
   "execution_count": 6,
   "metadata": {},
   "outputs": [],
   "source": [
    "# Miscellaneous\n",
    "\n",
    "#np.savetxt(r\"D:\\Python Projects\\Data Science\\Matrices\\Numerical 1\\Project 1\\Size 4000 A.txt\", A)\n",
    "#np.savetxt(r\"D:\\Python Projects\\Data Science\\Matrices\\Numerical 1\\Project 1\\Size 4000 Q.txt\", Q)\n",
    "#np.savetxt(r\"D:\\Python Projects\\Data Science\\Matrices\\Numerical 1\\Project 1\\Size 4000 B.txt\", B)\n",
    "\n",
    "#n = 2000\n",
    "#B = np.zeros((n,n))\n",
    "#with open(r'D:\\Python Projects\\Data Science\\Matrices\\Numerical 1\\Project 1\\Size 2000 B.txt','r') as f:\n",
    "#    for i in range(n):\n",
    "#        B[i] = np.array([float(i) for i in f.readline().split()])\n",
    "\n",
    "def printMatlab(A):\n",
    "    return '[' + ';'.join([','.join([str(_) for _ in line]) for line in A]) +']'\n",
    "#printMatlab(B[:10,:10])"
   ]
  },
  {
   "cell_type": "code",
   "execution_count": 7,
   "metadata": {},
   "outputs": [
    {
     "data": {
      "image/png": "[encoded data removed]",
      "text/plain": [
       "<Figure size 432x288 with 1 Axes>"
      ]
     },
     "metadata": {
      "needs_background": "light"
     },
     "output_type": "display_data"
    }
   ],
   "source": [
    "history = '''\n",
    " 484m 24.4s  n = 8000       Q*AQ - B = 2.5182601591585813e-10      Q*Q - I = 4.68981849703805e-12    13505 iters\n",
    " 214m 10.8s  n = 6500       Q*AQ - B = 1.860677296855103e-10       Q*Q - I = 3.83229116343654e-12    11057 iters\n",
    " 103m 37.8s  n = 5000       Q*AQ - B = 1.1411477551545515e-10      Q*Q - I = 2.0928321616504077e-12  8577 iters\n",
    " 48m 3.1s    n = 4000       Q*AQ - B = 9.07271319294229e-11        Q*Q - I = 2.3742217299220984e-12  6836 iters\n",
    " 13m 41.8s   n = 3000       Q*AQ - B = 3.833070825628782e-11       Q*Q - I = 1.2521887384130525e-12  5158 iters\n",
    " 3m 30.9s   n = 2000        Q*AQ - B = 2.0067186990856122e-11      Q*Q - I = 8.49412669727072e-13    3463 iters\n",
    " 1m 21.8s   n = 1500        Q*AQ - B = 6.214637239512623e-12       Q*Q - I = 9.168397247523479e-13   2635 iters\n",
    " 27.4s   n = 1000           Q*AQ - B = 1.1867459198653925e-11      Q*Q - I = 6.239258866135082e-13  1782 iters\n",
    " 3.9s   n = 500             Q*AQ - B = 4.2306266511828556e-12      Q*Q - I = 3.206861450323301e-13   900 iters'''\n",
    "\n",
    "x = [500,1000,1500,2000,3000,4000,5000,6500,8000]\n",
    "resis = [float(_.split()[0]) for _ in history.split('Q*AQ - B = ')[1:]][::-1]\n",
    "orthos = [float(_.split()[0]) for _ in  history.split('Q*Q - I = ')[1:]][::-1]\n",
    "plt.plot(x,np.log10(resis),'.--')\n",
    "plt.plot(x,np.log10(orthos),'.--')\n",
    "#plt.scatter([500,1000,1500,2000,3000,5000],np.log10(resis),s=8)\n",
    "#plt.scatter([500,1000,1500,2000,3000,5000],np.log10(orthos),s=8)\n",
    "plt.legend(['$\\Vert Q^*AQ - T\\Vert$','$\\Vert Q^*Q - I\\Vert$'])\n",
    "plt.xlabel('Matrix Size')\n",
    "plt.ylabel('Logarithm')\n",
    "plt.title('Forward Error and Orthogonality Loss')\n",
    "plt.savefig('Stability.png',dpi=800,bbox_inches='tight')\n",
    "plt.show()"
   ]
  },
  {
   "cell_type": "code",
   "execution_count": 8,
   "metadata": {},
   "outputs": [
    {
     "data": {
      "image/png": "[encoded data removed]",
      "text/plain": [
       "<Figure size 432x288 with 1 Axes>"
      ]
     },
     "metadata": {
      "needs_background": "light"
     },
     "output_type": "display_data"
    },
    {
     "data": {
      "image/png": "[encoded data removed]",
      "text/plain": [
       "<Figure size 432x288 with 1 Axes>"
      ]
     },
     "metadata": {
      "needs_background": "light"
     },
     "output_type": "display_data"
    }
   ],
   "source": [
    "import matplotlib.pyplot as plt\n",
    "import numpy as np\n",
    "\n",
    "x = [500,1000,1500,2000,3000,4000,5000,6500,8000]\n",
    "continue_x = np.linspace(0,8000,8000)\n",
    "time = [3.9/60,27.4/60,1+21.8/60,3+30.9/60,13+41.8/60,48+3.1/60,103+37.8/60,214+10.8/60,484+24.4/60]\n",
    "iters = [900,1782,2635,3463,5158,6836,8577,11057,13505]\n",
    "plt.plot(continue_x,continue_x*1e-3-0.34,'--',linewidth=1)\n",
    "plt.plot(x, np.power(time,1./3),'.-')\n",
    "plt.legend(['$y=10^{-3}x-0.34$','$t^{1/3}$ (minute)'])\n",
    "plt.xlabel('Matrix Size',fontsize=15)\n",
    "plt.ylabel('Cubic Root of Execution Time',fontsize=15)\n",
    "plt.savefig('Running Time.png',dpi=500,bbox_inches='tight')\n",
    "#print(np.polyfit(x,np.power(time,1./3),1))\n",
    "plt.show()\n",
    "\n",
    "plt.plot(continue_x,continue_x*1.7+100,'--',linewidth=1)\n",
    "plt.plot(x,iters,'.-')\n",
    "plt.legend(['$y=1.7x+100$','$Iters$'])\n",
    "plt.xlabel('Matrix Size',fontsize=15)\n",
    "plt.ylabel('Iteration Steps',fontsize=15)\n",
    "plt.savefig('Iteration Steps.png',dpi=500,bbox_inches='tight')\n",
    "#print(np.polyfit(x,iters,1))\n",
    "plt.show()\n"
   ]
  },
  {
   "cell_type": "code",
   "execution_count": 9,
   "metadata": {},
   "outputs": [
    {
     "name": "stderr",
     "output_type": "stream",
     "text": [
      "100%|██████████| 100000/100000 [00:09<00:00, 10037.56it/s]\n"
     ]
    }
   ],
   "source": [
    "n = 4\n",
    "np.random.seed(0)\n",
    "for i in tqdm(range(100000)):\n",
    "    A = np.random.randn(n*n).reshape((n,n))\n",
    "    Q , B = SchurDecomposition(A)\n",
    "    #print(np.linalg.norm(Q.conj().T @ A @ Q - B))\n",
    "    #print(np.linalg.norm(Q.T @ Q - np.eye(n)))"
   ]
  },
  {
   "cell_type": "code",
   "execution_count": 10,
   "metadata": {},
   "outputs": [
    {
     "name": "stdout",
     "output_type": "stream",
     "text": [
      "Warning: Convergence Failure\n",
      "Steps = 999999\n",
      "[[ 0.00000000e+00 -1.00496269e+00  0.00000000e+00 -9.95012575e-03]\n",
      " [-9.95012561e-01  0.00000000e+00 -4.97504973e-05  0.00000000e+00]\n",
      " [ 0.00000000e+00  9.99987624e-03  0.00000000e+00 -9.94962811e-01]\n",
      " [ 0.00000000e+00  0.00000000e+00 -1.00501244e+00  0.00000000e+00]]\n",
      "[-0.9999875+0.005j -0.9999875-0.005j  0.9999875+0.005j  0.9999875-0.005j]\n",
      "(0.999987499921874+0.005j)\n"
     ]
    },
    {
     "data": {
      "image/png": "[encoded data removed]",
      "text/plain": [
       "<Figure size 432x288 with 1 Axes>"
      ]
     },
     "metadata": {
      "needs_background": "light"
     },
     "output_type": "display_data"
    }
   ],
   "source": [
    "# Example that the algorithm fails\n",
    "eta = 1e-2\n",
    "A = np.reshape(np.array([0,1,0,0,1,0,eta,0,0,-eta,0,1,0,0,1,0],dtype='float64'),(4,4))\n",
    "np.linalg.eigvals(A)\n",
    "Q , R = SchurDecomposition(A.copy(),maxiter=1000000,printepoch=1)\n",
    "print(R)\n",
    "#print(printMatlab(R))\n",
    "plt.imshow(np.abs(R))\n",
    "print(np.linalg.eigvals(A))\n",
    "\n",
    "eig = sqrt(4 - eta*eta)/2. + eta/2. * 1j\n",
    "print(eig)\n",
    "#print(np.linalg.det(A - np.eye(4) * eig))"
   ]
  },
  {
   "cell_type": "code",
   "execution_count": 11,
   "metadata": {},
   "outputs": [
    {
     "name": "stderr",
     "output_type": "stream",
     "text": [
      "Deflation: 100%|██████████| 500/500 [00:03<00:00, 157.77it/s, steps=830]\n"
     ]
    },
    {
     "name": "stdout",
     "output_type": "stream",
     "text": [
      "1.0068553732979641e-14\n",
      "2.993470470440246e-13\n"
     ]
    }
   ],
   "source": [
    "n = 500\n",
    "def Cauchy(n):\n",
    "    A = np.zeros((n,n))\n",
    "    for i in range(n):\n",
    "        for j in range(n):\n",
    "            A[i,j] = 1./(i+j+1)\n",
    "    return A\n",
    "A = Cauchy(n)\n",
    "Q , B = SchurDecomposition(A)\n",
    "print(np.linalg.norm(Q.conj().T @ A @ Q - B))\n",
    "print(np.linalg.norm(Q.T @ Q - np.eye(n)))"
   ]
  }
 ],
 "metadata": {
  "interpreter": {
   "hash": "1403262caf5c96c562d23c2ec1d0e9409dfef636549d4d9dd4887bed656bec38"
  },
  "kernelspec": {
   "display_name": "Python 3.8.4 64-bit (system)",
   "language": "python",
   "name": "python3"
  },
  "language_info": {
   "codemirror_mode": {
    "name": "ipython",
    "version": 3
   },
   "file_extension": ".py",
   "mimetype": "text/x-python",
   "name": "python",
   "nbconvert_exporter": "python",
   "pygments_lexer": "ipython3",
   "version": "3.8.4"
  },
  "orig_nbformat": 4
 },
 "nbformat": 4,
 "nbformat_minor": 2
}
